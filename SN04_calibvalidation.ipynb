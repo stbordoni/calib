{
 "metadata": {
  "language_info": {
   "codemirror_mode": {
    "name": "ipython",
    "version": 3
   },
   "file_extension": ".py",
   "mimetype": "text/x-python",
   "name": "python",
   "nbconvert_exporter": "python",
   "pygments_lexer": "ipython3",
   "version": "3.9.2"
  },
  "orig_nbformat": 2,
  "kernelspec": {
   "name": "python392jvsc74a57bd02b6c4d4d5861da4de20ae5397ab36a2c4fea6beca7bca7fb8955c39e63f73bb7",
   "display_name": "Python 3.9.2 64-bit ('.venv': venv)"
  }
 },
 "nbformat": 4,
 "nbformat_minor": 2,
 "cells": [
  {
   "cell_type": "code",
   "execution_count": 1,
   "metadata": {},
   "outputs": [],
   "source": [
    "import pandas as pd\n",
    "import numpy as np\n",
    "import matplotlib\n",
    "\n",
    "from readCanLitefileUtils import *\n",
    "from calibUtils import *"
   ]
  },
  {
   "cell_type": "code",
   "execution_count": 2,
   "metadata": {},
   "outputs": [],
   "source": [
    "# define the inputs\n",
    "\n",
    "#file 1 (DACset 0x000)\n",
    "file_DACset000 = './files/SN04_calib-test/21-05-18_121010_validcalibparam_SN04_dacset000.csv'\n",
    "\n",
    "#file 2 (DACset 0x3FF)\n",
    "file_DACset3FF = './files/SN04_calib-test/21-05-18_121010_validcalibparam_SN04_dacset3FF.csv'\n",
    "\n",
    "#file 3 (DACset 0xCFF)\n",
    "file_DACsetCFF = './files/SN04_calib-test/21-05-18_121010_validcalibparam_SN04_dacsetCFF.csv'\n",
    "\n",
    "#file 4 (DACset 0xFFF)\n",
    "file_DACsetFFF = './files/SN04_calib-test/21-05-18_121010_validcalibparam_SN04_dacsetFFF.csv'\n",
    "\n",
    "\n",
    "DMM_000 = [108.75, 108.757, 108.742, 108.746, 108.745, 108.745, \n",
    "          108.737, 108.743, 108.747, 108.717, 108.727, 108.757]\n",
    "\n",
    "DMM_3FF = [110.638, 110.643, 110.631, 110.635, 110.636, 110.637,\n",
    "          110.327, 110.631, 110.640, 110.602, 110.619, 110.651]\n",
    "\n",
    "DMM_CFF = [114.908, 114.915, 114.895, 114.895, 114.896, 114.892,\n",
    "          114.892, 114.897, 114.902, 114.872, 114.882, 114.922]\n",
    "\n",
    "\n",
    "DMM_FFF = [116.329, 116.334, 116.315, 116.319, 116.322, 116.313,\n",
    "          116.310, 116.317, 116.322, 116.293, 116.302, 116.343]\n",
    "\n",
    "\n",
    "MM_CFF = [114.908, 114.915, 114.895, 114.895, 114.896, 114.892,\n",
    "          114.892, 114.897, 114.902, 114.872, 114.882, 114.922]\n",
    "\n",
    "\n",
    "DMM_FFF = [116.329, 116.334, 116.315, 116.319, 116.322, 116.313,\n",
    "          116.310, 116.317, 116.322, 116.293, 116.302, 116.343]\n",
    "\n",
    "\n",
    "values = ['ADC000', 'ADC3FF', 'ADCCFF', 'ADCFFF']"
   ]
  },
  {
   "cell_type": "code",
   "execution_count": 6,
   "metadata": {},
   "outputs": [],
   "source": [
    "DACset000, ADC000 = GetADCvalues(file_DACset000)\n",
    "\n",
    "DACset3FF, ADC3FF = GetADCvalues(file_DACset3FF)\n",
    "\n",
    "DACsetCFF, ADCCFF = GetADCvalues(file_DACsetCFF)\n",
    "\n",
    "DACsetFFF, ADCFFF = GetADCvalues(file_DACsetFFF)\n",
    "\n"
   ]
  },
  {
   "cell_type": "code",
   "execution_count": 7,
   "metadata": {},
   "outputs": [
    {
     "output_type": "execute_result",
     "data": {
      "text/plain": [
       "   ADC000   DMM000 ADC3FF   DMM3FF ADCCFF   DMMCFF ADCFFF   DMMFFF\n",
       "0    e536  108.750   e91f  110.638   f223  114.908   f521  116.329\n",
       "1    e532  108.757   e92c  110.643   f22d  114.915   f52a  116.334\n",
       "2    e52b  108.742   e927  110.631   f224  114.895   f523  116.315\n",
       "3    e52f  108.746   e92a  110.635   f225  114.895   f524  116.319\n",
       "4    e52c  108.745   e928  110.636   f223  114.896   f524  116.322\n",
       "5    e52e  108.745   e92b  110.637   f224  114.892   f521  116.313\n",
       "6    e529  108.737   e925  110.327   f222  114.892   f520  116.310\n",
       "7    e52c  108.743   e927  110.631   f225  114.897   f523  116.317\n",
       "8    e51e  108.747   e931  110.640   f235  114.902   f530  116.322\n",
       "9    e51f  108.717   e918  110.602   f217  114.872   f515  116.293\n",
       "10   e523  108.727   e91f  110.619   f21c  114.882   f51a  116.302\n",
       "11   e534  108.757   e930  110.651   f232  114.922   f52f  116.343"
      ],
      "text/html": "<div>\n<style scoped>\n    .dataframe tbody tr th:only-of-type {\n        vertical-align: middle;\n    }\n\n    .dataframe tbody tr th {\n        vertical-align: top;\n    }\n\n    .dataframe thead th {\n        text-align: right;\n    }\n</style>\n<table border=\"1\" class=\"dataframe\">\n  <thead>\n    <tr style=\"text-align: right;\">\n      <th></th>\n      <th>ADC000</th>\n      <th>DMM000</th>\n      <th>ADC3FF</th>\n      <th>DMM3FF</th>\n      <th>ADCCFF</th>\n      <th>DMMCFF</th>\n      <th>ADCFFF</th>\n      <th>DMMFFF</th>\n    </tr>\n  </thead>\n  <tbody>\n    <tr>\n      <th>0</th>\n      <td>e536</td>\n      <td>108.750</td>\n      <td>e91f</td>\n      <td>110.638</td>\n      <td>f223</td>\n      <td>114.908</td>\n      <td>f521</td>\n      <td>116.329</td>\n    </tr>\n    <tr>\n      <th>1</th>\n      <td>e532</td>\n      <td>108.757</td>\n      <td>e92c</td>\n      <td>110.643</td>\n      <td>f22d</td>\n      <td>114.915</td>\n      <td>f52a</td>\n      <td>116.334</td>\n    </tr>\n    <tr>\n      <th>2</th>\n      <td>e52b</td>\n      <td>108.742</td>\n      <td>e927</td>\n      <td>110.631</td>\n      <td>f224</td>\n      <td>114.895</td>\n      <td>f523</td>\n      <td>116.315</td>\n    </tr>\n    <tr>\n      <th>3</th>\n      <td>e52f</td>\n      <td>108.746</td>\n      <td>e92a</td>\n      <td>110.635</td>\n      <td>f225</td>\n      <td>114.895</td>\n      <td>f524</td>\n      <td>116.319</td>\n    </tr>\n    <tr>\n      <th>4</th>\n      <td>e52c</td>\n      <td>108.745</td>\n      <td>e928</td>\n      <td>110.636</td>\n      <td>f223</td>\n      <td>114.896</td>\n      <td>f524</td>\n      <td>116.322</td>\n    </tr>\n    <tr>\n      <th>5</th>\n      <td>e52e</td>\n      <td>108.745</td>\n      <td>e92b</td>\n      <td>110.637</td>\n      <td>f224</td>\n      <td>114.892</td>\n      <td>f521</td>\n      <td>116.313</td>\n    </tr>\n    <tr>\n      <th>6</th>\n      <td>e529</td>\n      <td>108.737</td>\n      <td>e925</td>\n      <td>110.327</td>\n      <td>f222</td>\n      <td>114.892</td>\n      <td>f520</td>\n      <td>116.310</td>\n    </tr>\n    <tr>\n      <th>7</th>\n      <td>e52c</td>\n      <td>108.743</td>\n      <td>e927</td>\n      <td>110.631</td>\n      <td>f225</td>\n      <td>114.897</td>\n      <td>f523</td>\n      <td>116.317</td>\n    </tr>\n    <tr>\n      <th>8</th>\n      <td>e51e</td>\n      <td>108.747</td>\n      <td>e931</td>\n      <td>110.640</td>\n      <td>f235</td>\n      <td>114.902</td>\n      <td>f530</td>\n      <td>116.322</td>\n    </tr>\n    <tr>\n      <th>9</th>\n      <td>e51f</td>\n      <td>108.717</td>\n      <td>e918</td>\n      <td>110.602</td>\n      <td>f217</td>\n      <td>114.872</td>\n      <td>f515</td>\n      <td>116.293</td>\n    </tr>\n    <tr>\n      <th>10</th>\n      <td>e523</td>\n      <td>108.727</td>\n      <td>e91f</td>\n      <td>110.619</td>\n      <td>f21c</td>\n      <td>114.882</td>\n      <td>f51a</td>\n      <td>116.302</td>\n    </tr>\n    <tr>\n      <th>11</th>\n      <td>e534</td>\n      <td>108.757</td>\n      <td>e930</td>\n      <td>110.651</td>\n      <td>f232</td>\n      <td>114.922</td>\n      <td>f52f</td>\n      <td>116.343</td>\n    </tr>\n  </tbody>\n</table>\n</div>"
     },
     "metadata": {},
     "execution_count": 7
    }
   ],
   "source": [
    "df = pd.DataFrame(list(zip(ADC000, DMM_000, ADC3FF, DMM_3FF, ADCCFF, DMM_CFF, ADCFFF, DMM_FFF)), \n",
    "    columns = ['ADC000', 'DMM000' ,  'ADC3FF', 'DMM3FF', 'ADCCFF', 'DMMCFF', 'ADCFFF', 'DMMFFF'])\n",
    "df"
   ]
  },
  {
   "cell_type": "code",
   "execution_count": 8,
   "metadata": {},
   "outputs": [],
   "source": [
    "df_calibparam = pd.read_csv('./calibDB/calib_biasV_SN04_v6_forcheck.csv',delimiter=',') \n",
    "df_calibparam.drop('Unnamed: 0', inplace=True, axis=1)\n"
   ]
  },
  {
   "cell_type": "code",
   "execution_count": 9,
   "metadata": {},
   "outputs": [],
   "source": [
    "def testcalib_biasV(df, df_calibparam, values):\n",
    "    df = df.copy()\n",
    "    a_coeff = 1.8535e-3\n",
    "    b_coeff = 0\n",
    "    LSBres = 1.8535e-3\n",
    "\n",
    "\n",
    "    for val in values:\n",
    "        #print(val)\n",
    "        val_calib = val + '_calib'\n",
    "    \n",
    "        \n",
    "        #compute ADC calibrated value in dec\n",
    "        df[val] = df[val].apply(lambda x: int(x,16) )\n",
    "        df[val_calib] = ( df[val] + df_calibparam['Offset_Sig BiasV']) * (df_calibparam['Gain_Usig BiasV'] /32768) * a_coeff + b_coeff\n",
    "\n",
    "       \n",
    "\n",
    "        #compare with the DMM value\n",
    "        tmp_DMMlabel = val.replace('ADC', 'DMM')\n",
    "        val_err = val + 'err'\n",
    "        df[val_err] = df[tmp_DMMlabel]-df[val_calib]\n",
    "\n",
    "        \n",
    "        #compute error \n",
    "        val_sig = val + 'sigma'\n",
    "        df[val_sig] = df[val_err]/LSBres\n",
    "        #df['ADCmin sigma '] = df['ADCmin err']/LSBres\n",
    "        #df['ADCmax sigma '] = df['ADCmax err']/LSBres\n",
    "        \n",
    "    return df\n",
    "    "
   ]
  },
  {
   "cell_type": "code",
   "execution_count": 10,
   "metadata": {},
   "outputs": [
    {
     "output_type": "execute_result",
     "data": {
      "text/plain": [
       "    ADC000   DMM000  ADC3FF   DMM3FF  ADCCFF   DMMCFF  ADCFFF   DMMFFF  \\\n",
       "0    58678  108.750   59679  110.638   61987  114.908   62753  116.329   \n",
       "1    58674  108.757   59692  110.643   61997  114.915   62762  116.334   \n",
       "2    58667  108.742   59687  110.631   61988  114.895   62755  116.315   \n",
       "3    58671  108.746   59690  110.635   61989  114.895   62756  116.319   \n",
       "4    58668  108.745   59688  110.636   61987  114.896   62756  116.322   \n",
       "5    58670  108.745   59691  110.637   61988  114.892   62753  116.313   \n",
       "6    58665  108.737   59685  110.327   61986  114.892   62752  116.310   \n",
       "7    58668  108.743   59687  110.631   61989  114.897   62755  116.317   \n",
       "8    58654  108.747   59697  110.640   62005  114.902   62768  116.322   \n",
       "9    58655  108.717   59672  110.602   61975  114.872   62741  116.293   \n",
       "10   58659  108.727   59679  110.619   61980  114.882   62746  116.302   \n",
       "11   58676  108.757   59696  110.651   62002  114.922   62767  116.343   \n",
       "\n",
       "    ADC000_calib  ADC000err  ADC000sigma  ADC3FF_calib  ADC3FFerr  \\\n",
       "0     108.045652   0.704348   380.009740    109.888322   0.749678   \n",
       "1     108.032404   0.724596   390.933932    109.906426   0.736574   \n",
       "2     108.017647   0.724353   390.802713    109.895063   0.735937   \n",
       "3     108.042362   0.703638   379.626441    109.918398   0.716602   \n",
       "4     107.996336   0.748664   403.919075    109.874213   0.761787   \n",
       "5     108.017314   0.727686   392.601021    109.896917   0.740083   \n",
       "6     108.019488   0.717512   387.112071    109.896903   0.430097   \n",
       "7     108.014747   0.728253   392.907174    109.890782   0.740218   \n",
       "8     107.866268   0.880732   475.172248    109.791858   0.848142   \n",
       "9     107.921066   0.795934   429.422413    109.791636   0.810364   \n",
       "10    107.918935   0.808065   435.966995    109.795658   0.823342   \n",
       "11    107.967812   0.789188   425.782717    109.844073   0.806927   \n",
       "\n",
       "    ADC3FFsigma  ADCCFF_calib  ADCCFFerr  ADCCFFsigma  ADCFFF_calib  \\\n",
       "0    404.465948    114.136957   0.771043   415.992954    115.547033   \n",
       "1    397.396243    114.149669   0.765331   412.911439    115.557947   \n",
       "2    397.052834    114.130291   0.764709   412.575754    115.542034   \n",
       "3    386.620826    114.150986   0.744014   401.410471    115.563076   \n",
       "4    410.999213    114.106800   0.789200   425.788858    115.522572   \n",
       "5    399.289709    114.125562   0.766438   413.508525    115.533883   \n",
       "6    232.045765    114.132131   0.759869   409.964153    115.542034   \n",
       "7    399.362039    114.128893   0.768107   414.408944    115.539142   \n",
       "8    457.589330    114.052895   0.849105   458.108893    115.461548   \n",
       "9    437.207419    114.027549   0.844451   455.597859    115.436455   \n",
       "10   444.209212    114.029325   0.852675   460.035263    115.438707   \n",
       "11   435.352997    114.085896   0.836104   451.094816    115.493092   \n",
       "\n",
       "    ADCFFFerr  ADCFFFsigma  \n",
       "0    0.781967   421.886957  \n",
       "1    0.776053   418.696220  \n",
       "2    0.772966   417.030701  \n",
       "3    0.755924   407.836241  \n",
       "4    0.799428   431.307096  \n",
       "5    0.779117   420.349000  \n",
       "6    0.767966   414.333102  \n",
       "7    0.777858   419.669921  \n",
       "8    0.860452   464.230802  \n",
       "9    0.856545   462.123026  \n",
       "10   0.863293   465.763769  \n",
       "11   0.849908   458.542286  "
      ],
      "text/html": "<div>\n<style scoped>\n    .dataframe tbody tr th:only-of-type {\n        vertical-align: middle;\n    }\n\n    .dataframe tbody tr th {\n        vertical-align: top;\n    }\n\n    .dataframe thead th {\n        text-align: right;\n    }\n</style>\n<table border=\"1\" class=\"dataframe\">\n  <thead>\n    <tr style=\"text-align: right;\">\n      <th></th>\n      <th>ADC000</th>\n      <th>DMM000</th>\n      <th>ADC3FF</th>\n      <th>DMM3FF</th>\n      <th>ADCCFF</th>\n      <th>DMMCFF</th>\n      <th>ADCFFF</th>\n      <th>DMMFFF</th>\n      <th>ADC000_calib</th>\n      <th>ADC000err</th>\n      <th>ADC000sigma</th>\n      <th>ADC3FF_calib</th>\n      <th>ADC3FFerr</th>\n      <th>ADC3FFsigma</th>\n      <th>ADCCFF_calib</th>\n      <th>ADCCFFerr</th>\n      <th>ADCCFFsigma</th>\n      <th>ADCFFF_calib</th>\n      <th>ADCFFFerr</th>\n      <th>ADCFFFsigma</th>\n    </tr>\n  </thead>\n  <tbody>\n    <tr>\n      <th>0</th>\n      <td>58678</td>\n      <td>108.750</td>\n      <td>59679</td>\n      <td>110.638</td>\n      <td>61987</td>\n      <td>114.908</td>\n      <td>62753</td>\n      <td>116.329</td>\n      <td>108.045652</td>\n      <td>0.704348</td>\n      <td>380.009740</td>\n      <td>109.888322</td>\n      <td>0.749678</td>\n      <td>404.465948</td>\n      <td>114.136957</td>\n      <td>0.771043</td>\n      <td>415.992954</td>\n      <td>115.547033</td>\n      <td>0.781967</td>\n      <td>421.886957</td>\n    </tr>\n    <tr>\n      <th>1</th>\n      <td>58674</td>\n      <td>108.757</td>\n      <td>59692</td>\n      <td>110.643</td>\n      <td>61997</td>\n      <td>114.915</td>\n      <td>62762</td>\n      <td>116.334</td>\n      <td>108.032404</td>\n      <td>0.724596</td>\n      <td>390.933932</td>\n      <td>109.906426</td>\n      <td>0.736574</td>\n      <td>397.396243</td>\n      <td>114.149669</td>\n      <td>0.765331</td>\n      <td>412.911439</td>\n      <td>115.557947</td>\n      <td>0.776053</td>\n      <td>418.696220</td>\n    </tr>\n    <tr>\n      <th>2</th>\n      <td>58667</td>\n      <td>108.742</td>\n      <td>59687</td>\n      <td>110.631</td>\n      <td>61988</td>\n      <td>114.895</td>\n      <td>62755</td>\n      <td>116.315</td>\n      <td>108.017647</td>\n      <td>0.724353</td>\n      <td>390.802713</td>\n      <td>109.895063</td>\n      <td>0.735937</td>\n      <td>397.052834</td>\n      <td>114.130291</td>\n      <td>0.764709</td>\n      <td>412.575754</td>\n      <td>115.542034</td>\n      <td>0.772966</td>\n      <td>417.030701</td>\n    </tr>\n    <tr>\n      <th>3</th>\n      <td>58671</td>\n      <td>108.746</td>\n      <td>59690</td>\n      <td>110.635</td>\n      <td>61989</td>\n      <td>114.895</td>\n      <td>62756</td>\n      <td>116.319</td>\n      <td>108.042362</td>\n      <td>0.703638</td>\n      <td>379.626441</td>\n      <td>109.918398</td>\n      <td>0.716602</td>\n      <td>386.620826</td>\n      <td>114.150986</td>\n      <td>0.744014</td>\n      <td>401.410471</td>\n      <td>115.563076</td>\n      <td>0.755924</td>\n      <td>407.836241</td>\n    </tr>\n    <tr>\n      <th>4</th>\n      <td>58668</td>\n      <td>108.745</td>\n      <td>59688</td>\n      <td>110.636</td>\n      <td>61987</td>\n      <td>114.896</td>\n      <td>62756</td>\n      <td>116.322</td>\n      <td>107.996336</td>\n      <td>0.748664</td>\n      <td>403.919075</td>\n      <td>109.874213</td>\n      <td>0.761787</td>\n      <td>410.999213</td>\n      <td>114.106800</td>\n      <td>0.789200</td>\n      <td>425.788858</td>\n      <td>115.522572</td>\n      <td>0.799428</td>\n      <td>431.307096</td>\n    </tr>\n    <tr>\n      <th>5</th>\n      <td>58670</td>\n      <td>108.745</td>\n      <td>59691</td>\n      <td>110.637</td>\n      <td>61988</td>\n      <td>114.892</td>\n      <td>62753</td>\n      <td>116.313</td>\n      <td>108.017314</td>\n      <td>0.727686</td>\n      <td>392.601021</td>\n      <td>109.896917</td>\n      <td>0.740083</td>\n      <td>399.289709</td>\n      <td>114.125562</td>\n      <td>0.766438</td>\n      <td>413.508525</td>\n      <td>115.533883</td>\n      <td>0.779117</td>\n      <td>420.349000</td>\n    </tr>\n    <tr>\n      <th>6</th>\n      <td>58665</td>\n      <td>108.737</td>\n      <td>59685</td>\n      <td>110.327</td>\n      <td>61986</td>\n      <td>114.892</td>\n      <td>62752</td>\n      <td>116.310</td>\n      <td>108.019488</td>\n      <td>0.717512</td>\n      <td>387.112071</td>\n      <td>109.896903</td>\n      <td>0.430097</td>\n      <td>232.045765</td>\n      <td>114.132131</td>\n      <td>0.759869</td>\n      <td>409.964153</td>\n      <td>115.542034</td>\n      <td>0.767966</td>\n      <td>414.333102</td>\n    </tr>\n    <tr>\n      <th>7</th>\n      <td>58668</td>\n      <td>108.743</td>\n      <td>59687</td>\n      <td>110.631</td>\n      <td>61989</td>\n      <td>114.897</td>\n      <td>62755</td>\n      <td>116.317</td>\n      <td>108.014747</td>\n      <td>0.728253</td>\n      <td>392.907174</td>\n      <td>109.890782</td>\n      <td>0.740218</td>\n      <td>399.362039</td>\n      <td>114.128893</td>\n      <td>0.768107</td>\n      <td>414.408944</td>\n      <td>115.539142</td>\n      <td>0.777858</td>\n      <td>419.669921</td>\n    </tr>\n    <tr>\n      <th>8</th>\n      <td>58654</td>\n      <td>108.747</td>\n      <td>59697</td>\n      <td>110.640</td>\n      <td>62005</td>\n      <td>114.902</td>\n      <td>62768</td>\n      <td>116.322</td>\n      <td>107.866268</td>\n      <td>0.880732</td>\n      <td>475.172248</td>\n      <td>109.791858</td>\n      <td>0.848142</td>\n      <td>457.589330</td>\n      <td>114.052895</td>\n      <td>0.849105</td>\n      <td>458.108893</td>\n      <td>115.461548</td>\n      <td>0.860452</td>\n      <td>464.230802</td>\n    </tr>\n    <tr>\n      <th>9</th>\n      <td>58655</td>\n      <td>108.717</td>\n      <td>59672</td>\n      <td>110.602</td>\n      <td>61975</td>\n      <td>114.872</td>\n      <td>62741</td>\n      <td>116.293</td>\n      <td>107.921066</td>\n      <td>0.795934</td>\n      <td>429.422413</td>\n      <td>109.791636</td>\n      <td>0.810364</td>\n      <td>437.207419</td>\n      <td>114.027549</td>\n      <td>0.844451</td>\n      <td>455.597859</td>\n      <td>115.436455</td>\n      <td>0.856545</td>\n      <td>462.123026</td>\n    </tr>\n    <tr>\n      <th>10</th>\n      <td>58659</td>\n      <td>108.727</td>\n      <td>59679</td>\n      <td>110.619</td>\n      <td>61980</td>\n      <td>114.882</td>\n      <td>62746</td>\n      <td>116.302</td>\n      <td>107.918935</td>\n      <td>0.808065</td>\n      <td>435.966995</td>\n      <td>109.795658</td>\n      <td>0.823342</td>\n      <td>444.209212</td>\n      <td>114.029325</td>\n      <td>0.852675</td>\n      <td>460.035263</td>\n      <td>115.438707</td>\n      <td>0.863293</td>\n      <td>465.763769</td>\n    </tr>\n    <tr>\n      <th>11</th>\n      <td>58676</td>\n      <td>108.757</td>\n      <td>59696</td>\n      <td>110.651</td>\n      <td>62002</td>\n      <td>114.922</td>\n      <td>62767</td>\n      <td>116.343</td>\n      <td>107.967812</td>\n      <td>0.789188</td>\n      <td>425.782717</td>\n      <td>109.844073</td>\n      <td>0.806927</td>\n      <td>435.352997</td>\n      <td>114.085896</td>\n      <td>0.836104</td>\n      <td>451.094816</td>\n      <td>115.493092</td>\n      <td>0.849908</td>\n      <td>458.542286</td>\n    </tr>\n  </tbody>\n</table>\n</div>"
     },
     "metadata": {},
     "execution_count": 10
    }
   ],
   "source": [
    "df_aftercalibtest = testcalib_biasV(df, df_calibparam, values)\n",
    "df_aftercalibtest "
   ]
  },
  {
   "cell_type": "code",
   "execution_count": 11,
   "metadata": {},
   "outputs": [
    {
     "output_type": "execute_result",
     "data": {
      "text/plain": [
       "      ch ADCmin   DMMmin ADCmax   DMMmax\n",
       "0    ch0   E6DD  108.752   F6DB  116.327\n",
       "1    ch1   E6BB  108.755   F6CC  116.332\n",
       "2    ch2   E6B5  108.740   F6C7  116.314\n",
       "3    ch3   E6AE  108.744   F6BE  116.318\n",
       "4    ch4   E6C0  108.744   F6D4  116.320\n",
       "5    ch5   E6B8  108.744   F6C8  116.312\n",
       "6    ch6   E6AF  108.735   F6C2  116.309\n",
       "7    ch7   E6B7  108.741   F6C7  116.315\n",
       "8    ch8   E60D  108.745   F712  116.320\n",
       "9    ch9   E6CF  108.715   F6E5  116.291\n",
       "10  ch10   E6D9  108.726   F6E5  116.301\n",
       "11  ch11   E6E0  108.755   F6FC  116.341"
      ],
      "text/html": "<div>\n<style scoped>\n    .dataframe tbody tr th:only-of-type {\n        vertical-align: middle;\n    }\n\n    .dataframe tbody tr th {\n        vertical-align: top;\n    }\n\n    .dataframe thead th {\n        text-align: right;\n    }\n</style>\n<table border=\"1\" class=\"dataframe\">\n  <thead>\n    <tr style=\"text-align: right;\">\n      <th></th>\n      <th>ch</th>\n      <th>ADCmin</th>\n      <th>DMMmin</th>\n      <th>ADCmax</th>\n      <th>DMMmax</th>\n    </tr>\n  </thead>\n  <tbody>\n    <tr>\n      <th>0</th>\n      <td>ch0</td>\n      <td>E6DD</td>\n      <td>108.752</td>\n      <td>F6DB</td>\n      <td>116.327</td>\n    </tr>\n    <tr>\n      <th>1</th>\n      <td>ch1</td>\n      <td>E6BB</td>\n      <td>108.755</td>\n      <td>F6CC</td>\n      <td>116.332</td>\n    </tr>\n    <tr>\n      <th>2</th>\n      <td>ch2</td>\n      <td>E6B5</td>\n      <td>108.740</td>\n      <td>F6C7</td>\n      <td>116.314</td>\n    </tr>\n    <tr>\n      <th>3</th>\n      <td>ch3</td>\n      <td>E6AE</td>\n      <td>108.744</td>\n      <td>F6BE</td>\n      <td>116.318</td>\n    </tr>\n    <tr>\n      <th>4</th>\n      <td>ch4</td>\n      <td>E6C0</td>\n      <td>108.744</td>\n      <td>F6D4</td>\n      <td>116.320</td>\n    </tr>\n    <tr>\n      <th>5</th>\n      <td>ch5</td>\n      <td>E6B8</td>\n      <td>108.744</td>\n      <td>F6C8</td>\n      <td>116.312</td>\n    </tr>\n    <tr>\n      <th>6</th>\n      <td>ch6</td>\n      <td>E6AF</td>\n      <td>108.735</td>\n      <td>F6C2</td>\n      <td>116.309</td>\n    </tr>\n    <tr>\n      <th>7</th>\n      <td>ch7</td>\n      <td>E6B7</td>\n      <td>108.741</td>\n      <td>F6C7</td>\n      <td>116.315</td>\n    </tr>\n    <tr>\n      <th>8</th>\n      <td>ch8</td>\n      <td>E60D</td>\n      <td>108.745</td>\n      <td>F712</td>\n      <td>116.320</td>\n    </tr>\n    <tr>\n      <th>9</th>\n      <td>ch9</td>\n      <td>E6CF</td>\n      <td>108.715</td>\n      <td>F6E5</td>\n      <td>116.291</td>\n    </tr>\n    <tr>\n      <th>10</th>\n      <td>ch10</td>\n      <td>E6D9</td>\n      <td>108.726</td>\n      <td>F6E5</td>\n      <td>116.301</td>\n    </tr>\n    <tr>\n      <th>11</th>\n      <td>ch11</td>\n      <td>E6E0</td>\n      <td>108.755</td>\n      <td>F6FC</td>\n      <td>116.341</td>\n    </tr>\n  </tbody>\n</table>\n</div>"
     },
     "metadata": {},
     "execution_count": 11
    }
   ],
   "source": [
    "df_test = pd.read_csv('./files/30-04-21_SN04calib_test5_DACmaxFFF.csv' ,delimiter=';', header=None)\n",
    "df_test = df_test.rename(columns={0: 'ch', 1:'ADCmin', 2: 'DMMmin', 3:'ADCmax', 4:'DMMmax'})\n",
    "df_test"
   ]
  },
  {
   "cell_type": "code",
   "execution_count": 12,
   "metadata": {},
   "outputs": [
    {
     "output_type": "execute_result",
     "data": {
      "text/plain": [
       "      ch ADC000   DMM000 ADCFFF   DMMFFF\n",
       "0    ch0   E6DD  108.752   F6DB  116.327\n",
       "1    ch1   E6BB  108.755   F6CC  116.332\n",
       "2    ch2   E6B5  108.740   F6C7  116.314\n",
       "3    ch3   E6AE  108.744   F6BE  116.318\n",
       "4    ch4   E6C0  108.744   F6D4  116.320\n",
       "5    ch5   E6B8  108.744   F6C8  116.312\n",
       "6    ch6   E6AF  108.735   F6C2  116.309\n",
       "7    ch7   E6B7  108.741   F6C7  116.315\n",
       "8    ch8   E60D  108.745   F712  116.320\n",
       "9    ch9   E6CF  108.715   F6E5  116.291\n",
       "10  ch10   E6D9  108.726   F6E5  116.301\n",
       "11  ch11   E6E0  108.755   F6FC  116.341"
      ],
      "text/html": "<div>\n<style scoped>\n    .dataframe tbody tr th:only-of-type {\n        vertical-align: middle;\n    }\n\n    .dataframe tbody tr th {\n        vertical-align: top;\n    }\n\n    .dataframe thead th {\n        text-align: right;\n    }\n</style>\n<table border=\"1\" class=\"dataframe\">\n  <thead>\n    <tr style=\"text-align: right;\">\n      <th></th>\n      <th>ch</th>\n      <th>ADC000</th>\n      <th>DMM000</th>\n      <th>ADCFFF</th>\n      <th>DMMFFF</th>\n    </tr>\n  </thead>\n  <tbody>\n    <tr>\n      <th>0</th>\n      <td>ch0</td>\n      <td>E6DD</td>\n      <td>108.752</td>\n      <td>F6DB</td>\n      <td>116.327</td>\n    </tr>\n    <tr>\n      <th>1</th>\n      <td>ch1</td>\n      <td>E6BB</td>\n      <td>108.755</td>\n      <td>F6CC</td>\n      <td>116.332</td>\n    </tr>\n    <tr>\n      <th>2</th>\n      <td>ch2</td>\n      <td>E6B5</td>\n      <td>108.740</td>\n      <td>F6C7</td>\n      <td>116.314</td>\n    </tr>\n    <tr>\n      <th>3</th>\n      <td>ch3</td>\n      <td>E6AE</td>\n      <td>108.744</td>\n      <td>F6BE</td>\n      <td>116.318</td>\n    </tr>\n    <tr>\n      <th>4</th>\n      <td>ch4</td>\n      <td>E6C0</td>\n      <td>108.744</td>\n      <td>F6D4</td>\n      <td>116.320</td>\n    </tr>\n    <tr>\n      <th>5</th>\n      <td>ch5</td>\n      <td>E6B8</td>\n      <td>108.744</td>\n      <td>F6C8</td>\n      <td>116.312</td>\n    </tr>\n    <tr>\n      <th>6</th>\n      <td>ch6</td>\n      <td>E6AF</td>\n      <td>108.735</td>\n      <td>F6C2</td>\n      <td>116.309</td>\n    </tr>\n    <tr>\n      <th>7</th>\n      <td>ch7</td>\n      <td>E6B7</td>\n      <td>108.741</td>\n      <td>F6C7</td>\n      <td>116.315</td>\n    </tr>\n    <tr>\n      <th>8</th>\n      <td>ch8</td>\n      <td>E60D</td>\n      <td>108.745</td>\n      <td>F712</td>\n      <td>116.320</td>\n    </tr>\n    <tr>\n      <th>9</th>\n      <td>ch9</td>\n      <td>E6CF</td>\n      <td>108.715</td>\n      <td>F6E5</td>\n      <td>116.291</td>\n    </tr>\n    <tr>\n      <th>10</th>\n      <td>ch10</td>\n      <td>E6D9</td>\n      <td>108.726</td>\n      <td>F6E5</td>\n      <td>116.301</td>\n    </tr>\n    <tr>\n      <th>11</th>\n      <td>ch11</td>\n      <td>E6E0</td>\n      <td>108.755</td>\n      <td>F6FC</td>\n      <td>116.341</td>\n    </tr>\n  </tbody>\n</table>\n</div>"
     },
     "metadata": {},
     "execution_count": 12
    }
   ],
   "source": [
    "df_test = df_test.rename(columns={'ADCmin':'ADC000' , 'DMMmin': 'DMM000', 'ADCmax': 'ADCFFF', 'DMMmax':'DMMFFF'})\n",
    "df_test"
   ]
  },
  {
   "cell_type": "code",
   "execution_count": 13,
   "metadata": {},
   "outputs": [
    {
     "output_type": "execute_result",
     "data": {
      "text/plain": [
       "      ch  ADC000   DMM000  ADCFFF   DMMFFF  ADC000_calib  ADC000err  \\\n",
       "0    ch0   59101  108.752   63195  116.327    108.751812   0.000188   \n",
       "1    ch1   59067  108.755   63180  116.332    108.753517   0.001483   \n",
       "2    ch2   59061  108.740   63175  116.314    108.741964  -0.001964   \n",
       "3    ch3   59054  108.744   63166  116.318    108.742347   0.001653   \n",
       "4    ch4   59072  108.744   63188  116.320    108.742845   0.001155   \n",
       "5    ch5   59064  108.744   63176  116.312    108.745364  -0.001364   \n",
       "6    ch6   59055  108.735   63170  116.309    108.735482  -0.000482   \n",
       "7    ch7   59063  108.741   63175  116.315    108.740505   0.000495   \n",
       "8    ch8   58893  108.745   63250  116.320    108.743531   0.001469   \n",
       "9    ch9   59087  108.715   63205  116.291    108.716634  -0.001634   \n",
       "10  ch10   59097  108.726   63205  116.301    108.724271   0.001729   \n",
       "11  ch11   59104  108.755   63228  116.341    108.755106  -0.000106   \n",
       "\n",
       "    ADC000sigma  ADCFFF_calib  ADCFFFerr  ADCFFFsigma  \n",
       "0      0.101231    116.326842   0.000158     0.085444  \n",
       "1      0.799869    116.330433   0.001567     0.845360  \n",
       "2     -1.059408    116.316067  -0.002067    -1.115386  \n",
       "3      0.891945    116.316257   0.001743     0.940215  \n",
       "4      0.623207    116.318768   0.001232     0.664579  \n",
       "5     -0.735740    116.313459  -0.001459    -0.787382  \n",
       "6     -0.260303    116.309565  -0.000565    -0.304929  \n",
       "7      0.267130    116.314415   0.000585     0.315400  \n",
       "8      0.792610    116.318442   0.001558     0.840361  \n",
       "9     -0.881785    116.292745  -0.001745    -0.941426  \n",
       "10     0.932694    116.299179   0.001821     0.982276  \n",
       "11    -0.057065    116.341088  -0.000088    -0.047740  "
      ],
      "text/html": "<div>\n<style scoped>\n    .dataframe tbody tr th:only-of-type {\n        vertical-align: middle;\n    }\n\n    .dataframe tbody tr th {\n        vertical-align: top;\n    }\n\n    .dataframe thead th {\n        text-align: right;\n    }\n</style>\n<table border=\"1\" class=\"dataframe\">\n  <thead>\n    <tr style=\"text-align: right;\">\n      <th></th>\n      <th>ch</th>\n      <th>ADC000</th>\n      <th>DMM000</th>\n      <th>ADCFFF</th>\n      <th>DMMFFF</th>\n      <th>ADC000_calib</th>\n      <th>ADC000err</th>\n      <th>ADC000sigma</th>\n      <th>ADCFFF_calib</th>\n      <th>ADCFFFerr</th>\n      <th>ADCFFFsigma</th>\n    </tr>\n  </thead>\n  <tbody>\n    <tr>\n      <th>0</th>\n      <td>ch0</td>\n      <td>59101</td>\n      <td>108.752</td>\n      <td>63195</td>\n      <td>116.327</td>\n      <td>108.751812</td>\n      <td>0.000188</td>\n      <td>0.101231</td>\n      <td>116.326842</td>\n      <td>0.000158</td>\n      <td>0.085444</td>\n    </tr>\n    <tr>\n      <th>1</th>\n      <td>ch1</td>\n      <td>59067</td>\n      <td>108.755</td>\n      <td>63180</td>\n      <td>116.332</td>\n      <td>108.753517</td>\n      <td>0.001483</td>\n      <td>0.799869</td>\n      <td>116.330433</td>\n      <td>0.001567</td>\n      <td>0.845360</td>\n    </tr>\n    <tr>\n      <th>2</th>\n      <td>ch2</td>\n      <td>59061</td>\n      <td>108.740</td>\n      <td>63175</td>\n      <td>116.314</td>\n      <td>108.741964</td>\n      <td>-0.001964</td>\n      <td>-1.059408</td>\n      <td>116.316067</td>\n      <td>-0.002067</td>\n      <td>-1.115386</td>\n    </tr>\n    <tr>\n      <th>3</th>\n      <td>ch3</td>\n      <td>59054</td>\n      <td>108.744</td>\n      <td>63166</td>\n      <td>116.318</td>\n      <td>108.742347</td>\n      <td>0.001653</td>\n      <td>0.891945</td>\n      <td>116.316257</td>\n      <td>0.001743</td>\n      <td>0.940215</td>\n    </tr>\n    <tr>\n      <th>4</th>\n      <td>ch4</td>\n      <td>59072</td>\n      <td>108.744</td>\n      <td>63188</td>\n      <td>116.320</td>\n      <td>108.742845</td>\n      <td>0.001155</td>\n      <td>0.623207</td>\n      <td>116.318768</td>\n      <td>0.001232</td>\n      <td>0.664579</td>\n    </tr>\n    <tr>\n      <th>5</th>\n      <td>ch5</td>\n      <td>59064</td>\n      <td>108.744</td>\n      <td>63176</td>\n      <td>116.312</td>\n      <td>108.745364</td>\n      <td>-0.001364</td>\n      <td>-0.735740</td>\n      <td>116.313459</td>\n      <td>-0.001459</td>\n      <td>-0.787382</td>\n    </tr>\n    <tr>\n      <th>6</th>\n      <td>ch6</td>\n      <td>59055</td>\n      <td>108.735</td>\n      <td>63170</td>\n      <td>116.309</td>\n      <td>108.735482</td>\n      <td>-0.000482</td>\n      <td>-0.260303</td>\n      <td>116.309565</td>\n      <td>-0.000565</td>\n      <td>-0.304929</td>\n    </tr>\n    <tr>\n      <th>7</th>\n      <td>ch7</td>\n      <td>59063</td>\n      <td>108.741</td>\n      <td>63175</td>\n      <td>116.315</td>\n      <td>108.740505</td>\n      <td>0.000495</td>\n      <td>0.267130</td>\n      <td>116.314415</td>\n      <td>0.000585</td>\n      <td>0.315400</td>\n    </tr>\n    <tr>\n      <th>8</th>\n      <td>ch8</td>\n      <td>58893</td>\n      <td>108.745</td>\n      <td>63250</td>\n      <td>116.320</td>\n      <td>108.743531</td>\n      <td>0.001469</td>\n      <td>0.792610</td>\n      <td>116.318442</td>\n      <td>0.001558</td>\n      <td>0.840361</td>\n    </tr>\n    <tr>\n      <th>9</th>\n      <td>ch9</td>\n      <td>59087</td>\n      <td>108.715</td>\n      <td>63205</td>\n      <td>116.291</td>\n      <td>108.716634</td>\n      <td>-0.001634</td>\n      <td>-0.881785</td>\n      <td>116.292745</td>\n      <td>-0.001745</td>\n      <td>-0.941426</td>\n    </tr>\n    <tr>\n      <th>10</th>\n      <td>ch10</td>\n      <td>59097</td>\n      <td>108.726</td>\n      <td>63205</td>\n      <td>116.301</td>\n      <td>108.724271</td>\n      <td>0.001729</td>\n      <td>0.932694</td>\n      <td>116.299179</td>\n      <td>0.001821</td>\n      <td>0.982276</td>\n    </tr>\n    <tr>\n      <th>11</th>\n      <td>ch11</td>\n      <td>59104</td>\n      <td>108.755</td>\n      <td>63228</td>\n      <td>116.341</td>\n      <td>108.755106</td>\n      <td>-0.000106</td>\n      <td>-0.057065</td>\n      <td>116.341088</td>\n      <td>-0.000088</td>\n      <td>-0.047740</td>\n    </tr>\n  </tbody>\n</table>\n</div>"
     },
     "metadata": {},
     "execution_count": 13
    }
   ],
   "source": [
    "df_calibparam_test = pd.read_csv('calibDB/calib_biasV_SN04_v5_forcheck.csv',delimiter=',') \n",
    "df_calibparam_test.drop('Unnamed: 0', inplace=True, axis=1)\n",
    "values_test =['ADC000', 'ADCFFF']\n",
    "\n",
    "df_testcalib_test = testcalib_biasV(df_test, df_calibparam_test, values_test)\n",
    "df_testcalib_test"
   ]
  },
  {
   "cell_type": "code",
   "execution_count": null,
   "metadata": {},
   "outputs": [],
   "source": []
  }
 ]
}
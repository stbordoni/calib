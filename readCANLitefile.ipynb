{
 "metadata": {
  "language_info": {
   "codemirror_mode": {
    "name": "ipython",
    "version": 3
   },
   "file_extension": ".py",
   "mimetype": "text/x-python",
   "name": "python",
   "nbconvert_exporter": "python",
   "pygments_lexer": "ipython3",
   "version": "3.9.2"
  },
  "orig_nbformat": 2,
  "kernelspec": {
   "name": "python392jvsc74a57bd02b6c4d4d5861da4de20ae5397ab36a2c4fea6beca7bca7fb8955c39e63f73bb7",
   "display_name": "Python 3.9.2 64-bit ('.venv': venv)"
  }
 },
 "nbformat": 4,
 "nbformat_minor": 2,
 "cells": [
  {
   "cell_type": "code",
   "execution_count": 1,
   "metadata": {},
   "outputs": [],
   "source": [
    "import pandas as pd\n",
    "import numpy as np\n",
    "import matplotlib\n"
   ]
  },
  {
   "cell_type": "code",
   "execution_count": 255,
   "metadata": {},
   "outputs": [
    {
     "output_type": "execute_result",
     "data": {
      "text/plain": [
       "       Time (abs)  State  Length            Data (hex)\n",
       "0  4346.454.319.0     S        2                 01 01\n",
       "1  4346.455.060.0              7  01 00 00 00 00 00 00\n",
       "2  4346.455.690.0              7  21 00 00 00 00 00 00\n",
       "3  4347.246.327.0     S        2                 01 02\n",
       "4  4347.247.073.0              7  01 80 00 80 00 80 00\n",
       "5  4347.247.708.0              7  21 80 00 00 00 00 00\n",
       "6  4349.246.321.0     S        2                 01 06\n",
       "7  4349.247.072.0              7  01 00 00 00 00 00 00\n",
       "8  4349.247.702.0              7  21 00 00 00 00 00 00\n",
       "9  4349.248.333.0              7  61 00 00 00 00 00 00"
      ],
      "text/html": "<div>\n<style scoped>\n    .dataframe tbody tr th:only-of-type {\n        vertical-align: middle;\n    }\n\n    .dataframe tbody tr th {\n        vertical-align: top;\n    }\n\n    .dataframe thead th {\n        text-align: right;\n    }\n</style>\n<table border=\"1\" class=\"dataframe\">\n  <thead>\n    <tr style=\"text-align: right;\">\n      <th></th>\n      <th>Time (abs)</th>\n      <th>State</th>\n      <th>Length</th>\n      <th>Data (hex)</th>\n    </tr>\n  </thead>\n  <tbody>\n    <tr>\n      <th>0</th>\n      <td>4346.454.319.0</td>\n      <td>S</td>\n      <td>2</td>\n      <td>01 01</td>\n    </tr>\n    <tr>\n      <th>1</th>\n      <td>4346.455.060.0</td>\n      <td></td>\n      <td>7</td>\n      <td>01 00 00 00 00 00 00</td>\n    </tr>\n    <tr>\n      <th>2</th>\n      <td>4346.455.690.0</td>\n      <td></td>\n      <td>7</td>\n      <td>21 00 00 00 00 00 00</td>\n    </tr>\n    <tr>\n      <th>3</th>\n      <td>4347.246.327.0</td>\n      <td>S</td>\n      <td>2</td>\n      <td>01 02</td>\n    </tr>\n    <tr>\n      <th>4</th>\n      <td>4347.247.073.0</td>\n      <td></td>\n      <td>7</td>\n      <td>01 80 00 80 00 80 00</td>\n    </tr>\n    <tr>\n      <th>5</th>\n      <td>4347.247.708.0</td>\n      <td></td>\n      <td>7</td>\n      <td>21 80 00 00 00 00 00</td>\n    </tr>\n    <tr>\n      <th>6</th>\n      <td>4349.246.321.0</td>\n      <td>S</td>\n      <td>2</td>\n      <td>01 06</td>\n    </tr>\n    <tr>\n      <th>7</th>\n      <td>4349.247.072.0</td>\n      <td></td>\n      <td>7</td>\n      <td>01 00 00 00 00 00 00</td>\n    </tr>\n    <tr>\n      <th>8</th>\n      <td>4349.247.702.0</td>\n      <td></td>\n      <td>7</td>\n      <td>21 00 00 00 00 00 00</td>\n    </tr>\n    <tr>\n      <th>9</th>\n      <td>4349.248.333.0</td>\n      <td></td>\n      <td>7</td>\n      <td>61 00 00 00 00 00 00</td>\n    </tr>\n  </tbody>\n</table>\n</div>"
     },
     "metadata": {},
     "execution_count": 255
    }
   ],
   "source": [
    "df = pd.read_csv('./files/21-05-06_160653_calib_SN04_DACSet000_20x.csv')\n",
    "\n",
    "#remove some columns not exploitable\n",
    "df.drop(['Bus','No', 'ID (hex)', 'Message', 'ASCII'], inplace=True, axis=1)\n",
    "df[0:10]\n"
   ]
  },
  {
   "cell_type": "code",
   "execution_count": 91,
   "metadata": {},
   "outputs": [
    {
     "output_type": "execute_result",
     "data": {
      "text/plain": [
       "<pandas.core.groupby.generic.DataFrameGroupBy object at 0x11f948820>"
      ]
     },
     "metadata": {},
     "execution_count": 91
    }
   ],
   "source": []
  },
  {
   "cell_type": "code",
   "execution_count": 135,
   "metadata": {},
   "outputs": [
    {
     "output_type": "stream",
     "name": "stdout",
     "text": [
      "<class 'pandas.core.frame.DataFrame'>\nRangeIndex: 285 entries, 0 to 284\nData columns (total 4 columns):\n #   Column      Non-Null Count  Dtype \n---  ------      --------------  ----- \n 0   Time (abs)  285 non-null    object\n 1   State       285 non-null    object\n 2   Length      285 non-null    int64 \n 3   Data (hex)  285 non-null    object\ndtypes: int64(1), object(3)\nmemory usage: 9.0+ KB\n"
     ]
    }
   ],
   "source": [
    "df.info()"
   ]
  },
  {
   "cell_type": "code",
   "execution_count": 80,
   "metadata": {},
   "outputs": [
    {
     "output_type": "execute_result",
     "data": {
      "text/plain": [
       "[0,\n",
       " 3,\n",
       " 6,\n",
       " 11,\n",
       " 16,\n",
       " 19,\n",
       " 21,\n",
       " 23,\n",
       " 25,\n",
       " 30,\n",
       " 33,\n",
       " 38,\n",
       " 43,\n",
       " 46,\n",
       " 51,\n",
       " 56,\n",
       " 59,\n",
       " 64,\n",
       " 69,\n",
       " 72,\n",
       " 77,\n",
       " 82,\n",
       " 85,\n",
       " 90,\n",
       " 95,\n",
       " 98,\n",
       " 103,\n",
       " 108,\n",
       " 111,\n",
       " 116,\n",
       " 121,\n",
       " 124,\n",
       " 129,\n",
       " 134,\n",
       " 137,\n",
       " 142,\n",
       " 147,\n",
       " 150,\n",
       " 155,\n",
       " 160,\n",
       " 163,\n",
       " 168,\n",
       " 173,\n",
       " 176,\n",
       " 181,\n",
       " 186,\n",
       " 189,\n",
       " 194,\n",
       " 199,\n",
       " 202,\n",
       " 207,\n",
       " 212,\n",
       " 215,\n",
       " 220,\n",
       " 225,\n",
       " 228,\n",
       " 233,\n",
       " 238,\n",
       " 241,\n",
       " 246,\n",
       " 251,\n",
       " 254,\n",
       " 259,\n",
       " 264,\n",
       " 267,\n",
       " 272,\n",
       " 277,\n",
       " 280]"
      ]
     },
     "metadata": {},
     "execution_count": 80
    }
   ],
   "source": [
    "df['tmp'] = df['State'].apply(lambda x: 'S' in x )\n",
    "mssgidx = df[df['tmp'] == True].index.tolist()\n",
    "df.drop(['tmp'], inplace=True, axis=1)\n",
    "mssgidx"
   ]
  },
  {
   "cell_type": "code",
   "execution_count": 81,
   "metadata": {},
   "outputs": [
    {
     "output_type": "execute_result",
     "data": {
      "text/plain": [
       "         Time (abs)  State  Length            Data (hex)\n",
       "0    4346.454.319.0     S        2                 01 01\n",
       "1    4346.455.060.0              7  01 00 00 00 00 00 00\n",
       "2    4346.455.690.0              7  21 00 00 00 00 00 00\n",
       "3    4347.246.327.0     S        2                 01 02\n",
       "4    4347.247.073.0              7  01 80 00 80 00 80 00\n",
       "..              ...    ...     ...                   ...\n",
       "280  4398.097.417.0     S        2                 01 04\n",
       "281  4398.098.169.0              7  01 00 00 00 00 00 00\n",
       "282  4398.098.799.0              7  21 00 00 00 00 00 00\n",
       "283  4398.099.429.0              7  61 00 00 00 00 00 00\n",
       "284  4398.100.065.0              7  41 00 00 00 00 00 00\n",
       "\n",
       "[285 rows x 4 columns]"
      ],
      "text/html": "<div>\n<style scoped>\n    .dataframe tbody tr th:only-of-type {\n        vertical-align: middle;\n    }\n\n    .dataframe tbody tr th {\n        vertical-align: top;\n    }\n\n    .dataframe thead th {\n        text-align: right;\n    }\n</style>\n<table border=\"1\" class=\"dataframe\">\n  <thead>\n    <tr style=\"text-align: right;\">\n      <th></th>\n      <th>Time (abs)</th>\n      <th>State</th>\n      <th>Length</th>\n      <th>Data (hex)</th>\n    </tr>\n  </thead>\n  <tbody>\n    <tr>\n      <th>0</th>\n      <td>4346.454.319.0</td>\n      <td>S</td>\n      <td>2</td>\n      <td>01 01</td>\n    </tr>\n    <tr>\n      <th>1</th>\n      <td>4346.455.060.0</td>\n      <td></td>\n      <td>7</td>\n      <td>01 00 00 00 00 00 00</td>\n    </tr>\n    <tr>\n      <th>2</th>\n      <td>4346.455.690.0</td>\n      <td></td>\n      <td>7</td>\n      <td>21 00 00 00 00 00 00</td>\n    </tr>\n    <tr>\n      <th>3</th>\n      <td>4347.246.327.0</td>\n      <td>S</td>\n      <td>2</td>\n      <td>01 02</td>\n    </tr>\n    <tr>\n      <th>4</th>\n      <td>4347.247.073.0</td>\n      <td></td>\n      <td>7</td>\n      <td>01 80 00 80 00 80 00</td>\n    </tr>\n    <tr>\n      <th>...</th>\n      <td>...</td>\n      <td>...</td>\n      <td>...</td>\n      <td>...</td>\n    </tr>\n    <tr>\n      <th>280</th>\n      <td>4398.097.417.0</td>\n      <td>S</td>\n      <td>2</td>\n      <td>01 04</td>\n    </tr>\n    <tr>\n      <th>281</th>\n      <td>4398.098.169.0</td>\n      <td></td>\n      <td>7</td>\n      <td>01 00 00 00 00 00 00</td>\n    </tr>\n    <tr>\n      <th>282</th>\n      <td>4398.098.799.0</td>\n      <td></td>\n      <td>7</td>\n      <td>21 00 00 00 00 00 00</td>\n    </tr>\n    <tr>\n      <th>283</th>\n      <td>4398.099.429.0</td>\n      <td></td>\n      <td>7</td>\n      <td>61 00 00 00 00 00 00</td>\n    </tr>\n    <tr>\n      <th>284</th>\n      <td>4398.100.065.0</td>\n      <td></td>\n      <td>7</td>\n      <td>41 00 00 00 00 00 00</td>\n    </tr>\n  </tbody>\n</table>\n<p>285 rows × 4 columns</p>\n</div>"
     },
     "metadata": {},
     "execution_count": 81
    }
   ],
   "source": [
    "df"
   ]
  },
  {
   "cell_type": "code",
   "execution_count": 140,
   "metadata": {},
   "outputs": [],
   "source": [
    "df.to_csv('calib_v6_SN04_fromscript_DACset000.txt', sep=',', index=False, header=False, quotechar = ' ')\n"
   ]
  },
  {
   "cell_type": "code",
   "execution_count": 242,
   "metadata": {
    "tags": []
   },
   "outputs": [
    {
     "output_type": "stream",
     "name": "stdout",
     "text": [
      "{'timestamp': '4346.454.319.0', 'state': 'S', 'mssg_length': '2', 'mssg': '0101', 'answer': ['01  00  00  00  00  00  00', '21  00  00  00  00  00  00']}\n"
     ]
    }
   ],
   "source": [
    "\n",
    "\n",
    "file1 = open('calib_v6_SN04_fromscript_DACset000.txt', 'r')\n",
    "#file1 = open('./files/21-05-06_160653_calib_SN04_DACSet000_20x.csv', 'r')\n",
    "Lines = file1.readlines()\n",
    "\n",
    "#definition of the dictionary with the possible requests which can be found and the expected length of the answers\n",
    "d_request = {'0101' : 2, '0102': 2, '0106': 4, '0105': 4, '0109': 2, '0100': 2, '0104': 4 }\n",
    "\n",
    "#define a global list of dictionary\n",
    "d_list = []\n",
    "\n",
    "# loop over lines. The iterator i is needed to be able to extract the lines containing the answers\n",
    "for i in range(0, len(Lines)):\n",
    "    line = Lines[i]\n",
    "    #print(line)\n",
    "    singles = line.split(',') \n",
    "    singles[1] = singles[1].strip()\n",
    "    #print(singles[1])    \n",
    "    #print(singles)    \n",
    "\n",
    "    #build a tmp dictionary which will be then saved in the global list of dictionary d_list\n",
    "    tmp_dic = {'timestamp':singles[0], 'state': singles[1], 'mssg_length':singles[2], 'mssg':singles[3] } \n",
    "    \n",
    "\n",
    "\n",
    "    list(tmp_dic)\n",
    "    if (tmp_dic.get('state')== 'S'):\n",
    "        message = tmp_dic.get('mssg').strip()\n",
    "        message = message.replace(' ', '')\n",
    "        #replace mssg in the dictionary\n",
    "        tmp_dic.update(mssg=message)\n",
    "\n",
    "        #print('this is a request:', tmp_dic.get('state'))\n",
    "        #print('this is the message:', message)\n",
    "\n",
    "        for value in d_request.keys():\n",
    "            #print(value)\n",
    "            if (message== value):\n",
    "                #print(line)\n",
    "                #print('found request: ', value)\n",
    "                #print('the answer length is: ', d_request.get(value))\n",
    "                answer_length = d_request.get(value)\n",
    "                #print('there are the next ',  answer_length,' lines :')\n",
    "                \n",
    "        \n",
    "                #prepare a list to record the answer\n",
    "                aws =[] \n",
    "\n",
    "                #loop over the line of the answer: \n",
    "                for a_i in range(1, answer_length+1):\n",
    "                    #print(' answer:', Lines[i+a_i])\n",
    "                    awsline = Lines[i+a_i].split(',') \n",
    "                    aws.append(awsline[3].strip())    \n",
    "                    \n",
    "                #print('printing the answer: ', aws)\n",
    "                tmp_dic['answer'] = aws\n",
    "                #print('***** ', tmp_dic)\n",
    "                d_list.append(tmp_dic)\n",
    "                #print('print dictionary list', d_list)\n",
    "\n",
    "\n",
    "print(d_list[0])"
   ]
  },
  {
   "cell_type": "code",
   "execution_count": 243,
   "metadata": {},
   "outputs": [
    {
     "output_type": "execute_result",
     "data": {
      "text/plain": [
       "[{'timestamp': '4346.454.319.0',\n",
       "  'state': 'S',\n",
       "  'mssg_length': '2',\n",
       "  'mssg': '0101',\n",
       "  'answer': ['01  00  00  00  00  00  00', '21  00  00  00  00  00  00']},\n",
       " {'timestamp': '4347.246.327.0',\n",
       "  'state': 'S',\n",
       "  'mssg_length': '2',\n",
       "  'mssg': '0102',\n",
       "  'answer': ['01  80  00  80  00  80  00', '21  80  00  00  00  00  00']},\n",
       " {'timestamp': '4349.246.321.0',\n",
       "  'state': 'S',\n",
       "  'mssg_length': '2',\n",
       "  'mssg': '0106',\n",
       "  'answer': ['01  00  00  00  00  00  00',\n",
       "   '21  00  00  00  00  00  00',\n",
       "   '61  00  00  00  00  00  00',\n",
       "   '41  00  00  00  00  00  00']},\n",
       " {'timestamp': '4352.358.266.0',\n",
       "  'state': 'S',\n",
       "  'mssg_length': '2',\n",
       "  'mssg': '0109',\n",
       "  'answer': ['01  00  00  A5  F6  00  00', '21  00  00  08  00  E6  CB']},\n",
       " {'timestamp': '4378.663.928.0',\n",
       "  'state': 'S',\n",
       "  'mssg_length': '2',\n",
       "  'mssg': '0105',\n",
       "  'answer': ['01  E6  AA  E6  BB  E6  B4',\n",
       "   '21  E6  AE  E6  C2  E6  B9',\n",
       "   '41  E6  AF  E6  B7  E7  03',\n",
       "   '61  E6  CE  E6  D8  E6  DE']},\n",
       " {'timestamp': '4378.864.565.0',\n",
       "  'state': 'S',\n",
       "  'mssg_length': '2',\n",
       "  'mssg': '0100',\n",
       "  'answer': ['01  FD  92  00  00  00  00', '21  93  86  00  00  00  00']},\n",
       " {'timestamp': '4379.064.959.0',\n",
       "  'state': 'S',\n",
       "  'mssg_length': '2',\n",
       "  'mssg': '0104',\n",
       "  'answer': ['01  00  00  00  00  00  00',\n",
       "   '21  00  00  00  00  00  00',\n",
       "   '61  00  00  00  00  00  00',\n",
       "   '41  00  00  00  00  00  00']},\n",
       " {'timestamp': '4379.665.783.0',\n",
       "  'state': 'S',\n",
       "  'mssg_length': '2',\n",
       "  'mssg': '0105',\n",
       "  'answer': ['01  E6  CC  E6  BB  E6  B4',\n",
       "   '21  E6  AE  E6  C2  E6  B8',\n",
       "   '41  E6  AD  E6  B8  E6  FF',\n",
       "   '61  E6  CF  E6  D8  E6  E1']},\n",
       " {'timestamp': '4379.867.090.0',\n",
       "  'state': 'S',\n",
       "  'mssg_length': '2',\n",
       "  'mssg': '0100',\n",
       "  'answer': ['01  FD  95  00  00  00  00', '21  93  A1  00  00  00  00']},\n",
       " {'timestamp': '4380.067.258.0',\n",
       "  'state': 'S',\n",
       "  'mssg_length': '2',\n",
       "  'mssg': '0104',\n",
       "  'answer': ['01  00  00  00  00  00  00',\n",
       "   '21  00  00  00  00  00  00',\n",
       "   '61  00  00  00  00  00  00',\n",
       "   '41  00  00  00  00  00  00']}]"
      ]
     },
     "metadata": {},
     "execution_count": 243
    }
   ],
   "source": [
    "d_list[0:10]"
   ]
  },
  {
   "cell_type": "code",
   "execution_count": 245,
   "metadata": {},
   "outputs": [
    {
     "output_type": "execute_result",
     "data": {
      "text/plain": [
       "{'timestamp': '4378.663.928.0',\n",
       " 'state': 'S',\n",
       " 'mssg_length': '2',\n",
       " 'mssg': '0105',\n",
       " 'answer': ['01  E6  AA  E6  BB  E6  B4',\n",
       "  '21  E6  AE  E6  C2  E6  B9',\n",
       "  '41  E6  AF  E6  B7  E7  03',\n",
       "  '61  E6  CE  E6  D8  E6  DE']}"
      ]
     },
     "metadata": {},
     "execution_count": 245
    }
   ],
   "source": [
    "#print(d_list[]['mssg'])\n",
    "#rint(d_list[]['mssg'])\n",
    "next(item for item in d_list if item[['mssg'] == '0105')"
   ]
  },
  {
   "cell_type": "code",
   "execution_count": 340,
   "metadata": {},
   "outputs": [],
   "source": [
    "#define a function which take in input a list of dictionary and \n",
    "# search for the request 0105 and separate the channels\n",
    "# --> TO DO: for the request 0105 return a list of list with the ADC values per channel\n",
    "\n",
    "def getADCperchannel(mylist):\n",
    "\n",
    "    mylist = mylist.copy()\n",
    "\n",
    "    #create the dictionary which will collect all the channels infos\n",
    "    #d_0105 = {}\n",
    "    l_ch0, l_ch1, l_ch2 = [], [], []\n",
    "    l_ch3, l_ch4, l_ch5 = [], [], []\n",
    "    l_ch6, l_ch7, l_ch8 = [], [], []\n",
    "    l_ch9, l_ch10, l_ch11 = [], [], []\n",
    "\n",
    "    # define the list of list which will contain all the list of single channels values recording their ADC values\n",
    "    l_allch = []\n",
    "\n",
    "    for d in mylist:\n",
    "        if (d.get('mssg')=='0105'):\n",
    "            answ = d.get('answer')\n",
    "\n",
    "            #check if the lenght is ok (it should be a list of 4 elements)\n",
    "            if (len(answ) !=4): abort\n",
    "\n",
    "            for answ_items in answ:\n",
    "                answ_items = answ_items.split(' ')\n",
    "                #print(answ_items)\n",
    "            #answ_singles = answ[0].split(' ')\n",
    "            #print(answ_singles)\n",
    "         \n",
    "            #if (answ_singles[0] == '01'):\n",
    "            #    ch_dic = {'channels': answ_singles[0], \n",
    "            #    'ch0':answ_singles[2]+answ_singles[4] , \n",
    "            #    'ch1':answ_singles[6]+answ_singles[8] , \n",
    "            #    'ch2':answ_singles[10]+answ_singles[12]}\n",
    "            #    d_0105.append(ch_dic)\n",
    "\n",
    "            #elif (answ_singles[0] == '21'):\n",
    "            #    ch_dic = {'channels': answ_singles[0], \n",
    "            #    'ch3':answ_singles[2]+answ_singles[4] , \n",
    "            #    'ch4':answ_singles[6]+answ_singles[8] , \n",
    "            #    'ch5':answ_singles[10]+answ_singles[12]}\n",
    "            #    d_0105.append(ch_dic)\n",
    "\n",
    "            #elif (answ_singles[0] == '41'):\n",
    "            #    ch_dic = {'channels': answ_singles[0], \n",
    "            #    'ch6':answ_singles[2]+answ_singles[4] , \n",
    "            #    'ch7':answ_singles[6]+answ_singles[8] , \n",
    "            #    'ch8':answ_singles[10]+answ_singles[12]}\n",
    "            #    d_0105.append(ch_dic)\n",
    "\n",
    "            #elif (answ_singles[0] == '61'):\n",
    "            #    ch_dic = {'channels': answ_singles[0], \n",
    "            #    'ch9':answ_singles[2]+answ_singles[4] , \n",
    "            #    'ch10':answ_singles[6]+answ_singles[8] , \n",
    "            #    'ch11':answ_singles[10]+answ_singles[12]}\n",
    "            #   d_0105.append(ch_dic)\n",
    "\n",
    "                if (answ_items[0] == '01'):\n",
    "                    l_ch0.append(answ_items[2]+answ_items[4])\n",
    "                    l_ch1.append(answ_items[6]+answ_items[8])\n",
    "                    l_ch2.append(answ_items[10]+answ_items[12])\n",
    "\n",
    "                elif (answ_items[0] == '21'):\n",
    "                    l_ch3.append(answ_items[2]+answ_items[4])\n",
    "                    l_ch4.append(answ_items[6]+answ_items[8])\n",
    "                    l_ch5.append(answ_items[10]+answ_items[12])\n",
    "                \n",
    "                elif (answ_items[0] == '41'):\n",
    "                    l_ch6.append(answ_items[2]+answ_items[4])\n",
    "                    l_ch7.append(answ_items[6]+answ_items[8])\n",
    "                    l_ch8.append(answ_items[10]+answ_items[12])\n",
    "\n",
    "                elif (answ_items[0] == '61'):\n",
    "                    l_ch9.append(answ_items[2]+answ_items[4])\n",
    "                    l_ch10.append(answ_items[6]+answ_items[8])\n",
    "                    l_ch11.append(answ_items[10]+answ_items[12])\n",
    "            \n",
    "            #print(l_ch9)\n",
    "\n",
    "    #add all channel to the list of list to return\n",
    "    l_allch.extend([l_ch0,l_ch1,l_ch2,l_ch3, l_ch4, l_ch5, l_ch6, l_ch7, l_ch8, l_ch9, l_ch10, l_ch11])\n",
    "\n",
    "    #return the list of list\n",
    "    return(l_allch)    \n",
    "\n"
   ]
  },
  {
   "cell_type": "code",
   "execution_count": 342,
   "metadata": {},
   "outputs": [],
   "source": [
    "my_allch_list = getADCperchannel(d_list)"
   ]
  },
  {
   "cell_type": "code",
   "execution_count": 349,
   "metadata": {},
   "outputs": [
    {
     "output_type": "stream",
     "name": "stdout",
     "text": [
      "ch0: ['E6AA', 'E6CC', 'E6A4', 'E683', 'E6CB', 'E6D0', 'E6A4', 'E6B9', 'E6A7', 'E6B0', 'E6C7', 'E6C0', 'E6B9', 'E6D1', 'E6CB', 'E6B3', 'E69A', 'E6AA', 'E6C4', 'E6AC'] \t ch1:  ['E6BB', 'E6BB', 'E6BC', 'E6BB', 'E6BB', 'E6BD', 'E6BB', 'E6B9', 'E6BA', 'E6BA', 'E6BD', 'E6BB', 'E6BA', 'E6BB', 'E6BA', 'E6B9', 'E6BB', 'E6BC', 'E6BC', 'E6BA'] \t ch2:  ['E6B4', 'E6B4', 'E6B4', 'E6B3', 'E6B6', 'E6B2', 'E6B3', 'E6B5', 'E6B3', 'E6B3', 'E6B5', 'E6B2', 'E6B6', 'E6B3', 'E6B3', 'E6B3', 'E6B7', 'E6B4', 'E6B4', 'E6B3']\n"
     ]
    }
   ],
   "source": [
    "#check via printout\n",
    "print('ch0:', my_allch_list[0], '\\t ch1: ', my_allch_list[1], '\\t ch2: ', my_allch_list[2])"
   ]
  },
  {
   "cell_type": "code",
   "execution_count": 416,
   "metadata": {},
   "outputs": [],
   "source": [
    "# define a function which read a list of list with all ADC values per channel and do :\n",
    "# the conversion exadecimal to decimal\n",
    "# calculate the average\n",
    "import statistics\n",
    "\n",
    "#function to convert hex to decimal\n",
    "def todec(n):\n",
    "    return int(n, 16) \n",
    "\n",
    "#function to convert back to hex (after rounding to get to the closest integer)\n",
    "def tohex(n):\n",
    "    return hex(round(n))\n",
    "\n",
    "\n",
    "#function to get the list of list of all values per channel. Per each channel do: \n",
    "# - convert to dec compute the average\n",
    "# - compute the average\n",
    "# - store the value in a list (this will contain one value per channel )\n",
    "# - convert the values in the list to hex \n",
    "# - return the list containing all the averages per channel --> these are the values to be used for the calibration campaign\n",
    "#   \n",
    "\n",
    "def Getch_average(chlist):\n",
    "    chlist = chlist.copy()\n",
    "    print(len(chlist))\n",
    "    \n",
    "    ch_avg_dec = []\n",
    "    ch_avg_hex = []\n",
    "\n",
    "    for ch in chlist:\n",
    "\n",
    "        # convert any elements of the channel list to decimal\n",
    "        singlech_dec = list(map(todec, ch))\n",
    "        print(singlech_dec)\n",
    "        \n",
    "        #compute the average\n",
    "        ch_avg = statistics.mean(singlech_dec)\n",
    "        ch_avg_dec.append(ch_avg)\n",
    "\n",
    "        #print(list(singlech_dec))\n",
    "        #print(singlech_avg)\n",
    "\n",
    "    print(ch_avg_dec)\n",
    "    #convert back to hex and save to a list which will be our final output\n",
    "    ch_avg_hex = list(map(tohex, ch_avg_dec))\n",
    "    print(ch_avg_hex)\n",
    "    return ch_avg_hex"
   ]
  },
  {
   "cell_type": "code",
   "execution_count": 418,
   "metadata": {},
   "outputs": [
    {
     "output_type": "stream",
     "name": "stdout",
     "text": [
      "12\n[59050, 59084, 59044, 59011, 59083, 59088, 59044, 59065, 59047, 59056, 59079, 59072, 59065, 59089, 59083, 59059, 59034, 59050, 59076, 59052]\n[59067, 59067, 59068, 59067, 59067, 59069, 59067, 59065, 59066, 59066, 59069, 59067, 59066, 59067, 59066, 59065, 59067, 59068, 59068, 59066]\n[59060, 59060, 59060, 59059, 59062, 59058, 59059, 59061, 59059, 59059, 59061, 59058, 59062, 59059, 59059, 59059, 59063, 59060, 59060, 59059]\n[59054, 59054, 59055, 59053, 59053, 59055, 59053, 59054, 59051, 59053, 59052, 59053, 59052, 59053, 59054, 59054, 59053, 59052, 59055, 59054]\n[59074, 59074, 59074, 59073, 59075, 59074, 59074, 59075, 59073, 59073, 59074, 59074, 59075, 59075, 59072, 59073, 59074, 59073, 59074, 59074]\n[59065, 59064, 59067, 59063, 59066, 59065, 59067, 59066, 59064, 59066, 59066, 59064, 59066, 59066, 59066, 59065, 59067, 59067, 59065, 59065]\n[59055, 59053, 59053, 59054, 59055, 59054, 59054, 59054, 59054, 59056, 59052, 59054, 59053, 59056, 59056, 59054, 59055, 59054, 59053, 59055]\n[59063, 59064, 59062, 59063, 59064, 59064, 59062, 59062, 59063, 59063, 59060, 59065, 59064, 59066, 59063, 59059, 59064, 59062, 59062, 59062]\n[59139, 59135, 59132, 59135, 59140, 59102, 59146, 59148, 59122, 59127, 59131, 59123, 59114, 59143, 59134, 59141, 59121, 59131, 59136, 59095]\n[59086, 59087, 59086, 59088, 59088, 59087, 59085, 59086, 59088, 59090, 59086, 59088, 59089, 59086, 59086, 59086, 59087, 59086, 59088, 59088]\n[59096, 59096, 59098, 59096, 59098, 59096, 59097, 59097, 59097, 59098, 59099, 59098, 59098, 59098, 59096, 59097, 59099, 59097, 59097, 59098]\n[59102, 59105, 59106, 59104, 59106, 59103, 59104, 59103, 59104, 59105, 59104, 59103, 59104, 59103, 59102, 59106, 59105, 59106, 59105, 59104]\n[59061.55, 59066.9, 59059.85, 59053.35, 59073.85, 59065.5, 59054.2, 59062.85, 59129.75, 59087.05, 59097.3, 59104.2]\n['0xe6b6', '0xe6bb', '0xe6b4', '0xe6ad', '0xe6c2', '0xe6ba', '0xe6ae', '0xe6b7', '0xe6fa', '0xe6cf', '0xe6d9', '0xe6e0']\n"
     ]
    }
   ],
   "source": [
    "mych_average_biasV = Getch_average(my_allch_list)"
   ]
  },
  {
   "cell_type": "code",
   "execution_count": 422,
   "metadata": {},
   "outputs": [
    {
     "output_type": "stream",
     "name": "stdout",
     "text": [
      "['0xe6b6', '0xe6bb', '0xe6b4', '0xe6ad', '0xe6c2', '0xe6ba', '0xe6ae', '0xe6b7', '0xe6fa', '0xe6cf', '0xe6d9', '0xe6e0']\ne6b6\ne6bb\ne6b4\ne6ad\ne6c2\ne6ba\ne6ae\ne6b7\ne6fa\ne6cf\ne6d9\ne6e0\n"
     ]
    }
   ],
   "source": [
    "def printhex(myhex):\n",
    "    print(myhex[2:])\n",
    "\n",
    "print(mych_average_biasV)\n",
    "hexprint = list(map(printhex, mych_average_biasV))"
   ]
  },
  {
   "cell_type": "code",
   "execution_count": null,
   "metadata": {},
   "outputs": [],
   "source": []
  }
 ]
}
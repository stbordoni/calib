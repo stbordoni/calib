{
 "metadata": {
  "language_info": {
   "codemirror_mode": {
    "name": "ipython",
    "version": 3
   },
   "file_extension": ".py",
   "mimetype": "text/x-python",
   "name": "python",
   "nbconvert_exporter": "python",
   "pygments_lexer": "ipython3",
   "version": "3.9.2"
  },
  "orig_nbformat": 2,
  "kernelspec": {
   "name": "python392jvsc74a57bd02b6c4d4d5861da4de20ae5397ab36a2c4fea6beca7bca7fb8955c39e63f73bb7",
   "display_name": "Python 3.9.2 64-bit ('.venv': venv)"
  }
 },
 "nbformat": 4,
 "nbformat_minor": 2,
 "cells": [
  {
   "cell_type": "code",
   "execution_count": 1,
   "metadata": {},
   "outputs": [],
   "source": [
    "import pandas as pd\n",
    "import numpy as np\n",
    "import matplotlib\n"
   ]
  },
  {
   "cell_type": "code",
   "execution_count": 134,
   "metadata": {},
   "outputs": [
    {
     "output_type": "execute_result",
     "data": {
      "text/plain": [
       "        Time (abs)  State  Length            Data (hex)\n",
       "25  4378.663.928.0     S        2                 01 05\n",
       "26  4378.664.635.0              7  01 E6 AA E6 BB E6 B4\n",
       "27  4378.665.216.0              7  21 E6 AE E6 C2 E6 B9\n",
       "28  4378.665.824.0              7  41 E6 AF E6 B7 E7 03\n",
       "29  4378.666.416.0              7  61 E6 CE E6 D8 E6 DE\n",
       "30  4378.864.565.0     S        2                 01 00\n",
       "31  4378.865.294.0              7  01 FD 92 00 00 00 00\n",
       "32  4378.865.913.0              7  21 93 86 00 00 00 00\n",
       "33  4379.064.959.0     S        2                 01 04\n",
       "34  4379.065.711.0              7  01 00 00 00 00 00 00\n",
       "35  4379.066.341.0              7  21 00 00 00 00 00 00\n",
       "36  4379.066.971.0              7  61 00 00 00 00 00 00\n",
       "37  4379.067.607.0              7  41 00 00 00 00 00 00\n",
       "38  4379.665.783.0     S        2                 01 05\n",
       "39  4379.666.495.0              7  01 E6 CC E6 BB E6 B4\n",
       "40  4379.667.081.0              7  21 E6 AE E6 C2 E6 B8\n",
       "41  4379.667.678.0              7  41 E6 AD E6 B8 E6 FF\n",
       "42  4379.668.270.0              7  61 E6 CF E6 D8 E6 E1\n",
       "43  4379.867.090.0     S        2                 01 00\n",
       "44  4379.867.819.0              7  01 FD 95 00 00 00 00\n",
       "45  4379.868.444.0              7  21 93 A1 00 00 00 00\n",
       "46  4380.067.258.0     S        2                 01 04\n",
       "47  4380.068.010.0              7  01 00 00 00 00 00 00\n",
       "48  4380.068.640.0              7  21 00 00 00 00 00 00\n",
       "49  4380.069.270.0              7  61 00 00 00 00 00 00\n",
       "50  4380.069.906.0              7  41 00 00 00 00 00 00\n",
       "51  4380.667.602.0     S        2                 01 05\n",
       "52  4380.668.304.0              7  01 E6 A4 E6 BC E6 B4\n",
       "53  4380.668.896.0              7  21 E6 AF E6 C2 E6 BB\n",
       "54  4380.669.493.0              7  41 E6 AD E6 B6 E6 FC"
      ],
      "text/html": "<div>\n<style scoped>\n    .dataframe tbody tr th:only-of-type {\n        vertical-align: middle;\n    }\n\n    .dataframe tbody tr th {\n        vertical-align: top;\n    }\n\n    .dataframe thead th {\n        text-align: right;\n    }\n</style>\n<table border=\"1\" class=\"dataframe\">\n  <thead>\n    <tr style=\"text-align: right;\">\n      <th></th>\n      <th>Time (abs)</th>\n      <th>State</th>\n      <th>Length</th>\n      <th>Data (hex)</th>\n    </tr>\n  </thead>\n  <tbody>\n    <tr>\n      <th>25</th>\n      <td>4378.663.928.0</td>\n      <td>S</td>\n      <td>2</td>\n      <td>01 05</td>\n    </tr>\n    <tr>\n      <th>26</th>\n      <td>4378.664.635.0</td>\n      <td></td>\n      <td>7</td>\n      <td>01 E6 AA E6 BB E6 B4</td>\n    </tr>\n    <tr>\n      <th>27</th>\n      <td>4378.665.216.0</td>\n      <td></td>\n      <td>7</td>\n      <td>21 E6 AE E6 C2 E6 B9</td>\n    </tr>\n    <tr>\n      <th>28</th>\n      <td>4378.665.824.0</td>\n      <td></td>\n      <td>7</td>\n      <td>41 E6 AF E6 B7 E7 03</td>\n    </tr>\n    <tr>\n      <th>29</th>\n      <td>4378.666.416.0</td>\n      <td></td>\n      <td>7</td>\n      <td>61 E6 CE E6 D8 E6 DE</td>\n    </tr>\n    <tr>\n      <th>30</th>\n      <td>4378.864.565.0</td>\n      <td>S</td>\n      <td>2</td>\n      <td>01 00</td>\n    </tr>\n    <tr>\n      <th>31</th>\n      <td>4378.865.294.0</td>\n      <td></td>\n      <td>7</td>\n      <td>01 FD 92 00 00 00 00</td>\n    </tr>\n    <tr>\n      <th>32</th>\n      <td>4378.865.913.0</td>\n      <td></td>\n      <td>7</td>\n      <td>21 93 86 00 00 00 00</td>\n    </tr>\n    <tr>\n      <th>33</th>\n      <td>4379.064.959.0</td>\n      <td>S</td>\n      <td>2</td>\n      <td>01 04</td>\n    </tr>\n    <tr>\n      <th>34</th>\n      <td>4379.065.711.0</td>\n      <td></td>\n      <td>7</td>\n      <td>01 00 00 00 00 00 00</td>\n    </tr>\n    <tr>\n      <th>35</th>\n      <td>4379.066.341.0</td>\n      <td></td>\n      <td>7</td>\n      <td>21 00 00 00 00 00 00</td>\n    </tr>\n    <tr>\n      <th>36</th>\n      <td>4379.066.971.0</td>\n      <td></td>\n      <td>7</td>\n      <td>61 00 00 00 00 00 00</td>\n    </tr>\n    <tr>\n      <th>37</th>\n      <td>4379.067.607.0</td>\n      <td></td>\n      <td>7</td>\n      <td>41 00 00 00 00 00 00</td>\n    </tr>\n    <tr>\n      <th>38</th>\n      <td>4379.665.783.0</td>\n      <td>S</td>\n      <td>2</td>\n      <td>01 05</td>\n    </tr>\n    <tr>\n      <th>39</th>\n      <td>4379.666.495.0</td>\n      <td></td>\n      <td>7</td>\n      <td>01 E6 CC E6 BB E6 B4</td>\n    </tr>\n    <tr>\n      <th>40</th>\n      <td>4379.667.081.0</td>\n      <td></td>\n      <td>7</td>\n      <td>21 E6 AE E6 C2 E6 B8</td>\n    </tr>\n    <tr>\n      <th>41</th>\n      <td>4379.667.678.0</td>\n      <td></td>\n      <td>7</td>\n      <td>41 E6 AD E6 B8 E6 FF</td>\n    </tr>\n    <tr>\n      <th>42</th>\n      <td>4379.668.270.0</td>\n      <td></td>\n      <td>7</td>\n      <td>61 E6 CF E6 D8 E6 E1</td>\n    </tr>\n    <tr>\n      <th>43</th>\n      <td>4379.867.090.0</td>\n      <td>S</td>\n      <td>2</td>\n      <td>01 00</td>\n    </tr>\n    <tr>\n      <th>44</th>\n      <td>4379.867.819.0</td>\n      <td></td>\n      <td>7</td>\n      <td>01 FD 95 00 00 00 00</td>\n    </tr>\n    <tr>\n      <th>45</th>\n      <td>4379.868.444.0</td>\n      <td></td>\n      <td>7</td>\n      <td>21 93 A1 00 00 00 00</td>\n    </tr>\n    <tr>\n      <th>46</th>\n      <td>4380.067.258.0</td>\n      <td>S</td>\n      <td>2</td>\n      <td>01 04</td>\n    </tr>\n    <tr>\n      <th>47</th>\n      <td>4380.068.010.0</td>\n      <td></td>\n      <td>7</td>\n      <td>01 00 00 00 00 00 00</td>\n    </tr>\n    <tr>\n      <th>48</th>\n      <td>4380.068.640.0</td>\n      <td></td>\n      <td>7</td>\n      <td>21 00 00 00 00 00 00</td>\n    </tr>\n    <tr>\n      <th>49</th>\n      <td>4380.069.270.0</td>\n      <td></td>\n      <td>7</td>\n      <td>61 00 00 00 00 00 00</td>\n    </tr>\n    <tr>\n      <th>50</th>\n      <td>4380.069.906.0</td>\n      <td></td>\n      <td>7</td>\n      <td>41 00 00 00 00 00 00</td>\n    </tr>\n    <tr>\n      <th>51</th>\n      <td>4380.667.602.0</td>\n      <td>S</td>\n      <td>2</td>\n      <td>01 05</td>\n    </tr>\n    <tr>\n      <th>52</th>\n      <td>4380.668.304.0</td>\n      <td></td>\n      <td>7</td>\n      <td>01 E6 A4 E6 BC E6 B4</td>\n    </tr>\n    <tr>\n      <th>53</th>\n      <td>4380.668.896.0</td>\n      <td></td>\n      <td>7</td>\n      <td>21 E6 AF E6 C2 E6 BB</td>\n    </tr>\n    <tr>\n      <th>54</th>\n      <td>4380.669.493.0</td>\n      <td></td>\n      <td>7</td>\n      <td>41 E6 AD E6 B6 E6 FC</td>\n    </tr>\n  </tbody>\n</table>\n</div>"
     },
     "metadata": {},
     "execution_count": 134
    }
   ],
   "source": [
    "df = pd.read_csv('./files/21-05-06_160653_calib_SN04_DACSet000_20x.csv')\n",
    "\n",
    "#remove some columns not exploitable\n",
    "df.drop(['Bus','No', 'ID (hex)', 'Message', 'ASCII'], inplace=True, axis=1)\n",
    "df[25:55]\n"
   ]
  },
  {
   "cell_type": "code",
   "execution_count": 91,
   "metadata": {},
   "outputs": [
    {
     "output_type": "execute_result",
     "data": {
      "text/plain": [
       "<pandas.core.groupby.generic.DataFrameGroupBy object at 0x11f948820>"
      ]
     },
     "metadata": {},
     "execution_count": 91
    }
   ],
   "source": []
  },
  {
   "cell_type": "code",
   "execution_count": 135,
   "metadata": {},
   "outputs": [
    {
     "output_type": "stream",
     "name": "stdout",
     "text": [
      "<class 'pandas.core.frame.DataFrame'>\nRangeIndex: 285 entries, 0 to 284\nData columns (total 4 columns):\n #   Column      Non-Null Count  Dtype \n---  ------      --------------  ----- \n 0   Time (abs)  285 non-null    object\n 1   State       285 non-null    object\n 2   Length      285 non-null    int64 \n 3   Data (hex)  285 non-null    object\ndtypes: int64(1), object(3)\nmemory usage: 9.0+ KB\n"
     ]
    }
   ],
   "source": [
    "df.info()"
   ]
  },
  {
   "cell_type": "code",
   "execution_count": 80,
   "metadata": {},
   "outputs": [
    {
     "output_type": "execute_result",
     "data": {
      "text/plain": [
       "[0,\n",
       " 3,\n",
       " 6,\n",
       " 11,\n",
       " 16,\n",
       " 19,\n",
       " 21,\n",
       " 23,\n",
       " 25,\n",
       " 30,\n",
       " 33,\n",
       " 38,\n",
       " 43,\n",
       " 46,\n",
       " 51,\n",
       " 56,\n",
       " 59,\n",
       " 64,\n",
       " 69,\n",
       " 72,\n",
       " 77,\n",
       " 82,\n",
       " 85,\n",
       " 90,\n",
       " 95,\n",
       " 98,\n",
       " 103,\n",
       " 108,\n",
       " 111,\n",
       " 116,\n",
       " 121,\n",
       " 124,\n",
       " 129,\n",
       " 134,\n",
       " 137,\n",
       " 142,\n",
       " 147,\n",
       " 150,\n",
       " 155,\n",
       " 160,\n",
       " 163,\n",
       " 168,\n",
       " 173,\n",
       " 176,\n",
       " 181,\n",
       " 186,\n",
       " 189,\n",
       " 194,\n",
       " 199,\n",
       " 202,\n",
       " 207,\n",
       " 212,\n",
       " 215,\n",
       " 220,\n",
       " 225,\n",
       " 228,\n",
       " 233,\n",
       " 238,\n",
       " 241,\n",
       " 246,\n",
       " 251,\n",
       " 254,\n",
       " 259,\n",
       " 264,\n",
       " 267,\n",
       " 272,\n",
       " 277,\n",
       " 280]"
      ]
     },
     "metadata": {},
     "execution_count": 80
    }
   ],
   "source": [
    "df['tmp'] = df['State'].apply(lambda x: 'S' in x )\n",
    "mssgidx = df[df['tmp'] == True].index.tolist()\n",
    "df.drop(['tmp'], inplace=True, axis=1)\n",
    "mssgidx"
   ]
  },
  {
   "cell_type": "code",
   "execution_count": 81,
   "metadata": {},
   "outputs": [
    {
     "output_type": "execute_result",
     "data": {
      "text/plain": [
       "         Time (abs)  State  Length            Data (hex)\n",
       "0    4346.454.319.0     S        2                 01 01\n",
       "1    4346.455.060.0              7  01 00 00 00 00 00 00\n",
       "2    4346.455.690.0              7  21 00 00 00 00 00 00\n",
       "3    4347.246.327.0     S        2                 01 02\n",
       "4    4347.247.073.0              7  01 80 00 80 00 80 00\n",
       "..              ...    ...     ...                   ...\n",
       "280  4398.097.417.0     S        2                 01 04\n",
       "281  4398.098.169.0              7  01 00 00 00 00 00 00\n",
       "282  4398.098.799.0              7  21 00 00 00 00 00 00\n",
       "283  4398.099.429.0              7  61 00 00 00 00 00 00\n",
       "284  4398.100.065.0              7  41 00 00 00 00 00 00\n",
       "\n",
       "[285 rows x 4 columns]"
      ],
      "text/html": "<div>\n<style scoped>\n    .dataframe tbody tr th:only-of-type {\n        vertical-align: middle;\n    }\n\n    .dataframe tbody tr th {\n        vertical-align: top;\n    }\n\n    .dataframe thead th {\n        text-align: right;\n    }\n</style>\n<table border=\"1\" class=\"dataframe\">\n  <thead>\n    <tr style=\"text-align: right;\">\n      <th></th>\n      <th>Time (abs)</th>\n      <th>State</th>\n      <th>Length</th>\n      <th>Data (hex)</th>\n    </tr>\n  </thead>\n  <tbody>\n    <tr>\n      <th>0</th>\n      <td>4346.454.319.0</td>\n      <td>S</td>\n      <td>2</td>\n      <td>01 01</td>\n    </tr>\n    <tr>\n      <th>1</th>\n      <td>4346.455.060.0</td>\n      <td></td>\n      <td>7</td>\n      <td>01 00 00 00 00 00 00</td>\n    </tr>\n    <tr>\n      <th>2</th>\n      <td>4346.455.690.0</td>\n      <td></td>\n      <td>7</td>\n      <td>21 00 00 00 00 00 00</td>\n    </tr>\n    <tr>\n      <th>3</th>\n      <td>4347.246.327.0</td>\n      <td>S</td>\n      <td>2</td>\n      <td>01 02</td>\n    </tr>\n    <tr>\n      <th>4</th>\n      <td>4347.247.073.0</td>\n      <td></td>\n      <td>7</td>\n      <td>01 80 00 80 00 80 00</td>\n    </tr>\n    <tr>\n      <th>...</th>\n      <td>...</td>\n      <td>...</td>\n      <td>...</td>\n      <td>...</td>\n    </tr>\n    <tr>\n      <th>280</th>\n      <td>4398.097.417.0</td>\n      <td>S</td>\n      <td>2</td>\n      <td>01 04</td>\n    </tr>\n    <tr>\n      <th>281</th>\n      <td>4398.098.169.0</td>\n      <td></td>\n      <td>7</td>\n      <td>01 00 00 00 00 00 00</td>\n    </tr>\n    <tr>\n      <th>282</th>\n      <td>4398.098.799.0</td>\n      <td></td>\n      <td>7</td>\n      <td>21 00 00 00 00 00 00</td>\n    </tr>\n    <tr>\n      <th>283</th>\n      <td>4398.099.429.0</td>\n      <td></td>\n      <td>7</td>\n      <td>61 00 00 00 00 00 00</td>\n    </tr>\n    <tr>\n      <th>284</th>\n      <td>4398.100.065.0</td>\n      <td></td>\n      <td>7</td>\n      <td>41 00 00 00 00 00 00</td>\n    </tr>\n  </tbody>\n</table>\n<p>285 rows × 4 columns</p>\n</div>"
     },
     "metadata": {},
     "execution_count": 81
    }
   ],
   "source": [
    "df"
   ]
  },
  {
   "cell_type": "code",
   "execution_count": 140,
   "metadata": {},
   "outputs": [],
   "source": [
    "df.to_csv('calib_v6_SN04_fromscript_DACset000.txt', sep=',', index=False, header=False, quotechar = ' ')\n"
   ]
  },
  {
   "cell_type": "code",
   "execution_count": 195,
   "metadata": {
    "tags": []
   },
   "outputs": [
    {
     "output_type": "stream",
     "name": "stdout",
     "text": [
      "4346.454.319.0,       S   ,2, 01  01 \n\nS\n['4346.454.319.0', 'S', '2', ' 01  01 \\n']\nthis is a request: S\nthis is the message:- 0101 -\n0101\nfound request:  0101\nthe answer length is:  2\n0102\n0106\n0105\n0109\n0100\n0104\n"
     ]
    }
   ],
   "source": [
    "\n",
    "\n",
    "file1 = open('calib_v6_SN04_fromscript_DACset000.txt', 'r')\n",
    "#file1 = open('./files/21-05-06_160653_calib_SN04_DACSet000_20x.csv', 'r')\n",
    "Lines = file1.readlines()\n",
    "print(Lines[0])\n",
    "singles = Lines[0].split(',') \n",
    "singles[1] = singles[1].strip()\n",
    "print(singles[1])    \n",
    "print(singles)    \n",
    "\n",
    "mydic = {'timestamp':singles[0], 'state': singles[1], 'mssg_length':singles[2], 'mssg':singles[3] }\n",
    "d_request = {'0101' : 2, '0102': 2, '0106': 4, '0105': 4, '0109': 2, '0100': 2, '0104': 4 }\n",
    "\n",
    "\n",
    "\n",
    "list(mydic)\n",
    "if (mydic.get('state')== 'S'):\n",
    "    message = mydic.get('mssg').strip()\n",
    "    message = message.replace(' ', '')\n",
    "    print('this is a request:', mydic.get('state'))\n",
    "    print('this is the message:-', message, '-')\n",
    "\n",
    "    for value in d_request.keys():\n",
    "        #print(value)\n",
    "        if (message== value):\n",
    "\n",
    "            print('found request: ', value)\n",
    "            print('the answer length is: ', d_request.get(value))\n",
    " \n",
    "\n",
    "#for line in Lines:\n",
    "    #BiasSet = line.find('S')\n",
    "    #print(BiasSet)"
   ]
  },
  {
   "cell_type": "code",
   "execution_count": null,
   "metadata": {},
   "outputs": [],
   "source": []
  }
 ]
}
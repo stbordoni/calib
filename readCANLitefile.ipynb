{
 "metadata": {
  "language_info": {
   "codemirror_mode": {
    "name": "ipython",
    "version": 3
   },
   "file_extension": ".py",
   "mimetype": "text/x-python",
   "name": "python",
   "nbconvert_exporter": "python",
   "pygments_lexer": "ipython3",
   "version": "3.9.2"
  },
  "orig_nbformat": 2,
  "kernelspec": {
   "name": "python392jvsc74a57bd02b6c4d4d5861da4de20ae5397ab36a2c4fea6beca7bca7fb8955c39e63f73bb7",
   "display_name": "Python 3.9.2 64-bit ('.venv': venv)"
  }
 },
 "nbformat": 4,
 "nbformat_minor": 2,
 "cells": [
  {
   "cell_type": "code",
   "execution_count": 1,
   "metadata": {},
   "outputs": [],
   "source": [
    "import pandas as pd\n",
    "import numpy as np\n",
    "import matplotlib\n"
   ]
  },
  {
   "cell_type": "code",
   "execution_count": 17,
   "metadata": {},
   "outputs": [
    {
     "output_type": "execute_result",
     "data": {
      "text/plain": [
       "        Time (abs)  State  Length            Data (hex)\n",
       "0   4346.454.319.0     S        2                 01 01\n",
       "1   4346.455.060.0              7  01 00 00 00 00 00 00\n",
       "2   4346.455.690.0              7  21 00 00 00 00 00 00\n",
       "3   4347.246.327.0     S        2                 01 02\n",
       "4   4347.247.073.0              7  01 80 00 80 00 80 00\n",
       "5   4347.247.708.0              7  21 80 00 00 00 00 00\n",
       "6   4349.246.321.0     S        2                 01 06\n",
       "7   4349.247.072.0              7  01 00 00 00 00 00 00\n",
       "8   4349.247.702.0              7  21 00 00 00 00 00 00\n",
       "9   4349.248.333.0              7  61 00 00 00 00 00 00\n",
       "10  4349.248.968.0              7  41 00 00 00 00 00 00\n",
       "11  4350.126.274.0     S        2                 01 07\n",
       "12  4350.127.031.0              7  01 80 00 80 00 80 00\n",
       "13  4350.127.661.0              7  21 80 00 80 00 80 00\n",
       "14  4350.128.292.0              7  61 80 00 80 00 80 00\n",
       "15  4350.128.928.0              7  41 80 00 80 00 80 00\n",
       "16  4352.358.266.0     S        2                 01 09\n",
       "17  4352.358.995.0              7  01 00 00 A5 F6 00 00\n",
       "18  4352.359.614.0              7  21 00 00 08 00 E6 CB\n",
       "19  4360.998.124.0     S        3              06 00 01\n",
       "20  4360.998.571.0              2                 06 00\n",
       "21  4364.942.611.0     S        6     02 02 0F FF 08 00\n",
       "22  4364.943.152.0              2                 02 00\n",
       "23  4368.174.073.0     S        4           07 00 0F FF\n",
       "24  4368.174.492.0              1                    07\n",
       "25  4378.663.928.0     S        2                 01 05\n",
       "26  4378.664.635.0              7  01 E6 AA E6 BB E6 B4\n",
       "27  4378.665.216.0              7  21 E6 AE E6 C2 E6 B9\n",
       "28  4378.665.824.0              7  41 E6 AF E6 B7 E7 03\n",
       "29  4378.666.416.0              7  61 E6 CE E6 D8 E6 DE\n",
       "30  4378.864.565.0     S        2                 01 00\n",
       "31  4378.865.294.0              7  01 FD 92 00 00 00 00\n",
       "32  4378.865.913.0              7  21 93 86 00 00 00 00\n",
       "33  4379.064.959.0     S        2                 01 04\n",
       "34  4379.065.711.0              7  01 00 00 00 00 00 00\n",
       "35  4379.066.341.0              7  21 00 00 00 00 00 00\n",
       "36  4379.066.971.0              7  61 00 00 00 00 00 00\n",
       "37  4379.067.607.0              7  41 00 00 00 00 00 00\n",
       "38  4379.665.783.0     S        2                 01 05\n",
       "39  4379.666.495.0              7  01 E6 CC E6 BB E6 B4\n",
       "40  4379.667.081.0              7  21 E6 AE E6 C2 E6 B8\n",
       "41  4379.667.678.0              7  41 E6 AD E6 B8 E6 FF\n",
       "42  4379.668.270.0              7  61 E6 CF E6 D8 E6 E1\n",
       "43  4379.867.090.0     S        2                 01 00\n",
       "44  4379.867.819.0              7  01 FD 95 00 00 00 00\n",
       "45  4379.868.444.0              7  21 93 A1 00 00 00 00\n",
       "46  4380.067.258.0     S        2                 01 04\n",
       "47  4380.068.010.0              7  01 00 00 00 00 00 00\n",
       "48  4380.068.640.0              7  21 00 00 00 00 00 00\n",
       "49  4380.069.270.0              7  61 00 00 00 00 00 00"
      ],
      "text/html": "<div>\n<style scoped>\n    .dataframe tbody tr th:only-of-type {\n        vertical-align: middle;\n    }\n\n    .dataframe tbody tr th {\n        vertical-align: top;\n    }\n\n    .dataframe thead th {\n        text-align: right;\n    }\n</style>\n<table border=\"1\" class=\"dataframe\">\n  <thead>\n    <tr style=\"text-align: right;\">\n      <th></th>\n      <th>Time (abs)</th>\n      <th>State</th>\n      <th>Length</th>\n      <th>Data (hex)</th>\n    </tr>\n  </thead>\n  <tbody>\n    <tr>\n      <th>0</th>\n      <td>4346.454.319.0</td>\n      <td>S</td>\n      <td>2</td>\n      <td>01 01</td>\n    </tr>\n    <tr>\n      <th>1</th>\n      <td>4346.455.060.0</td>\n      <td></td>\n      <td>7</td>\n      <td>01 00 00 00 00 00 00</td>\n    </tr>\n    <tr>\n      <th>2</th>\n      <td>4346.455.690.0</td>\n      <td></td>\n      <td>7</td>\n      <td>21 00 00 00 00 00 00</td>\n    </tr>\n    <tr>\n      <th>3</th>\n      <td>4347.246.327.0</td>\n      <td>S</td>\n      <td>2</td>\n      <td>01 02</td>\n    </tr>\n    <tr>\n      <th>4</th>\n      <td>4347.247.073.0</td>\n      <td></td>\n      <td>7</td>\n      <td>01 80 00 80 00 80 00</td>\n    </tr>\n    <tr>\n      <th>5</th>\n      <td>4347.247.708.0</td>\n      <td></td>\n      <td>7</td>\n      <td>21 80 00 00 00 00 00</td>\n    </tr>\n    <tr>\n      <th>6</th>\n      <td>4349.246.321.0</td>\n      <td>S</td>\n      <td>2</td>\n      <td>01 06</td>\n    </tr>\n    <tr>\n      <th>7</th>\n      <td>4349.247.072.0</td>\n      <td></td>\n      <td>7</td>\n      <td>01 00 00 00 00 00 00</td>\n    </tr>\n    <tr>\n      <th>8</th>\n      <td>4349.247.702.0</td>\n      <td></td>\n      <td>7</td>\n      <td>21 00 00 00 00 00 00</td>\n    </tr>\n    <tr>\n      <th>9</th>\n      <td>4349.248.333.0</td>\n      <td></td>\n      <td>7</td>\n      <td>61 00 00 00 00 00 00</td>\n    </tr>\n    <tr>\n      <th>10</th>\n      <td>4349.248.968.0</td>\n      <td></td>\n      <td>7</td>\n      <td>41 00 00 00 00 00 00</td>\n    </tr>\n    <tr>\n      <th>11</th>\n      <td>4350.126.274.0</td>\n      <td>S</td>\n      <td>2</td>\n      <td>01 07</td>\n    </tr>\n    <tr>\n      <th>12</th>\n      <td>4350.127.031.0</td>\n      <td></td>\n      <td>7</td>\n      <td>01 80 00 80 00 80 00</td>\n    </tr>\n    <tr>\n      <th>13</th>\n      <td>4350.127.661.0</td>\n      <td></td>\n      <td>7</td>\n      <td>21 80 00 80 00 80 00</td>\n    </tr>\n    <tr>\n      <th>14</th>\n      <td>4350.128.292.0</td>\n      <td></td>\n      <td>7</td>\n      <td>61 80 00 80 00 80 00</td>\n    </tr>\n    <tr>\n      <th>15</th>\n      <td>4350.128.928.0</td>\n      <td></td>\n      <td>7</td>\n      <td>41 80 00 80 00 80 00</td>\n    </tr>\n    <tr>\n      <th>16</th>\n      <td>4352.358.266.0</td>\n      <td>S</td>\n      <td>2</td>\n      <td>01 09</td>\n    </tr>\n    <tr>\n      <th>17</th>\n      <td>4352.358.995.0</td>\n      <td></td>\n      <td>7</td>\n      <td>01 00 00 A5 F6 00 00</td>\n    </tr>\n    <tr>\n      <th>18</th>\n      <td>4352.359.614.0</td>\n      <td></td>\n      <td>7</td>\n      <td>21 00 00 08 00 E6 CB</td>\n    </tr>\n    <tr>\n      <th>19</th>\n      <td>4360.998.124.0</td>\n      <td>S</td>\n      <td>3</td>\n      <td>06 00 01</td>\n    </tr>\n    <tr>\n      <th>20</th>\n      <td>4360.998.571.0</td>\n      <td></td>\n      <td>2</td>\n      <td>06 00</td>\n    </tr>\n    <tr>\n      <th>21</th>\n      <td>4364.942.611.0</td>\n      <td>S</td>\n      <td>6</td>\n      <td>02 02 0F FF 08 00</td>\n    </tr>\n    <tr>\n      <th>22</th>\n      <td>4364.943.152.0</td>\n      <td></td>\n      <td>2</td>\n      <td>02 00</td>\n    </tr>\n    <tr>\n      <th>23</th>\n      <td>4368.174.073.0</td>\n      <td>S</td>\n      <td>4</td>\n      <td>07 00 0F FF</td>\n    </tr>\n    <tr>\n      <th>24</th>\n      <td>4368.174.492.0</td>\n      <td></td>\n      <td>1</td>\n      <td>07</td>\n    </tr>\n    <tr>\n      <th>25</th>\n      <td>4378.663.928.0</td>\n      <td>S</td>\n      <td>2</td>\n      <td>01 05</td>\n    </tr>\n    <tr>\n      <th>26</th>\n      <td>4378.664.635.0</td>\n      <td></td>\n      <td>7</td>\n      <td>01 E6 AA E6 BB E6 B4</td>\n    </tr>\n    <tr>\n      <th>27</th>\n      <td>4378.665.216.0</td>\n      <td></td>\n      <td>7</td>\n      <td>21 E6 AE E6 C2 E6 B9</td>\n    </tr>\n    <tr>\n      <th>28</th>\n      <td>4378.665.824.0</td>\n      <td></td>\n      <td>7</td>\n      <td>41 E6 AF E6 B7 E7 03</td>\n    </tr>\n    <tr>\n      <th>29</th>\n      <td>4378.666.416.0</td>\n      <td></td>\n      <td>7</td>\n      <td>61 E6 CE E6 D8 E6 DE</td>\n    </tr>\n    <tr>\n      <th>30</th>\n      <td>4378.864.565.0</td>\n      <td>S</td>\n      <td>2</td>\n      <td>01 00</td>\n    </tr>\n    <tr>\n      <th>31</th>\n      <td>4378.865.294.0</td>\n      <td></td>\n      <td>7</td>\n      <td>01 FD 92 00 00 00 00</td>\n    </tr>\n    <tr>\n      <th>32</th>\n      <td>4378.865.913.0</td>\n      <td></td>\n      <td>7</td>\n      <td>21 93 86 00 00 00 00</td>\n    </tr>\n    <tr>\n      <th>33</th>\n      <td>4379.064.959.0</td>\n      <td>S</td>\n      <td>2</td>\n      <td>01 04</td>\n    </tr>\n    <tr>\n      <th>34</th>\n      <td>4379.065.711.0</td>\n      <td></td>\n      <td>7</td>\n      <td>01 00 00 00 00 00 00</td>\n    </tr>\n    <tr>\n      <th>35</th>\n      <td>4379.066.341.0</td>\n      <td></td>\n      <td>7</td>\n      <td>21 00 00 00 00 00 00</td>\n    </tr>\n    <tr>\n      <th>36</th>\n      <td>4379.066.971.0</td>\n      <td></td>\n      <td>7</td>\n      <td>61 00 00 00 00 00 00</td>\n    </tr>\n    <tr>\n      <th>37</th>\n      <td>4379.067.607.0</td>\n      <td></td>\n      <td>7</td>\n      <td>41 00 00 00 00 00 00</td>\n    </tr>\n    <tr>\n      <th>38</th>\n      <td>4379.665.783.0</td>\n      <td>S</td>\n      <td>2</td>\n      <td>01 05</td>\n    </tr>\n    <tr>\n      <th>39</th>\n      <td>4379.666.495.0</td>\n      <td></td>\n      <td>7</td>\n      <td>01 E6 CC E6 BB E6 B4</td>\n    </tr>\n    <tr>\n      <th>40</th>\n      <td>4379.667.081.0</td>\n      <td></td>\n      <td>7</td>\n      <td>21 E6 AE E6 C2 E6 B8</td>\n    </tr>\n    <tr>\n      <th>41</th>\n      <td>4379.667.678.0</td>\n      <td></td>\n      <td>7</td>\n      <td>41 E6 AD E6 B8 E6 FF</td>\n    </tr>\n    <tr>\n      <th>42</th>\n      <td>4379.668.270.0</td>\n      <td></td>\n      <td>7</td>\n      <td>61 E6 CF E6 D8 E6 E1</td>\n    </tr>\n    <tr>\n      <th>43</th>\n      <td>4379.867.090.0</td>\n      <td>S</td>\n      <td>2</td>\n      <td>01 00</td>\n    </tr>\n    <tr>\n      <th>44</th>\n      <td>4379.867.819.0</td>\n      <td></td>\n      <td>7</td>\n      <td>01 FD 95 00 00 00 00</td>\n    </tr>\n    <tr>\n      <th>45</th>\n      <td>4379.868.444.0</td>\n      <td></td>\n      <td>7</td>\n      <td>21 93 A1 00 00 00 00</td>\n    </tr>\n    <tr>\n      <th>46</th>\n      <td>4380.067.258.0</td>\n      <td>S</td>\n      <td>2</td>\n      <td>01 04</td>\n    </tr>\n    <tr>\n      <th>47</th>\n      <td>4380.068.010.0</td>\n      <td></td>\n      <td>7</td>\n      <td>01 00 00 00 00 00 00</td>\n    </tr>\n    <tr>\n      <th>48</th>\n      <td>4380.068.640.0</td>\n      <td></td>\n      <td>7</td>\n      <td>21 00 00 00 00 00 00</td>\n    </tr>\n    <tr>\n      <th>49</th>\n      <td>4380.069.270.0</td>\n      <td></td>\n      <td>7</td>\n      <td>61 00 00 00 00 00 00</td>\n    </tr>\n  </tbody>\n</table>\n</div>"
     },
     "metadata": {},
     "execution_count": 17
    }
   ],
   "source": [
    "df = pd.read_csv('./files/21-05-06_160653_calib_SN04_DACSet000_20x.csv')\n",
    "\n",
    "#remove some columns not exploitable\n",
    "df.drop(['Bus','No', 'ID (hex)', 'Message', 'ASCII'], inplace=True, axis=1)\n",
    "df[0:50]\n"
   ]
  },
  {
   "cell_type": "code",
   "execution_count": 3,
   "metadata": {},
   "outputs": [
    {
     "output_type": "stream",
     "name": "stdout",
     "text": [
      "<class 'pandas.core.frame.DataFrame'>\nRangeIndex: 285 entries, 0 to 284\nData columns (total 4 columns):\n #   Column      Non-Null Count  Dtype \n---  ------      --------------  ----- \n 0   Time (abs)  285 non-null    object\n 1   State       285 non-null    object\n 2   Length      285 non-null    int64 \n 3   Data (hex)  285 non-null    object\ndtypes: int64(1), object(3)\nmemory usage: 9.0+ KB\n"
     ]
    }
   ],
   "source": [
    "df.info()"
   ]
  },
  {
   "cell_type": "code",
   "execution_count": 4,
   "metadata": {},
   "outputs": [
    {
     "output_type": "execute_result",
     "data": {
      "text/plain": [
       "         Time (abs)  State  Length            Data (hex)\n",
       "0    4346.454.319.0     S        2                 01 01\n",
       "1    4346.455.060.0              7  01 00 00 00 00 00 00\n",
       "2    4346.455.690.0              7  21 00 00 00 00 00 00\n",
       "3    4347.246.327.0     S        2                 01 02\n",
       "4    4347.247.073.0              7  01 80 00 80 00 80 00\n",
       "..              ...    ...     ...                   ...\n",
       "280  4398.097.417.0     S        2                 01 04\n",
       "281  4398.098.169.0              7  01 00 00 00 00 00 00\n",
       "282  4398.098.799.0              7  21 00 00 00 00 00 00\n",
       "283  4398.099.429.0              7  61 00 00 00 00 00 00\n",
       "284  4398.100.065.0              7  41 00 00 00 00 00 00\n",
       "\n",
       "[285 rows x 4 columns]"
      ],
      "text/html": "<div>\n<style scoped>\n    .dataframe tbody tr th:only-of-type {\n        vertical-align: middle;\n    }\n\n    .dataframe tbody tr th {\n        vertical-align: top;\n    }\n\n    .dataframe thead th {\n        text-align: right;\n    }\n</style>\n<table border=\"1\" class=\"dataframe\">\n  <thead>\n    <tr style=\"text-align: right;\">\n      <th></th>\n      <th>Time (abs)</th>\n      <th>State</th>\n      <th>Length</th>\n      <th>Data (hex)</th>\n    </tr>\n  </thead>\n  <tbody>\n    <tr>\n      <th>0</th>\n      <td>4346.454.319.0</td>\n      <td>S</td>\n      <td>2</td>\n      <td>01 01</td>\n    </tr>\n    <tr>\n      <th>1</th>\n      <td>4346.455.060.0</td>\n      <td></td>\n      <td>7</td>\n      <td>01 00 00 00 00 00 00</td>\n    </tr>\n    <tr>\n      <th>2</th>\n      <td>4346.455.690.0</td>\n      <td></td>\n      <td>7</td>\n      <td>21 00 00 00 00 00 00</td>\n    </tr>\n    <tr>\n      <th>3</th>\n      <td>4347.246.327.0</td>\n      <td>S</td>\n      <td>2</td>\n      <td>01 02</td>\n    </tr>\n    <tr>\n      <th>4</th>\n      <td>4347.247.073.0</td>\n      <td></td>\n      <td>7</td>\n      <td>01 80 00 80 00 80 00</td>\n    </tr>\n    <tr>\n      <th>...</th>\n      <td>...</td>\n      <td>...</td>\n      <td>...</td>\n      <td>...</td>\n    </tr>\n    <tr>\n      <th>280</th>\n      <td>4398.097.417.0</td>\n      <td>S</td>\n      <td>2</td>\n      <td>01 04</td>\n    </tr>\n    <tr>\n      <th>281</th>\n      <td>4398.098.169.0</td>\n      <td></td>\n      <td>7</td>\n      <td>01 00 00 00 00 00 00</td>\n    </tr>\n    <tr>\n      <th>282</th>\n      <td>4398.098.799.0</td>\n      <td></td>\n      <td>7</td>\n      <td>21 00 00 00 00 00 00</td>\n    </tr>\n    <tr>\n      <th>283</th>\n      <td>4398.099.429.0</td>\n      <td></td>\n      <td>7</td>\n      <td>61 00 00 00 00 00 00</td>\n    </tr>\n    <tr>\n      <th>284</th>\n      <td>4398.100.065.0</td>\n      <td></td>\n      <td>7</td>\n      <td>41 00 00 00 00 00 00</td>\n    </tr>\n  </tbody>\n</table>\n<p>285 rows × 4 columns</p>\n</div>"
     },
     "metadata": {},
     "execution_count": 4
    }
   ],
   "source": [
    "df"
   ]
  },
  {
   "cell_type": "code",
   "execution_count": 5,
   "metadata": {},
   "outputs": [],
   "source": [
    "#save dataframe in a file to be read by the script\n",
    "df.to_csv('calib_v6_SN04_fromscript_DACset000.txt', sep=',', index=False, header=False, quotechar = ' ')\n"
   ]
  },
  {
   "cell_type": "code",
   "execution_count": 24,
   "metadata": {
    "tags": []
   },
   "outputs": [],
   "source": [
    "#file1 = open('calib_v6_SN04_fromscript_DACset000.txt', 'r')\n",
    "#file1 = open('./files/21-05-06_160653_calib_SN04_DACSet000_20x.csv', 'r')\n",
    "\n",
    "# define a function which reads the file and return a list of dictionaries contaning all requests and answers organised \n",
    "# the final format of each list item is a dictionary with the following structure:\n",
    "# {'timestamp': '4346.454.319.0',\n",
    "#  'state': 'S',\n",
    "#  'mssg_length': '2',\n",
    "#  'mssg': '0101',\n",
    "#  'answer': ['01  00  00  00  00  00  00', '21  00  00  00  00  00  00']},\n",
    "\n",
    "def readfile(filein):\n",
    "    Lines = filein.readlines()\n",
    "\n",
    "    #definition of the dictionary with the possible requests which can be found and the expected length of the answers\n",
    "    d_request = {'0101' : 2, '0102': 2, '0106': 4, '0105': 4, '0109': 2, '0100': 2, '0104': 4 }\n",
    "\n",
    "    #define a global list of dictionary: this will be the object returned by the function\n",
    "    my_d_list = []\n",
    "\n",
    "    # loop over lines. The iterator i is needed to be able to extract the lines containing the answers\n",
    "    for i in range(0, len(Lines)):\n",
    "        line = Lines[i]\n",
    "        \n",
    "        #split line and get each element separately. Using ',' as separator\n",
    "        singles = line.split(',') \n",
    "\n",
    "        #remove some whitespace from the State element to be more handy\n",
    "        singles[1] = singles[1].strip()\n",
    "\n",
    "        #build a tmp dictionary which will be then saved in the global list of dictionary d_list\n",
    "        tmp_dic = {'timestamp':singles[0], 'state': singles[1], 'mssg_length':singles[2], 'mssg':singles[3] } \n",
    "        \n",
    "\n",
    "\n",
    "        list(tmp_dic)\n",
    "        if (tmp_dic.get('state')== 'S'):\n",
    "            \n",
    "            #remove some whitespace from the request element to be more handy\n",
    "            message = tmp_dic.get('mssg').strip()\n",
    "            message = message.replace(' ', '')\n",
    "\n",
    "            #replace mssg in the dictionary\n",
    "            tmp_dic.update(mssg=message)\n",
    "\n",
    "            #print('this is a request:', tmp_dic.get('state'))\n",
    "            #print('this is the message:', message)\n",
    "\n",
    "            for value in d_request.keys():\n",
    "                #print(value)\n",
    "                if (message== value):\n",
    "                    #get the answer length to know how many lines we have to read\n",
    "                    answer_length = d_request.get(value)\n",
    "            \n",
    "                    #prepare a list to record the answer\n",
    "                    aws =[] \n",
    "\n",
    "                    #loop over the line of the answer: \n",
    "                    for a_i in range(1, answer_length+1):\n",
    "                        awsline = Lines[i+a_i].split(',') \n",
    "                        aws.append(awsline[3].strip())    \n",
    "                        \n",
    "                    #print('printing the answer: ', aws)\n",
    "                    tmp_dic['answer'] = aws\n",
    "                    my_d_list.append(tmp_dic)\n",
    "                    #print('print dictionary list', d_list)\n",
    "                    \n",
    "                    \n",
    "    return my_d_list\n",
    "\n"
   ]
  },
  {
   "cell_type": "code",
   "execution_count": 27,
   "metadata": {},
   "outputs": [
    {
     "output_type": "stream",
     "name": "stdout",
     "text": [
      "{'timestamp': '4349.246.321.0', 'state': 'S', 'mssg_length': '2', 'mssg': '0106', 'answer': ['01  00  00  00  00  00  00', '21  00  00  00  00  00  00', '61  00  00  00  00  00  00', '41  00  00  00  00  00  00']}\n"
     ]
    }
   ],
   "source": [
    "#open file to read\n",
    "file1 = open('calib_v6_SN04_fromscript_DACset000.txt', 'r')\n",
    "\n",
    "#call function which read the file and return the content ordered in a list of dictionaries\n",
    "d_list = readfile(file1)\n",
    "print(d_list[2])"
   ]
  },
  {
   "cell_type": "code",
   "execution_count": 28,
   "metadata": {},
   "outputs": [
    {
     "output_type": "execute_result",
     "data": {
      "text/plain": [
       "[{'timestamp': '4346.454.319.0',\n",
       "  'state': 'S',\n",
       "  'mssg_length': '2',\n",
       "  'mssg': '0101',\n",
       "  'answer': ['01  00  00  00  00  00  00', '21  00  00  00  00  00  00']},\n",
       " {'timestamp': '4347.246.327.0',\n",
       "  'state': 'S',\n",
       "  'mssg_length': '2',\n",
       "  'mssg': '0102',\n",
       "  'answer': ['01  80  00  80  00  80  00', '21  80  00  00  00  00  00']},\n",
       " {'timestamp': '4349.246.321.0',\n",
       "  'state': 'S',\n",
       "  'mssg_length': '2',\n",
       "  'mssg': '0106',\n",
       "  'answer': ['01  00  00  00  00  00  00',\n",
       "   '21  00  00  00  00  00  00',\n",
       "   '61  00  00  00  00  00  00',\n",
       "   '41  00  00  00  00  00  00']},\n",
       " {'timestamp': '4352.358.266.0',\n",
       "  'state': 'S',\n",
       "  'mssg_length': '2',\n",
       "  'mssg': '0109',\n",
       "  'answer': ['01  00  00  A5  F6  00  00', '21  00  00  08  00  E6  CB']},\n",
       " {'timestamp': '4378.663.928.0',\n",
       "  'state': 'S',\n",
       "  'mssg_length': '2',\n",
       "  'mssg': '0105',\n",
       "  'answer': ['01  E6  AA  E6  BB  E6  B4',\n",
       "   '21  E6  AE  E6  C2  E6  B9',\n",
       "   '41  E6  AF  E6  B7  E7  03',\n",
       "   '61  E6  CE  E6  D8  E6  DE']},\n",
       " {'timestamp': '4378.864.565.0',\n",
       "  'state': 'S',\n",
       "  'mssg_length': '2',\n",
       "  'mssg': '0100',\n",
       "  'answer': ['01  FD  92  00  00  00  00', '21  93  86  00  00  00  00']},\n",
       " {'timestamp': '4379.064.959.0',\n",
       "  'state': 'S',\n",
       "  'mssg_length': '2',\n",
       "  'mssg': '0104',\n",
       "  'answer': ['01  00  00  00  00  00  00',\n",
       "   '21  00  00  00  00  00  00',\n",
       "   '61  00  00  00  00  00  00',\n",
       "   '41  00  00  00  00  00  00']},\n",
       " {'timestamp': '4379.665.783.0',\n",
       "  'state': 'S',\n",
       "  'mssg_length': '2',\n",
       "  'mssg': '0105',\n",
       "  'answer': ['01  E6  CC  E6  BB  E6  B4',\n",
       "   '21  E6  AE  E6  C2  E6  B8',\n",
       "   '41  E6  AD  E6  B8  E6  FF',\n",
       "   '61  E6  CF  E6  D8  E6  E1']},\n",
       " {'timestamp': '4379.867.090.0',\n",
       "  'state': 'S',\n",
       "  'mssg_length': '2',\n",
       "  'mssg': '0100',\n",
       "  'answer': ['01  FD  95  00  00  00  00', '21  93  A1  00  00  00  00']},\n",
       " {'timestamp': '4380.067.258.0',\n",
       "  'state': 'S',\n",
       "  'mssg_length': '2',\n",
       "  'mssg': '0104',\n",
       "  'answer': ['01  00  00  00  00  00  00',\n",
       "   '21  00  00  00  00  00  00',\n",
       "   '61  00  00  00  00  00  00',\n",
       "   '41  00  00  00  00  00  00']},\n",
       " {'timestamp': '4380.667.602.0',\n",
       "  'state': 'S',\n",
       "  'mssg_length': '2',\n",
       "  'mssg': '0105',\n",
       "  'answer': ['01  E6  A4  E6  BC  E6  B4',\n",
       "   '21  E6  AF  E6  C2  E6  BB',\n",
       "   '41  E6  AD  E6  B6  E6  FC',\n",
       "   '61  E6  CE  E6  DA  E6  E2']},\n",
       " {'timestamp': '4380.868.596.0',\n",
       "  'state': 'S',\n",
       "  'mssg_length': '2',\n",
       "  'mssg': '0100',\n",
       "  'answer': ['01  FD  93  00  00  00  00', '21  93  89  00  00  00  00']},\n",
       " {'timestamp': '4381.069.096.0',\n",
       "  'state': 'S',\n",
       "  'mssg_length': '2',\n",
       "  'mssg': '0104',\n",
       "  'answer': ['01  00  00  00  00  00  00',\n",
       "   '21  00  00  00  00  00  00',\n",
       "   '61  00  00  00  00  00  00',\n",
       "   '41  00  00  00  00  00  00']},\n",
       " {'timestamp': '4381.669.379.0',\n",
       "  'state': 'S',\n",
       "  'mssg_length': '2',\n",
       "  'mssg': '0105',\n",
       "  'answer': ['01  E6  83  E6  BB  E6  B3',\n",
       "   '21  E6  AD  E6  C1  E6  B7',\n",
       "   '41  E6  AE  E6  B7  E6  FF',\n",
       "   '61  E6  D0  E6  D8  E6  E0']},\n",
       " {'timestamp': '4381.869.416.0',\n",
       "  'state': 'S',\n",
       "  'mssg_length': '2',\n",
       "  'mssg': '0100',\n",
       "  'answer': ['01  FD  95  00  00  00  00', '21  93  BE  00  00  00  00']},\n",
       " {'timestamp': '4382.070.328.0',\n",
       "  'state': 'S',\n",
       "  'mssg_length': '2',\n",
       "  'mssg': '0104',\n",
       "  'answer': ['01  00  00  00  00  00  00',\n",
       "   '21  00  00  00  00  00  00',\n",
       "   '61  00  00  00  00  00  00',\n",
       "   '41  00  00  00  00  00  00']},\n",
       " {'timestamp': '4382.670.733.0',\n",
       "  'state': 'S',\n",
       "  'mssg_length': '2',\n",
       "  'mssg': '0105',\n",
       "  'answer': ['01  E6  CB  E6  BB  E6  B6',\n",
       "   '21  E6  AD  E6  C3  E6  BA',\n",
       "   '41  E6  AF  E6  B8  E7  04',\n",
       "   '61  E6  D0  E6  DA  E6  E2']},\n",
       " {'timestamp': '4382.871.737.0',\n",
       "  'state': 'S',\n",
       "  'mssg_length': '2',\n",
       "  'mssg': '0100',\n",
       "  'answer': ['01  FD  92  00  00  00  00', '21  93  62  00  00  00  00']},\n",
       " {'timestamp': '4383.072.670.0',\n",
       "  'state': 'S',\n",
       "  'mssg_length': '2',\n",
       "  'mssg': '0104',\n",
       "  'answer': ['01  00  00  00  00  00  00',\n",
       "   '21  00  00  00  00  00  00',\n",
       "   '61  00  00  00  00  00  00',\n",
       "   '41  00  00  00  00  00  00']},\n",
       " {'timestamp': '4383.672.866.0',\n",
       "  'state': 'S',\n",
       "  'mssg_length': '2',\n",
       "  'mssg': '0105',\n",
       "  'answer': ['01  E6  D0  E6  BD  E6  B2',\n",
       "   '21  E6  AF  E6  C2  E6  B9',\n",
       "   '41  E6  AE  E6  B8  E6  DE',\n",
       "   '61  E6  CF  E6  D8  E6  DF']}]"
      ]
     },
     "metadata": {},
     "execution_count": 28
    }
   ],
   "source": [
    "d_list[0:20]"
   ]
  },
  {
   "cell_type": "code",
   "execution_count": 29,
   "metadata": {},
   "outputs": [],
   "source": [
    "#define a function which take in input a list of dictionary and \n",
    "# search for the request 0105 and separate the channel\n",
    "\n",
    "def getADCperchannel(mylist):\n",
    "\n",
    "    mylist = mylist.copy()\n",
    "\n",
    "    #create the dictionary which will collect all the channels infos\n",
    "    l_ch0, l_ch1, l_ch2 = [], [], []\n",
    "    l_ch3, l_ch4, l_ch5 = [], [], []\n",
    "    l_ch6, l_ch7, l_ch8 = [], [], []\n",
    "    l_ch9, l_ch10, l_ch11 = [], [], []\n",
    "\n",
    "    # define the list of list which will contain all the list of single channels values recording their ADC values\n",
    "    l_allch = []\n",
    "\n",
    "    for d in mylist:\n",
    "        if (d.get('mssg')=='0105'):\n",
    "            answ = d.get('answer')\n",
    "\n",
    "            #check if the lenght is ok (it should be a list of 4 elements)\n",
    "            if (len(answ) !=4): abort\n",
    "\n",
    "            for answ_items in answ:\n",
    "                answ_items = answ_items.split(' ')\n",
    "                #print(answ_items)            \n",
    "\n",
    "                if (answ_items[0] == '01'):\n",
    "                    l_ch0.append(answ_items[2]+answ_items[4])\n",
    "                    l_ch1.append(answ_items[6]+answ_items[8])\n",
    "                    l_ch2.append(answ_items[10]+answ_items[12])\n",
    "\n",
    "                elif (answ_items[0] == '21'):\n",
    "                    l_ch3.append(answ_items[2]+answ_items[4])\n",
    "                    l_ch4.append(answ_items[6]+answ_items[8])\n",
    "                    l_ch5.append(answ_items[10]+answ_items[12])\n",
    "                \n",
    "                elif (answ_items[0] == '41'):\n",
    "                    l_ch6.append(answ_items[2]+answ_items[4])\n",
    "                    l_ch7.append(answ_items[6]+answ_items[8])\n",
    "                    l_ch8.append(answ_items[10]+answ_items[12])\n",
    "\n",
    "                elif (answ_items[0] == '61'):\n",
    "                    l_ch9.append(answ_items[2]+answ_items[4])\n",
    "                    l_ch10.append(answ_items[6]+answ_items[8])\n",
    "                    l_ch11.append(answ_items[10]+answ_items[12])\n",
    "            \n",
    "            #print(l_ch9)\n",
    "\n",
    "    #add all channel to the list of list to return\n",
    "    l_allch.extend([l_ch0,l_ch1,l_ch2,l_ch3, l_ch4, l_ch5, l_ch6, l_ch7, l_ch8, l_ch9, l_ch10, l_ch11])\n",
    "\n",
    "    #return the list of list\n",
    "    return(l_allch)    \n",
    "\n"
   ]
  },
  {
   "cell_type": "code",
   "execution_count": 30,
   "metadata": {},
   "outputs": [],
   "source": [
    "my_allch_list = getADCperchannel(d_list)"
   ]
  },
  {
   "cell_type": "code",
   "execution_count": 31,
   "metadata": {},
   "outputs": [
    {
     "output_type": "stream",
     "name": "stdout",
     "text": [
      "ch0: ['E6AA', 'E6CC', 'E6A4', 'E683', 'E6CB', 'E6D0', 'E6A4', 'E6B9', 'E6A7', 'E6B0', 'E6C7', 'E6C0', 'E6B9', 'E6D1', 'E6CB', 'E6B3', 'E69A', 'E6AA', 'E6C4', 'E6AC'] \t ch1:  ['E6BB', 'E6BB', 'E6BC', 'E6BB', 'E6BB', 'E6BD', 'E6BB', 'E6B9', 'E6BA', 'E6BA', 'E6BD', 'E6BB', 'E6BA', 'E6BB', 'E6BA', 'E6B9', 'E6BB', 'E6BC', 'E6BC', 'E6BA'] \t ch2:  ['E6B4', 'E6B4', 'E6B4', 'E6B3', 'E6B6', 'E6B2', 'E6B3', 'E6B5', 'E6B3', 'E6B3', 'E6B5', 'E6B2', 'E6B6', 'E6B3', 'E6B3', 'E6B3', 'E6B7', 'E6B4', 'E6B4', 'E6B3']\n"
     ]
    }
   ],
   "source": [
    "#check via printout\n",
    "print('ch0:', my_allch_list[0], '\\t ch1: ', my_allch_list[1], '\\t ch2: ', my_allch_list[2])"
   ]
  },
  {
   "cell_type": "code",
   "execution_count": 32,
   "metadata": {},
   "outputs": [],
   "source": [
    "# define a function which read a list of list with all ADC values per channel and do :\n",
    "# the conversion exadecimal to decimal\n",
    "# calculate the average\n",
    "import statistics\n",
    "\n",
    "#function to convert hex to decimal\n",
    "def todec(n):\n",
    "    return int(n, 16) \n",
    "\n",
    "#function to convert back to hex (after rounding to get to the closest integer)\n",
    "def tohex(n):\n",
    "    return hex(round(n))\n",
    "\n",
    "\n",
    "#function to get the list of list of all values per channel. Per each channel do: \n",
    "# - convert to dec compute the average\n",
    "# - compute the average\n",
    "# - store the value in a list (this will contain one value per channel )\n",
    "# - convert the values in the list to hex \n",
    "# - return the list containing all the averages per channel --> these are the values to be used for the calibration campaign\n",
    "#   \n",
    "\n",
    "def Getch_average(chlist):\n",
    "    chlist = chlist.copy()\n",
    "    print(len(chlist))\n",
    "    \n",
    "    ch_avg_dec = []\n",
    "    ch_avg_hex = []\n",
    "\n",
    "    for ch in chlist:\n",
    "\n",
    "        # convert any elements of the channel list to decimal\n",
    "        singlech_dec = list(map(todec, ch))\n",
    "        print(singlech_dec)\n",
    "        \n",
    "        #compute the average\n",
    "        ch_avg = statistics.mean(singlech_dec)\n",
    "        ch_avg_dec.append(ch_avg)\n",
    "\n",
    "        #print(list(singlech_dec))\n",
    "        #print(singlech_avg)\n",
    "\n",
    "    print(ch_avg_dec)\n",
    "    #convert back to hex and save to a list which will be our final output\n",
    "    ch_avg_hex = list(map(tohex, ch_avg_dec))\n",
    "    print(ch_avg_hex)\n",
    "    return ch_avg_hex"
   ]
  },
  {
   "cell_type": "code",
   "execution_count": 33,
   "metadata": {},
   "outputs": [
    {
     "output_type": "stream",
     "name": "stdout",
     "text": [
      "12\n[59050, 59084, 59044, 59011, 59083, 59088, 59044, 59065, 59047, 59056, 59079, 59072, 59065, 59089, 59083, 59059, 59034, 59050, 59076, 59052]\n[59067, 59067, 59068, 59067, 59067, 59069, 59067, 59065, 59066, 59066, 59069, 59067, 59066, 59067, 59066, 59065, 59067, 59068, 59068, 59066]\n[59060, 59060, 59060, 59059, 59062, 59058, 59059, 59061, 59059, 59059, 59061, 59058, 59062, 59059, 59059, 59059, 59063, 59060, 59060, 59059]\n[59054, 59054, 59055, 59053, 59053, 59055, 59053, 59054, 59051, 59053, 59052, 59053, 59052, 59053, 59054, 59054, 59053, 59052, 59055, 59054]\n[59074, 59074, 59074, 59073, 59075, 59074, 59074, 59075, 59073, 59073, 59074, 59074, 59075, 59075, 59072, 59073, 59074, 59073, 59074, 59074]\n[59065, 59064, 59067, 59063, 59066, 59065, 59067, 59066, 59064, 59066, 59066, 59064, 59066, 59066, 59066, 59065, 59067, 59067, 59065, 59065]\n[59055, 59053, 59053, 59054, 59055, 59054, 59054, 59054, 59054, 59056, 59052, 59054, 59053, 59056, 59056, 59054, 59055, 59054, 59053, 59055]\n[59063, 59064, 59062, 59063, 59064, 59064, 59062, 59062, 59063, 59063, 59060, 59065, 59064, 59066, 59063, 59059, 59064, 59062, 59062, 59062]\n[59139, 59135, 59132, 59135, 59140, 59102, 59146, 59148, 59122, 59127, 59131, 59123, 59114, 59143, 59134, 59141, 59121, 59131, 59136, 59095]\n[59086, 59087, 59086, 59088, 59088, 59087, 59085, 59086, 59088, 59090, 59086, 59088, 59089, 59086, 59086, 59086, 59087, 59086, 59088, 59088]\n[59096, 59096, 59098, 59096, 59098, 59096, 59097, 59097, 59097, 59098, 59099, 59098, 59098, 59098, 59096, 59097, 59099, 59097, 59097, 59098]\n[59102, 59105, 59106, 59104, 59106, 59103, 59104, 59103, 59104, 59105, 59104, 59103, 59104, 59103, 59102, 59106, 59105, 59106, 59105, 59104]\n[59061.55, 59066.9, 59059.85, 59053.35, 59073.85, 59065.5, 59054.2, 59062.85, 59129.75, 59087.05, 59097.3, 59104.2]\n['0xe6b6', '0xe6bb', '0xe6b4', '0xe6ad', '0xe6c2', '0xe6ba', '0xe6ae', '0xe6b7', '0xe6fa', '0xe6cf', '0xe6d9', '0xe6e0']\n"
     ]
    }
   ],
   "source": [
    "mych_average_biasV = Getch_average(my_allch_list)"
   ]
  },
  {
   "cell_type": "code",
   "execution_count": 34,
   "metadata": {},
   "outputs": [
    {
     "output_type": "stream",
     "name": "stdout",
     "text": [
      "['0xe6b6', '0xe6bb', '0xe6b4', '0xe6ad', '0xe6c2', '0xe6ba', '0xe6ae', '0xe6b7', '0xe6fa', '0xe6cf', '0xe6d9', '0xe6e0']\ne6b6\ne6bb\ne6b4\ne6ad\ne6c2\ne6ba\ne6ae\ne6b7\ne6fa\ne6cf\ne6d9\ne6e0\n"
     ]
    }
   ],
   "source": [
    "def printhex(myhex):\n",
    "    print(myhex[2:])\n",
    "\n",
    "print(mych_average_biasV)\n",
    "hexprint = list(map(printhex, mych_average_biasV))"
   ]
  },
  {
   "cell_type": "code",
   "execution_count": null,
   "metadata": {},
   "outputs": [],
   "source": []
  },
  {
   "cell_type": "code",
   "execution_count": null,
   "metadata": {},
   "outputs": [],
   "source": []
  }
 ]
}
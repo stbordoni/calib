{
 "metadata": {
  "language_info": {
   "codemirror_mode": {
    "name": "ipython",
    "version": 3
   },
   "file_extension": ".py",
   "mimetype": "text/x-python",
   "name": "python",
   "nbconvert_exporter": "python",
   "pygments_lexer": "ipython3",
   "version": "3.9.2"
  },
  "orig_nbformat": 2,
  "kernelspec": {
   "name": "python392jvsc74a57bd02b6c4d4d5861da4de20ae5397ab36a2c4fea6beca7bca7fb8955c39e63f73bb7",
   "display_name": "Python 3.9.2 64-bit ('.venv': venv)"
  }
 },
 "nbformat": 4,
 "nbformat_minor": 2,
 "cells": [
  {
   "cell_type": "code",
   "execution_count": 1,
   "metadata": {},
   "outputs": [],
   "source": [
    "import pandas as pd\n",
    "import numpy as np\n",
    "import matplotlib\n",
    "import sys\n",
    "\n",
    "from readCanLitefileUtils import *\n",
    "from calibUtils import *"
   ]
  },
  {
   "cell_type": "code",
   "execution_count": 2,
   "metadata": {},
   "outputs": [],
   "source": [
    "# define the inputs\n",
    "\n",
    "#file 1 (DACset 0x000)\n",
    "#file_DACset000 = './files/21-05-06_160653_calib_SN04_DACSet000_20x.csv'\n",
    "#file_DACset000 = './files/SN11/21-05-20_110216_DACset000_SN11_20x.csv'\n",
    "#file_DACset000 = './files/SN11/21-05-20_110216_DACset000_SN11_20x_v2.csv'\n",
    "file_DACset000 = './files/SN11/21-05-28_105657_DACset000_SN11_20x_v3.csv'\n",
    "#file_DACset000 = './files/SN15/21-05-27_151342_DACset000_SN15_20x.csv'\n",
    "\n",
    "\n",
    "\n",
    "#file 2 (DACset 0xFFF)\n",
    "#file_DACsetFFF = './files/21-05-06_160653_calib_SN04_DACSetFFF_20x.csv'\n",
    "#file_DACsetFFF = './files/SN11/21-05-20_110216_DACsetFFF_SN11_20x.csv'\n",
    "#file_DACsetFFF = './files/SN11/21-05-20_110216_DACsetFFF_SN11_20x_v2.csv'\n",
    "file_DACsetFFF = './files/SN11/21-05-28_105657_DACsetFFF_SN11_20x_v3.csv'\n",
    "#file_DACsetFFF = './files/SN15/21-05-27_151342_DACsetFFF_SN15_20x.csv'\n",
    "\n",
    "\n",
    "#SN11\n",
    "#DMMmin = [108.718, 108.744, 108.752, 108.746, 108.739, 108.722, \n",
    "#          108.736, 108.699, 108.750, 108.747, 108.743, 108.732]\n",
    "\n",
    "#DMMmax = [116.288, 116.275, 116.328, 116.291, 116.273, 116.282,\n",
    "#          116.311, 116.267, 116.327, 116.316, 116.219, 116.250]\n",
    "\n",
    "#SN11 v3\n",
    "DMMmin = [108.716, 108.745, 108.750, 108.745, 108.740, 108.722, \n",
    "          108.736, 108.700, 108.750, 108.747, 108.744, 108.733]\n",
    "\n",
    "DMMmax = [116.287, 116.313, 116.326, 116.324, 116.314, 116.293,\n",
    "          116.312, 116.268, 116.329, 116.315, 116.220, 116.304]\n",
    "\n",
    "#SN15\n",
    "#DMMmin = [108.744, 108.715, 108.768, 108.729, 108.751, 108.717, \n",
    "#          108.708, 108.712, 108.760, 108.729, 108.759, 108.726]\n",
    "\n",
    "#DMMmax = [116.318, 116.291, 116.347, 116.302, 116.329, 116.293,\n",
    "#          116.279, 116.289, 116.335, 116.305, 116.333, 116.298]\n",
    "\n",
    "#file_HVoff = './files/SN11/21-05-20_110216_HVoff_SN11_20x.csv'\n",
    "file_HVoff = './files/SN11/21-05-28_105657_HVoff_SN11_20x_v3.csv'\n",
    "#file_HVoff = './files/SN15/21-05-27_151342_HVoff_SN15_20x.csv'\n",
    "\n",
    "#SN11\n",
    "#DMMHVmin = 1.305\n",
    "#DMMHVmax = 120.\n",
    "\n",
    "DMMHVmin = 1.381\n",
    "DMMHVmax = 119.997\n",
    "\n",
    "\n",
    "#SN15\n",
    "#DMMHVmin = 1.387\n",
    "#DMMHVmax = 119.992\n",
    "\n",
    "\n",
    "#data for HV calibration (SN04)\n",
    "#data_HV = {'ADCmin': [0x02EB], 'DMMmin': [1.378], 'ADCmax': [0xFEB5], 'DMMmax': [120]}\n",
    "#df_HV = pd.DataFrame(data=data_HV)"
   ]
  },
  {
   "cell_type": "code",
   "execution_count": 3,
   "metadata": {},
   "outputs": [
    {
     "output_type": "stream",
     "name": "stdout",
     "text": [
      "-----\n0x0\n['e6ae', 'e6ce', 'd78f', 'e6c8', 'e6ce', 'e6c0', 'e6cb', 'e6bb', 'e6d1', 'd710', 'e6ea', 'e6d5']\n0xfd8b\n0xfff\n['f6c0', 'f6de', 'e557', 'f6dd', 'f6e2', 'f6d1', 'f6e0', 'f6cc', 'f704', 'e4e0', 'f700', 'f6e7']\n0xfd77\n"
     ]
    }
   ],
   "source": [
    "DACset000, ADCmin, HVmin = GetADCvalues(file_DACset000)\n",
    "print('-----')\n",
    "print(DACset000)\n",
    "print(ADCmin)\n",
    "print(HVmin)\n",
    "\n",
    "DACsetFFF, ADCmax, HVmax = GetADCvalues(file_DACsetFFF)\n",
    "print(DACsetFFF)\n",
    "print(ADCmax)\n",
    "print(HVmax)\n",
    "\n"
   ]
  },
  {
   "cell_type": "code",
   "execution_count": 4,
   "metadata": {},
   "outputs": [
    {
     "output_type": "execute_result",
     "data": {
      "text/plain": [
       "'0xe4f'"
      ]
     },
     "metadata": {},
     "execution_count": 4
    }
   ],
   "source": [
    "#the HVmin value is overwitten by the good one which comes from the file with HV OFF\n",
    "\n",
    "HVmin = GetHVvalue(file_HVoff)\n",
    "HVmin"
   ]
  },
  {
   "cell_type": "code",
   "execution_count": 5,
   "metadata": {},
   "outputs": [
    {
     "output_type": "execute_result",
     "data": {
      "text/plain": [
       "  ADCmin  DMMmin  ADCmax   DMMmax\n",
       "0  0xe4f   1.381  0xfd77  119.997"
      ],
      "text/html": "<div>\n<style scoped>\n    .dataframe tbody tr th:only-of-type {\n        vertical-align: middle;\n    }\n\n    .dataframe tbody tr th {\n        vertical-align: top;\n    }\n\n    .dataframe thead th {\n        text-align: right;\n    }\n</style>\n<table border=\"1\" class=\"dataframe\">\n  <thead>\n    <tr style=\"text-align: right;\">\n      <th></th>\n      <th>ADCmin</th>\n      <th>DMMmin</th>\n      <th>ADCmax</th>\n      <th>DMMmax</th>\n    </tr>\n  </thead>\n  <tbody>\n    <tr>\n      <th>0</th>\n      <td>0xe4f</td>\n      <td>1.381</td>\n      <td>0xfd77</td>\n      <td>119.997</td>\n    </tr>\n  </tbody>\n</table>\n</div>"
     },
     "metadata": {},
     "execution_count": 5
    }
   ],
   "source": [
    "#data for HV calibration\n",
    "data_HV = {'ADCmin': [HVmin], 'DMMmin': [DMMHVmin], 'ADCmax': [HVmax], 'DMMmax': [DMMHVmax]}\n",
    "df_HV = pd.DataFrame(data=data_HV)\n",
    "df_HV"
   ]
  },
  {
   "source": [
    "DACset000 = '0x0'\n",
    "DACsetFFF = '0xfff'\n",
    "#tmp fix for SN11"
   ],
   "cell_type": "markdown",
   "metadata": {}
  },
  {
   "cell_type": "code",
   "execution_count": 6,
   "metadata": {},
   "outputs": [
    {
     "output_type": "execute_result",
     "data": {
      "text/plain": [
       "   ADCmin   DMMmin ADCmax   DMMmax\n",
       "0    e6ae  108.716   f6c0  116.287\n",
       "1    e6ce  108.745   f6de  116.313\n",
       "2    d78f  108.750   e557  116.326\n",
       "3    e6c8  108.745   f6dd  116.324\n",
       "4    e6ce  108.740   f6e2  116.314\n",
       "5    e6c0  108.722   f6d1  116.293\n",
       "6    e6cb  108.736   f6e0  116.312\n",
       "7    e6bb  108.700   f6cc  116.268\n",
       "8    e6d1  108.750   f704  116.329\n",
       "9    d710  108.747   e4e0  116.315\n",
       "10   e6ea  108.744   f700  116.220\n",
       "11   e6d5  108.733   f6e7  116.304"
      ],
      "text/html": "<div>\n<style scoped>\n    .dataframe tbody tr th:only-of-type {\n        vertical-align: middle;\n    }\n\n    .dataframe tbody tr th {\n        vertical-align: top;\n    }\n\n    .dataframe thead th {\n        text-align: right;\n    }\n</style>\n<table border=\"1\" class=\"dataframe\">\n  <thead>\n    <tr style=\"text-align: right;\">\n      <th></th>\n      <th>ADCmin</th>\n      <th>DMMmin</th>\n      <th>ADCmax</th>\n      <th>DMMmax</th>\n    </tr>\n  </thead>\n  <tbody>\n    <tr>\n      <th>0</th>\n      <td>e6ae</td>\n      <td>108.716</td>\n      <td>f6c0</td>\n      <td>116.287</td>\n    </tr>\n    <tr>\n      <th>1</th>\n      <td>e6ce</td>\n      <td>108.745</td>\n      <td>f6de</td>\n      <td>116.313</td>\n    </tr>\n    <tr>\n      <th>2</th>\n      <td>d78f</td>\n      <td>108.750</td>\n      <td>e557</td>\n      <td>116.326</td>\n    </tr>\n    <tr>\n      <th>3</th>\n      <td>e6c8</td>\n      <td>108.745</td>\n      <td>f6dd</td>\n      <td>116.324</td>\n    </tr>\n    <tr>\n      <th>4</th>\n      <td>e6ce</td>\n      <td>108.740</td>\n      <td>f6e2</td>\n      <td>116.314</td>\n    </tr>\n    <tr>\n      <th>5</th>\n      <td>e6c0</td>\n      <td>108.722</td>\n      <td>f6d1</td>\n      <td>116.293</td>\n    </tr>\n    <tr>\n      <th>6</th>\n      <td>e6cb</td>\n      <td>108.736</td>\n      <td>f6e0</td>\n      <td>116.312</td>\n    </tr>\n    <tr>\n      <th>7</th>\n      <td>e6bb</td>\n      <td>108.700</td>\n      <td>f6cc</td>\n      <td>116.268</td>\n    </tr>\n    <tr>\n      <th>8</th>\n      <td>e6d1</td>\n      <td>108.750</td>\n      <td>f704</td>\n      <td>116.329</td>\n    </tr>\n    <tr>\n      <th>9</th>\n      <td>d710</td>\n      <td>108.747</td>\n      <td>e4e0</td>\n      <td>116.315</td>\n    </tr>\n    <tr>\n      <th>10</th>\n      <td>e6ea</td>\n      <td>108.744</td>\n      <td>f700</td>\n      <td>116.220</td>\n    </tr>\n    <tr>\n      <th>11</th>\n      <td>e6d5</td>\n      <td>108.733</td>\n      <td>f6e7</td>\n      <td>116.304</td>\n    </tr>\n  </tbody>\n</table>\n</div>"
     },
     "metadata": {},
     "execution_count": 6
    }
   ],
   "source": [
    "#build the dataframe to use to extract the calibration parameters\n",
    "if (DACset000 == '0x0'):\n",
    "    col0 = 'ADCmin'\n",
    "else: \n",
    "    #print('Error! not the expected values for the DACset')\n",
    "    sys.exit('Error! not the expected values for the DACset')\n",
    "\n",
    "\n",
    "if (DACsetFFF == '0xfff'):\n",
    "    col3 = 'ADCmax'\n",
    "else: \n",
    "    sys.exit('Error! not the expected values for the DACset')\n",
    "    \n",
    "\n",
    "df_out = pd.DataFrame(list(zip(ADCmin, DMMmin, ADCmax, DMMmax)), columns = [col0, 'DMMmin' ,  col3, 'DMMmax'])\n",
    "df_out"
   ]
  },
  {
   "cell_type": "code",
   "execution_count": 7,
   "metadata": {},
   "outputs": [
    {
     "output_type": "execute_result",
     "data": {
      "text/plain": [
       "    ADCmin   DMMmin  ADCmax   DMMmax\n",
       "0    59054  108.716   63168  116.287\n",
       "1    59086  108.745   63198  116.313\n",
       "2    55183  108.750   58711  116.326\n",
       "3    59080  108.745   63197  116.324\n",
       "4    59086  108.740   63202  116.314\n",
       "5    59072  108.722   63185  116.293\n",
       "6    59083  108.736   63200  116.312\n",
       "7    59067  108.700   63180  116.268\n",
       "8    59089  108.750   63236  116.329\n",
       "9    55056  108.747   58592  116.315\n",
       "10   59114  108.744   63232  116.220\n",
       "11   59093  108.733   63207  116.304"
      ],
      "text/html": "<div>\n<style scoped>\n    .dataframe tbody tr th:only-of-type {\n        vertical-align: middle;\n    }\n\n    .dataframe tbody tr th {\n        vertical-align: top;\n    }\n\n    .dataframe thead th {\n        text-align: right;\n    }\n</style>\n<table border=\"1\" class=\"dataframe\">\n  <thead>\n    <tr style=\"text-align: right;\">\n      <th></th>\n      <th>ADCmin</th>\n      <th>DMMmin</th>\n      <th>ADCmax</th>\n      <th>DMMmax</th>\n    </tr>\n  </thead>\n  <tbody>\n    <tr>\n      <th>0</th>\n      <td>59054</td>\n      <td>108.716</td>\n      <td>63168</td>\n      <td>116.287</td>\n    </tr>\n    <tr>\n      <th>1</th>\n      <td>59086</td>\n      <td>108.745</td>\n      <td>63198</td>\n      <td>116.313</td>\n    </tr>\n    <tr>\n      <th>2</th>\n      <td>55183</td>\n      <td>108.750</td>\n      <td>58711</td>\n      <td>116.326</td>\n    </tr>\n    <tr>\n      <th>3</th>\n      <td>59080</td>\n      <td>108.745</td>\n      <td>63197</td>\n      <td>116.324</td>\n    </tr>\n    <tr>\n      <th>4</th>\n      <td>59086</td>\n      <td>108.740</td>\n      <td>63202</td>\n      <td>116.314</td>\n    </tr>\n    <tr>\n      <th>5</th>\n      <td>59072</td>\n      <td>108.722</td>\n      <td>63185</td>\n      <td>116.293</td>\n    </tr>\n    <tr>\n      <th>6</th>\n      <td>59083</td>\n      <td>108.736</td>\n      <td>63200</td>\n      <td>116.312</td>\n    </tr>\n    <tr>\n      <th>7</th>\n      <td>59067</td>\n      <td>108.700</td>\n      <td>63180</td>\n      <td>116.268</td>\n    </tr>\n    <tr>\n      <th>8</th>\n      <td>59089</td>\n      <td>108.750</td>\n      <td>63236</td>\n      <td>116.329</td>\n    </tr>\n    <tr>\n      <th>9</th>\n      <td>55056</td>\n      <td>108.747</td>\n      <td>58592</td>\n      <td>116.315</td>\n    </tr>\n    <tr>\n      <th>10</th>\n      <td>59114</td>\n      <td>108.744</td>\n      <td>63232</td>\n      <td>116.220</td>\n    </tr>\n    <tr>\n      <th>11</th>\n      <td>59093</td>\n      <td>108.733</td>\n      <td>63207</td>\n      <td>116.304</td>\n    </tr>\n  </tbody>\n</table>\n</div>"
     },
     "metadata": {},
     "execution_count": 7
    }
   ],
   "source": [
    "#convert ADCmin and ADCmax in decimal numbers\n",
    "df_out = hex_to_dec(df_out)\n",
    "df_out"
   ]
  },
  {
   "cell_type": "code",
   "execution_count": 8,
   "metadata": {},
   "outputs": [
    {
     "output_type": "execute_result",
     "data": {
      "text/plain": [
       "    ADCmin   DMMmin  ADCmax   DMMmax  Gain BiasV  offset BiasV\n",
       "0    59054  108.716   63168  116.287    0.992879     21.105534\n",
       "1    59086  108.745   63198  116.313    0.992968     -0.450317\n",
       "2    55183  108.750   58711  116.326    1.158561  -4540.180570\n",
       "3    59080  108.745   63197  116.324    0.993204     -8.464837\n",
       "4    59086  108.740   63202  116.314    0.992790      7.456562\n",
       "5    59072  108.722   63185  116.293    0.993120     -7.994453\n",
       "6    59083  108.736   63200  116.312    0.992811      7.035903\n",
       "7    59067  108.700   63180  116.268    0.992727      8.462474\n",
       "8    59089  108.750   63236  116.329    0.986019    415.716981\n",
       "9    55056  108.747   58592  116.315    1.154719  -4246.090909\n",
       "10   59114  108.744   63232  116.220    0.979468    785.383628\n",
       "11   59093  108.733   63207  116.304    0.992879     -8.656849"
      ],
      "text/html": "<div>\n<style scoped>\n    .dataframe tbody tr th:only-of-type {\n        vertical-align: middle;\n    }\n\n    .dataframe tbody tr th {\n        vertical-align: top;\n    }\n\n    .dataframe thead th {\n        text-align: right;\n    }\n</style>\n<table border=\"1\" class=\"dataframe\">\n  <thead>\n    <tr style=\"text-align: right;\">\n      <th></th>\n      <th>ADCmin</th>\n      <th>DMMmin</th>\n      <th>ADCmax</th>\n      <th>DMMmax</th>\n      <th>Gain BiasV</th>\n      <th>offset BiasV</th>\n    </tr>\n  </thead>\n  <tbody>\n    <tr>\n      <th>0</th>\n      <td>59054</td>\n      <td>108.716</td>\n      <td>63168</td>\n      <td>116.287</td>\n      <td>0.992879</td>\n      <td>21.105534</td>\n    </tr>\n    <tr>\n      <th>1</th>\n      <td>59086</td>\n      <td>108.745</td>\n      <td>63198</td>\n      <td>116.313</td>\n      <td>0.992968</td>\n      <td>-0.450317</td>\n    </tr>\n    <tr>\n      <th>2</th>\n      <td>55183</td>\n      <td>108.750</td>\n      <td>58711</td>\n      <td>116.326</td>\n      <td>1.158561</td>\n      <td>-4540.180570</td>\n    </tr>\n    <tr>\n      <th>3</th>\n      <td>59080</td>\n      <td>108.745</td>\n      <td>63197</td>\n      <td>116.324</td>\n      <td>0.993204</td>\n      <td>-8.464837</td>\n    </tr>\n    <tr>\n      <th>4</th>\n      <td>59086</td>\n      <td>108.740</td>\n      <td>63202</td>\n      <td>116.314</td>\n      <td>0.992790</td>\n      <td>7.456562</td>\n    </tr>\n    <tr>\n      <th>5</th>\n      <td>59072</td>\n      <td>108.722</td>\n      <td>63185</td>\n      <td>116.293</td>\n      <td>0.993120</td>\n      <td>-7.994453</td>\n    </tr>\n    <tr>\n      <th>6</th>\n      <td>59083</td>\n      <td>108.736</td>\n      <td>63200</td>\n      <td>116.312</td>\n      <td>0.992811</td>\n      <td>7.035903</td>\n    </tr>\n    <tr>\n      <th>7</th>\n      <td>59067</td>\n      <td>108.700</td>\n      <td>63180</td>\n      <td>116.268</td>\n      <td>0.992727</td>\n      <td>8.462474</td>\n    </tr>\n    <tr>\n      <th>8</th>\n      <td>59089</td>\n      <td>108.750</td>\n      <td>63236</td>\n      <td>116.329</td>\n      <td>0.986019</td>\n      <td>415.716981</td>\n    </tr>\n    <tr>\n      <th>9</th>\n      <td>55056</td>\n      <td>108.747</td>\n      <td>58592</td>\n      <td>116.315</td>\n      <td>1.154719</td>\n      <td>-4246.090909</td>\n    </tr>\n    <tr>\n      <th>10</th>\n      <td>59114</td>\n      <td>108.744</td>\n      <td>63232</td>\n      <td>116.220</td>\n      <td>0.979468</td>\n      <td>785.383628</td>\n    </tr>\n    <tr>\n      <th>11</th>\n      <td>59093</td>\n      <td>108.733</td>\n      <td>63207</td>\n      <td>116.304</td>\n      <td>0.992879</td>\n      <td>-8.656849</td>\n    </tr>\n  </tbody>\n</table>\n</div>"
     },
     "metadata": {},
     "execution_count": 8
    }
   ],
   "source": [
    "# compute gain and offset for the Bias Voltages\n",
    "# a_coeff = 1.8535e-3\n",
    "# b_coeff = 0\n",
    "# Gain BiasV = (DMMmax - DMMmin) / (ADCmax - ADCmin ) * 1/a_coeff\n",
    "# offset BiasV = ADCmin - (DMMmin - b_coeff )/ (Gain BiasV * a_coeff )\n",
    "\n",
    "df_out = biasV_params(df_out)\n",
    "df_out"
   ]
  },
  {
   "cell_type": "code",
   "execution_count": 9,
   "metadata": {},
   "outputs": [
    {
     "output_type": "execute_result",
     "data": {
      "text/plain": [
       "    ADCmin   DMMmin  ADCmax   DMMmax  Gain BiasV  offset BiasV  \\\n",
       "0    59054  108.716   63168  116.287    0.992879     21.105534   \n",
       "1    59086  108.745   63198  116.313    0.992968     -0.450317   \n",
       "2    55183  108.750   58711  116.326    1.158561  -4540.180570   \n",
       "3    59080  108.745   63197  116.324    0.993204     -8.464837   \n",
       "4    59086  108.740   63202  116.314    0.992790      7.456562   \n",
       "5    59072  108.722   63185  116.293    0.993120     -7.994453   \n",
       "6    59083  108.736   63200  116.312    0.992811      7.035903   \n",
       "7    59067  108.700   63180  116.268    0.992727      8.462474   \n",
       "8    59089  108.750   63236  116.329    0.986019    415.716981   \n",
       "9    55056  108.747   58592  116.315    1.154719  -4246.090909   \n",
       "10   59114  108.744   63232  116.220    0.979468    785.383628   \n",
       "11   59093  108.733   63207  116.304    0.992879     -8.656849   \n",
       "\n",
       "    Gain_Usig BiasV  Offset_Sig BiasV  \n",
       "0             32535                21  \n",
       "1             32538                 0  \n",
       "2             37964             -4540  \n",
       "3             32545                -8  \n",
       "4             32532                 7  \n",
       "5             32543                -8  \n",
       "6             32532                 7  \n",
       "7             32530                 8  \n",
       "8             32310               416  \n",
       "9             37838             -4246  \n",
       "10            32095               785  \n",
       "11            32535                -9  "
      ],
      "text/html": "<div>\n<style scoped>\n    .dataframe tbody tr th:only-of-type {\n        vertical-align: middle;\n    }\n\n    .dataframe tbody tr th {\n        vertical-align: top;\n    }\n\n    .dataframe thead th {\n        text-align: right;\n    }\n</style>\n<table border=\"1\" class=\"dataframe\">\n  <thead>\n    <tr style=\"text-align: right;\">\n      <th></th>\n      <th>ADCmin</th>\n      <th>DMMmin</th>\n      <th>ADCmax</th>\n      <th>DMMmax</th>\n      <th>Gain BiasV</th>\n      <th>offset BiasV</th>\n      <th>Gain_Usig BiasV</th>\n      <th>Offset_Sig BiasV</th>\n    </tr>\n  </thead>\n  <tbody>\n    <tr>\n      <th>0</th>\n      <td>59054</td>\n      <td>108.716</td>\n      <td>63168</td>\n      <td>116.287</td>\n      <td>0.992879</td>\n      <td>21.105534</td>\n      <td>32535</td>\n      <td>21</td>\n    </tr>\n    <tr>\n      <th>1</th>\n      <td>59086</td>\n      <td>108.745</td>\n      <td>63198</td>\n      <td>116.313</td>\n      <td>0.992968</td>\n      <td>-0.450317</td>\n      <td>32538</td>\n      <td>0</td>\n    </tr>\n    <tr>\n      <th>2</th>\n      <td>55183</td>\n      <td>108.750</td>\n      <td>58711</td>\n      <td>116.326</td>\n      <td>1.158561</td>\n      <td>-4540.180570</td>\n      <td>37964</td>\n      <td>-4540</td>\n    </tr>\n    <tr>\n      <th>3</th>\n      <td>59080</td>\n      <td>108.745</td>\n      <td>63197</td>\n      <td>116.324</td>\n      <td>0.993204</td>\n      <td>-8.464837</td>\n      <td>32545</td>\n      <td>-8</td>\n    </tr>\n    <tr>\n      <th>4</th>\n      <td>59086</td>\n      <td>108.740</td>\n      <td>63202</td>\n      <td>116.314</td>\n      <td>0.992790</td>\n      <td>7.456562</td>\n      <td>32532</td>\n      <td>7</td>\n    </tr>\n    <tr>\n      <th>5</th>\n      <td>59072</td>\n      <td>108.722</td>\n      <td>63185</td>\n      <td>116.293</td>\n      <td>0.993120</td>\n      <td>-7.994453</td>\n      <td>32543</td>\n      <td>-8</td>\n    </tr>\n    <tr>\n      <th>6</th>\n      <td>59083</td>\n      <td>108.736</td>\n      <td>63200</td>\n      <td>116.312</td>\n      <td>0.992811</td>\n      <td>7.035903</td>\n      <td>32532</td>\n      <td>7</td>\n    </tr>\n    <tr>\n      <th>7</th>\n      <td>59067</td>\n      <td>108.700</td>\n      <td>63180</td>\n      <td>116.268</td>\n      <td>0.992727</td>\n      <td>8.462474</td>\n      <td>32530</td>\n      <td>8</td>\n    </tr>\n    <tr>\n      <th>8</th>\n      <td>59089</td>\n      <td>108.750</td>\n      <td>63236</td>\n      <td>116.329</td>\n      <td>0.986019</td>\n      <td>415.716981</td>\n      <td>32310</td>\n      <td>416</td>\n    </tr>\n    <tr>\n      <th>9</th>\n      <td>55056</td>\n      <td>108.747</td>\n      <td>58592</td>\n      <td>116.315</td>\n      <td>1.154719</td>\n      <td>-4246.090909</td>\n      <td>37838</td>\n      <td>-4246</td>\n    </tr>\n    <tr>\n      <th>10</th>\n      <td>59114</td>\n      <td>108.744</td>\n      <td>63232</td>\n      <td>116.220</td>\n      <td>0.979468</td>\n      <td>785.383628</td>\n      <td>32095</td>\n      <td>785</td>\n    </tr>\n    <tr>\n      <th>11</th>\n      <td>59093</td>\n      <td>108.733</td>\n      <td>63207</td>\n      <td>116.304</td>\n      <td>0.992879</td>\n      <td>-8.656849</td>\n      <td>32535</td>\n      <td>-9</td>\n    </tr>\n  </tbody>\n</table>\n</div>"
     },
     "metadata": {},
     "execution_count": 9
    }
   ],
   "source": [
    "# Gain biasV = math.ceil(Gain BiasV* 32768)\n",
    "# Offset biasV = round(offset BiasV)  \n",
    "\n",
    "df_out = code_offsetandgain(df_out,'biasV')\n",
    "df_out"
   ]
  },
  {
   "cell_type": "code",
   "execution_count": 10,
   "metadata": {},
   "outputs": [
    {
     "output_type": "execute_result",
     "data": {
      "text/plain": [
       "    ADCmin   DMMmin  ADCmax   DMMmax  Gain BiasV  offset BiasV  \\\n",
       "0    59054  108.716   63168  116.287    0.992879     21.105534   \n",
       "1    59086  108.745   63198  116.313    0.992968     -0.450317   \n",
       "2    55183  108.750   58711  116.326    1.158561  -4540.180570   \n",
       "3    59080  108.745   63197  116.324    0.993204     -8.464837   \n",
       "4    59086  108.740   63202  116.314    0.992790      7.456562   \n",
       "5    59072  108.722   63185  116.293    0.993120     -7.994453   \n",
       "6    59083  108.736   63200  116.312    0.992811      7.035903   \n",
       "7    59067  108.700   63180  116.268    0.992727      8.462474   \n",
       "8    59089  108.750   63236  116.329    0.986019    415.716981   \n",
       "9    55056  108.747   58592  116.315    1.154719  -4246.090909   \n",
       "10   59114  108.744   63232  116.220    0.979468    785.383628   \n",
       "11   59093  108.733   63207  116.304    0.992879     -8.656849   \n",
       "\n",
       "    Gain_Usig BiasV  Offset_Sig BiasV Gain_hex BiasV Offset_hex BiasV  \n",
       "0             32535                21         0x7f17             0x15  \n",
       "1             32538                 0         0x7f1a              0x0  \n",
       "2             37964             -4540         0x944c           0xee44  \n",
       "3             32545                -8         0x7f21           0xfff8  \n",
       "4             32532                 7         0x7f14              0x7  \n",
       "5             32543                -8         0x7f1f           0xfff8  \n",
       "6             32532                 7         0x7f14              0x7  \n",
       "7             32530                 8         0x7f12              0x8  \n",
       "8             32310               416         0x7e36            0x1a0  \n",
       "9             37838             -4246         0x93ce           0xef6a  \n",
       "10            32095               785         0x7d5f            0x311  \n",
       "11            32535                -9         0x7f17           0xfff7  "
      ],
      "text/html": "<div>\n<style scoped>\n    .dataframe tbody tr th:only-of-type {\n        vertical-align: middle;\n    }\n\n    .dataframe tbody tr th {\n        vertical-align: top;\n    }\n\n    .dataframe thead th {\n        text-align: right;\n    }\n</style>\n<table border=\"1\" class=\"dataframe\">\n  <thead>\n    <tr style=\"text-align: right;\">\n      <th></th>\n      <th>ADCmin</th>\n      <th>DMMmin</th>\n      <th>ADCmax</th>\n      <th>DMMmax</th>\n      <th>Gain BiasV</th>\n      <th>offset BiasV</th>\n      <th>Gain_Usig BiasV</th>\n      <th>Offset_Sig BiasV</th>\n      <th>Gain_hex BiasV</th>\n      <th>Offset_hex BiasV</th>\n    </tr>\n  </thead>\n  <tbody>\n    <tr>\n      <th>0</th>\n      <td>59054</td>\n      <td>108.716</td>\n      <td>63168</td>\n      <td>116.287</td>\n      <td>0.992879</td>\n      <td>21.105534</td>\n      <td>32535</td>\n      <td>21</td>\n      <td>0x7f17</td>\n      <td>0x15</td>\n    </tr>\n    <tr>\n      <th>1</th>\n      <td>59086</td>\n      <td>108.745</td>\n      <td>63198</td>\n      <td>116.313</td>\n      <td>0.992968</td>\n      <td>-0.450317</td>\n      <td>32538</td>\n      <td>0</td>\n      <td>0x7f1a</td>\n      <td>0x0</td>\n    </tr>\n    <tr>\n      <th>2</th>\n      <td>55183</td>\n      <td>108.750</td>\n      <td>58711</td>\n      <td>116.326</td>\n      <td>1.158561</td>\n      <td>-4540.180570</td>\n      <td>37964</td>\n      <td>-4540</td>\n      <td>0x944c</td>\n      <td>0xee44</td>\n    </tr>\n    <tr>\n      <th>3</th>\n      <td>59080</td>\n      <td>108.745</td>\n      <td>63197</td>\n      <td>116.324</td>\n      <td>0.993204</td>\n      <td>-8.464837</td>\n      <td>32545</td>\n      <td>-8</td>\n      <td>0x7f21</td>\n      <td>0xfff8</td>\n    </tr>\n    <tr>\n      <th>4</th>\n      <td>59086</td>\n      <td>108.740</td>\n      <td>63202</td>\n      <td>116.314</td>\n      <td>0.992790</td>\n      <td>7.456562</td>\n      <td>32532</td>\n      <td>7</td>\n      <td>0x7f14</td>\n      <td>0x7</td>\n    </tr>\n    <tr>\n      <th>5</th>\n      <td>59072</td>\n      <td>108.722</td>\n      <td>63185</td>\n      <td>116.293</td>\n      <td>0.993120</td>\n      <td>-7.994453</td>\n      <td>32543</td>\n      <td>-8</td>\n      <td>0x7f1f</td>\n      <td>0xfff8</td>\n    </tr>\n    <tr>\n      <th>6</th>\n      <td>59083</td>\n      <td>108.736</td>\n      <td>63200</td>\n      <td>116.312</td>\n      <td>0.992811</td>\n      <td>7.035903</td>\n      <td>32532</td>\n      <td>7</td>\n      <td>0x7f14</td>\n      <td>0x7</td>\n    </tr>\n    <tr>\n      <th>7</th>\n      <td>59067</td>\n      <td>108.700</td>\n      <td>63180</td>\n      <td>116.268</td>\n      <td>0.992727</td>\n      <td>8.462474</td>\n      <td>32530</td>\n      <td>8</td>\n      <td>0x7f12</td>\n      <td>0x8</td>\n    </tr>\n    <tr>\n      <th>8</th>\n      <td>59089</td>\n      <td>108.750</td>\n      <td>63236</td>\n      <td>116.329</td>\n      <td>0.986019</td>\n      <td>415.716981</td>\n      <td>32310</td>\n      <td>416</td>\n      <td>0x7e36</td>\n      <td>0x1a0</td>\n    </tr>\n    <tr>\n      <th>9</th>\n      <td>55056</td>\n      <td>108.747</td>\n      <td>58592</td>\n      <td>116.315</td>\n      <td>1.154719</td>\n      <td>-4246.090909</td>\n      <td>37838</td>\n      <td>-4246</td>\n      <td>0x93ce</td>\n      <td>0xef6a</td>\n    </tr>\n    <tr>\n      <th>10</th>\n      <td>59114</td>\n      <td>108.744</td>\n      <td>63232</td>\n      <td>116.220</td>\n      <td>0.979468</td>\n      <td>785.383628</td>\n      <td>32095</td>\n      <td>785</td>\n      <td>0x7d5f</td>\n      <td>0x311</td>\n    </tr>\n    <tr>\n      <th>11</th>\n      <td>59093</td>\n      <td>108.733</td>\n      <td>63207</td>\n      <td>116.304</td>\n      <td>0.992879</td>\n      <td>-8.656849</td>\n      <td>32535</td>\n      <td>-9</td>\n      <td>0x7f17</td>\n      <td>0xfff7</td>\n    </tr>\n  </tbody>\n</table>\n</div>"
     },
     "metadata": {},
     "execution_count": 10
    }
   ],
   "source": [
    "# convert following prescriptions\n",
    " # GainUsig BiasV   = hex(Gain_Usig BiasV) \n",
    " # Offset_Sig BiasV = tohextwocompl(Offset_Sig BiasV ,15) \n",
    "\n",
    "df_out = convert_to_exadec(df_out, 'biasV')\n",
    "df_out"
   ]
  },
  {
   "cell_type": "code",
   "execution_count": 11,
   "metadata": {},
   "outputs": [
    {
     "output_type": "execute_result",
     "data": {
      "text/plain": [
       "   ADCmin  DMMmin  ADCmax   DMMmax   Gain HV    offset HV\n",
       "0    3663   1.381   64887  119.997  1.052426 -2950.192756"
      ],
      "text/html": "<div>\n<style scoped>\n    .dataframe tbody tr th:only-of-type {\n        vertical-align: middle;\n    }\n\n    .dataframe tbody tr th {\n        vertical-align: top;\n    }\n\n    .dataframe thead th {\n        text-align: right;\n    }\n</style>\n<table border=\"1\" class=\"dataframe\">\n  <thead>\n    <tr style=\"text-align: right;\">\n      <th></th>\n      <th>ADCmin</th>\n      <th>DMMmin</th>\n      <th>ADCmax</th>\n      <th>DMMmax</th>\n      <th>Gain HV</th>\n      <th>offset HV</th>\n    </tr>\n  </thead>\n  <tbody>\n    <tr>\n      <th>0</th>\n      <td>3663</td>\n      <td>1.381</td>\n      <td>64887</td>\n      <td>119.997</td>\n      <td>1.052426</td>\n      <td>-2950.192756</td>\n    </tr>\n  </tbody>\n</table>\n</div>"
     },
     "metadata": {},
     "execution_count": 11
    }
   ],
   "source": [
    "#do the same for the HV\n",
    "#Compute gain and offset for the HV\n",
    "\n",
    "# a_coeff = 1.8409e-3\n",
    "# b_coeff = 0\n",
    "# Gain BiasV = (DMMmax - DMMmin) / (ADCmax - ADCmin ) * 1/a_coeff\n",
    "# offset BiasV = ADCmin - (DMMmin - b_coeff )/ (Gain BiasV * a_coeff )\n",
    "\n",
    "df_HV = hex_to_dec(df_HV)\n",
    "df_HV = HV_params(df_HV)\n",
    "df_HV"
   ]
  },
  {
   "cell_type": "code",
   "execution_count": 12,
   "metadata": {},
   "outputs": [
    {
     "output_type": "execute_result",
     "data": {
      "text/plain": [
       "   ADCmin  DMMmin  ADCmax   DMMmax   Gain HV    offset HV  Gain_Usig HV  \\\n",
       "0    3663   1.381   64887  119.997  1.052426 -2950.192756         34486   \n",
       "\n",
       "   Offset_Sig HV  \n",
       "0          -2950  "
      ],
      "text/html": "<div>\n<style scoped>\n    .dataframe tbody tr th:only-of-type {\n        vertical-align: middle;\n    }\n\n    .dataframe tbody tr th {\n        vertical-align: top;\n    }\n\n    .dataframe thead th {\n        text-align: right;\n    }\n</style>\n<table border=\"1\" class=\"dataframe\">\n  <thead>\n    <tr style=\"text-align: right;\">\n      <th></th>\n      <th>ADCmin</th>\n      <th>DMMmin</th>\n      <th>ADCmax</th>\n      <th>DMMmax</th>\n      <th>Gain HV</th>\n      <th>offset HV</th>\n      <th>Gain_Usig HV</th>\n      <th>Offset_Sig HV</th>\n    </tr>\n  </thead>\n  <tbody>\n    <tr>\n      <th>0</th>\n      <td>3663</td>\n      <td>1.381</td>\n      <td>64887</td>\n      <td>119.997</td>\n      <td>1.052426</td>\n      <td>-2950.192756</td>\n      <td>34486</td>\n      <td>-2950</td>\n    </tr>\n  </tbody>\n</table>\n</div>"
     },
     "metadata": {},
     "execution_count": 12
    }
   ],
   "source": [
    "# Gain HV = math.ceil(Gain HV* 32768)\n",
    "# Offset HV = round(offset HV)  \n",
    "\n",
    "df_HV = code_offsetandgain(df_HV,'HV')\n",
    "df_HV"
   ]
  },
  {
   "cell_type": "code",
   "execution_count": 13,
   "metadata": {},
   "outputs": [
    {
     "output_type": "execute_result",
     "data": {
      "text/plain": [
       "   ADCmin  DMMmin  ADCmax   DMMmax   Gain HV    offset HV  Gain_Usig HV  \\\n",
       "0    3663   1.381   64887  119.997  1.052426 -2950.192756         34486   \n",
       "\n",
       "   Offset_Sig HV Gain_hex HV Offset_hex HV  \n",
       "0          -2950      0x86b6        0xf47a  "
      ],
      "text/html": "<div>\n<style scoped>\n    .dataframe tbody tr th:only-of-type {\n        vertical-align: middle;\n    }\n\n    .dataframe tbody tr th {\n        vertical-align: top;\n    }\n\n    .dataframe thead th {\n        text-align: right;\n    }\n</style>\n<table border=\"1\" class=\"dataframe\">\n  <thead>\n    <tr style=\"text-align: right;\">\n      <th></th>\n      <th>ADCmin</th>\n      <th>DMMmin</th>\n      <th>ADCmax</th>\n      <th>DMMmax</th>\n      <th>Gain HV</th>\n      <th>offset HV</th>\n      <th>Gain_Usig HV</th>\n      <th>Offset_Sig HV</th>\n      <th>Gain_hex HV</th>\n      <th>Offset_hex HV</th>\n    </tr>\n  </thead>\n  <tbody>\n    <tr>\n      <th>0</th>\n      <td>3663</td>\n      <td>1.381</td>\n      <td>64887</td>\n      <td>119.997</td>\n      <td>1.052426</td>\n      <td>-2950.192756</td>\n      <td>34486</td>\n      <td>-2950</td>\n      <td>0x86b6</td>\n      <td>0xf47a</td>\n    </tr>\n  </tbody>\n</table>\n</div>"
     },
     "metadata": {},
     "execution_count": 13
    }
   ],
   "source": [
    "# convert following prescriptions\n",
    "# GainUsig BiasV   = hex(Gain_Usig HV) \n",
    "# Offset_Sig BiasV = tohextwocompl(Offset_Sig HV ,15) \n",
    "\n",
    "df_HV = convert_to_exadec(df_HV, 'HV')\n",
    "df_HV"
   ]
  },
  {
   "cell_type": "code",
   "execution_count": 14,
   "metadata": {},
   "outputs": [
    {
     "output_type": "stream",
     "name": "stdout",
     "text": [
      "   Gain_hex BiasV Offset_hex BiasV\n0          0x7f17             0x15\n1          0x7f1a              0x0\n2          0x944c           0xee44\n3          0x7f21           0xfff8\n4          0x7f14              0x7\n5          0x7f1f           0xfff8\n6          0x7f14              0x7\n7          0x7f12              0x8\n8          0x7e36            0x1a0\n9          0x93ce           0xef6a\n10         0x7d5f            0x311\n11         0x7f17           0xfff7\n\n\n\n\n  Gain_hex HV Offset_hex HV\n0      0x86b6        0xf47a\n"
     ]
    }
   ],
   "source": [
    "df_calib_biasV = df_out[['Gain_hex BiasV','Offset_hex BiasV'] ].copy()\n",
    "df_calib_biasV.to_csv('calibDB/calib_biasV_SN11_v3.csv')\n",
    "print(df_calib_biasV)\n",
    "\n",
    "print('\\n\\n\\n')\n",
    "df_calib_HV = df_HV[['Gain_hex HV','Offset_hex HV'] ].copy()\n",
    "df_calib_HV.to_csv('calibDB/calib_HV_SN11_v3.csv')\n",
    "print(df_calib_HV)"
   ]
  },
  {
   "cell_type": "code",
   "execution_count": 15,
   "metadata": {},
   "outputs": [],
   "source": [
    "df_calib_biasV_tocheck = df_out[['Gain_Usig BiasV', 'Offset_Sig BiasV', 'Gain_hex BiasV','Offset_hex BiasV']].copy()\n",
    "#df_calib_biasV_tocheck.to_csv('calibDB/calib_biasV_SN11_v2_forcheck.csv')\n",
    "df_calib_biasV_tocheck.to_csv('calibDB/calib_biasV_SN11_v3_forcheck.csv')"
   ]
  },
  {
   "cell_type": "code",
   "execution_count": null,
   "metadata": {},
   "outputs": [],
   "source": []
  }
 ]
}
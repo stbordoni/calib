{
 "metadata": {
  "language_info": {
   "codemirror_mode": {
    "name": "ipython",
    "version": 3
   },
   "file_extension": ".py",
   "mimetype": "text/x-python",
   "name": "python",
   "nbconvert_exporter": "python",
   "pygments_lexer": "ipython3",
   "version": "3.9.2"
  },
  "orig_nbformat": 2,
  "kernelspec": {
   "name": "python392jvsc74a57bd02b6c4d4d5861da4de20ae5397ab36a2c4fea6beca7bca7fb8955c39e63f73bb7",
   "display_name": "Python 3.9.2 64-bit ('.venv': venv)"
  }
 },
 "nbformat": 4,
 "nbformat_minor": 2,
 "cells": [
  {
   "cell_type": "code",
   "execution_count": 1,
   "metadata": {},
   "outputs": [],
   "source": [
    "import pandas as pd\n",
    "import numpy as np\n",
    "import matplotlib\n",
    "import sys\n",
    "\n",
    "from readCanLitefileUtils import *\n",
    "from calibUtils import *"
   ]
  },
  {
   "cell_type": "code",
   "execution_count": 2,
   "metadata": {},
   "outputs": [],
   "source": [
    "# define the inputs\n",
    "\n",
    "#file 1 (DACset 0x000)\n",
    "#file_DACset000 = './files/21-05-06_160653_calib_SN04_DACSet000_20x.csv'\n",
    "#file_DACset000 = './files/SN11/21-05-20_110216_DACset000_SN11_20x.csv'\n",
    "file_DACset000 = './files/SN11/21-05-20_110216_DACset000_SN11_20x_v2.csv'\n",
    "\n",
    "\n",
    "\n",
    "#file 2 (DACset 0xFFF)\n",
    "#file_DACsetFFF = './files/21-05-06_160653_calib_SN04_DACSetFFF_20x.csv'\n",
    "#file_DACsetFFF = './files/SN11/21-05-20_110216_DACsetFFF_SN11_20x.csv'\n",
    "file_DACsetFFF = './files/SN11/21-05-20_110216_DACsetFFF_SN11_20x_v2.csv'\n",
    "\n",
    "\n",
    "\n",
    "DMMmin = [108.718, 108.744, 108.752, 108.746, 108.739, 108.722, \n",
    "          108.736, 108.699, 108.750, 108.747, 108.743, 108.732]\n",
    "\n",
    "DMMmax = [116.288, 116.275, 116.328, 116.291, 116.273, 116.282,\n",
    "          116.311, 116.267, 116.327, 116.316, 116.219, 116.250]\n",
    "\n",
    "\n",
    "file_HVoff = './files/SN11/21-05-20_110216_HVoff_SN11_20x.csv'\n",
    "\n",
    "DMMHVmin = 1.305\n",
    "DMMHVmax = 120.\n",
    "#data for HV calibration\n",
    "#data_HV = {'ADCmin': [0x02EB], 'DMMmin': [1.378], 'ADCmax': [0xFEB5], 'DMMmax': [120]}\n",
    "#df_HV = pd.DataFrame(data=data_HV)"
   ]
  },
  {
   "source": [
    "def GetADCvalues(file_DACset):\n",
    "\n",
    "    tmp_df = pd.read_csv(file_DACset)\n",
    "\n",
    "    #remove some columns not exploitable\n",
    "    tmp_df.drop(['Bus','No', 'ID (hex)', 'Message', 'ASCII'], inplace=True, axis=1)\n",
    "\n",
    "    #save dataframe in a file to be read by the script\n",
    "    filename = file_DACset.split('/')[2]\n",
    "    tmp_filename = 'calibfile_fromscript_'+ filename+'.txt'\n",
    "    tmp_df.to_csv(tmp_filename, sep=',', index=False, header=False, quotechar = ' ')\n",
    "\n",
    "    #open file to read\n",
    "    infile = open(tmp_filename, 'r')\n",
    "\n",
    "    #call function which read the file and return the content ordered in a list of dictionaries\n",
    "    d_list = readfile(infile)\n",
    "\n",
    "    DAC_set = getDACsetperchannel(d_list)\n",
    "    DAC_set\n",
    "\n",
    "    my_allch_list = getADCperchannel(d_list)\n",
    "    mych_average_biasV = Getch_average(my_allch_list)\n",
    "    hexprint = list(map(trunchex, mych_average_biasV))\n",
    "\n",
    "    HV = getHV(d_list)\n",
    "\n",
    "    return DAC_set, hexprint"
   ],
   "cell_type": "markdown",
   "metadata": {}
  },
  {
   "cell_type": "code",
   "execution_count": 3,
   "metadata": {},
   "outputs": [
    {
     "output_type": "stream",
     "name": "stdout",
     "text": [
      "-----\n0x0\n['e6b0', 'e6ce', 'd78a', 'e6c7', 'e6ce', 'e6c0', 'e6cc', 'e6bb', 'e6df', 'd702', 'e6ea', 'e6d4']\n0xfd8c\n0xfff\n['f6bc', 'f6de', 'e55c', 'f6dd', 'f6e2', 'f6d1', 'f6e0', 'f6cc', 'f6f2', 'e4e2', 'f701', 'f6e7']\n0xfd78\n"
     ]
    }
   ],
   "source": [
    "DACset000, ADCmin, HVmin = GetADCvalues(file_DACset000)\n",
    "print('-----')\n",
    "print(DACset000)\n",
    "print(ADCmin)\n",
    "print(HVmin)\n",
    "\n",
    "DACsetFFF, ADCmax, HVmax = GetADCvalues(file_DACsetFFF)\n",
    "print(DACsetFFF)\n",
    "print(ADCmax)\n",
    "print(HVmax)\n",
    "\n"
   ]
  },
  {
   "cell_type": "code",
   "execution_count": 4,
   "metadata": {},
   "outputs": [],
   "source": [
    "#the HVmin value is overwitten by the good one which comes from the file with HV OFF\n",
    "\n",
    "HVmin = GetHVvalue(file_HVoff)"
   ]
  },
  {
   "cell_type": "code",
   "execution_count": 5,
   "metadata": {},
   "outputs": [
    {
     "output_type": "execute_result",
     "data": {
      "text/plain": [
       "  ADCmin  DMMmin  ADCmax  DMMmax\n",
       "0  0x259   1.305  0xfd78   120.0"
      ],
      "text/html": "<div>\n<style scoped>\n    .dataframe tbody tr th:only-of-type {\n        vertical-align: middle;\n    }\n\n    .dataframe tbody tr th {\n        vertical-align: top;\n    }\n\n    .dataframe thead th {\n        text-align: right;\n    }\n</style>\n<table border=\"1\" class=\"dataframe\">\n  <thead>\n    <tr style=\"text-align: right;\">\n      <th></th>\n      <th>ADCmin</th>\n      <th>DMMmin</th>\n      <th>ADCmax</th>\n      <th>DMMmax</th>\n    </tr>\n  </thead>\n  <tbody>\n    <tr>\n      <th>0</th>\n      <td>0x259</td>\n      <td>1.305</td>\n      <td>0xfd78</td>\n      <td>120.0</td>\n    </tr>\n  </tbody>\n</table>\n</div>"
     },
     "metadata": {},
     "execution_count": 5
    }
   ],
   "source": [
    "#data for HV calibration\n",
    "data_HV = {'ADCmin': [HVmin], 'DMMmin': [DMMHVmin], 'ADCmax': [HVmax], 'DMMmax': [DMMHVmax]}\n",
    "df_HV = pd.DataFrame(data=data_HV)\n",
    "df_HV"
   ]
  },
  {
   "cell_type": "code",
   "execution_count": 6,
   "metadata": {},
   "outputs": [],
   "source": [
    "DACset000 = '0x0'\n",
    "DACsetFFF = '0xfff'\n",
    "#tmp fix for SN11"
   ]
  },
  {
   "cell_type": "code",
   "execution_count": 7,
   "metadata": {},
   "outputs": [
    {
     "output_type": "execute_result",
     "data": {
      "text/plain": [
       "   ADCmin   DMMmin ADCmax   DMMmax\n",
       "0    e6b0  108.718   f6bc  116.288\n",
       "1    e6ce  108.744   f6de  116.275\n",
       "2    d78a  108.752   e55c  116.328\n",
       "3    e6c7  108.746   f6dd  116.291\n",
       "4    e6ce  108.739   f6e2  116.273\n",
       "5    e6c0  108.722   f6d1  116.282\n",
       "6    e6cc  108.736   f6e0  116.311\n",
       "7    e6bb  108.699   f6cc  116.267\n",
       "8    e6df  108.750   f6f2  116.327\n",
       "9    d702  108.747   e4e2  116.316\n",
       "10   e6ea  108.743   f701  116.219\n",
       "11   e6d4  108.732   f6e7  116.250"
      ],
      "text/html": "<div>\n<style scoped>\n    .dataframe tbody tr th:only-of-type {\n        vertical-align: middle;\n    }\n\n    .dataframe tbody tr th {\n        vertical-align: top;\n    }\n\n    .dataframe thead th {\n        text-align: right;\n    }\n</style>\n<table border=\"1\" class=\"dataframe\">\n  <thead>\n    <tr style=\"text-align: right;\">\n      <th></th>\n      <th>ADCmin</th>\n      <th>DMMmin</th>\n      <th>ADCmax</th>\n      <th>DMMmax</th>\n    </tr>\n  </thead>\n  <tbody>\n    <tr>\n      <th>0</th>\n      <td>e6b0</td>\n      <td>108.718</td>\n      <td>f6bc</td>\n      <td>116.288</td>\n    </tr>\n    <tr>\n      <th>1</th>\n      <td>e6ce</td>\n      <td>108.744</td>\n      <td>f6de</td>\n      <td>116.275</td>\n    </tr>\n    <tr>\n      <th>2</th>\n      <td>d78a</td>\n      <td>108.752</td>\n      <td>e55c</td>\n      <td>116.328</td>\n    </tr>\n    <tr>\n      <th>3</th>\n      <td>e6c7</td>\n      <td>108.746</td>\n      <td>f6dd</td>\n      <td>116.291</td>\n    </tr>\n    <tr>\n      <th>4</th>\n      <td>e6ce</td>\n      <td>108.739</td>\n      <td>f6e2</td>\n      <td>116.273</td>\n    </tr>\n    <tr>\n      <th>5</th>\n      <td>e6c0</td>\n      <td>108.722</td>\n      <td>f6d1</td>\n      <td>116.282</td>\n    </tr>\n    <tr>\n      <th>6</th>\n      <td>e6cc</td>\n      <td>108.736</td>\n      <td>f6e0</td>\n      <td>116.311</td>\n    </tr>\n    <tr>\n      <th>7</th>\n      <td>e6bb</td>\n      <td>108.699</td>\n      <td>f6cc</td>\n      <td>116.267</td>\n    </tr>\n    <tr>\n      <th>8</th>\n      <td>e6df</td>\n      <td>108.750</td>\n      <td>f6f2</td>\n      <td>116.327</td>\n    </tr>\n    <tr>\n      <th>9</th>\n      <td>d702</td>\n      <td>108.747</td>\n      <td>e4e2</td>\n      <td>116.316</td>\n    </tr>\n    <tr>\n      <th>10</th>\n      <td>e6ea</td>\n      <td>108.743</td>\n      <td>f701</td>\n      <td>116.219</td>\n    </tr>\n    <tr>\n      <th>11</th>\n      <td>e6d4</td>\n      <td>108.732</td>\n      <td>f6e7</td>\n      <td>116.250</td>\n    </tr>\n  </tbody>\n</table>\n</div>"
     },
     "metadata": {},
     "execution_count": 7
    }
   ],
   "source": [
    "#build the dataframe to use to extract the calibration parameters\n",
    "if (DACset000 == '0x0'):\n",
    "    col0 = 'ADCmin'\n",
    "else: \n",
    "    #print('Error! not the expected values for the DACset')\n",
    "    sys.exit('Error! not the expected values for the DACset')\n",
    "\n",
    "\n",
    "if (DACsetFFF == '0xfff'):\n",
    "    col3 = 'ADCmax'\n",
    "else: \n",
    "    sys.exit('Error! not the expected values for the DACset')\n",
    "    \n",
    "\n",
    "df_out = pd.DataFrame(list(zip(ADCmin, DMMmin, ADCmax, DMMmax)), columns = [col0, 'DMMmin' ,  col3, 'DMMmax'])\n",
    "df_out"
   ]
  },
  {
   "cell_type": "code",
   "execution_count": 8,
   "metadata": {},
   "outputs": [
    {
     "output_type": "execute_result",
     "data": {
      "text/plain": [
       "    ADCmin   DMMmin  ADCmax   DMMmax\n",
       "0    59056  108.718   63164  116.288\n",
       "1    59086  108.744   63198  116.275\n",
       "2    55178  108.752   58716  116.328\n",
       "3    59079  108.746   63197  116.291\n",
       "4    59086  108.739   63202  116.273\n",
       "5    59072  108.722   63185  116.282\n",
       "6    59084  108.736   63200  116.311\n",
       "7    59067  108.699   63180  116.267\n",
       "8    59103  108.750   63218  116.327\n",
       "9    55042  108.747   58594  116.316\n",
       "10   59114  108.743   63233  116.219\n",
       "11   59092  108.732   63207  116.250"
      ],
      "text/html": "<div>\n<style scoped>\n    .dataframe tbody tr th:only-of-type {\n        vertical-align: middle;\n    }\n\n    .dataframe tbody tr th {\n        vertical-align: top;\n    }\n\n    .dataframe thead th {\n        text-align: right;\n    }\n</style>\n<table border=\"1\" class=\"dataframe\">\n  <thead>\n    <tr style=\"text-align: right;\">\n      <th></th>\n      <th>ADCmin</th>\n      <th>DMMmin</th>\n      <th>ADCmax</th>\n      <th>DMMmax</th>\n    </tr>\n  </thead>\n  <tbody>\n    <tr>\n      <th>0</th>\n      <td>59056</td>\n      <td>108.718</td>\n      <td>63164</td>\n      <td>116.288</td>\n    </tr>\n    <tr>\n      <th>1</th>\n      <td>59086</td>\n      <td>108.744</td>\n      <td>63198</td>\n      <td>116.275</td>\n    </tr>\n    <tr>\n      <th>2</th>\n      <td>55178</td>\n      <td>108.752</td>\n      <td>58716</td>\n      <td>116.328</td>\n    </tr>\n    <tr>\n      <th>3</th>\n      <td>59079</td>\n      <td>108.746</td>\n      <td>63197</td>\n      <td>116.291</td>\n    </tr>\n    <tr>\n      <th>4</th>\n      <td>59086</td>\n      <td>108.739</td>\n      <td>63202</td>\n      <td>116.273</td>\n    </tr>\n    <tr>\n      <th>5</th>\n      <td>59072</td>\n      <td>108.722</td>\n      <td>63185</td>\n      <td>116.282</td>\n    </tr>\n    <tr>\n      <th>6</th>\n      <td>59084</td>\n      <td>108.736</td>\n      <td>63200</td>\n      <td>116.311</td>\n    </tr>\n    <tr>\n      <th>7</th>\n      <td>59067</td>\n      <td>108.699</td>\n      <td>63180</td>\n      <td>116.267</td>\n    </tr>\n    <tr>\n      <th>8</th>\n      <td>59103</td>\n      <td>108.750</td>\n      <td>63218</td>\n      <td>116.327</td>\n    </tr>\n    <tr>\n      <th>9</th>\n      <td>55042</td>\n      <td>108.747</td>\n      <td>58594</td>\n      <td>116.316</td>\n    </tr>\n    <tr>\n      <th>10</th>\n      <td>59114</td>\n      <td>108.743</td>\n      <td>63233</td>\n      <td>116.219</td>\n    </tr>\n    <tr>\n      <th>11</th>\n      <td>59092</td>\n      <td>108.732</td>\n      <td>63207</td>\n      <td>116.250</td>\n    </tr>\n  </tbody>\n</table>\n</div>"
     },
     "metadata": {},
     "execution_count": 8
    }
   ],
   "source": [
    "#convert ADCmin and ADCmax in decimal numbers\n",
    "df_out = hex_to_dec(df_out)\n",
    "df_out"
   ]
  },
  {
   "cell_type": "code",
   "execution_count": 9,
   "metadata": {},
   "outputs": [
    {
     "output_type": "execute_result",
     "data": {
      "text/plain": [
       "    ADCmin   DMMmin  ADCmax   DMMmax  Gain BiasV  offset BiasV\n",
       "0    59056  108.718   63164  116.288    0.994198    -58.173844\n",
       "1    59086  108.744   63198  116.275    0.988114    289.292524\n",
       "2    55178  108.752   58716  116.328    1.155286  -4390.701162\n",
       "3    59079  108.746   63197  116.291    0.988508    273.687608\n",
       "4    59086  108.739   63202  116.273    0.987547    320.653040\n",
       "5    59072  108.722   63185  116.282    0.991678     77.945238\n",
       "6    59084  108.736   63200  116.311    0.992921     -0.518020\n",
       "7    59067  108.699   63180  116.267    0.992727      7.919001\n",
       "8    59103  108.750   63218  116.327    0.993424    -41.861027\n",
       "9    55042  108.747   58594  116.316    1.149669  -4008.925089\n",
       "10   59114  108.743   63233  116.219    0.979230    799.378411\n",
       "11   59092  108.732   63207  116.250    0.985689    422.788508"
      ],
      "text/html": "<div>\n<style scoped>\n    .dataframe tbody tr th:only-of-type {\n        vertical-align: middle;\n    }\n\n    .dataframe tbody tr th {\n        vertical-align: top;\n    }\n\n    .dataframe thead th {\n        text-align: right;\n    }\n</style>\n<table border=\"1\" class=\"dataframe\">\n  <thead>\n    <tr style=\"text-align: right;\">\n      <th></th>\n      <th>ADCmin</th>\n      <th>DMMmin</th>\n      <th>ADCmax</th>\n      <th>DMMmax</th>\n      <th>Gain BiasV</th>\n      <th>offset BiasV</th>\n    </tr>\n  </thead>\n  <tbody>\n    <tr>\n      <th>0</th>\n      <td>59056</td>\n      <td>108.718</td>\n      <td>63164</td>\n      <td>116.288</td>\n      <td>0.994198</td>\n      <td>-58.173844</td>\n    </tr>\n    <tr>\n      <th>1</th>\n      <td>59086</td>\n      <td>108.744</td>\n      <td>63198</td>\n      <td>116.275</td>\n      <td>0.988114</td>\n      <td>289.292524</td>\n    </tr>\n    <tr>\n      <th>2</th>\n      <td>55178</td>\n      <td>108.752</td>\n      <td>58716</td>\n      <td>116.328</td>\n      <td>1.155286</td>\n      <td>-4390.701162</td>\n    </tr>\n    <tr>\n      <th>3</th>\n      <td>59079</td>\n      <td>108.746</td>\n      <td>63197</td>\n      <td>116.291</td>\n      <td>0.988508</td>\n      <td>273.687608</td>\n    </tr>\n    <tr>\n      <th>4</th>\n      <td>59086</td>\n      <td>108.739</td>\n      <td>63202</td>\n      <td>116.273</td>\n      <td>0.987547</td>\n      <td>320.653040</td>\n    </tr>\n    <tr>\n      <th>5</th>\n      <td>59072</td>\n      <td>108.722</td>\n      <td>63185</td>\n      <td>116.282</td>\n      <td>0.991678</td>\n      <td>77.945238</td>\n    </tr>\n    <tr>\n      <th>6</th>\n      <td>59084</td>\n      <td>108.736</td>\n      <td>63200</td>\n      <td>116.311</td>\n      <td>0.992921</td>\n      <td>-0.518020</td>\n    </tr>\n    <tr>\n      <th>7</th>\n      <td>59067</td>\n      <td>108.699</td>\n      <td>63180</td>\n      <td>116.267</td>\n      <td>0.992727</td>\n      <td>7.919001</td>\n    </tr>\n    <tr>\n      <th>8</th>\n      <td>59103</td>\n      <td>108.750</td>\n      <td>63218</td>\n      <td>116.327</td>\n      <td>0.993424</td>\n      <td>-41.861027</td>\n    </tr>\n    <tr>\n      <th>9</th>\n      <td>55042</td>\n      <td>108.747</td>\n      <td>58594</td>\n      <td>116.316</td>\n      <td>1.149669</td>\n      <td>-4008.925089</td>\n    </tr>\n    <tr>\n      <th>10</th>\n      <td>59114</td>\n      <td>108.743</td>\n      <td>63233</td>\n      <td>116.219</td>\n      <td>0.979230</td>\n      <td>799.378411</td>\n    </tr>\n    <tr>\n      <th>11</th>\n      <td>59092</td>\n      <td>108.732</td>\n      <td>63207</td>\n      <td>116.250</td>\n      <td>0.985689</td>\n      <td>422.788508</td>\n    </tr>\n  </tbody>\n</table>\n</div>"
     },
     "metadata": {},
     "execution_count": 9
    }
   ],
   "source": [
    "# compute gain and offset for the Bias Voltages\n",
    "# a_coeff = 1.8535e-3\n",
    "# b_coeff = 0\n",
    "# Gain BiasV = (DMMmax - DMMmin) / (ADCmax - ADCmin ) * 1/a_coeff\n",
    "# offset BiasV = ADCmin - (DMMmin - b_coeff )/ (Gain BiasV * a_coeff )\n",
    "\n",
    "df_out = biasV_params(df_out)\n",
    "df_out"
   ]
  },
  {
   "cell_type": "code",
   "execution_count": 10,
   "metadata": {},
   "outputs": [
    {
     "output_type": "execute_result",
     "data": {
      "text/plain": [
       "    ADCmin   DMMmin  ADCmax   DMMmax  Gain BiasV  offset BiasV  \\\n",
       "0    59056  108.718   63164  116.288    0.994198    -58.173844   \n",
       "1    59086  108.744   63198  116.275    0.988114    289.292524   \n",
       "2    55178  108.752   58716  116.328    1.155286  -4390.701162   \n",
       "3    59079  108.746   63197  116.291    0.988508    273.687608   \n",
       "4    59086  108.739   63202  116.273    0.987547    320.653040   \n",
       "5    59072  108.722   63185  116.282    0.991678     77.945238   \n",
       "6    59084  108.736   63200  116.311    0.992921     -0.518020   \n",
       "7    59067  108.699   63180  116.267    0.992727      7.919001   \n",
       "8    59103  108.750   63218  116.327    0.993424    -41.861027   \n",
       "9    55042  108.747   58594  116.316    1.149669  -4008.925089   \n",
       "10   59114  108.743   63233  116.219    0.979230    799.378411   \n",
       "11   59092  108.732   63207  116.250    0.985689    422.788508   \n",
       "\n",
       "    Gain_Usig BiasV  Offset_Sig BiasV  \n",
       "0             32578               -58  \n",
       "1             32379               289  \n",
       "2             37856             -4391  \n",
       "3             32391               274  \n",
       "4             32360               321  \n",
       "5             32495                78  \n",
       "6             32536                -1  \n",
       "7             32530                 8  \n",
       "8             32553               -42  \n",
       "9             37672             -4009  \n",
       "10            32087               799  \n",
       "11            32299               423  "
      ],
      "text/html": "<div>\n<style scoped>\n    .dataframe tbody tr th:only-of-type {\n        vertical-align: middle;\n    }\n\n    .dataframe tbody tr th {\n        vertical-align: top;\n    }\n\n    .dataframe thead th {\n        text-align: right;\n    }\n</style>\n<table border=\"1\" class=\"dataframe\">\n  <thead>\n    <tr style=\"text-align: right;\">\n      <th></th>\n      <th>ADCmin</th>\n      <th>DMMmin</th>\n      <th>ADCmax</th>\n      <th>DMMmax</th>\n      <th>Gain BiasV</th>\n      <th>offset BiasV</th>\n      <th>Gain_Usig BiasV</th>\n      <th>Offset_Sig BiasV</th>\n    </tr>\n  </thead>\n  <tbody>\n    <tr>\n      <th>0</th>\n      <td>59056</td>\n      <td>108.718</td>\n      <td>63164</td>\n      <td>116.288</td>\n      <td>0.994198</td>\n      <td>-58.173844</td>\n      <td>32578</td>\n      <td>-58</td>\n    </tr>\n    <tr>\n      <th>1</th>\n      <td>59086</td>\n      <td>108.744</td>\n      <td>63198</td>\n      <td>116.275</td>\n      <td>0.988114</td>\n      <td>289.292524</td>\n      <td>32379</td>\n      <td>289</td>\n    </tr>\n    <tr>\n      <th>2</th>\n      <td>55178</td>\n      <td>108.752</td>\n      <td>58716</td>\n      <td>116.328</td>\n      <td>1.155286</td>\n      <td>-4390.701162</td>\n      <td>37856</td>\n      <td>-4391</td>\n    </tr>\n    <tr>\n      <th>3</th>\n      <td>59079</td>\n      <td>108.746</td>\n      <td>63197</td>\n      <td>116.291</td>\n      <td>0.988508</td>\n      <td>273.687608</td>\n      <td>32391</td>\n      <td>274</td>\n    </tr>\n    <tr>\n      <th>4</th>\n      <td>59086</td>\n      <td>108.739</td>\n      <td>63202</td>\n      <td>116.273</td>\n      <td>0.987547</td>\n      <td>320.653040</td>\n      <td>32360</td>\n      <td>321</td>\n    </tr>\n    <tr>\n      <th>5</th>\n      <td>59072</td>\n      <td>108.722</td>\n      <td>63185</td>\n      <td>116.282</td>\n      <td>0.991678</td>\n      <td>77.945238</td>\n      <td>32495</td>\n      <td>78</td>\n    </tr>\n    <tr>\n      <th>6</th>\n      <td>59084</td>\n      <td>108.736</td>\n      <td>63200</td>\n      <td>116.311</td>\n      <td>0.992921</td>\n      <td>-0.518020</td>\n      <td>32536</td>\n      <td>-1</td>\n    </tr>\n    <tr>\n      <th>7</th>\n      <td>59067</td>\n      <td>108.699</td>\n      <td>63180</td>\n      <td>116.267</td>\n      <td>0.992727</td>\n      <td>7.919001</td>\n      <td>32530</td>\n      <td>8</td>\n    </tr>\n    <tr>\n      <th>8</th>\n      <td>59103</td>\n      <td>108.750</td>\n      <td>63218</td>\n      <td>116.327</td>\n      <td>0.993424</td>\n      <td>-41.861027</td>\n      <td>32553</td>\n      <td>-42</td>\n    </tr>\n    <tr>\n      <th>9</th>\n      <td>55042</td>\n      <td>108.747</td>\n      <td>58594</td>\n      <td>116.316</td>\n      <td>1.149669</td>\n      <td>-4008.925089</td>\n      <td>37672</td>\n      <td>-4009</td>\n    </tr>\n    <tr>\n      <th>10</th>\n      <td>59114</td>\n      <td>108.743</td>\n      <td>63233</td>\n      <td>116.219</td>\n      <td>0.979230</td>\n      <td>799.378411</td>\n      <td>32087</td>\n      <td>799</td>\n    </tr>\n    <tr>\n      <th>11</th>\n      <td>59092</td>\n      <td>108.732</td>\n      <td>63207</td>\n      <td>116.250</td>\n      <td>0.985689</td>\n      <td>422.788508</td>\n      <td>32299</td>\n      <td>423</td>\n    </tr>\n  </tbody>\n</table>\n</div>"
     },
     "metadata": {},
     "execution_count": 10
    }
   ],
   "source": [
    "# Gain biasV = math.ceil(Gain BiasV* 32768)\n",
    "# Offset biasV = round(offset BiasV)  \n",
    "\n",
    "df_out = code_offsetandgain(df_out,'biasV')\n",
    "df_out"
   ]
  },
  {
   "cell_type": "code",
   "execution_count": 11,
   "metadata": {},
   "outputs": [
    {
     "output_type": "execute_result",
     "data": {
      "text/plain": [
       "    ADCmin   DMMmin  ADCmax   DMMmax  Gain BiasV  offset BiasV  \\\n",
       "0    59056  108.718   63164  116.288    0.994198    -58.173844   \n",
       "1    59086  108.744   63198  116.275    0.988114    289.292524   \n",
       "2    55178  108.752   58716  116.328    1.155286  -4390.701162   \n",
       "3    59079  108.746   63197  116.291    0.988508    273.687608   \n",
       "4    59086  108.739   63202  116.273    0.987547    320.653040   \n",
       "5    59072  108.722   63185  116.282    0.991678     77.945238   \n",
       "6    59084  108.736   63200  116.311    0.992921     -0.518020   \n",
       "7    59067  108.699   63180  116.267    0.992727      7.919001   \n",
       "8    59103  108.750   63218  116.327    0.993424    -41.861027   \n",
       "9    55042  108.747   58594  116.316    1.149669  -4008.925089   \n",
       "10   59114  108.743   63233  116.219    0.979230    799.378411   \n",
       "11   59092  108.732   63207  116.250    0.985689    422.788508   \n",
       "\n",
       "    Gain_Usig BiasV  Offset_Sig BiasV Gain_hex BiasV Offset_hex BiasV  \n",
       "0             32578               -58         0x7f42           0xffc6  \n",
       "1             32379               289         0x7e7b            0x121  \n",
       "2             37856             -4391         0x93e0           0xeed9  \n",
       "3             32391               274         0x7e87            0x112  \n",
       "4             32360               321         0x7e68            0x141  \n",
       "5             32495                78         0x7eef             0x4e  \n",
       "6             32536                -1         0x7f18           0xffff  \n",
       "7             32530                 8         0x7f12              0x8  \n",
       "8             32553               -42         0x7f29           0xffd6  \n",
       "9             37672             -4009         0x9328           0xf057  \n",
       "10            32087               799         0x7d57            0x31f  \n",
       "11            32299               423         0x7e2b            0x1a7  "
      ],
      "text/html": "<div>\n<style scoped>\n    .dataframe tbody tr th:only-of-type {\n        vertical-align: middle;\n    }\n\n    .dataframe tbody tr th {\n        vertical-align: top;\n    }\n\n    .dataframe thead th {\n        text-align: right;\n    }\n</style>\n<table border=\"1\" class=\"dataframe\">\n  <thead>\n    <tr style=\"text-align: right;\">\n      <th></th>\n      <th>ADCmin</th>\n      <th>DMMmin</th>\n      <th>ADCmax</th>\n      <th>DMMmax</th>\n      <th>Gain BiasV</th>\n      <th>offset BiasV</th>\n      <th>Gain_Usig BiasV</th>\n      <th>Offset_Sig BiasV</th>\n      <th>Gain_hex BiasV</th>\n      <th>Offset_hex BiasV</th>\n    </tr>\n  </thead>\n  <tbody>\n    <tr>\n      <th>0</th>\n      <td>59056</td>\n      <td>108.718</td>\n      <td>63164</td>\n      <td>116.288</td>\n      <td>0.994198</td>\n      <td>-58.173844</td>\n      <td>32578</td>\n      <td>-58</td>\n      <td>0x7f42</td>\n      <td>0xffc6</td>\n    </tr>\n    <tr>\n      <th>1</th>\n      <td>59086</td>\n      <td>108.744</td>\n      <td>63198</td>\n      <td>116.275</td>\n      <td>0.988114</td>\n      <td>289.292524</td>\n      <td>32379</td>\n      <td>289</td>\n      <td>0x7e7b</td>\n      <td>0x121</td>\n    </tr>\n    <tr>\n      <th>2</th>\n      <td>55178</td>\n      <td>108.752</td>\n      <td>58716</td>\n      <td>116.328</td>\n      <td>1.155286</td>\n      <td>-4390.701162</td>\n      <td>37856</td>\n      <td>-4391</td>\n      <td>0x93e0</td>\n      <td>0xeed9</td>\n    </tr>\n    <tr>\n      <th>3</th>\n      <td>59079</td>\n      <td>108.746</td>\n      <td>63197</td>\n      <td>116.291</td>\n      <td>0.988508</td>\n      <td>273.687608</td>\n      <td>32391</td>\n      <td>274</td>\n      <td>0x7e87</td>\n      <td>0x112</td>\n    </tr>\n    <tr>\n      <th>4</th>\n      <td>59086</td>\n      <td>108.739</td>\n      <td>63202</td>\n      <td>116.273</td>\n      <td>0.987547</td>\n      <td>320.653040</td>\n      <td>32360</td>\n      <td>321</td>\n      <td>0x7e68</td>\n      <td>0x141</td>\n    </tr>\n    <tr>\n      <th>5</th>\n      <td>59072</td>\n      <td>108.722</td>\n      <td>63185</td>\n      <td>116.282</td>\n      <td>0.991678</td>\n      <td>77.945238</td>\n      <td>32495</td>\n      <td>78</td>\n      <td>0x7eef</td>\n      <td>0x4e</td>\n    </tr>\n    <tr>\n      <th>6</th>\n      <td>59084</td>\n      <td>108.736</td>\n      <td>63200</td>\n      <td>116.311</td>\n      <td>0.992921</td>\n      <td>-0.518020</td>\n      <td>32536</td>\n      <td>-1</td>\n      <td>0x7f18</td>\n      <td>0xffff</td>\n    </tr>\n    <tr>\n      <th>7</th>\n      <td>59067</td>\n      <td>108.699</td>\n      <td>63180</td>\n      <td>116.267</td>\n      <td>0.992727</td>\n      <td>7.919001</td>\n      <td>32530</td>\n      <td>8</td>\n      <td>0x7f12</td>\n      <td>0x8</td>\n    </tr>\n    <tr>\n      <th>8</th>\n      <td>59103</td>\n      <td>108.750</td>\n      <td>63218</td>\n      <td>116.327</td>\n      <td>0.993424</td>\n      <td>-41.861027</td>\n      <td>32553</td>\n      <td>-42</td>\n      <td>0x7f29</td>\n      <td>0xffd6</td>\n    </tr>\n    <tr>\n      <th>9</th>\n      <td>55042</td>\n      <td>108.747</td>\n      <td>58594</td>\n      <td>116.316</td>\n      <td>1.149669</td>\n      <td>-4008.925089</td>\n      <td>37672</td>\n      <td>-4009</td>\n      <td>0x9328</td>\n      <td>0xf057</td>\n    </tr>\n    <tr>\n      <th>10</th>\n      <td>59114</td>\n      <td>108.743</td>\n      <td>63233</td>\n      <td>116.219</td>\n      <td>0.979230</td>\n      <td>799.378411</td>\n      <td>32087</td>\n      <td>799</td>\n      <td>0x7d57</td>\n      <td>0x31f</td>\n    </tr>\n    <tr>\n      <th>11</th>\n      <td>59092</td>\n      <td>108.732</td>\n      <td>63207</td>\n      <td>116.250</td>\n      <td>0.985689</td>\n      <td>422.788508</td>\n      <td>32299</td>\n      <td>423</td>\n      <td>0x7e2b</td>\n      <td>0x1a7</td>\n    </tr>\n  </tbody>\n</table>\n</div>"
     },
     "metadata": {},
     "execution_count": 11
    }
   ],
   "source": [
    "# convert following prescriptions\n",
    " # GainUsig BiasV   = hex(Gain_Usig BiasV) \n",
    " # Offset_Sig BiasV = tohextwocompl(Offset_Sig BiasV ,15) \n",
    "\n",
    "df_out = convert_to_exadec(df_out, 'biasV')\n",
    "df_out"
   ]
  },
  {
   "cell_type": "code",
   "execution_count": 12,
   "metadata": {},
   "outputs": [
    {
     "output_type": "execute_result",
     "data": {
      "text/plain": [
       "   ADCmin  DMMmin  ADCmax  DMMmax  Gain HV   offset HV\n",
       "0     601   1.305   64888   120.0  1.00295  105.807658"
      ],
      "text/html": "<div>\n<style scoped>\n    .dataframe tbody tr th:only-of-type {\n        vertical-align: middle;\n    }\n\n    .dataframe tbody tr th {\n        vertical-align: top;\n    }\n\n    .dataframe thead th {\n        text-align: right;\n    }\n</style>\n<table border=\"1\" class=\"dataframe\">\n  <thead>\n    <tr style=\"text-align: right;\">\n      <th></th>\n      <th>ADCmin</th>\n      <th>DMMmin</th>\n      <th>ADCmax</th>\n      <th>DMMmax</th>\n      <th>Gain HV</th>\n      <th>offset HV</th>\n    </tr>\n  </thead>\n  <tbody>\n    <tr>\n      <th>0</th>\n      <td>601</td>\n      <td>1.305</td>\n      <td>64888</td>\n      <td>120.0</td>\n      <td>1.00295</td>\n      <td>105.807658</td>\n    </tr>\n  </tbody>\n</table>\n</div>"
     },
     "metadata": {},
     "execution_count": 12
    }
   ],
   "source": [
    "#do the same for the HV\n",
    "#Compute gain and offset for the HV\n",
    "\n",
    "# a_coeff = 1.8409e-3\n",
    "# b_coeff = 0\n",
    "# Gain BiasV = (DMMmax - DMMmin) / (ADCmax - ADCmin ) * 1/a_coeff\n",
    "# offset BiasV = ADCmin - (DMMmin - b_coeff )/ (Gain BiasV * a_coeff )\n",
    "\n",
    "df_HV = hex_to_dec(df_HV)\n",
    "df_HV = HV_params(df_HV)\n",
    "df_HV"
   ]
  },
  {
   "cell_type": "code",
   "execution_count": 13,
   "metadata": {},
   "outputs": [
    {
     "output_type": "execute_result",
     "data": {
      "text/plain": [
       "   ADCmin  DMMmin  ADCmax  DMMmax  Gain HV   offset HV  Gain_Usig HV  \\\n",
       "0     601   1.305   64888   120.0  1.00295  105.807658         32865   \n",
       "\n",
       "   Offset_Sig HV  \n",
       "0            106  "
      ],
      "text/html": "<div>\n<style scoped>\n    .dataframe tbody tr th:only-of-type {\n        vertical-align: middle;\n    }\n\n    .dataframe tbody tr th {\n        vertical-align: top;\n    }\n\n    .dataframe thead th {\n        text-align: right;\n    }\n</style>\n<table border=\"1\" class=\"dataframe\">\n  <thead>\n    <tr style=\"text-align: right;\">\n      <th></th>\n      <th>ADCmin</th>\n      <th>DMMmin</th>\n      <th>ADCmax</th>\n      <th>DMMmax</th>\n      <th>Gain HV</th>\n      <th>offset HV</th>\n      <th>Gain_Usig HV</th>\n      <th>Offset_Sig HV</th>\n    </tr>\n  </thead>\n  <tbody>\n    <tr>\n      <th>0</th>\n      <td>601</td>\n      <td>1.305</td>\n      <td>64888</td>\n      <td>120.0</td>\n      <td>1.00295</td>\n      <td>105.807658</td>\n      <td>32865</td>\n      <td>106</td>\n    </tr>\n  </tbody>\n</table>\n</div>"
     },
     "metadata": {},
     "execution_count": 13
    }
   ],
   "source": [
    "# Gain HV = math.ceil(Gain HV* 32768)\n",
    "# Offset HV = round(offset HV)  \n",
    "\n",
    "df_HV = code_offsetandgain(df_HV,'HV')\n",
    "df_HV"
   ]
  },
  {
   "cell_type": "code",
   "execution_count": 14,
   "metadata": {},
   "outputs": [
    {
     "output_type": "execute_result",
     "data": {
      "text/plain": [
       "   ADCmin  DMMmin  ADCmax  DMMmax  Gain HV   offset HV  Gain_Usig HV  \\\n",
       "0     601   1.305   64888   120.0  1.00295  105.807658         32865   \n",
       "\n",
       "   Offset_Sig HV Gain_hex HV Offset_hex HV  \n",
       "0            106      0x8061          0x6a  "
      ],
      "text/html": "<div>\n<style scoped>\n    .dataframe tbody tr th:only-of-type {\n        vertical-align: middle;\n    }\n\n    .dataframe tbody tr th {\n        vertical-align: top;\n    }\n\n    .dataframe thead th {\n        text-align: right;\n    }\n</style>\n<table border=\"1\" class=\"dataframe\">\n  <thead>\n    <tr style=\"text-align: right;\">\n      <th></th>\n      <th>ADCmin</th>\n      <th>DMMmin</th>\n      <th>ADCmax</th>\n      <th>DMMmax</th>\n      <th>Gain HV</th>\n      <th>offset HV</th>\n      <th>Gain_Usig HV</th>\n      <th>Offset_Sig HV</th>\n      <th>Gain_hex HV</th>\n      <th>Offset_hex HV</th>\n    </tr>\n  </thead>\n  <tbody>\n    <tr>\n      <th>0</th>\n      <td>601</td>\n      <td>1.305</td>\n      <td>64888</td>\n      <td>120.0</td>\n      <td>1.00295</td>\n      <td>105.807658</td>\n      <td>32865</td>\n      <td>106</td>\n      <td>0x8061</td>\n      <td>0x6a</td>\n    </tr>\n  </tbody>\n</table>\n</div>"
     },
     "metadata": {},
     "execution_count": 14
    }
   ],
   "source": [
    "# convert following prescriptions\n",
    "# GainUsig BiasV   = hex(Gain_Usig HV) \n",
    "# Offset_Sig BiasV = tohextwocompl(Offset_Sig HV ,15) \n",
    "\n",
    "df_HV = convert_to_exadec(df_HV, 'HV')\n",
    "df_HV"
   ]
  },
  {
   "cell_type": "code",
   "execution_count": 15,
   "metadata": {},
   "outputs": [
    {
     "output_type": "stream",
     "name": "stdout",
     "text": [
      "   Gain_hex BiasV Offset_hex BiasV\n0          0x7f42           0xffc6\n1          0x7e7b            0x121\n2          0x93e0           0xeed9\n3          0x7e87            0x112\n4          0x7e68            0x141\n5          0x7eef             0x4e\n6          0x7f18           0xffff\n7          0x7f12              0x8\n8          0x7f29           0xffd6\n9          0x9328           0xf057\n10         0x7d57            0x31f\n11         0x7e2b            0x1a7\n\n\n\n\n  Gain_hex HV Offset_hex HV\n0      0x8061          0x6a\n"
     ]
    }
   ],
   "source": [
    "df_calib_biasV = df_out[['Gain_hex BiasV','Offset_hex BiasV'] ].copy()\n",
    "df_calib_biasV.to_csv('calibDB/calib_biasV_SN11_v2.csv')\n",
    "print(df_calib_biasV)\n",
    "\n",
    "print('\\n\\n\\n')\n",
    "df_calib_HV = df_HV[['Gain_hex HV','Offset_hex HV'] ].copy()\n",
    "df_calib_HV.to_csv('calibDB/calib_HV_SN11_v2.csv')\n",
    "print(df_calib_HV)"
   ]
  },
  {
   "cell_type": "code",
   "execution_count": 16,
   "metadata": {},
   "outputs": [],
   "source": [
    "df_calib_biasV_tocheck = df_out[['Gain_Usig BiasV', 'Offset_Sig BiasV', 'Gain_hex BiasV','Offset_hex BiasV']].copy()\n",
    "df_calib_biasV_tocheck.to_csv('calibDB/calib_biasV_SN11_v2_forcheck.csv')"
   ]
  },
  {
   "cell_type": "code",
   "execution_count": null,
   "metadata": {},
   "outputs": [],
   "source": []
  }
 ]
}
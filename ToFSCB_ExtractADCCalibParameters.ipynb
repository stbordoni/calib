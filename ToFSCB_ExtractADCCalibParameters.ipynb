{
 "metadata": {
  "language_info": {
   "codemirror_mode": {
    "name": "ipython",
    "version": 3
   },
   "file_extension": ".py",
   "mimetype": "text/x-python",
   "name": "python",
   "nbconvert_exporter": "python",
   "pygments_lexer": "ipython3",
   "version": "3.9.2"
  },
  "orig_nbformat": 2,
  "kernelspec": {
   "name": "python392jvsc74a57bd02b6c4d4d5861da4de20ae5397ab36a2c4fea6beca7bca7fb8955c39e63f73bb7",
   "display_name": "Python 3.9.2 64-bit ('.venv': venv)"
  }
 },
 "nbformat": 4,
 "nbformat_minor": 2,
 "cells": [
  {
   "cell_type": "code",
   "execution_count": 1,
   "metadata": {},
   "outputs": [],
   "source": [
    "import pandas as pd\n",
    "import numpy as np\n",
    "import matplotlib\n",
    "\n",
    "from readCanLitefileUtils import *\n",
    "from calibUtils import *"
   ]
  },
  {
   "cell_type": "code",
   "execution_count": 2,
   "metadata": {},
   "outputs": [],
   "source": [
    "# define the inputs\n",
    "\n",
    "#file 1 (DACset 0x000)\n",
    "file_DACset000 = './files/21-05-06_160653_calib_SN04_DACSet000_20x.csv'\n",
    "\n",
    "#file 2 (DACset 0xFFF)\n",
    "file_DACsetFFF = './files/21-05-06_160653_calib_SN04_DACSetFFF_20x.csv'\n",
    "\n",
    "DMMmin = [108.752, 108.755, 108.74, 108.744, 108.744, 108.744, \n",
    "          108.735, 108.741, 108.745, 108.715, 108.726, 108.755]\n",
    "\n",
    "DMMmax = [116.327, 116.332, 116.314, 116.318, 116.32, 116.312,\n",
    "          116.309, 116.315, 116.32, 116.291, 116.301, 116.341]\n",
    "\n",
    "#data for HV calibration\n",
    "data_HV = {'ADCmin': [0x02EB], 'DMMmin': [1.378], 'ADCmax': [0xFEB5], 'DMMmax': [120]}\n",
    "df_HV = pd.DataFrame(data=data_HV)"
   ]
  },
  {
   "cell_type": "code",
   "execution_count": 3,
   "metadata": {},
   "outputs": [],
   "source": [
    "def GetADCvalues(file_DACset):\n",
    "\n",
    "    tmp_df = pd.read_csv(file_DACset)\n",
    "\n",
    "    #remove some columns not exploitable\n",
    "    tmp_df.drop(['Bus','No', 'ID (hex)', 'Message', 'ASCII'], inplace=True, axis=1)\n",
    "\n",
    "    #save dataframe in a file to be read by the script\n",
    "    filename = file_DACset.split('/')[2]\n",
    "    tmp_filename = 'calibfile_fromscript_'+ filename+'.txt'\n",
    "    tmp_df.to_csv(tmp_filename, sep=',', index=False, header=False, quotechar = ' ')\n",
    "\n",
    "    #open file to read\n",
    "    infile = open(tmp_filename, 'r')\n",
    "\n",
    "    #call function which read the file and return the content ordered in a list of dictionaries\n",
    "    d_list = readfile(infile)\n",
    "\n",
    "    DACset = getDACsetperchannel(d_list)\n",
    "    DACset\n",
    "\n",
    "    my_allch_list = getADCperchannel(d_list)\n",
    "    mych_average_biasV = Getch_average(my_allch_list)\n",
    "    hexprint = list(map(trunchex, mych_average_biasV))\n",
    "\n",
    "\n",
    "    return DACset, hexprint"
   ]
  },
  {
   "cell_type": "code",
   "execution_count": 4,
   "metadata": {},
   "outputs": [],
   "source": [
    "DACset000, ADCmin = GetADCvalues(file_DACset000)\n",
    "#print(DACset000)\n",
    "#print(ADCmin)\n",
    "\n",
    "DACsetFFF, ADCmax = GetADCvalues(file_DACsetFFF)"
   ]
  },
  {
   "cell_type": "code",
   "execution_count": 5,
   "metadata": {},
   "outputs": [
    {
     "output_type": "execute_result",
     "data": {
      "text/plain": [
       "   ADCmin   DMMmin ADCmax   DMMmax\n",
       "0    e6b6  108.752   f6c9  116.327\n",
       "1    e6bb  108.755   f6cf  116.332\n",
       "2    e6b4  108.740   f6c7  116.314\n",
       "3    e6ad  108.744   f6bf  116.318\n",
       "4    e6c2  108.744   f6d5  116.320\n",
       "5    e6ba  108.744   f6c9  116.312\n",
       "6    e6ae  108.735   f6c1  116.309\n",
       "7    e6b7  108.741   f6c9  116.315\n",
       "8    e6fa  108.745   f701  116.320\n",
       "9    e6cf  108.715   f6e6  116.291\n",
       "10   e6d9  108.726   f6ee  116.301\n",
       "11   e6e0  108.755   f6fc  116.341"
      ],
      "text/html": "<div>\n<style scoped>\n    .dataframe tbody tr th:only-of-type {\n        vertical-align: middle;\n    }\n\n    .dataframe tbody tr th {\n        vertical-align: top;\n    }\n\n    .dataframe thead th {\n        text-align: right;\n    }\n</style>\n<table border=\"1\" class=\"dataframe\">\n  <thead>\n    <tr style=\"text-align: right;\">\n      <th></th>\n      <th>ADCmin</th>\n      <th>DMMmin</th>\n      <th>ADCmax</th>\n      <th>DMMmax</th>\n    </tr>\n  </thead>\n  <tbody>\n    <tr>\n      <th>0</th>\n      <td>e6b6</td>\n      <td>108.752</td>\n      <td>f6c9</td>\n      <td>116.327</td>\n    </tr>\n    <tr>\n      <th>1</th>\n      <td>e6bb</td>\n      <td>108.755</td>\n      <td>f6cf</td>\n      <td>116.332</td>\n    </tr>\n    <tr>\n      <th>2</th>\n      <td>e6b4</td>\n      <td>108.740</td>\n      <td>f6c7</td>\n      <td>116.314</td>\n    </tr>\n    <tr>\n      <th>3</th>\n      <td>e6ad</td>\n      <td>108.744</td>\n      <td>f6bf</td>\n      <td>116.318</td>\n    </tr>\n    <tr>\n      <th>4</th>\n      <td>e6c2</td>\n      <td>108.744</td>\n      <td>f6d5</td>\n      <td>116.320</td>\n    </tr>\n    <tr>\n      <th>5</th>\n      <td>e6ba</td>\n      <td>108.744</td>\n      <td>f6c9</td>\n      <td>116.312</td>\n    </tr>\n    <tr>\n      <th>6</th>\n      <td>e6ae</td>\n      <td>108.735</td>\n      <td>f6c1</td>\n      <td>116.309</td>\n    </tr>\n    <tr>\n      <th>7</th>\n      <td>e6b7</td>\n      <td>108.741</td>\n      <td>f6c9</td>\n      <td>116.315</td>\n    </tr>\n    <tr>\n      <th>8</th>\n      <td>e6fa</td>\n      <td>108.745</td>\n      <td>f701</td>\n      <td>116.320</td>\n    </tr>\n    <tr>\n      <th>9</th>\n      <td>e6cf</td>\n      <td>108.715</td>\n      <td>f6e6</td>\n      <td>116.291</td>\n    </tr>\n    <tr>\n      <th>10</th>\n      <td>e6d9</td>\n      <td>108.726</td>\n      <td>f6ee</td>\n      <td>116.301</td>\n    </tr>\n    <tr>\n      <th>11</th>\n      <td>e6e0</td>\n      <td>108.755</td>\n      <td>f6fc</td>\n      <td>116.341</td>\n    </tr>\n  </tbody>\n</table>\n</div>"
     },
     "metadata": {},
     "execution_count": 5
    }
   ],
   "source": [
    "#build the dataframe to use to extract the calibration parameters\n",
    "if (DACset000 == '0x0'):\n",
    "    col0 = 'ADCmin'\n",
    "else: \n",
    "    print('Error! not the expected values for the DACset')\n",
    "    abort()\n",
    "\n",
    "if (DACsetFFF == '0xfff'):\n",
    "    col3 = 'ADCmax'\n",
    "else: \n",
    "    print('Error! not the expected values for the DACset')\n",
    "    abort()\n",
    "\n",
    "    df_out = pd.DataFrame(list(zip(ADCmin, DMMmin, ADCmax, DMMmax)), columns = [col0, 'DMMmin' ,  col3, 'DMMmax'])\n",
    "    df_out"
   ]
  },
  {
   "cell_type": "code",
   "execution_count": 6,
   "metadata": {},
   "outputs": [
    {
     "output_type": "execute_result",
     "data": {
      "text/plain": [
       "    ADCmin   DMMmin  ADCmax   DMMmax\n",
       "0    59062  108.752   63177  116.327\n",
       "1    59067  108.755   63183  116.332\n",
       "2    59060  108.740   63175  116.314\n",
       "3    59053  108.744   63167  116.318\n",
       "4    59074  108.744   63189  116.320\n",
       "5    59066  108.744   63177  116.312\n",
       "6    59054  108.735   63169  116.309\n",
       "7    59063  108.741   63177  116.315\n",
       "8    59130  108.745   63233  116.320\n",
       "9    59087  108.715   63206  116.291\n",
       "10   59097  108.726   63214  116.301\n",
       "11   59104  108.755   63228  116.341"
      ],
      "text/html": "<div>\n<style scoped>\n    .dataframe tbody tr th:only-of-type {\n        vertical-align: middle;\n    }\n\n    .dataframe tbody tr th {\n        vertical-align: top;\n    }\n\n    .dataframe thead th {\n        text-align: right;\n    }\n</style>\n<table border=\"1\" class=\"dataframe\">\n  <thead>\n    <tr style=\"text-align: right;\">\n      <th></th>\n      <th>ADCmin</th>\n      <th>DMMmin</th>\n      <th>ADCmax</th>\n      <th>DMMmax</th>\n    </tr>\n  </thead>\n  <tbody>\n    <tr>\n      <th>0</th>\n      <td>59062</td>\n      <td>108.752</td>\n      <td>63177</td>\n      <td>116.327</td>\n    </tr>\n    <tr>\n      <th>1</th>\n      <td>59067</td>\n      <td>108.755</td>\n      <td>63183</td>\n      <td>116.332</td>\n    </tr>\n    <tr>\n      <th>2</th>\n      <td>59060</td>\n      <td>108.740</td>\n      <td>63175</td>\n      <td>116.314</td>\n    </tr>\n    <tr>\n      <th>3</th>\n      <td>59053</td>\n      <td>108.744</td>\n      <td>63167</td>\n      <td>116.318</td>\n    </tr>\n    <tr>\n      <th>4</th>\n      <td>59074</td>\n      <td>108.744</td>\n      <td>63189</td>\n      <td>116.320</td>\n    </tr>\n    <tr>\n      <th>5</th>\n      <td>59066</td>\n      <td>108.744</td>\n      <td>63177</td>\n      <td>116.312</td>\n    </tr>\n    <tr>\n      <th>6</th>\n      <td>59054</td>\n      <td>108.735</td>\n      <td>63169</td>\n      <td>116.309</td>\n    </tr>\n    <tr>\n      <th>7</th>\n      <td>59063</td>\n      <td>108.741</td>\n      <td>63177</td>\n      <td>116.315</td>\n    </tr>\n    <tr>\n      <th>8</th>\n      <td>59130</td>\n      <td>108.745</td>\n      <td>63233</td>\n      <td>116.320</td>\n    </tr>\n    <tr>\n      <th>9</th>\n      <td>59087</td>\n      <td>108.715</td>\n      <td>63206</td>\n      <td>116.291</td>\n    </tr>\n    <tr>\n      <th>10</th>\n      <td>59097</td>\n      <td>108.726</td>\n      <td>63214</td>\n      <td>116.301</td>\n    </tr>\n    <tr>\n      <th>11</th>\n      <td>59104</td>\n      <td>108.755</td>\n      <td>63228</td>\n      <td>116.341</td>\n    </tr>\n  </tbody>\n</table>\n</div>"
     },
     "metadata": {},
     "execution_count": 6
    }
   ],
   "source": [
    "#convert ADCmin and ADCmax in decimal numbers\n",
    "df_out = hex_to_dec(df_out)\n",
    "df_out"
   ]
  },
  {
   "cell_type": "code",
   "execution_count": 7,
   "metadata": {},
   "outputs": [
    {
     "output_type": "execute_result",
     "data": {
      "text/plain": [
       "    ADCmin   DMMmin  ADCmax   DMMmax  Gain BiasV  offset BiasV\n",
       "0    59062  108.752   63177  116.327    0.993162     15.819142\n",
       "1    59067  108.755   63183  116.332    0.993183     11.207734\n",
       "2    59060  108.740   63175  116.314    0.993031     19.099551\n",
       "3    59053  108.744   63167  116.318    0.993273     13.915236\n",
       "4    59074  108.744   63189  116.320    0.993293     -8.324182\n",
       "5    59066  108.744   63177  116.312    0.993210      4.637421\n",
       "6    59054  108.735   63169  116.309    0.993031     22.383021\n",
       "7    59063  108.741   63177  116.315    0.993273      2.285714\n",
       "8    59130  108.745   63233  116.320    0.996067   -228.252805\n",
       "9    59087  108.715   63206  116.291    0.992329     20.323786\n",
       "10   59097  108.726   63214  116.301    0.992680     -4.598416\n",
       "11   59104  108.755   63228  116.341    0.992434     18.807804"
      ],
      "text/html": "<div>\n<style scoped>\n    .dataframe tbody tr th:only-of-type {\n        vertical-align: middle;\n    }\n\n    .dataframe tbody tr th {\n        vertical-align: top;\n    }\n\n    .dataframe thead th {\n        text-align: right;\n    }\n</style>\n<table border=\"1\" class=\"dataframe\">\n  <thead>\n    <tr style=\"text-align: right;\">\n      <th></th>\n      <th>ADCmin</th>\n      <th>DMMmin</th>\n      <th>ADCmax</th>\n      <th>DMMmax</th>\n      <th>Gain BiasV</th>\n      <th>offset BiasV</th>\n    </tr>\n  </thead>\n  <tbody>\n    <tr>\n      <th>0</th>\n      <td>59062</td>\n      <td>108.752</td>\n      <td>63177</td>\n      <td>116.327</td>\n      <td>0.993162</td>\n      <td>15.819142</td>\n    </tr>\n    <tr>\n      <th>1</th>\n      <td>59067</td>\n      <td>108.755</td>\n      <td>63183</td>\n      <td>116.332</td>\n      <td>0.993183</td>\n      <td>11.207734</td>\n    </tr>\n    <tr>\n      <th>2</th>\n      <td>59060</td>\n      <td>108.740</td>\n      <td>63175</td>\n      <td>116.314</td>\n      <td>0.993031</td>\n      <td>19.099551</td>\n    </tr>\n    <tr>\n      <th>3</th>\n      <td>59053</td>\n      <td>108.744</td>\n      <td>63167</td>\n      <td>116.318</td>\n      <td>0.993273</td>\n      <td>13.915236</td>\n    </tr>\n    <tr>\n      <th>4</th>\n      <td>59074</td>\n      <td>108.744</td>\n      <td>63189</td>\n      <td>116.320</td>\n      <td>0.993293</td>\n      <td>-8.324182</td>\n    </tr>\n    <tr>\n      <th>5</th>\n      <td>59066</td>\n      <td>108.744</td>\n      <td>63177</td>\n      <td>116.312</td>\n      <td>0.993210</td>\n      <td>4.637421</td>\n    </tr>\n    <tr>\n      <th>6</th>\n      <td>59054</td>\n      <td>108.735</td>\n      <td>63169</td>\n      <td>116.309</td>\n      <td>0.993031</td>\n      <td>22.383021</td>\n    </tr>\n    <tr>\n      <th>7</th>\n      <td>59063</td>\n      <td>108.741</td>\n      <td>63177</td>\n      <td>116.315</td>\n      <td>0.993273</td>\n      <td>2.285714</td>\n    </tr>\n    <tr>\n      <th>8</th>\n      <td>59130</td>\n      <td>108.745</td>\n      <td>63233</td>\n      <td>116.320</td>\n      <td>0.996067</td>\n      <td>-228.252805</td>\n    </tr>\n    <tr>\n      <th>9</th>\n      <td>59087</td>\n      <td>108.715</td>\n      <td>63206</td>\n      <td>116.291</td>\n      <td>0.992329</td>\n      <td>20.323786</td>\n    </tr>\n    <tr>\n      <th>10</th>\n      <td>59097</td>\n      <td>108.726</td>\n      <td>63214</td>\n      <td>116.301</td>\n      <td>0.992680</td>\n      <td>-4.598416</td>\n    </tr>\n    <tr>\n      <th>11</th>\n      <td>59104</td>\n      <td>108.755</td>\n      <td>63228</td>\n      <td>116.341</td>\n      <td>0.992434</td>\n      <td>18.807804</td>\n    </tr>\n  </tbody>\n</table>\n</div>"
     },
     "metadata": {},
     "execution_count": 7
    }
   ],
   "source": [
    "# compute gain and offset for the Bias Voltages\n",
    "# a_coeff = 1.8535e-3\n",
    "# b_coeff = 0\n",
    "# Gain BiasV = (DMMmax - DMMmin) / (ADCmax - ADCmin ) * 1/a_coeff\n",
    "# offset BiasV = ADCmin - (DMMmin - b_coeff )/ (Gain BiasV * a_coeff )\n",
    "\n",
    "df_out = biasV_params(df_out)\n",
    "df_out"
   ]
  },
  {
   "cell_type": "code",
   "execution_count": 8,
   "metadata": {},
   "outputs": [
    {
     "output_type": "execute_result",
     "data": {
      "text/plain": [
       "    ADCmin   DMMmin  ADCmax   DMMmax  Gain BiasV  offset BiasV  \\\n",
       "0    59062  108.752   63177  116.327    0.993162     15.819142   \n",
       "1    59067  108.755   63183  116.332    0.993183     11.207734   \n",
       "2    59060  108.740   63175  116.314    0.993031     19.099551   \n",
       "3    59053  108.744   63167  116.318    0.993273     13.915236   \n",
       "4    59074  108.744   63189  116.320    0.993293     -8.324182   \n",
       "5    59066  108.744   63177  116.312    0.993210      4.637421   \n",
       "6    59054  108.735   63169  116.309    0.993031     22.383021   \n",
       "7    59063  108.741   63177  116.315    0.993273      2.285714   \n",
       "8    59130  108.745   63233  116.320    0.996067   -228.252805   \n",
       "9    59087  108.715   63206  116.291    0.992329     20.323786   \n",
       "10   59097  108.726   63214  116.301    0.992680     -4.598416   \n",
       "11   59104  108.755   63228  116.341    0.992434     18.807804   \n",
       "\n",
       "    Gain_Usig BiasV  Offset_Sig BiasV  \n",
       "0             32544                16  \n",
       "1             32545                11  \n",
       "2             32540                19  \n",
       "3             32548                14  \n",
       "4             32548                -8  \n",
       "5             32546                 5  \n",
       "6             32540                22  \n",
       "7             32548                 2  \n",
       "8             32639              -228  \n",
       "9             32517                20  \n",
       "10            32528                -5  \n",
       "11            32520                19  "
      ],
      "text/html": "<div>\n<style scoped>\n    .dataframe tbody tr th:only-of-type {\n        vertical-align: middle;\n    }\n\n    .dataframe tbody tr th {\n        vertical-align: top;\n    }\n\n    .dataframe thead th {\n        text-align: right;\n    }\n</style>\n<table border=\"1\" class=\"dataframe\">\n  <thead>\n    <tr style=\"text-align: right;\">\n      <th></th>\n      <th>ADCmin</th>\n      <th>DMMmin</th>\n      <th>ADCmax</th>\n      <th>DMMmax</th>\n      <th>Gain BiasV</th>\n      <th>offset BiasV</th>\n      <th>Gain_Usig BiasV</th>\n      <th>Offset_Sig BiasV</th>\n    </tr>\n  </thead>\n  <tbody>\n    <tr>\n      <th>0</th>\n      <td>59062</td>\n      <td>108.752</td>\n      <td>63177</td>\n      <td>116.327</td>\n      <td>0.993162</td>\n      <td>15.819142</td>\n      <td>32544</td>\n      <td>16</td>\n    </tr>\n    <tr>\n      <th>1</th>\n      <td>59067</td>\n      <td>108.755</td>\n      <td>63183</td>\n      <td>116.332</td>\n      <td>0.993183</td>\n      <td>11.207734</td>\n      <td>32545</td>\n      <td>11</td>\n    </tr>\n    <tr>\n      <th>2</th>\n      <td>59060</td>\n      <td>108.740</td>\n      <td>63175</td>\n      <td>116.314</td>\n      <td>0.993031</td>\n      <td>19.099551</td>\n      <td>32540</td>\n      <td>19</td>\n    </tr>\n    <tr>\n      <th>3</th>\n      <td>59053</td>\n      <td>108.744</td>\n      <td>63167</td>\n      <td>116.318</td>\n      <td>0.993273</td>\n      <td>13.915236</td>\n      <td>32548</td>\n      <td>14</td>\n    </tr>\n    <tr>\n      <th>4</th>\n      <td>59074</td>\n      <td>108.744</td>\n      <td>63189</td>\n      <td>116.320</td>\n      <td>0.993293</td>\n      <td>-8.324182</td>\n      <td>32548</td>\n      <td>-8</td>\n    </tr>\n    <tr>\n      <th>5</th>\n      <td>59066</td>\n      <td>108.744</td>\n      <td>63177</td>\n      <td>116.312</td>\n      <td>0.993210</td>\n      <td>4.637421</td>\n      <td>32546</td>\n      <td>5</td>\n    </tr>\n    <tr>\n      <th>6</th>\n      <td>59054</td>\n      <td>108.735</td>\n      <td>63169</td>\n      <td>116.309</td>\n      <td>0.993031</td>\n      <td>22.383021</td>\n      <td>32540</td>\n      <td>22</td>\n    </tr>\n    <tr>\n      <th>7</th>\n      <td>59063</td>\n      <td>108.741</td>\n      <td>63177</td>\n      <td>116.315</td>\n      <td>0.993273</td>\n      <td>2.285714</td>\n      <td>32548</td>\n      <td>2</td>\n    </tr>\n    <tr>\n      <th>8</th>\n      <td>59130</td>\n      <td>108.745</td>\n      <td>63233</td>\n      <td>116.320</td>\n      <td>0.996067</td>\n      <td>-228.252805</td>\n      <td>32639</td>\n      <td>-228</td>\n    </tr>\n    <tr>\n      <th>9</th>\n      <td>59087</td>\n      <td>108.715</td>\n      <td>63206</td>\n      <td>116.291</td>\n      <td>0.992329</td>\n      <td>20.323786</td>\n      <td>32517</td>\n      <td>20</td>\n    </tr>\n    <tr>\n      <th>10</th>\n      <td>59097</td>\n      <td>108.726</td>\n      <td>63214</td>\n      <td>116.301</td>\n      <td>0.992680</td>\n      <td>-4.598416</td>\n      <td>32528</td>\n      <td>-5</td>\n    </tr>\n    <tr>\n      <th>11</th>\n      <td>59104</td>\n      <td>108.755</td>\n      <td>63228</td>\n      <td>116.341</td>\n      <td>0.992434</td>\n      <td>18.807804</td>\n      <td>32520</td>\n      <td>19</td>\n    </tr>\n  </tbody>\n</table>\n</div>"
     },
     "metadata": {},
     "execution_count": 8
    }
   ],
   "source": [
    "# Gain biasV = math.ceil(Gain BiasV* 32768)\n",
    "# Offset biasV = round(offset BiasV)  \n",
    "\n",
    "df_out = code_offsetandgain(df_out,'biasV')\n",
    "df_out"
   ]
  },
  {
   "cell_type": "code",
   "execution_count": 9,
   "metadata": {},
   "outputs": [
    {
     "output_type": "execute_result",
     "data": {
      "text/plain": [
       "    ADCmin   DMMmin  ADCmax   DMMmax  Gain BiasV  offset BiasV  \\\n",
       "0    59062  108.752   63177  116.327    0.993162     15.819142   \n",
       "1    59067  108.755   63183  116.332    0.993183     11.207734   \n",
       "2    59060  108.740   63175  116.314    0.993031     19.099551   \n",
       "3    59053  108.744   63167  116.318    0.993273     13.915236   \n",
       "4    59074  108.744   63189  116.320    0.993293     -8.324182   \n",
       "5    59066  108.744   63177  116.312    0.993210      4.637421   \n",
       "6    59054  108.735   63169  116.309    0.993031     22.383021   \n",
       "7    59063  108.741   63177  116.315    0.993273      2.285714   \n",
       "8    59130  108.745   63233  116.320    0.996067   -228.252805   \n",
       "9    59087  108.715   63206  116.291    0.992329     20.323786   \n",
       "10   59097  108.726   63214  116.301    0.992680     -4.598416   \n",
       "11   59104  108.755   63228  116.341    0.992434     18.807804   \n",
       "\n",
       "    Gain_Usig BiasV  Offset_Sig BiasV Gain_hex BiasV Offset_hex BiasV  \n",
       "0             32544                16         0x7f20             0x10  \n",
       "1             32545                11         0x7f21              0xb  \n",
       "2             32540                19         0x7f1c             0x13  \n",
       "3             32548                14         0x7f24              0xe  \n",
       "4             32548                -8         0x7f24           0xfff8  \n",
       "5             32546                 5         0x7f22              0x5  \n",
       "6             32540                22         0x7f1c             0x16  \n",
       "7             32548                 2         0x7f24              0x2  \n",
       "8             32639              -228         0x7f7f           0xff1c  \n",
       "9             32517                20         0x7f05             0x14  \n",
       "10            32528                -5         0x7f10           0xfffb  \n",
       "11            32520                19         0x7f08             0x13  "
      ],
      "text/html": "<div>\n<style scoped>\n    .dataframe tbody tr th:only-of-type {\n        vertical-align: middle;\n    }\n\n    .dataframe tbody tr th {\n        vertical-align: top;\n    }\n\n    .dataframe thead th {\n        text-align: right;\n    }\n</style>\n<table border=\"1\" class=\"dataframe\">\n  <thead>\n    <tr style=\"text-align: right;\">\n      <th></th>\n      <th>ADCmin</th>\n      <th>DMMmin</th>\n      <th>ADCmax</th>\n      <th>DMMmax</th>\n      <th>Gain BiasV</th>\n      <th>offset BiasV</th>\n      <th>Gain_Usig BiasV</th>\n      <th>Offset_Sig BiasV</th>\n      <th>Gain_hex BiasV</th>\n      <th>Offset_hex BiasV</th>\n    </tr>\n  </thead>\n  <tbody>\n    <tr>\n      <th>0</th>\n      <td>59062</td>\n      <td>108.752</td>\n      <td>63177</td>\n      <td>116.327</td>\n      <td>0.993162</td>\n      <td>15.819142</td>\n      <td>32544</td>\n      <td>16</td>\n      <td>0x7f20</td>\n      <td>0x10</td>\n    </tr>\n    <tr>\n      <th>1</th>\n      <td>59067</td>\n      <td>108.755</td>\n      <td>63183</td>\n      <td>116.332</td>\n      <td>0.993183</td>\n      <td>11.207734</td>\n      <td>32545</td>\n      <td>11</td>\n      <td>0x7f21</td>\n      <td>0xb</td>\n    </tr>\n    <tr>\n      <th>2</th>\n      <td>59060</td>\n      <td>108.740</td>\n      <td>63175</td>\n      <td>116.314</td>\n      <td>0.993031</td>\n      <td>19.099551</td>\n      <td>32540</td>\n      <td>19</td>\n      <td>0x7f1c</td>\n      <td>0x13</td>\n    </tr>\n    <tr>\n      <th>3</th>\n      <td>59053</td>\n      <td>108.744</td>\n      <td>63167</td>\n      <td>116.318</td>\n      <td>0.993273</td>\n      <td>13.915236</td>\n      <td>32548</td>\n      <td>14</td>\n      <td>0x7f24</td>\n      <td>0xe</td>\n    </tr>\n    <tr>\n      <th>4</th>\n      <td>59074</td>\n      <td>108.744</td>\n      <td>63189</td>\n      <td>116.320</td>\n      <td>0.993293</td>\n      <td>-8.324182</td>\n      <td>32548</td>\n      <td>-8</td>\n      <td>0x7f24</td>\n      <td>0xfff8</td>\n    </tr>\n    <tr>\n      <th>5</th>\n      <td>59066</td>\n      <td>108.744</td>\n      <td>63177</td>\n      <td>116.312</td>\n      <td>0.993210</td>\n      <td>4.637421</td>\n      <td>32546</td>\n      <td>5</td>\n      <td>0x7f22</td>\n      <td>0x5</td>\n    </tr>\n    <tr>\n      <th>6</th>\n      <td>59054</td>\n      <td>108.735</td>\n      <td>63169</td>\n      <td>116.309</td>\n      <td>0.993031</td>\n      <td>22.383021</td>\n      <td>32540</td>\n      <td>22</td>\n      <td>0x7f1c</td>\n      <td>0x16</td>\n    </tr>\n    <tr>\n      <th>7</th>\n      <td>59063</td>\n      <td>108.741</td>\n      <td>63177</td>\n      <td>116.315</td>\n      <td>0.993273</td>\n      <td>2.285714</td>\n      <td>32548</td>\n      <td>2</td>\n      <td>0x7f24</td>\n      <td>0x2</td>\n    </tr>\n    <tr>\n      <th>8</th>\n      <td>59130</td>\n      <td>108.745</td>\n      <td>63233</td>\n      <td>116.320</td>\n      <td>0.996067</td>\n      <td>-228.252805</td>\n      <td>32639</td>\n      <td>-228</td>\n      <td>0x7f7f</td>\n      <td>0xff1c</td>\n    </tr>\n    <tr>\n      <th>9</th>\n      <td>59087</td>\n      <td>108.715</td>\n      <td>63206</td>\n      <td>116.291</td>\n      <td>0.992329</td>\n      <td>20.323786</td>\n      <td>32517</td>\n      <td>20</td>\n      <td>0x7f05</td>\n      <td>0x14</td>\n    </tr>\n    <tr>\n      <th>10</th>\n      <td>59097</td>\n      <td>108.726</td>\n      <td>63214</td>\n      <td>116.301</td>\n      <td>0.992680</td>\n      <td>-4.598416</td>\n      <td>32528</td>\n      <td>-5</td>\n      <td>0x7f10</td>\n      <td>0xfffb</td>\n    </tr>\n    <tr>\n      <th>11</th>\n      <td>59104</td>\n      <td>108.755</td>\n      <td>63228</td>\n      <td>116.341</td>\n      <td>0.992434</td>\n      <td>18.807804</td>\n      <td>32520</td>\n      <td>19</td>\n      <td>0x7f08</td>\n      <td>0x13</td>\n    </tr>\n  </tbody>\n</table>\n</div>"
     },
     "metadata": {},
     "execution_count": 9
    }
   ],
   "source": [
    "# convert following prescriptions\n",
    " # GainUsig BiasV   = hex(Gain_Usig BiasV) \n",
    " # Offset_Sig BiasV = tohextwocompl(Offset_Sig BiasV ,15) \n",
    "\n",
    "df_out = convert_to_exadec(df_out, 'biasV')\n",
    "df_out"
   ]
  },
  {
   "cell_type": "code",
   "execution_count": 10,
   "metadata": {},
   "outputs": [
    {
     "output_type": "execute_result",
     "data": {
      "text/plain": [
       "   ADCmin  DMMmin  ADCmax  DMMmax   Gain HV  offset HV\n",
       "0     747   1.378   65205     120  0.999674    1.79132"
      ],
      "text/html": "<div>\n<style scoped>\n    .dataframe tbody tr th:only-of-type {\n        vertical-align: middle;\n    }\n\n    .dataframe tbody tr th {\n        vertical-align: top;\n    }\n\n    .dataframe thead th {\n        text-align: right;\n    }\n</style>\n<table border=\"1\" class=\"dataframe\">\n  <thead>\n    <tr style=\"text-align: right;\">\n      <th></th>\n      <th>ADCmin</th>\n      <th>DMMmin</th>\n      <th>ADCmax</th>\n      <th>DMMmax</th>\n      <th>Gain HV</th>\n      <th>offset HV</th>\n    </tr>\n  </thead>\n  <tbody>\n    <tr>\n      <th>0</th>\n      <td>747</td>\n      <td>1.378</td>\n      <td>65205</td>\n      <td>120</td>\n      <td>0.999674</td>\n      <td>1.79132</td>\n    </tr>\n  </tbody>\n</table>\n</div>"
     },
     "metadata": {},
     "execution_count": 10
    }
   ],
   "source": [
    "#do the same for the HV\n",
    "#Compute gain and offset for the HV\n",
    "\n",
    "# a_coeff = 1.8409e-3\n",
    "# b_coeff = 0\n",
    "# Gain BiasV = (DMMmax - DMMmin) / (ADCmax - ADCmin ) * 1/a_coeff\n",
    "# offset BiasV = ADCmin - (DMMmin - b_coeff )/ (Gain BiasV * a_coeff )\n",
    "\n",
    "\n",
    "df_HV = HV_params(df_HV)\n",
    "df_HV"
   ]
  },
  {
   "cell_type": "code",
   "execution_count": 11,
   "metadata": {},
   "outputs": [
    {
     "output_type": "execute_result",
     "data": {
      "text/plain": [
       "   ADCmin  DMMmin  ADCmax  DMMmax   Gain HV  offset HV  Gain_Usig HV  \\\n",
       "0     747   1.378   65205     120  0.999674    1.79132         32757   \n",
       "\n",
       "   Offset_Sig HV  \n",
       "0              2  "
      ],
      "text/html": "<div>\n<style scoped>\n    .dataframe tbody tr th:only-of-type {\n        vertical-align: middle;\n    }\n\n    .dataframe tbody tr th {\n        vertical-align: top;\n    }\n\n    .dataframe thead th {\n        text-align: right;\n    }\n</style>\n<table border=\"1\" class=\"dataframe\">\n  <thead>\n    <tr style=\"text-align: right;\">\n      <th></th>\n      <th>ADCmin</th>\n      <th>DMMmin</th>\n      <th>ADCmax</th>\n      <th>DMMmax</th>\n      <th>Gain HV</th>\n      <th>offset HV</th>\n      <th>Gain_Usig HV</th>\n      <th>Offset_Sig HV</th>\n    </tr>\n  </thead>\n  <tbody>\n    <tr>\n      <th>0</th>\n      <td>747</td>\n      <td>1.378</td>\n      <td>65205</td>\n      <td>120</td>\n      <td>0.999674</td>\n      <td>1.79132</td>\n      <td>32757</td>\n      <td>2</td>\n    </tr>\n  </tbody>\n</table>\n</div>"
     },
     "metadata": {},
     "execution_count": 11
    }
   ],
   "source": [
    "# Gain HV = math.ceil(Gain HV* 32768)\n",
    "# Offset HV = round(offset HV)  \n",
    "\n",
    "df_HV = code_offsetandgain(df_HV,'HV')\n",
    "df_HV"
   ]
  },
  {
   "cell_type": "code",
   "execution_count": 12,
   "metadata": {},
   "outputs": [
    {
     "output_type": "execute_result",
     "data": {
      "text/plain": [
       "   ADCmin  DMMmin  ADCmax  DMMmax   Gain HV  offset HV  Gain_Usig HV  \\\n",
       "0     747   1.378   65205     120  0.999674    1.79132         32757   \n",
       "\n",
       "   Offset_Sig HV Gain_hex HV Offset_hex HV  \n",
       "0              2      0x7ff5           0x2  "
      ],
      "text/html": "<div>\n<style scoped>\n    .dataframe tbody tr th:only-of-type {\n        vertical-align: middle;\n    }\n\n    .dataframe tbody tr th {\n        vertical-align: top;\n    }\n\n    .dataframe thead th {\n        text-align: right;\n    }\n</style>\n<table border=\"1\" class=\"dataframe\">\n  <thead>\n    <tr style=\"text-align: right;\">\n      <th></th>\n      <th>ADCmin</th>\n      <th>DMMmin</th>\n      <th>ADCmax</th>\n      <th>DMMmax</th>\n      <th>Gain HV</th>\n      <th>offset HV</th>\n      <th>Gain_Usig HV</th>\n      <th>Offset_Sig HV</th>\n      <th>Gain_hex HV</th>\n      <th>Offset_hex HV</th>\n    </tr>\n  </thead>\n  <tbody>\n    <tr>\n      <th>0</th>\n      <td>747</td>\n      <td>1.378</td>\n      <td>65205</td>\n      <td>120</td>\n      <td>0.999674</td>\n      <td>1.79132</td>\n      <td>32757</td>\n      <td>2</td>\n      <td>0x7ff5</td>\n      <td>0x2</td>\n    </tr>\n  </tbody>\n</table>\n</div>"
     },
     "metadata": {},
     "execution_count": 12
    }
   ],
   "source": [
    "# convert following prescriptions\n",
    "# GainUsig BiasV   = hex(Gain_Usig HV) \n",
    "# Offset_Sig BiasV = tohextwocompl(Offset_Sig HV ,15) \n",
    "\n",
    "df_HV = convert_to_exadec(df_HV, 'HV')\n",
    "df_HV"
   ]
  },
  {
   "cell_type": "code",
   "execution_count": 13,
   "metadata": {},
   "outputs": [
    {
     "output_type": "stream",
     "name": "stdout",
     "text": [
      "   Gain_hex BiasV Offset_hex BiasV\n0          0x7f20             0x10\n1          0x7f21              0xb\n2          0x7f1c             0x13\n3          0x7f24              0xe\n4          0x7f24           0xfff8\n5          0x7f22              0x5\n6          0x7f1c             0x16\n7          0x7f24              0x2\n8          0x7f7f           0xff1c\n9          0x7f05             0x14\n10         0x7f10           0xfffb\n11         0x7f08             0x13\n\n\n\n\n  Gain_hex HV Offset_hex HV\n0      0x7ff5           0x2\n"
     ]
    }
   ],
   "source": [
    "df_calib_biasV = df_out[['Gain_hex BiasV','Offset_hex BiasV'] ].copy()\n",
    "df_calib_biasV.to_csv('calibDB/calib_biasV_SN04_v6.csv')\n",
    "print(df_calib_biasV)\n",
    "\n",
    "print('\\n\\n\\n')\n",
    "df_calib_HV = df_HV[['Gain_hex HV','Offset_hex HV'] ].copy()\n",
    "df_calib_HV.to_csv('calibDB/calib_HV_SN04_v6.csv')\n",
    "print(df_calib_HV)"
   ]
  },
  {
   "cell_type": "code",
   "execution_count": 16,
   "metadata": {},
   "outputs": [],
   "source": [
    "df_calib_biasV_tocheck = df_out[['Gain_Usig BiasV', 'Offset_Sig BiasV', 'Gain_hex BiasV','Offset_hex BiasV']].copy()\n",
    "df_calib_biasV_tocheck.to_csv('calibDB/calib_biasV_SN04_v6_forcheck.csv')"
   ]
  },
  {
   "cell_type": "code",
   "execution_count": null,
   "metadata": {},
   "outputs": [],
   "source": []
  }
 ]
}
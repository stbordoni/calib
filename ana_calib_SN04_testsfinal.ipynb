{
 "metadata": {
  "language_info": {
   "codemirror_mode": {
    "name": "ipython",
    "version": 3
   },
   "file_extension": ".py",
   "mimetype": "text/x-python",
   "name": "python",
   "nbconvert_exporter": "python",
   "pygments_lexer": "ipython3",
   "version": "3.9.2"
  },
  "orig_nbformat": 2,
  "kernelspec": {
   "name": "python392jvsc74a57bd02b6c4d4d5861da4de20ae5397ab36a2c4fea6beca7bca7fb8955c39e63f73bb7",
   "display_name": "Python 3.9.2 64-bit ('.venv': venv)"
  },
  "metadata": {
   "interpreter": {
    "hash": "aee8b7b246df8f9039afb4144a1f6fd8d2ca17a180786b69acc140d282b71a49"
   }
  }
 },
 "nbformat": 4,
 "nbformat_minor": 2,
 "cells": [
  {
   "cell_type": "code",
   "execution_count": 3,
   "metadata": {},
   "outputs": [],
   "source": [
    "import pandas as pd\n",
    "import numpy as np\n",
    "import matplotlib\n",
    "\n",
    "from calibUtils import *"
   ]
  },
  {
   "cell_type": "code",
   "execution_count": 7,
   "metadata": {},
   "outputs": [
    {
     "output_type": "execute_result",
     "data": {
      "text/plain": [
       "   Bus  No      Time (abs)  State  ID (hex)  Length  Message   Data (hex)  \\\n",
       "0  CAN   1  2422.278.193.0     S        602       2      NaN        1E 01   \n",
       "1  CAN   2  2422.278.684.0              682       3      NaN     1E 00 10   \n",
       "2  CAN   3  2430.990.272.0     S        602       3      NaN     06 00 00   \n",
       "3  CAN   4  2430.990.720.0              682       2      NaN        06 00   \n",
       "4  CAN   5  2436.302.147.0     S        602       4      NaN  03 00 00 00   \n",
       "5  CAN   6  2436.302.783.0              682       3      NaN     03 00 00   \n",
       "6  CAN   7  2438.294.025.0     S        602       3      NaN     06 00 00   \n",
       "7  CAN   8  2438.294.473.0              682       2      NaN        06 00   \n",
       "8  CAN   9  2445.038.078.0     S        602       4      NaN  03 01 00 00   \n",
       "9  CAN  10  2445.039.499.0              682       3      NaN     03 00 00   \n",
       "\n",
       "  ASCII  \n",
       "0    ..  \n",
       "1   ...  \n",
       "2   ...  \n",
       "3    ..  \n",
       "4  ....  \n",
       "5   ...  \n",
       "6   ...  \n",
       "7    ..  \n",
       "8  ....  \n",
       "9   ...  "
      ],
      "text/html": "<div>\n<style scoped>\n    .dataframe tbody tr th:only-of-type {\n        vertical-align: middle;\n    }\n\n    .dataframe tbody tr th {\n        vertical-align: top;\n    }\n\n    .dataframe thead th {\n        text-align: right;\n    }\n</style>\n<table border=\"1\" class=\"dataframe\">\n  <thead>\n    <tr style=\"text-align: right;\">\n      <th></th>\n      <th>Bus</th>\n      <th>No</th>\n      <th>Time (abs)</th>\n      <th>State</th>\n      <th>ID (hex)</th>\n      <th>Length</th>\n      <th>Message</th>\n      <th>Data (hex)</th>\n      <th>ASCII</th>\n    </tr>\n  </thead>\n  <tbody>\n    <tr>\n      <th>0</th>\n      <td>CAN</td>\n      <td>1</td>\n      <td>2422.278.193.0</td>\n      <td>S</td>\n      <td>602</td>\n      <td>2</td>\n      <td>NaN</td>\n      <td>1E 01</td>\n      <td>..</td>\n    </tr>\n    <tr>\n      <th>1</th>\n      <td>CAN</td>\n      <td>2</td>\n      <td>2422.278.684.0</td>\n      <td></td>\n      <td>682</td>\n      <td>3</td>\n      <td>NaN</td>\n      <td>1E 00 10</td>\n      <td>...</td>\n    </tr>\n    <tr>\n      <th>2</th>\n      <td>CAN</td>\n      <td>3</td>\n      <td>2430.990.272.0</td>\n      <td>S</td>\n      <td>602</td>\n      <td>3</td>\n      <td>NaN</td>\n      <td>06 00 00</td>\n      <td>...</td>\n    </tr>\n    <tr>\n      <th>3</th>\n      <td>CAN</td>\n      <td>4</td>\n      <td>2430.990.720.0</td>\n      <td></td>\n      <td>682</td>\n      <td>2</td>\n      <td>NaN</td>\n      <td>06 00</td>\n      <td>..</td>\n    </tr>\n    <tr>\n      <th>4</th>\n      <td>CAN</td>\n      <td>5</td>\n      <td>2436.302.147.0</td>\n      <td>S</td>\n      <td>602</td>\n      <td>4</td>\n      <td>NaN</td>\n      <td>03 00 00 00</td>\n      <td>....</td>\n    </tr>\n    <tr>\n      <th>5</th>\n      <td>CAN</td>\n      <td>6</td>\n      <td>2436.302.783.0</td>\n      <td></td>\n      <td>682</td>\n      <td>3</td>\n      <td>NaN</td>\n      <td>03 00 00</td>\n      <td>...</td>\n    </tr>\n    <tr>\n      <th>6</th>\n      <td>CAN</td>\n      <td>7</td>\n      <td>2438.294.025.0</td>\n      <td>S</td>\n      <td>602</td>\n      <td>3</td>\n      <td>NaN</td>\n      <td>06 00 00</td>\n      <td>...</td>\n    </tr>\n    <tr>\n      <th>7</th>\n      <td>CAN</td>\n      <td>8</td>\n      <td>2438.294.473.0</td>\n      <td></td>\n      <td>682</td>\n      <td>2</td>\n      <td>NaN</td>\n      <td>06 00</td>\n      <td>..</td>\n    </tr>\n    <tr>\n      <th>8</th>\n      <td>CAN</td>\n      <td>9</td>\n      <td>2445.038.078.0</td>\n      <td>S</td>\n      <td>602</td>\n      <td>4</td>\n      <td>NaN</td>\n      <td>03 01 00 00</td>\n      <td>....</td>\n    </tr>\n    <tr>\n      <th>9</th>\n      <td>CAN</td>\n      <td>10</td>\n      <td>2445.039.499.0</td>\n      <td></td>\n      <td>682</td>\n      <td>3</td>\n      <td>NaN</td>\n      <td>03 00 00</td>\n      <td>...</td>\n    </tr>\n  </tbody>\n</table>\n</div>"
     },
     "metadata": {},
     "execution_count": 7
    }
   ],
   "source": [
    "df = pd.read_csv('./files/21-04-27_161245_testcalib_SN04.csv' ,delimiter=',')\n",
    "#df = df.rename(columns={0: 'ch', 1:'ADCmin', 2: 'DMMmin', 3:'ADCmax', 4:'DMMmax'})\n",
    "df.head(10)"
   ]
  },
  {
   "cell_type": "code",
   "execution_count": null,
   "metadata": {},
   "outputs": [],
   "source": [
    "\n"
   ]
  }
 ]
}
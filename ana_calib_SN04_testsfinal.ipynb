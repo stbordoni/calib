{
 "metadata": {
  "language_info": {
   "codemirror_mode": {
    "name": "ipython",
    "version": 3
   },
   "file_extension": ".py",
   "mimetype": "text/x-python",
   "name": "python",
   "nbconvert_exporter": "python",
   "pygments_lexer": "ipython3",
   "version": "3.9.2"
  },
  "orig_nbformat": 2,
  "kernelspec": {
   "name": "python392jvsc74a57bd02b6c4d4d5861da4de20ae5397ab36a2c4fea6beca7bca7fb8955c39e63f73bb7",
   "display_name": "Python 3.9.2 64-bit ('.venv': venv)"
  },
  "metadata": {
   "interpreter": {
    "hash": "aee8b7b246df8f9039afb4144a1f6fd8d2ca17a180786b69acc140d282b71a49"
   }
  }
 },
 "nbformat": 4,
 "nbformat_minor": 2,
 "cells": [
  {
   "cell_type": "code",
   "execution_count": 1,
   "metadata": {},
   "outputs": [],
   "source": [
    "import pandas as pd\n",
    "import numpy as np\n",
    "import matplotlib\n",
    "\n",
    "from calibUtils import *"
   ]
  },
  {
   "cell_type": "code",
   "execution_count": 2,
   "metadata": {},
   "outputs": [
    {
     "output_type": "execute_result",
     "data": {
      "text/plain": [
       "    ch ADCmin   DMMmin ADCmax   DMMmax\n",
       "0  ch0   E6AF  108.752   F6CD  116.328\n",
       "1  ch1   E6B9  108.755   F6CF  116.332\n",
       "2  ch2   E6B5  108.740   F6C7  116.314\n",
       "3  ch3   E6AE  108.742   F6BF  116.316\n",
       "4  ch4   E6C3  108.743   F6D5  116.320\n",
       "5  ch5   E6BA  108.742   F6C8  116.310\n",
       "6  ch6   E6AF  108.735   F6C1  116.309\n",
       "7  ch7   E6B7  108.741   F6CA  116.315\n",
       "8  ch8   E6F2  108.745   F631  116.320\n",
       "9  ch9   E6CF  108.714   F6E5  116.290"
      ],
      "text/html": "<div>\n<style scoped>\n    .dataframe tbody tr th:only-of-type {\n        vertical-align: middle;\n    }\n\n    .dataframe tbody tr th {\n        vertical-align: top;\n    }\n\n    .dataframe thead th {\n        text-align: right;\n    }\n</style>\n<table border=\"1\" class=\"dataframe\">\n  <thead>\n    <tr style=\"text-align: right;\">\n      <th></th>\n      <th>ch</th>\n      <th>ADCmin</th>\n      <th>DMMmin</th>\n      <th>ADCmax</th>\n      <th>DMMmax</th>\n    </tr>\n  </thead>\n  <tbody>\n    <tr>\n      <th>0</th>\n      <td>ch0</td>\n      <td>E6AF</td>\n      <td>108.752</td>\n      <td>F6CD</td>\n      <td>116.328</td>\n    </tr>\n    <tr>\n      <th>1</th>\n      <td>ch1</td>\n      <td>E6B9</td>\n      <td>108.755</td>\n      <td>F6CF</td>\n      <td>116.332</td>\n    </tr>\n    <tr>\n      <th>2</th>\n      <td>ch2</td>\n      <td>E6B5</td>\n      <td>108.740</td>\n      <td>F6C7</td>\n      <td>116.314</td>\n    </tr>\n    <tr>\n      <th>3</th>\n      <td>ch3</td>\n      <td>E6AE</td>\n      <td>108.742</td>\n      <td>F6BF</td>\n      <td>116.316</td>\n    </tr>\n    <tr>\n      <th>4</th>\n      <td>ch4</td>\n      <td>E6C3</td>\n      <td>108.743</td>\n      <td>F6D5</td>\n      <td>116.320</td>\n    </tr>\n    <tr>\n      <th>5</th>\n      <td>ch5</td>\n      <td>E6BA</td>\n      <td>108.742</td>\n      <td>F6C8</td>\n      <td>116.310</td>\n    </tr>\n    <tr>\n      <th>6</th>\n      <td>ch6</td>\n      <td>E6AF</td>\n      <td>108.735</td>\n      <td>F6C1</td>\n      <td>116.309</td>\n    </tr>\n    <tr>\n      <th>7</th>\n      <td>ch7</td>\n      <td>E6B7</td>\n      <td>108.741</td>\n      <td>F6CA</td>\n      <td>116.315</td>\n    </tr>\n    <tr>\n      <th>8</th>\n      <td>ch8</td>\n      <td>E6F2</td>\n      <td>108.745</td>\n      <td>F631</td>\n      <td>116.320</td>\n    </tr>\n    <tr>\n      <th>9</th>\n      <td>ch9</td>\n      <td>E6CF</td>\n      <td>108.714</td>\n      <td>F6E5</td>\n      <td>116.290</td>\n    </tr>\n  </tbody>\n</table>\n</div>"
     },
     "metadata": {},
     "execution_count": 2
    }
   ],
   "source": [
    "#df = pd.read_csv('./files/21-04-27_161245_testcalib_SN04.csv' ,delimiter=',')\n",
    "df = pd.read_csv('./files/27-04-21_SN04calib_test4.csv' ,delimiter=';', header=None)\n",
    "df = df.rename(columns={0: 'ch', 1:'ADCmin', 2: 'DMMmin', 3:'ADCmax', 4:'DMMmax'})\n",
    "df.head(10)"
   ]
  },
  {
   "cell_type": "code",
   "execution_count": 3,
   "metadata": {},
   "outputs": [
    {
     "output_type": "execute_result",
     "data": {
      "text/plain": [
       "    ch  ADCmin   DMMmin  ADCmax   DMMmax\n",
       "0  ch0   59055  108.752   63181  116.328\n",
       "1  ch1   59065  108.755   63183  116.332\n",
       "2  ch2   59061  108.740   63175  116.314\n",
       "3  ch3   59054  108.742   63167  116.316\n",
       "4  ch4   59075  108.743   63189  116.320"
      ],
      "text/html": "<div>\n<style scoped>\n    .dataframe tbody tr th:only-of-type {\n        vertical-align: middle;\n    }\n\n    .dataframe tbody tr th {\n        vertical-align: top;\n    }\n\n    .dataframe thead th {\n        text-align: right;\n    }\n</style>\n<table border=\"1\" class=\"dataframe\">\n  <thead>\n    <tr style=\"text-align: right;\">\n      <th></th>\n      <th>ch</th>\n      <th>ADCmin</th>\n      <th>DMMmin</th>\n      <th>ADCmax</th>\n      <th>DMMmax</th>\n    </tr>\n  </thead>\n  <tbody>\n    <tr>\n      <th>0</th>\n      <td>ch0</td>\n      <td>59055</td>\n      <td>108.752</td>\n      <td>63181</td>\n      <td>116.328</td>\n    </tr>\n    <tr>\n      <th>1</th>\n      <td>ch1</td>\n      <td>59065</td>\n      <td>108.755</td>\n      <td>63183</td>\n      <td>116.332</td>\n    </tr>\n    <tr>\n      <th>2</th>\n      <td>ch2</td>\n      <td>59061</td>\n      <td>108.740</td>\n      <td>63175</td>\n      <td>116.314</td>\n    </tr>\n    <tr>\n      <th>3</th>\n      <td>ch3</td>\n      <td>59054</td>\n      <td>108.742</td>\n      <td>63167</td>\n      <td>116.316</td>\n    </tr>\n    <tr>\n      <th>4</th>\n      <td>ch4</td>\n      <td>59075</td>\n      <td>108.743</td>\n      <td>63189</td>\n      <td>116.320</td>\n    </tr>\n  </tbody>\n</table>\n</div>"
     },
     "metadata": {},
     "execution_count": 3
    }
   ],
   "source": [
    "df = hex_to_dec(df)\n",
    "df.head()\n"
   ]
  },
  {
   "cell_type": "code",
   "execution_count": 4,
   "metadata": {},
   "outputs": [
    {
     "output_type": "execute_result",
     "data": {
      "text/plain": [
       "    ch  ADCmin   DMMmin  ADCmax   DMMmax  Gain BiasV   Gain HV\n",
       "0  ch0   59055  108.752   63181  116.328    0.997426  0.990645\n",
       "1  ch1   59065  108.755   63183  116.332    0.999495  0.992701\n",
       "2  ch2   59061  108.740   63175  116.314    1.000071  0.993273\n",
       "3  ch3   59054  108.742   63167  116.316    1.000314  0.993514\n",
       "4  ch4   59075  108.743   63189  116.320    1.000467  0.993666"
      ],
      "text/html": "<div>\n<style scoped>\n    .dataframe tbody tr th:only-of-type {\n        vertical-align: middle;\n    }\n\n    .dataframe tbody tr th {\n        vertical-align: top;\n    }\n\n    .dataframe thead th {\n        text-align: right;\n    }\n</style>\n<table border=\"1\" class=\"dataframe\">\n  <thead>\n    <tr style=\"text-align: right;\">\n      <th></th>\n      <th>ch</th>\n      <th>ADCmin</th>\n      <th>DMMmin</th>\n      <th>ADCmax</th>\n      <th>DMMmax</th>\n      <th>Gain BiasV</th>\n      <th>Gain HV</th>\n    </tr>\n  </thead>\n  <tbody>\n    <tr>\n      <th>0</th>\n      <td>ch0</td>\n      <td>59055</td>\n      <td>108.752</td>\n      <td>63181</td>\n      <td>116.328</td>\n      <td>0.997426</td>\n      <td>0.990645</td>\n    </tr>\n    <tr>\n      <th>1</th>\n      <td>ch1</td>\n      <td>59065</td>\n      <td>108.755</td>\n      <td>63183</td>\n      <td>116.332</td>\n      <td>0.999495</td>\n      <td>0.992701</td>\n    </tr>\n    <tr>\n      <th>2</th>\n      <td>ch2</td>\n      <td>59061</td>\n      <td>108.740</td>\n      <td>63175</td>\n      <td>116.314</td>\n      <td>1.000071</td>\n      <td>0.993273</td>\n    </tr>\n    <tr>\n      <th>3</th>\n      <td>ch3</td>\n      <td>59054</td>\n      <td>108.742</td>\n      <td>63167</td>\n      <td>116.316</td>\n      <td>1.000314</td>\n      <td>0.993514</td>\n    </tr>\n    <tr>\n      <th>4</th>\n      <td>ch4</td>\n      <td>59075</td>\n      <td>108.743</td>\n      <td>63189</td>\n      <td>116.320</td>\n      <td>1.000467</td>\n      <td>0.993666</td>\n    </tr>\n  </tbody>\n</table>\n</div>"
     },
     "metadata": {},
     "execution_count": 4
    }
   ],
   "source": [
    "df = compute_gain(df, 'biasV')\n",
    "df = compute_gain(df, 'HV')\n",
    "df.head()"
   ]
  },
  {
   "cell_type": "code",
   "execution_count": 5,
   "metadata": {},
   "outputs": [
    {
     "output_type": "execute_result",
     "data": {
      "text/plain": [
       "    ch  ADCmin   DMMmin  ADCmax   DMMmax  Gain BiasV   Gain HV  offset BiasV  \\\n",
       "0  ch0   59055  108.752   63181  116.328    0.997426  0.990645   -172.923970   \n",
       "1  ch1   59065  108.755   63183  116.332    0.999495  0.992701    -41.914346   \n",
       "2  ch2   59061  108.740   63175  116.314    1.000071  0.993273     -3.742540   \n",
       "3  ch3   59054  108.742   63167  116.316    1.000314  0.993514      2.528387   \n",
       "4  ch4   59075  108.743   63189  116.320    1.000467  0.993666     32.014386   \n",
       "\n",
       "    offset HV  \n",
       "0 -172.923970  \n",
       "1  -41.914346  \n",
       "2   -3.742540  \n",
       "3    2.528387  \n",
       "4   32.014386  "
      ],
      "text/html": "<div>\n<style scoped>\n    .dataframe tbody tr th:only-of-type {\n        vertical-align: middle;\n    }\n\n    .dataframe tbody tr th {\n        vertical-align: top;\n    }\n\n    .dataframe thead th {\n        text-align: right;\n    }\n</style>\n<table border=\"1\" class=\"dataframe\">\n  <thead>\n    <tr style=\"text-align: right;\">\n      <th></th>\n      <th>ch</th>\n      <th>ADCmin</th>\n      <th>DMMmin</th>\n      <th>ADCmax</th>\n      <th>DMMmax</th>\n      <th>Gain BiasV</th>\n      <th>Gain HV</th>\n      <th>offset BiasV</th>\n      <th>offset HV</th>\n    </tr>\n  </thead>\n  <tbody>\n    <tr>\n      <th>0</th>\n      <td>ch0</td>\n      <td>59055</td>\n      <td>108.752</td>\n      <td>63181</td>\n      <td>116.328</td>\n      <td>0.997426</td>\n      <td>0.990645</td>\n      <td>-172.923970</td>\n      <td>-172.923970</td>\n    </tr>\n    <tr>\n      <th>1</th>\n      <td>ch1</td>\n      <td>59065</td>\n      <td>108.755</td>\n      <td>63183</td>\n      <td>116.332</td>\n      <td>0.999495</td>\n      <td>0.992701</td>\n      <td>-41.914346</td>\n      <td>-41.914346</td>\n    </tr>\n    <tr>\n      <th>2</th>\n      <td>ch2</td>\n      <td>59061</td>\n      <td>108.740</td>\n      <td>63175</td>\n      <td>116.314</td>\n      <td>1.000071</td>\n      <td>0.993273</td>\n      <td>-3.742540</td>\n      <td>-3.742540</td>\n    </tr>\n    <tr>\n      <th>3</th>\n      <td>ch3</td>\n      <td>59054</td>\n      <td>108.742</td>\n      <td>63167</td>\n      <td>116.316</td>\n      <td>1.000314</td>\n      <td>0.993514</td>\n      <td>2.528387</td>\n      <td>2.528387</td>\n    </tr>\n    <tr>\n      <th>4</th>\n      <td>ch4</td>\n      <td>59075</td>\n      <td>108.743</td>\n      <td>63189</td>\n      <td>116.320</td>\n      <td>1.000467</td>\n      <td>0.993666</td>\n      <td>32.014386</td>\n      <td>32.014386</td>\n    </tr>\n  </tbody>\n</table>\n</div>"
     },
     "metadata": {},
     "execution_count": 5
    }
   ],
   "source": [
    "df = compute_offset(df, 'biasV')\n",
    "df = compute_offset(df, 'HV')\n",
    "df.head()"
   ]
  },
  {
   "cell_type": "code",
   "execution_count": 6,
   "metadata": {},
   "outputs": [
    {
     "output_type": "execute_result",
     "data": {
      "text/plain": [
       "    ch  ADCmin   DMMmin  ADCmax   DMMmax  Gain BiasV   Gain HV  offset BiasV  \\\n",
       "0  ch0   59055  108.752   63181  116.328    0.997426  0.990645   -172.923970   \n",
       "1  ch1   59065  108.755   63183  116.332    0.999495  0.992701    -41.914346   \n",
       "2  ch2   59061  108.740   63175  116.314    1.000071  0.993273     -3.742540   \n",
       "3  ch3   59054  108.742   63167  116.316    1.000314  0.993514      2.528387   \n",
       "4  ch4   59075  108.743   63189  116.320    1.000467  0.993666     32.014386   \n",
       "\n",
       "    offset HV  ADCmin_conv  ADCmax_conv  \n",
       "0 -172.923970   108.714349   116.309903  \n",
       "1  -41.914346   108.732758   116.313585  \n",
       "2   -3.742540   108.725395   116.298857  \n",
       "3    2.528387   108.712509   116.284130  \n",
       "4   32.014386   108.751167   116.324630  "
      ],
      "text/html": "<div>\n<style scoped>\n    .dataframe tbody tr th:only-of-type {\n        vertical-align: middle;\n    }\n\n    .dataframe tbody tr th {\n        vertical-align: top;\n    }\n\n    .dataframe thead th {\n        text-align: right;\n    }\n</style>\n<table border=\"1\" class=\"dataframe\">\n  <thead>\n    <tr style=\"text-align: right;\">\n      <th></th>\n      <th>ch</th>\n      <th>ADCmin</th>\n      <th>DMMmin</th>\n      <th>ADCmax</th>\n      <th>DMMmax</th>\n      <th>Gain BiasV</th>\n      <th>Gain HV</th>\n      <th>offset BiasV</th>\n      <th>offset HV</th>\n      <th>ADCmin_conv</th>\n      <th>ADCmax_conv</th>\n    </tr>\n  </thead>\n  <tbody>\n    <tr>\n      <th>0</th>\n      <td>ch0</td>\n      <td>59055</td>\n      <td>108.752</td>\n      <td>63181</td>\n      <td>116.328</td>\n      <td>0.997426</td>\n      <td>0.990645</td>\n      <td>-172.923970</td>\n      <td>-172.923970</td>\n      <td>108.714349</td>\n      <td>116.309903</td>\n    </tr>\n    <tr>\n      <th>1</th>\n      <td>ch1</td>\n      <td>59065</td>\n      <td>108.755</td>\n      <td>63183</td>\n      <td>116.332</td>\n      <td>0.999495</td>\n      <td>0.992701</td>\n      <td>-41.914346</td>\n      <td>-41.914346</td>\n      <td>108.732758</td>\n      <td>116.313585</td>\n    </tr>\n    <tr>\n      <th>2</th>\n      <td>ch2</td>\n      <td>59061</td>\n      <td>108.740</td>\n      <td>63175</td>\n      <td>116.314</td>\n      <td>1.000071</td>\n      <td>0.993273</td>\n      <td>-3.742540</td>\n      <td>-3.742540</td>\n      <td>108.725395</td>\n      <td>116.298857</td>\n    </tr>\n    <tr>\n      <th>3</th>\n      <td>ch3</td>\n      <td>59054</td>\n      <td>108.742</td>\n      <td>63167</td>\n      <td>116.316</td>\n      <td>1.000314</td>\n      <td>0.993514</td>\n      <td>2.528387</td>\n      <td>2.528387</td>\n      <td>108.712509</td>\n      <td>116.284130</td>\n    </tr>\n    <tr>\n      <th>4</th>\n      <td>ch4</td>\n      <td>59075</td>\n      <td>108.743</td>\n      <td>63189</td>\n      <td>116.320</td>\n      <td>1.000467</td>\n      <td>0.993666</td>\n      <td>32.014386</td>\n      <td>32.014386</td>\n      <td>108.751167</td>\n      <td>116.324630</td>\n    </tr>\n  </tbody>\n</table>\n</div>"
     },
     "metadata": {},
     "execution_count": 6
    }
   ],
   "source": [
    "df = convertADC(df)\n",
    "df.head()"
   ]
  },
  {
   "cell_type": "code",
   "execution_count": 7,
   "metadata": {},
   "outputs": [
    {
     "output_type": "execute_result",
     "data": {
      "text/plain": [
       "    ch  ADCmin   DMMmin  ADCmax   DMMmax  Gain BiasV   Gain HV  offset BiasV  \\\n",
       "0  ch0   59055  108.752   63181  116.328    0.997426  0.990645   -172.923970   \n",
       "1  ch1   59065  108.755   63183  116.332    0.999495  0.992701    -41.914346   \n",
       "2  ch2   59061  108.740   63175  116.314    1.000071  0.993273     -3.742540   \n",
       "3  ch3   59054  108.742   63167  116.316    1.000314  0.993514      2.528387   \n",
       "4  ch4   59075  108.743   63189  116.320    1.000467  0.993666     32.014386   \n",
       "\n",
       "    offset HV  ADCmin_conv  ADCmax_conv  Gain_Usig HV  Gain_Usig BiasV  \\\n",
       "0 -172.923970   108.714349   116.309903         32462            32684   \n",
       "1  -41.914346   108.732758   116.313585         32529            32752   \n",
       "2   -3.742540   108.725395   116.298857         32548            32771   \n",
       "3    2.528387   108.712509   116.284130         32556            32779   \n",
       "4   32.014386   108.751167   116.324630         32561            32784   \n",
       "\n",
       "   Offset_Sig HV  Offset_Sig BiasV  \n",
       "0           -172              -172  \n",
       "1            -41               -41  \n",
       "2             -3                -3  \n",
       "3              3                 3  \n",
       "4             33                33  "
      ],
      "text/html": "<div>\n<style scoped>\n    .dataframe tbody tr th:only-of-type {\n        vertical-align: middle;\n    }\n\n    .dataframe tbody tr th {\n        vertical-align: top;\n    }\n\n    .dataframe thead th {\n        text-align: right;\n    }\n</style>\n<table border=\"1\" class=\"dataframe\">\n  <thead>\n    <tr style=\"text-align: right;\">\n      <th></th>\n      <th>ch</th>\n      <th>ADCmin</th>\n      <th>DMMmin</th>\n      <th>ADCmax</th>\n      <th>DMMmax</th>\n      <th>Gain BiasV</th>\n      <th>Gain HV</th>\n      <th>offset BiasV</th>\n      <th>offset HV</th>\n      <th>ADCmin_conv</th>\n      <th>ADCmax_conv</th>\n      <th>Gain_Usig HV</th>\n      <th>Gain_Usig BiasV</th>\n      <th>Offset_Sig HV</th>\n      <th>Offset_Sig BiasV</th>\n    </tr>\n  </thead>\n  <tbody>\n    <tr>\n      <th>0</th>\n      <td>ch0</td>\n      <td>59055</td>\n      <td>108.752</td>\n      <td>63181</td>\n      <td>116.328</td>\n      <td>0.997426</td>\n      <td>0.990645</td>\n      <td>-172.923970</td>\n      <td>-172.923970</td>\n      <td>108.714349</td>\n      <td>116.309903</td>\n      <td>32462</td>\n      <td>32684</td>\n      <td>-172</td>\n      <td>-172</td>\n    </tr>\n    <tr>\n      <th>1</th>\n      <td>ch1</td>\n      <td>59065</td>\n      <td>108.755</td>\n      <td>63183</td>\n      <td>116.332</td>\n      <td>0.999495</td>\n      <td>0.992701</td>\n      <td>-41.914346</td>\n      <td>-41.914346</td>\n      <td>108.732758</td>\n      <td>116.313585</td>\n      <td>32529</td>\n      <td>32752</td>\n      <td>-41</td>\n      <td>-41</td>\n    </tr>\n    <tr>\n      <th>2</th>\n      <td>ch2</td>\n      <td>59061</td>\n      <td>108.740</td>\n      <td>63175</td>\n      <td>116.314</td>\n      <td>1.000071</td>\n      <td>0.993273</td>\n      <td>-3.742540</td>\n      <td>-3.742540</td>\n      <td>108.725395</td>\n      <td>116.298857</td>\n      <td>32548</td>\n      <td>32771</td>\n      <td>-3</td>\n      <td>-3</td>\n    </tr>\n    <tr>\n      <th>3</th>\n      <td>ch3</td>\n      <td>59054</td>\n      <td>108.742</td>\n      <td>63167</td>\n      <td>116.316</td>\n      <td>1.000314</td>\n      <td>0.993514</td>\n      <td>2.528387</td>\n      <td>2.528387</td>\n      <td>108.712509</td>\n      <td>116.284130</td>\n      <td>32556</td>\n      <td>32779</td>\n      <td>3</td>\n      <td>3</td>\n    </tr>\n    <tr>\n      <th>4</th>\n      <td>ch4</td>\n      <td>59075</td>\n      <td>108.743</td>\n      <td>63189</td>\n      <td>116.320</td>\n      <td>1.000467</td>\n      <td>0.993666</td>\n      <td>32.014386</td>\n      <td>32.014386</td>\n      <td>108.751167</td>\n      <td>116.324630</td>\n      <td>32561</td>\n      <td>32784</td>\n      <td>33</td>\n      <td>33</td>\n    </tr>\n  </tbody>\n</table>\n</div>"
     },
     "metadata": {},
     "execution_count": 7
    }
   ],
   "source": [
    "df = get_USig_gain(df)\n",
    "df = get_Sig_offset(df)\n",
    "\n",
    "df.head()"
   ]
  },
  {
   "cell_type": "code",
   "execution_count": 8,
   "metadata": {},
   "outputs": [
    {
     "output_type": "execute_result",
     "data": {
      "text/plain": [
       "    ch  ADCmin   DMMmin  ADCmax   DMMmax  Gain BiasV   Gain HV  offset BiasV  \\\n",
       "0  ch0   59055  108.752   63181  116.328    0.997426  0.990645   -172.923970   \n",
       "1  ch1   59065  108.755   63183  116.332    0.999495  0.992701    -41.914346   \n",
       "2  ch2   59061  108.740   63175  116.314    1.000071  0.993273     -3.742540   \n",
       "3  ch3   59054  108.742   63167  116.316    1.000314  0.993514      2.528387   \n",
       "4  ch4   59075  108.743   63189  116.320    1.000467  0.993666     32.014386   \n",
       "\n",
       "    offset HV  ADCmin_conv  ADCmax_conv Gain_Usig HV Gain_Usig BiasV  \\\n",
       "0 -172.923970   108.714349   116.309903       0x7ece          0x7fac   \n",
       "1  -41.914346   108.732758   116.313585       0x7f11          0x7ff0   \n",
       "2   -3.742540   108.725395   116.298857       0x7f24          0x8003   \n",
       "3    2.528387   108.712509   116.284130       0x7f2c          0x800b   \n",
       "4   32.014386   108.751167   116.324630       0x7f31          0x8010   \n",
       "\n",
       "  Offset_Sig HV Offset_Sig BiasV  \n",
       "0        0xff54           0xff54  \n",
       "1        0xffd7           0xffd7  \n",
       "2        0xfffd           0xfffd  \n",
       "3           0x3              0x3  \n",
       "4          0x21             0x21  "
      ],
      "text/html": "<div>\n<style scoped>\n    .dataframe tbody tr th:only-of-type {\n        vertical-align: middle;\n    }\n\n    .dataframe tbody tr th {\n        vertical-align: top;\n    }\n\n    .dataframe thead th {\n        text-align: right;\n    }\n</style>\n<table border=\"1\" class=\"dataframe\">\n  <thead>\n    <tr style=\"text-align: right;\">\n      <th></th>\n      <th>ch</th>\n      <th>ADCmin</th>\n      <th>DMMmin</th>\n      <th>ADCmax</th>\n      <th>DMMmax</th>\n      <th>Gain BiasV</th>\n      <th>Gain HV</th>\n      <th>offset BiasV</th>\n      <th>offset HV</th>\n      <th>ADCmin_conv</th>\n      <th>ADCmax_conv</th>\n      <th>Gain_Usig HV</th>\n      <th>Gain_Usig BiasV</th>\n      <th>Offset_Sig HV</th>\n      <th>Offset_Sig BiasV</th>\n    </tr>\n  </thead>\n  <tbody>\n    <tr>\n      <th>0</th>\n      <td>ch0</td>\n      <td>59055</td>\n      <td>108.752</td>\n      <td>63181</td>\n      <td>116.328</td>\n      <td>0.997426</td>\n      <td>0.990645</td>\n      <td>-172.923970</td>\n      <td>-172.923970</td>\n      <td>108.714349</td>\n      <td>116.309903</td>\n      <td>0x7ece</td>\n      <td>0x7fac</td>\n      <td>0xff54</td>\n      <td>0xff54</td>\n    </tr>\n    <tr>\n      <th>1</th>\n      <td>ch1</td>\n      <td>59065</td>\n      <td>108.755</td>\n      <td>63183</td>\n      <td>116.332</td>\n      <td>0.999495</td>\n      <td>0.992701</td>\n      <td>-41.914346</td>\n      <td>-41.914346</td>\n      <td>108.732758</td>\n      <td>116.313585</td>\n      <td>0x7f11</td>\n      <td>0x7ff0</td>\n      <td>0xffd7</td>\n      <td>0xffd7</td>\n    </tr>\n    <tr>\n      <th>2</th>\n      <td>ch2</td>\n      <td>59061</td>\n      <td>108.740</td>\n      <td>63175</td>\n      <td>116.314</td>\n      <td>1.000071</td>\n      <td>0.993273</td>\n      <td>-3.742540</td>\n      <td>-3.742540</td>\n      <td>108.725395</td>\n      <td>116.298857</td>\n      <td>0x7f24</td>\n      <td>0x8003</td>\n      <td>0xfffd</td>\n      <td>0xfffd</td>\n    </tr>\n    <tr>\n      <th>3</th>\n      <td>ch3</td>\n      <td>59054</td>\n      <td>108.742</td>\n      <td>63167</td>\n      <td>116.316</td>\n      <td>1.000314</td>\n      <td>0.993514</td>\n      <td>2.528387</td>\n      <td>2.528387</td>\n      <td>108.712509</td>\n      <td>116.284130</td>\n      <td>0x7f2c</td>\n      <td>0x800b</td>\n      <td>0x3</td>\n      <td>0x3</td>\n    </tr>\n    <tr>\n      <th>4</th>\n      <td>ch4</td>\n      <td>59075</td>\n      <td>108.743</td>\n      <td>63189</td>\n      <td>116.320</td>\n      <td>1.000467</td>\n      <td>0.993666</td>\n      <td>32.014386</td>\n      <td>32.014386</td>\n      <td>108.751167</td>\n      <td>116.324630</td>\n      <td>0x7f31</td>\n      <td>0x8010</td>\n      <td>0x21</td>\n      <td>0x21</td>\n    </tr>\n  </tbody>\n</table>\n</div>"
     },
     "metadata": {},
     "execution_count": 8
    }
   ],
   "source": [
    "df = convert_to_exadec(df)\n",
    "df.head()"
   ]
  },
  {
   "cell_type": "code",
   "execution_count": 9,
   "metadata": {},
   "outputs": [],
   "source": [
    "df_calib = df[['Gain_Usig HV', 'Gain_Usig BiasV', 'Offset_Sig HV', 'Offset_Sig BiasV'] ].copy()\n",
    "df_calib.head(11)\n",
    "df_calib.to_csv('calibDB/calibfactors_SN04_v0.csv')"
   ]
  },
  {
   "cell_type": "code",
   "execution_count": 10,
   "metadata": {},
   "outputs": [
    {
     "output_type": "execute_result",
     "data": {
      "text/plain": [
       "   Gain_Usig HV Gain_Usig BiasV Offset_Sig HV Offset_Sig BiasV\n",
       "0        0x7ece          0x7fac        0xff54           0xff54\n",
       "1        0x7f11          0x7ff0        0xffd7           0xffd7\n",
       "2        0x7f24          0x8003        0xfffd           0xfffd\n",
       "3        0x7f2c          0x800b           0x3              0x3\n",
       "4        0x7f31          0x8010          0x21             0x21\n",
       "5        0x7f2a          0x8009           0xb              0xb\n",
       "6        0x7f24          0x8003        0xfff9           0xfff9\n",
       "7        0x7f1c          0x7ffb        0xfff0           0xfff0\n",
       "8        0x8608          0x86f3         0xc14            0xc14\n",
       "9        0x7f0d          0x7fec        0xfffb           0xfffb\n",
       "10       0x7f0c          0x7feb           0x0              0x0"
      ],
      "text/html": "<div>\n<style scoped>\n    .dataframe tbody tr th:only-of-type {\n        vertical-align: middle;\n    }\n\n    .dataframe tbody tr th {\n        vertical-align: top;\n    }\n\n    .dataframe thead th {\n        text-align: right;\n    }\n</style>\n<table border=\"1\" class=\"dataframe\">\n  <thead>\n    <tr style=\"text-align: right;\">\n      <th></th>\n      <th>Gain_Usig HV</th>\n      <th>Gain_Usig BiasV</th>\n      <th>Offset_Sig HV</th>\n      <th>Offset_Sig BiasV</th>\n    </tr>\n  </thead>\n  <tbody>\n    <tr>\n      <th>0</th>\n      <td>0x7ece</td>\n      <td>0x7fac</td>\n      <td>0xff54</td>\n      <td>0xff54</td>\n    </tr>\n    <tr>\n      <th>1</th>\n      <td>0x7f11</td>\n      <td>0x7ff0</td>\n      <td>0xffd7</td>\n      <td>0xffd7</td>\n    </tr>\n    <tr>\n      <th>2</th>\n      <td>0x7f24</td>\n      <td>0x8003</td>\n      <td>0xfffd</td>\n      <td>0xfffd</td>\n    </tr>\n    <tr>\n      <th>3</th>\n      <td>0x7f2c</td>\n      <td>0x800b</td>\n      <td>0x3</td>\n      <td>0x3</td>\n    </tr>\n    <tr>\n      <th>4</th>\n      <td>0x7f31</td>\n      <td>0x8010</td>\n      <td>0x21</td>\n      <td>0x21</td>\n    </tr>\n    <tr>\n      <th>5</th>\n      <td>0x7f2a</td>\n      <td>0x8009</td>\n      <td>0xb</td>\n      <td>0xb</td>\n    </tr>\n    <tr>\n      <th>6</th>\n      <td>0x7f24</td>\n      <td>0x8003</td>\n      <td>0xfff9</td>\n      <td>0xfff9</td>\n    </tr>\n    <tr>\n      <th>7</th>\n      <td>0x7f1c</td>\n      <td>0x7ffb</td>\n      <td>0xfff0</td>\n      <td>0xfff0</td>\n    </tr>\n    <tr>\n      <th>8</th>\n      <td>0x8608</td>\n      <td>0x86f3</td>\n      <td>0xc14</td>\n      <td>0xc14</td>\n    </tr>\n    <tr>\n      <th>9</th>\n      <td>0x7f0d</td>\n      <td>0x7fec</td>\n      <td>0xfffb</td>\n      <td>0xfffb</td>\n    </tr>\n    <tr>\n      <th>10</th>\n      <td>0x7f0c</td>\n      <td>0x7feb</td>\n      <td>0x0</td>\n      <td>0x0</td>\n    </tr>\n  </tbody>\n</table>\n</div>"
     },
     "metadata": {},
     "execution_count": 10
    }
   ],
   "source": [
    "df_calib.head(12)\n"
   ]
  },
  {
   "cell_type": "code",
   "execution_count": null,
   "metadata": {},
   "outputs": [],
   "source": []
  }
 ]
}
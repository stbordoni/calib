{
 "metadata": {
  "language_info": {
   "codemirror_mode": {
    "name": "ipython",
    "version": 3
   },
   "file_extension": ".py",
   "mimetype": "text/x-python",
   "name": "python",
   "nbconvert_exporter": "python",
   "pygments_lexer": "ipython3",
   "version": "3.9.2"
  },
  "orig_nbformat": 2,
  "kernelspec": {
   "name": "pythonjvsc74a57bd02b6c4d4d5861da4de20ae5397ab36a2c4fea6beca7bca7fb8955c39e63f73bb7",
   "display_name": "Python 3.9.2  ('.venv': venv)"
  },
  "metadata": {
   "interpreter": {
    "hash": "2b6c4d4d5861da4de20ae5397ab36a2c4fea6beca7bca7fb8955c39e63f73bb7"
   }
  }
 },
 "nbformat": 4,
 "nbformat_minor": 2,
 "cells": [
  {
   "cell_type": "code",
   "execution_count": 1,
   "metadata": {},
   "outputs": [
    {
     "output_type": "execute_result",
     "data": {
      "text/plain": [
       "    ch ADCmin   DMMmin ADCmax   DMMmax\n",
       "0  ch0   E693  108.751   F6B5  116.323\n",
       "1  ch1   E6BC  108.755   F6CA  116.325\n",
       "2  ch2   E6B4  108.740   F6C7  116.314\n",
       "3  ch3   E6AE  108.740   F6BE  116.315\n",
       "4  ch4   E6C1  108.743   F6A8  116.300\n",
       "5  ch5   E6B8  108.742   F6B5  116.310\n",
       "6  ch6   E6AA  108.737   F6BC  116.311\n",
       "7  ch7   E6B4  108.741   F6C7  116.316\n",
       "8  ch8   E6FA  108.745   F6AF  116.200\n",
       "9  ch9   E6CE  108.713   F6C7  116.240"
      ],
      "text/html": "<div>\n<style scoped>\n    .dataframe tbody tr th:only-of-type {\n        vertical-align: middle;\n    }\n\n    .dataframe tbody tr th {\n        vertical-align: top;\n    }\n\n    .dataframe thead th {\n        text-align: right;\n    }\n</style>\n<table border=\"1\" class=\"dataframe\">\n  <thead>\n    <tr style=\"text-align: right;\">\n      <th></th>\n      <th>ch</th>\n      <th>ADCmin</th>\n      <th>DMMmin</th>\n      <th>ADCmax</th>\n      <th>DMMmax</th>\n    </tr>\n  </thead>\n  <tbody>\n    <tr>\n      <th>0</th>\n      <td>ch0</td>\n      <td>E693</td>\n      <td>108.751</td>\n      <td>F6B5</td>\n      <td>116.323</td>\n    </tr>\n    <tr>\n      <th>1</th>\n      <td>ch1</td>\n      <td>E6BC</td>\n      <td>108.755</td>\n      <td>F6CA</td>\n      <td>116.325</td>\n    </tr>\n    <tr>\n      <th>2</th>\n      <td>ch2</td>\n      <td>E6B4</td>\n      <td>108.740</td>\n      <td>F6C7</td>\n      <td>116.314</td>\n    </tr>\n    <tr>\n      <th>3</th>\n      <td>ch3</td>\n      <td>E6AE</td>\n      <td>108.740</td>\n      <td>F6BE</td>\n      <td>116.315</td>\n    </tr>\n    <tr>\n      <th>4</th>\n      <td>ch4</td>\n      <td>E6C1</td>\n      <td>108.743</td>\n      <td>F6A8</td>\n      <td>116.300</td>\n    </tr>\n    <tr>\n      <th>5</th>\n      <td>ch5</td>\n      <td>E6B8</td>\n      <td>108.742</td>\n      <td>F6B5</td>\n      <td>116.310</td>\n    </tr>\n    <tr>\n      <th>6</th>\n      <td>ch6</td>\n      <td>E6AA</td>\n      <td>108.737</td>\n      <td>F6BC</td>\n      <td>116.311</td>\n    </tr>\n    <tr>\n      <th>7</th>\n      <td>ch7</td>\n      <td>E6B4</td>\n      <td>108.741</td>\n      <td>F6C7</td>\n      <td>116.316</td>\n    </tr>\n    <tr>\n      <th>8</th>\n      <td>ch8</td>\n      <td>E6FA</td>\n      <td>108.745</td>\n      <td>F6AF</td>\n      <td>116.200</td>\n    </tr>\n    <tr>\n      <th>9</th>\n      <td>ch9</td>\n      <td>E6CE</td>\n      <td>108.713</td>\n      <td>F6C7</td>\n      <td>116.240</td>\n    </tr>\n  </tbody>\n</table>\n</div>"
     },
     "metadata": {},
     "execution_count": 1
    }
   ],
   "source": [
    "import pandas as pd\n",
    "import numpy as np\n",
    "import matplotlib\n",
    "\n",
    "df = pd.read_csv('./files/Calib_SN04_test1.csv' ,delimiter=';',header=None)\n",
    "df = df.rename(columns={0: 'ch', 1:'ADCmin', 2: 'DMMmin', 3:'ADCmax', 4:'DMMmax'})\n",
    "df.head(10)"
   ]
  },
  {
   "cell_type": "code",
   "execution_count": 2,
   "metadata": {},
   "outputs": [],
   "source": [
    "def hex_to_dec(df) :\n",
    "    df = df.copy()\n",
    "    df['ADCmin'] = df['ADCmin'].apply(lambda x: int(x,16) )\n",
    "    df['ADCmax'] = df['ADCmax'].apply(lambda x: int(x,16) )\n",
    "    return df "
   ]
  },
  {
   "cell_type": "code",
   "execution_count": 3,
   "metadata": {},
   "outputs": [
    {
     "output_type": "execute_result",
     "data": {
      "text/plain": [
       "    ch  ADCmin   DMMmin  ADCmax   DMMmax\n",
       "0  ch0   59027  108.751   63157  116.323\n",
       "1  ch1   59068  108.755   63178  116.325\n",
       "2  ch2   59060  108.740   63175  116.314\n",
       "3  ch3   59054  108.740   63166  116.315\n",
       "4  ch4   59073  108.743   63144  116.300"
      ],
      "text/html": "<div>\n<style scoped>\n    .dataframe tbody tr th:only-of-type {\n        vertical-align: middle;\n    }\n\n    .dataframe tbody tr th {\n        vertical-align: top;\n    }\n\n    .dataframe thead th {\n        text-align: right;\n    }\n</style>\n<table border=\"1\" class=\"dataframe\">\n  <thead>\n    <tr style=\"text-align: right;\">\n      <th></th>\n      <th>ch</th>\n      <th>ADCmin</th>\n      <th>DMMmin</th>\n      <th>ADCmax</th>\n      <th>DMMmax</th>\n    </tr>\n  </thead>\n  <tbody>\n    <tr>\n      <th>0</th>\n      <td>ch0</td>\n      <td>59027</td>\n      <td>108.751</td>\n      <td>63157</td>\n      <td>116.323</td>\n    </tr>\n    <tr>\n      <th>1</th>\n      <td>ch1</td>\n      <td>59068</td>\n      <td>108.755</td>\n      <td>63178</td>\n      <td>116.325</td>\n    </tr>\n    <tr>\n      <th>2</th>\n      <td>ch2</td>\n      <td>59060</td>\n      <td>108.740</td>\n      <td>63175</td>\n      <td>116.314</td>\n    </tr>\n    <tr>\n      <th>3</th>\n      <td>ch3</td>\n      <td>59054</td>\n      <td>108.740</td>\n      <td>63166</td>\n      <td>116.315</td>\n    </tr>\n    <tr>\n      <th>4</th>\n      <td>ch4</td>\n      <td>59073</td>\n      <td>108.743</td>\n      <td>63144</td>\n      <td>116.300</td>\n    </tr>\n  </tbody>\n</table>\n</div>"
     },
     "metadata": {},
     "execution_count": 3
    }
   ],
   "source": [
    "df = hex_to_dec(df)\n",
    "df.head()"
   ]
  },
  {
   "cell_type": "code",
   "execution_count": 4,
   "metadata": {},
   "outputs": [],
   "source": [
    "def compute_gain(df, calib ):\n",
    "    df = df.copy()\n",
    "    if (calib == 'HV'):\n",
    "        a_coeff = 1.8535e-3\n",
    "    elif (calib == 'biasV'):\n",
    "         a_coeff = 1.8409e-3\n",
    "    else:\n",
    "        a_coeff = 99999. \n",
    "        print('Non valid calib type')\n",
    "        abort()\n",
    "\n",
    "    df['Gain'] = (df['DMMmax'] - df['DMMmin']) / (df['ADCmax'] - df['ADCmin'] ) * 1/a_coeff\n",
    "\n",
    "    return df"
   ]
  },
  {
   "cell_type": "code",
   "execution_count": 5,
   "metadata": {},
   "outputs": [
    {
     "output_type": "execute_result",
     "data": {
      "text/plain": [
       "    ch  ADCmin   DMMmin  ADCmax   DMMmax      Gain\n",
       "0  ch0   59027  108.751   63157  116.323  0.995934\n",
       "1  ch1   59068  108.755   63178  116.325  1.000516\n",
       "2  ch2   59060  108.740   63175  116.314  0.999828\n",
       "3  ch3   59054  108.740   63166  116.315  1.000689\n",
       "4  ch4   59073  108.743   63144  116.300  1.008366"
      ],
      "text/html": "<div>\n<style scoped>\n    .dataframe tbody tr th:only-of-type {\n        vertical-align: middle;\n    }\n\n    .dataframe tbody tr th {\n        vertical-align: top;\n    }\n\n    .dataframe thead th {\n        text-align: right;\n    }\n</style>\n<table border=\"1\" class=\"dataframe\">\n  <thead>\n    <tr style=\"text-align: right;\">\n      <th></th>\n      <th>ch</th>\n      <th>ADCmin</th>\n      <th>DMMmin</th>\n      <th>ADCmax</th>\n      <th>DMMmax</th>\n      <th>Gain</th>\n    </tr>\n  </thead>\n  <tbody>\n    <tr>\n      <th>0</th>\n      <td>ch0</td>\n      <td>59027</td>\n      <td>108.751</td>\n      <td>63157</td>\n      <td>116.323</td>\n      <td>0.995934</td>\n    </tr>\n    <tr>\n      <th>1</th>\n      <td>ch1</td>\n      <td>59068</td>\n      <td>108.755</td>\n      <td>63178</td>\n      <td>116.325</td>\n      <td>1.000516</td>\n    </tr>\n    <tr>\n      <th>2</th>\n      <td>ch2</td>\n      <td>59060</td>\n      <td>108.740</td>\n      <td>63175</td>\n      <td>116.314</td>\n      <td>0.999828</td>\n    </tr>\n    <tr>\n      <th>3</th>\n      <td>ch3</td>\n      <td>59054</td>\n      <td>108.740</td>\n      <td>63166</td>\n      <td>116.315</td>\n      <td>1.000689</td>\n    </tr>\n    <tr>\n      <th>4</th>\n      <td>ch4</td>\n      <td>59073</td>\n      <td>108.743</td>\n      <td>63144</td>\n      <td>116.300</td>\n      <td>1.008366</td>\n    </tr>\n  </tbody>\n</table>\n</div>"
     },
     "metadata": {},
     "execution_count": 5
    }
   ],
   "source": [
    "df_tmp = compute_gain(df, 'biasV')\n",
    "#df_tmp = compute_gain(df, 'HV')\n",
    "df_tmp.head()"
   ]
  },
  {
   "cell_type": "code",
   "execution_count": 6,
   "metadata": {},
   "outputs": [],
   "source": [
    "def convertADC(df ):\n",
    "    df.copy()\n",
    "    df['ADCmin_conv'] = df['ADCmin']* 1.8409e-3\n",
    "    df['ADCmax_conv'] = df['ADCmax']* 1.8409e-3\n",
    "\n",
    "    return df"
   ]
  },
  {
   "cell_type": "code",
   "execution_count": 8,
   "metadata": {},
   "outputs": [
    {
     "output_type": "execute_result",
     "data": {
      "text/plain": [
       "    ch  ADCmin   DMMmin  ADCmax   DMMmax  ADCmin_conv  ADCmax_conv\n",
       "0  ch0   59027  108.751   63157  116.323   108.662804   116.265721\n",
       "1  ch1   59068  108.755   63178  116.325   108.738281   116.304380\n",
       "2  ch2   59060  108.740   63175  116.314   108.723554   116.298857\n",
       "3  ch3   59054  108.740   63166  116.315   108.712509   116.282289\n",
       "4  ch4   59073  108.743   63144  116.300   108.747486   116.241790\n",
       "5  ch5   59064  108.742   63157  116.310   108.730918   116.265721\n",
       "6  ch6   59050  108.737   63164  116.311   108.705145   116.278608\n",
       "7  ch7   59060  108.741   63175  116.316   108.723554   116.298857\n",
       "8  ch8   59130  108.745   63151  116.200   108.852417   116.254676\n",
       "9  ch9   59086  108.713   63175  116.240   108.771417   116.298857"
      ],
      "text/html": "<div>\n<style scoped>\n    .dataframe tbody tr th:only-of-type {\n        vertical-align: middle;\n    }\n\n    .dataframe tbody tr th {\n        vertical-align: top;\n    }\n\n    .dataframe thead th {\n        text-align: right;\n    }\n</style>\n<table border=\"1\" class=\"dataframe\">\n  <thead>\n    <tr style=\"text-align: right;\">\n      <th></th>\n      <th>ch</th>\n      <th>ADCmin</th>\n      <th>DMMmin</th>\n      <th>ADCmax</th>\n      <th>DMMmax</th>\n      <th>ADCmin_conv</th>\n      <th>ADCmax_conv</th>\n    </tr>\n  </thead>\n  <tbody>\n    <tr>\n      <th>0</th>\n      <td>ch0</td>\n      <td>59027</td>\n      <td>108.751</td>\n      <td>63157</td>\n      <td>116.323</td>\n      <td>108.662804</td>\n      <td>116.265721</td>\n    </tr>\n    <tr>\n      <th>1</th>\n      <td>ch1</td>\n      <td>59068</td>\n      <td>108.755</td>\n      <td>63178</td>\n      <td>116.325</td>\n      <td>108.738281</td>\n      <td>116.304380</td>\n    </tr>\n    <tr>\n      <th>2</th>\n      <td>ch2</td>\n      <td>59060</td>\n      <td>108.740</td>\n      <td>63175</td>\n      <td>116.314</td>\n      <td>108.723554</td>\n      <td>116.298857</td>\n    </tr>\n    <tr>\n      <th>3</th>\n      <td>ch3</td>\n      <td>59054</td>\n      <td>108.740</td>\n      <td>63166</td>\n      <td>116.315</td>\n      <td>108.712509</td>\n      <td>116.282289</td>\n    </tr>\n    <tr>\n      <th>4</th>\n      <td>ch4</td>\n      <td>59073</td>\n      <td>108.743</td>\n      <td>63144</td>\n      <td>116.300</td>\n      <td>108.747486</td>\n      <td>116.241790</td>\n    </tr>\n    <tr>\n      <th>5</th>\n      <td>ch5</td>\n      <td>59064</td>\n      <td>108.742</td>\n      <td>63157</td>\n      <td>116.310</td>\n      <td>108.730918</td>\n      <td>116.265721</td>\n    </tr>\n    <tr>\n      <th>6</th>\n      <td>ch6</td>\n      <td>59050</td>\n      <td>108.737</td>\n      <td>63164</td>\n      <td>116.311</td>\n      <td>108.705145</td>\n      <td>116.278608</td>\n    </tr>\n    <tr>\n      <th>7</th>\n      <td>ch7</td>\n      <td>59060</td>\n      <td>108.741</td>\n      <td>63175</td>\n      <td>116.316</td>\n      <td>108.723554</td>\n      <td>116.298857</td>\n    </tr>\n    <tr>\n      <th>8</th>\n      <td>ch8</td>\n      <td>59130</td>\n      <td>108.745</td>\n      <td>63151</td>\n      <td>116.200</td>\n      <td>108.852417</td>\n      <td>116.254676</td>\n    </tr>\n    <tr>\n      <th>9</th>\n      <td>ch9</td>\n      <td>59086</td>\n      <td>108.713</td>\n      <td>63175</td>\n      <td>116.240</td>\n      <td>108.771417</td>\n      <td>116.298857</td>\n    </tr>\n  </tbody>\n</table>\n</div>"
     },
     "metadata": {},
     "execution_count": 8
    }
   ],
   "source": [
    "df = convertADC(df)\n",
    "df.head(10)"
   ]
  },
  {
   "cell_type": "code",
   "execution_count": null,
   "metadata": {},
   "outputs": [],
   "source": []
  }
 ]
}
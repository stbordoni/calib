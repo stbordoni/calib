{
 "metadata": {
  "language_info": {
   "codemirror_mode": {
    "name": "ipython",
    "version": 3
   },
   "file_extension": ".py",
   "mimetype": "text/x-python",
   "name": "python",
   "nbconvert_exporter": "python",
   "pygments_lexer": "ipython3",
   "version": "3.9.2"
  },
  "orig_nbformat": 2,
  "kernelspec": {
   "name": "pythonjvsc74a57bd02b6c4d4d5861da4de20ae5397ab36a2c4fea6beca7bca7fb8955c39e63f73bb7",
   "display_name": "Python 3.9.2  ('.venv': venv)"
  },
  "metadata": {
   "interpreter": {
    "hash": "2b6c4d4d5861da4de20ae5397ab36a2c4fea6beca7bca7fb8955c39e63f73bb7"
   }
  }
 },
 "nbformat": 4,
 "nbformat_minor": 2,
 "cells": [
  {
   "cell_type": "code",
   "execution_count": 1,
   "metadata": {},
   "outputs": [
    {
     "output_type": "execute_result",
     "data": {
      "text/plain": [
       "    ch ADCmin   DMMmin ADCmax   DMMmax\n",
       "0  ch0   E6A4  108.752   F6F1  116.344\n",
       "1  ch1   E6BD  108.756   F6CC  116.322\n",
       "2  ch2   E6B1  108.740   F6C3  116.314\n",
       "3  ch3   E6AC  108.740   F6BD  116.315\n",
       "4  ch4   E6C1  108.744   F6CD  116.300\n",
       "5  ch5   E6B8  108.741   F6C7  116.309\n",
       "6  ch6   E6AB  108.736   F6BE  116.311\n",
       "7  ch7   E6B6  108.741   F6C7  116.315\n",
       "8  ch8   E6F7  108.748   F714  116.323\n",
       "9  ch9   E6CE  108.712   F6E3  116.288"
      ],
      "text/html": "<div>\n<style scoped>\n    .dataframe tbody tr th:only-of-type {\n        vertical-align: middle;\n    }\n\n    .dataframe tbody tr th {\n        vertical-align: top;\n    }\n\n    .dataframe thead th {\n        text-align: right;\n    }\n</style>\n<table border=\"1\" class=\"dataframe\">\n  <thead>\n    <tr style=\"text-align: right;\">\n      <th></th>\n      <th>ch</th>\n      <th>ADCmin</th>\n      <th>DMMmin</th>\n      <th>ADCmax</th>\n      <th>DMMmax</th>\n    </tr>\n  </thead>\n  <tbody>\n    <tr>\n      <th>0</th>\n      <td>ch0</td>\n      <td>E6A4</td>\n      <td>108.752</td>\n      <td>F6F1</td>\n      <td>116.344</td>\n    </tr>\n    <tr>\n      <th>1</th>\n      <td>ch1</td>\n      <td>E6BD</td>\n      <td>108.756</td>\n      <td>F6CC</td>\n      <td>116.322</td>\n    </tr>\n    <tr>\n      <th>2</th>\n      <td>ch2</td>\n      <td>E6B1</td>\n      <td>108.740</td>\n      <td>F6C3</td>\n      <td>116.314</td>\n    </tr>\n    <tr>\n      <th>3</th>\n      <td>ch3</td>\n      <td>E6AC</td>\n      <td>108.740</td>\n      <td>F6BD</td>\n      <td>116.315</td>\n    </tr>\n    <tr>\n      <th>4</th>\n      <td>ch4</td>\n      <td>E6C1</td>\n      <td>108.744</td>\n      <td>F6CD</td>\n      <td>116.300</td>\n    </tr>\n    <tr>\n      <th>5</th>\n      <td>ch5</td>\n      <td>E6B8</td>\n      <td>108.741</td>\n      <td>F6C7</td>\n      <td>116.309</td>\n    </tr>\n    <tr>\n      <th>6</th>\n      <td>ch6</td>\n      <td>E6AB</td>\n      <td>108.736</td>\n      <td>F6BE</td>\n      <td>116.311</td>\n    </tr>\n    <tr>\n      <th>7</th>\n      <td>ch7</td>\n      <td>E6B6</td>\n      <td>108.741</td>\n      <td>F6C7</td>\n      <td>116.315</td>\n    </tr>\n    <tr>\n      <th>8</th>\n      <td>ch8</td>\n      <td>E6F7</td>\n      <td>108.748</td>\n      <td>F714</td>\n      <td>116.323</td>\n    </tr>\n    <tr>\n      <th>9</th>\n      <td>ch9</td>\n      <td>E6CE</td>\n      <td>108.712</td>\n      <td>F6E3</td>\n      <td>116.288</td>\n    </tr>\n  </tbody>\n</table>\n</div>"
     },
     "metadata": {},
     "execution_count": 1
    }
   ],
   "source": [
    "import pandas as pd\n",
    "import numpy as np\n",
    "import matplotlib\n",
    "\n",
    "df = pd.read_csv('./files/Calib_SN04_test2.csv' ,delimiter=';',header=None)\n",
    "df = df.rename(columns={0: 'ch', 1:'ADCmin', 2: 'DMMmin', 3:'ADCmax', 4:'DMMmax'})\n",
    "df.head(10)"
   ]
  },
  {
   "cell_type": "code",
   "execution_count": 2,
   "metadata": {},
   "outputs": [],
   "source": [
    "def hex_to_dec(df) :\n",
    "    df = df.copy()\n",
    "    df['ADCmin'] = df['ADCmin'].apply(lambda x: int(x,16) )\n",
    "    df['ADCmax'] = df['ADCmax'].apply(lambda x: int(x,16) )\n",
    "    return df \n",
    "    "
   ]
  },
  {
   "cell_type": "code",
   "execution_count": 3,
   "metadata": {},
   "outputs": [
    {
     "output_type": "execute_result",
     "data": {
      "text/plain": [
       "    ch  ADCmin   DMMmin  ADCmax   DMMmax\n",
       "0  ch0   59044  108.752   63217  116.344\n",
       "1  ch1   59069  108.756   63180  116.322\n",
       "2  ch2   59057  108.740   63171  116.314\n",
       "3  ch3   59052  108.740   63165  116.315\n",
       "4  ch4   59073  108.744   63181  116.300"
      ],
      "text/html": "<div>\n<style scoped>\n    .dataframe tbody tr th:only-of-type {\n        vertical-align: middle;\n    }\n\n    .dataframe tbody tr th {\n        vertical-align: top;\n    }\n\n    .dataframe thead th {\n        text-align: right;\n    }\n</style>\n<table border=\"1\" class=\"dataframe\">\n  <thead>\n    <tr style=\"text-align: right;\">\n      <th></th>\n      <th>ch</th>\n      <th>ADCmin</th>\n      <th>DMMmin</th>\n      <th>ADCmax</th>\n      <th>DMMmax</th>\n    </tr>\n  </thead>\n  <tbody>\n    <tr>\n      <th>0</th>\n      <td>ch0</td>\n      <td>59044</td>\n      <td>108.752</td>\n      <td>63217</td>\n      <td>116.344</td>\n    </tr>\n    <tr>\n      <th>1</th>\n      <td>ch1</td>\n      <td>59069</td>\n      <td>108.756</td>\n      <td>63180</td>\n      <td>116.322</td>\n    </tr>\n    <tr>\n      <th>2</th>\n      <td>ch2</td>\n      <td>59057</td>\n      <td>108.740</td>\n      <td>63171</td>\n      <td>116.314</td>\n    </tr>\n    <tr>\n      <th>3</th>\n      <td>ch3</td>\n      <td>59052</td>\n      <td>108.740</td>\n      <td>63165</td>\n      <td>116.315</td>\n    </tr>\n    <tr>\n      <th>4</th>\n      <td>ch4</td>\n      <td>59073</td>\n      <td>108.744</td>\n      <td>63181</td>\n      <td>116.300</td>\n    </tr>\n  </tbody>\n</table>\n</div>"
     },
     "metadata": {},
     "execution_count": 3
    }
   ],
   "source": [
    "df = hex_to_dec(df)\n",
    "df.head()"
   ]
  },
  {
   "cell_type": "code",
   "execution_count": 4,
   "metadata": {},
   "outputs": [],
   "source": [
    "def compute_gain(df, calib ):\n",
    "    df = df.copy()\n",
    "    if (calib == 'HV'):\n",
    "        a_coeff = 1.8535e-3\n",
    "        df['Gain HV'] = (df['DMMmax'] - df['DMMmin']) / (df['ADCmax'] - df['ADCmin'] ) * 1/a_coeff\n",
    "\n",
    "    elif (calib == 'biasV'):\n",
    "         a_coeff = 1.8409e-3\n",
    "         df['Gain BiasV'] = (df['DMMmax'] - df['DMMmin']) / (df['ADCmax'] - df['ADCmin'] ) * 1/a_coeff\n",
    "\n",
    "    else:\n",
    "        a_coeff = 99999. \n",
    "        print('Non valid calib type')\n",
    "        abort()\n",
    "\n",
    "\n",
    "    return df"
   ]
  },
  {
   "cell_type": "code",
   "execution_count": 5,
   "metadata": {},
   "outputs": [],
   "source": [
    "def compute_offset(df, calib):\n",
    "    df = df.copy()\n",
    "    if (calib == 'HV'):\n",
    "        a_coeff = 1.8535e-3\n",
    "        b_coeff = 0\n",
    "        df['offset HV'] = df['ADCmin'] - (df['DMMmin'] - b_coeff )/ (df['Gain HV'] * a_coeff)\n",
    "\n",
    "    elif (calib == 'biasV'):\n",
    "        a_coeff = 1.8409e-3\n",
    "        b_coeff = 0\n",
    "        df['offset BiasV'] = df['ADCmin'] - (df['DMMmin'] - b_coeff )/ (df['Gain BiasV'] * a_coeff)\n",
    "\n",
    "    else:\n",
    "        a_coeff = 99999. \n",
    "        b_coeff = 99999.\n",
    "        print('Non valid calib type')\n",
    "        abort()\n",
    "\n",
    "    return df"
   ]
  },
  {
   "cell_type": "code",
   "execution_count": 6,
   "metadata": {},
   "outputs": [
    {
     "output_type": "execute_result",
     "data": {
      "text/plain": [
       "    ch  ADCmin   DMMmin  ADCmax   DMMmax  Gain BiasV   Gain HV\n",
       "0  ch0   59044  108.752   63217  116.344    0.988275  0.981556\n",
       "1  ch1   59069  108.756   63180  116.322    0.999744  0.992947\n",
       "2  ch2   59057  108.740   63171  116.314    1.000071  0.993273\n",
       "3  ch3   59052  108.740   63165  116.315    1.000446  0.993645\n",
       "4  ch4   59073  108.744   63181  116.300    0.999151  0.992359"
      ],
      "text/html": "<div>\n<style scoped>\n    .dataframe tbody tr th:only-of-type {\n        vertical-align: middle;\n    }\n\n    .dataframe tbody tr th {\n        vertical-align: top;\n    }\n\n    .dataframe thead th {\n        text-align: right;\n    }\n</style>\n<table border=\"1\" class=\"dataframe\">\n  <thead>\n    <tr style=\"text-align: right;\">\n      <th></th>\n      <th>ch</th>\n      <th>ADCmin</th>\n      <th>DMMmin</th>\n      <th>ADCmax</th>\n      <th>DMMmax</th>\n      <th>Gain BiasV</th>\n      <th>Gain HV</th>\n    </tr>\n  </thead>\n  <tbody>\n    <tr>\n      <th>0</th>\n      <td>ch0</td>\n      <td>59044</td>\n      <td>108.752</td>\n      <td>63217</td>\n      <td>116.344</td>\n      <td>0.988275</td>\n      <td>0.981556</td>\n    </tr>\n    <tr>\n      <th>1</th>\n      <td>ch1</td>\n      <td>59069</td>\n      <td>108.756</td>\n      <td>63180</td>\n      <td>116.322</td>\n      <td>0.999744</td>\n      <td>0.992947</td>\n    </tr>\n    <tr>\n      <th>2</th>\n      <td>ch2</td>\n      <td>59057</td>\n      <td>108.740</td>\n      <td>63171</td>\n      <td>116.314</td>\n      <td>1.000071</td>\n      <td>0.993273</td>\n    </tr>\n    <tr>\n      <th>3</th>\n      <td>ch3</td>\n      <td>59052</td>\n      <td>108.740</td>\n      <td>63165</td>\n      <td>116.315</td>\n      <td>1.000446</td>\n      <td>0.993645</td>\n    </tr>\n    <tr>\n      <th>4</th>\n      <td>ch4</td>\n      <td>59073</td>\n      <td>108.744</td>\n      <td>63181</td>\n      <td>116.300</td>\n      <td>0.999151</td>\n      <td>0.992359</td>\n    </tr>\n  </tbody>\n</table>\n</div>"
     },
     "metadata": {},
     "execution_count": 6
    }
   ],
   "source": [
    "df = compute_gain(df, 'biasV')\n",
    "df = compute_gain(df, 'HV')\n",
    "df.head()"
   ]
  },
  {
   "cell_type": "code",
   "execution_count": 7,
   "metadata": {},
   "outputs": [
    {
     "output_type": "execute_result",
     "data": {
      "text/plain": [
       "    ch  ADCmin   DMMmin  ADCmax   DMMmax  Gain BiasV   Gain HV  offset BiasV  \\\n",
       "0  ch0   59044  108.752   63217  116.344    0.988275  0.981556   -732.356164   \n",
       "1  ch1   59069  108.756   63180  116.322    0.999744  0.992947    -23.772403   \n",
       "2  ch2   59057  108.740   63171  116.314    1.000071  0.993273     -7.742540   \n",
       "3  ch3   59052  108.740   63165  116.315    1.000446  0.993645      9.409901   \n",
       "4  ch4   59073  108.744   63181  116.300    0.999151  0.992359    -48.274749   \n",
       "\n",
       "    offset HV  \n",
       "0 -732.356164  \n",
       "1  -23.772403  \n",
       "2   -7.742540  \n",
       "3    9.409901  \n",
       "4  -48.274749  "
      ],
      "text/html": "<div>\n<style scoped>\n    .dataframe tbody tr th:only-of-type {\n        vertical-align: middle;\n    }\n\n    .dataframe tbody tr th {\n        vertical-align: top;\n    }\n\n    .dataframe thead th {\n        text-align: right;\n    }\n</style>\n<table border=\"1\" class=\"dataframe\">\n  <thead>\n    <tr style=\"text-align: right;\">\n      <th></th>\n      <th>ch</th>\n      <th>ADCmin</th>\n      <th>DMMmin</th>\n      <th>ADCmax</th>\n      <th>DMMmax</th>\n      <th>Gain BiasV</th>\n      <th>Gain HV</th>\n      <th>offset BiasV</th>\n      <th>offset HV</th>\n    </tr>\n  </thead>\n  <tbody>\n    <tr>\n      <th>0</th>\n      <td>ch0</td>\n      <td>59044</td>\n      <td>108.752</td>\n      <td>63217</td>\n      <td>116.344</td>\n      <td>0.988275</td>\n      <td>0.981556</td>\n      <td>-732.356164</td>\n      <td>-732.356164</td>\n    </tr>\n    <tr>\n      <th>1</th>\n      <td>ch1</td>\n      <td>59069</td>\n      <td>108.756</td>\n      <td>63180</td>\n      <td>116.322</td>\n      <td>0.999744</td>\n      <td>0.992947</td>\n      <td>-23.772403</td>\n      <td>-23.772403</td>\n    </tr>\n    <tr>\n      <th>2</th>\n      <td>ch2</td>\n      <td>59057</td>\n      <td>108.740</td>\n      <td>63171</td>\n      <td>116.314</td>\n      <td>1.000071</td>\n      <td>0.993273</td>\n      <td>-7.742540</td>\n      <td>-7.742540</td>\n    </tr>\n    <tr>\n      <th>3</th>\n      <td>ch3</td>\n      <td>59052</td>\n      <td>108.740</td>\n      <td>63165</td>\n      <td>116.315</td>\n      <td>1.000446</td>\n      <td>0.993645</td>\n      <td>9.409901</td>\n      <td>9.409901</td>\n    </tr>\n    <tr>\n      <th>4</th>\n      <td>ch4</td>\n      <td>59073</td>\n      <td>108.744</td>\n      <td>63181</td>\n      <td>116.300</td>\n      <td>0.999151</td>\n      <td>0.992359</td>\n      <td>-48.274749</td>\n      <td>-48.274749</td>\n    </tr>\n  </tbody>\n</table>\n</div>"
     },
     "metadata": {},
     "execution_count": 7
    }
   ],
   "source": [
    "df = compute_offset(df, 'biasV')\n",
    "df = compute_offset(df, 'HV')\n",
    "df.head()"
   ]
  },
  {
   "cell_type": "code",
   "execution_count": 8,
   "metadata": {},
   "outputs": [],
   "source": [
    "def convertADC(df ):\n",
    "    df.copy()\n",
    "    df['ADCmin_conv'] = df['ADCmin']* 1.8409e-3\n",
    "    df['ADCmax_conv'] = df['ADCmax']* 1.8409e-3\n",
    "\n",
    "    return df"
   ]
  },
  {
   "cell_type": "code",
   "execution_count": 9,
   "metadata": {},
   "outputs": [
    {
     "output_type": "execute_result",
     "data": {
      "text/plain": [
       "    ch  ADCmin   DMMmin  ADCmax   DMMmax  Gain BiasV   Gain HV  offset BiasV  \\\n",
       "0  ch0   59044  108.752   63217  116.344    0.988275  0.981556   -732.356164   \n",
       "1  ch1   59069  108.756   63180  116.322    0.999744  0.992947    -23.772403   \n",
       "2  ch2   59057  108.740   63171  116.314    1.000071  0.993273     -7.742540   \n",
       "3  ch3   59052  108.740   63165  116.315    1.000446  0.993645      9.409901   \n",
       "4  ch4   59073  108.744   63181  116.300    0.999151  0.992359    -48.274749   \n",
       "\n",
       "    offset HV  ADCmin_conv  ADCmax_conv  \n",
       "0 -732.356164   108.694100   116.376175  \n",
       "1  -23.772403   108.740122   116.308062  \n",
       "2   -7.742540   108.718031   116.291494  \n",
       "3    9.409901   108.708827   116.280448  \n",
       "4  -48.274749   108.747486   116.309903  "
      ],
      "text/html": "<div>\n<style scoped>\n    .dataframe tbody tr th:only-of-type {\n        vertical-align: middle;\n    }\n\n    .dataframe tbody tr th {\n        vertical-align: top;\n    }\n\n    .dataframe thead th {\n        text-align: right;\n    }\n</style>\n<table border=\"1\" class=\"dataframe\">\n  <thead>\n    <tr style=\"text-align: right;\">\n      <th></th>\n      <th>ch</th>\n      <th>ADCmin</th>\n      <th>DMMmin</th>\n      <th>ADCmax</th>\n      <th>DMMmax</th>\n      <th>Gain BiasV</th>\n      <th>Gain HV</th>\n      <th>offset BiasV</th>\n      <th>offset HV</th>\n      <th>ADCmin_conv</th>\n      <th>ADCmax_conv</th>\n    </tr>\n  </thead>\n  <tbody>\n    <tr>\n      <th>0</th>\n      <td>ch0</td>\n      <td>59044</td>\n      <td>108.752</td>\n      <td>63217</td>\n      <td>116.344</td>\n      <td>0.988275</td>\n      <td>0.981556</td>\n      <td>-732.356164</td>\n      <td>-732.356164</td>\n      <td>108.694100</td>\n      <td>116.376175</td>\n    </tr>\n    <tr>\n      <th>1</th>\n      <td>ch1</td>\n      <td>59069</td>\n      <td>108.756</td>\n      <td>63180</td>\n      <td>116.322</td>\n      <td>0.999744</td>\n      <td>0.992947</td>\n      <td>-23.772403</td>\n      <td>-23.772403</td>\n      <td>108.740122</td>\n      <td>116.308062</td>\n    </tr>\n    <tr>\n      <th>2</th>\n      <td>ch2</td>\n      <td>59057</td>\n      <td>108.740</td>\n      <td>63171</td>\n      <td>116.314</td>\n      <td>1.000071</td>\n      <td>0.993273</td>\n      <td>-7.742540</td>\n      <td>-7.742540</td>\n      <td>108.718031</td>\n      <td>116.291494</td>\n    </tr>\n    <tr>\n      <th>3</th>\n      <td>ch3</td>\n      <td>59052</td>\n      <td>108.740</td>\n      <td>63165</td>\n      <td>116.315</td>\n      <td>1.000446</td>\n      <td>0.993645</td>\n      <td>9.409901</td>\n      <td>9.409901</td>\n      <td>108.708827</td>\n      <td>116.280448</td>\n    </tr>\n    <tr>\n      <th>4</th>\n      <td>ch4</td>\n      <td>59073</td>\n      <td>108.744</td>\n      <td>63181</td>\n      <td>116.300</td>\n      <td>0.999151</td>\n      <td>0.992359</td>\n      <td>-48.274749</td>\n      <td>-48.274749</td>\n      <td>108.747486</td>\n      <td>116.309903</td>\n    </tr>\n  </tbody>\n</table>\n</div>"
     },
     "metadata": {},
     "execution_count": 9
    }
   ],
   "source": [
    "df = convertADC(df)\n",
    "df.head()"
   ]
  },
  {
   "cell_type": "code",
   "execution_count": 10,
   "metadata": {},
   "outputs": [],
   "source": [
    "import math       \n",
    "def get_USig_gain(df):\n",
    "    df = df.copy()\n",
    "    df['Gain_Usig HV'] = df['Gain HV'].apply(lambda x: math.ceil((x* 32768)))\n",
    "    df['Gain_Usig BiasV'] = df['Gain BiasV'].apply(lambda x: math.ceil((x* 32768)))\n",
    "\n",
    "    return df\n",
    "\n",
    "def get_Sig_offset(df):\n",
    "    df= df.copy()\n",
    "    df['Offset_Sig HV'] = df['offset HV'].apply(lambda x: math.ceil(x) ) \n",
    "    df['Offset_Sig BiasV'] = df['offset BiasV'].apply(lambda x: math.ceil(x) ) \n",
    "\n",
    "    return df\n",
    "    "
   ]
  },
  {
   "cell_type": "code",
   "execution_count": 11,
   "metadata": {},
   "outputs": [
    {
     "output_type": "execute_result",
     "data": {
      "text/plain": [
       "    ch  ADCmin   DMMmin  ADCmax   DMMmax  Gain BiasV   Gain HV  offset BiasV  \\\n",
       "0  ch0   59044  108.752   63217  116.344    0.988275  0.981556   -732.356164   \n",
       "1  ch1   59069  108.756   63180  116.322    0.999744  0.992947    -23.772403   \n",
       "2  ch2   59057  108.740   63171  116.314    1.000071  0.993273     -7.742540   \n",
       "3  ch3   59052  108.740   63165  116.315    1.000446  0.993645      9.409901   \n",
       "4  ch4   59073  108.744   63181  116.300    0.999151  0.992359    -48.274749   \n",
       "\n",
       "    offset HV  ADCmin_conv  ADCmax_conv  Gain_Usig HV  Gain_Usig BiasV  \\\n",
       "0 -732.356164   108.694100   116.376175         32164            32384   \n",
       "1  -23.772403   108.740122   116.308062         32537            32760   \n",
       "2   -7.742540   108.718031   116.291494         32548            32771   \n",
       "3    9.409901   108.708827   116.280448         32560            32783   \n",
       "4  -48.274749   108.747486   116.309903         32518            32741   \n",
       "\n",
       "   Offset_Sig HV  Offset_Sig BiasV  \n",
       "0           -732              -732  \n",
       "1            -23               -23  \n",
       "2             -7                -7  \n",
       "3             10                10  \n",
       "4            -48               -48  "
      ],
      "text/html": "<div>\n<style scoped>\n    .dataframe tbody tr th:only-of-type {\n        vertical-align: middle;\n    }\n\n    .dataframe tbody tr th {\n        vertical-align: top;\n    }\n\n    .dataframe thead th {\n        text-align: right;\n    }\n</style>\n<table border=\"1\" class=\"dataframe\">\n  <thead>\n    <tr style=\"text-align: right;\">\n      <th></th>\n      <th>ch</th>\n      <th>ADCmin</th>\n      <th>DMMmin</th>\n      <th>ADCmax</th>\n      <th>DMMmax</th>\n      <th>Gain BiasV</th>\n      <th>Gain HV</th>\n      <th>offset BiasV</th>\n      <th>offset HV</th>\n      <th>ADCmin_conv</th>\n      <th>ADCmax_conv</th>\n      <th>Gain_Usig HV</th>\n      <th>Gain_Usig BiasV</th>\n      <th>Offset_Sig HV</th>\n      <th>Offset_Sig BiasV</th>\n    </tr>\n  </thead>\n  <tbody>\n    <tr>\n      <th>0</th>\n      <td>ch0</td>\n      <td>59044</td>\n      <td>108.752</td>\n      <td>63217</td>\n      <td>116.344</td>\n      <td>0.988275</td>\n      <td>0.981556</td>\n      <td>-732.356164</td>\n      <td>-732.356164</td>\n      <td>108.694100</td>\n      <td>116.376175</td>\n      <td>32164</td>\n      <td>32384</td>\n      <td>-732</td>\n      <td>-732</td>\n    </tr>\n    <tr>\n      <th>1</th>\n      <td>ch1</td>\n      <td>59069</td>\n      <td>108.756</td>\n      <td>63180</td>\n      <td>116.322</td>\n      <td>0.999744</td>\n      <td>0.992947</td>\n      <td>-23.772403</td>\n      <td>-23.772403</td>\n      <td>108.740122</td>\n      <td>116.308062</td>\n      <td>32537</td>\n      <td>32760</td>\n      <td>-23</td>\n      <td>-23</td>\n    </tr>\n    <tr>\n      <th>2</th>\n      <td>ch2</td>\n      <td>59057</td>\n      <td>108.740</td>\n      <td>63171</td>\n      <td>116.314</td>\n      <td>1.000071</td>\n      <td>0.993273</td>\n      <td>-7.742540</td>\n      <td>-7.742540</td>\n      <td>108.718031</td>\n      <td>116.291494</td>\n      <td>32548</td>\n      <td>32771</td>\n      <td>-7</td>\n      <td>-7</td>\n    </tr>\n    <tr>\n      <th>3</th>\n      <td>ch3</td>\n      <td>59052</td>\n      <td>108.740</td>\n      <td>63165</td>\n      <td>116.315</td>\n      <td>1.000446</td>\n      <td>0.993645</td>\n      <td>9.409901</td>\n      <td>9.409901</td>\n      <td>108.708827</td>\n      <td>116.280448</td>\n      <td>32560</td>\n      <td>32783</td>\n      <td>10</td>\n      <td>10</td>\n    </tr>\n    <tr>\n      <th>4</th>\n      <td>ch4</td>\n      <td>59073</td>\n      <td>108.744</td>\n      <td>63181</td>\n      <td>116.300</td>\n      <td>0.999151</td>\n      <td>0.992359</td>\n      <td>-48.274749</td>\n      <td>-48.274749</td>\n      <td>108.747486</td>\n      <td>116.309903</td>\n      <td>32518</td>\n      <td>32741</td>\n      <td>-48</td>\n      <td>-48</td>\n    </tr>\n  </tbody>\n</table>\n</div>"
     },
     "metadata": {},
     "execution_count": 11
    }
   ],
   "source": [
    "df = get_USig_gain(df)\n",
    "df = get_Sig_offset(df)\n",
    "\n",
    "df.head()"
   ]
  },
  {
   "cell_type": "code",
   "execution_count": 12,
   "metadata": {},
   "outputs": [],
   "source": [
    "def convert_to_exadec(df):\n",
    "    df = df.copy()\n",
    "\n",
    "    df['Gain_Usig BiasV'] = df['Gain_Usig BiasV'].apply(lambda x : hex(x) )\n",
    "    df['Gain_Usig HV'] = df['Gain_Usig HV'].apply(lambda x : hex(x) )\n",
    "\n",
    "    df['Offset_Sig BiasV'] = df['Offset_Sig BiasV'].apply(lambda x : hex(x) )\n",
    "    df['Offset_Sig HV'] = df['Offset_Sig HV'].apply(lambda x : hex(x) )\n",
    "\n",
    "\n",
    "    return df"
   ]
  },
  {
   "cell_type": "code",
   "execution_count": 13,
   "metadata": {},
   "outputs": [
    {
     "output_type": "execute_result",
     "data": {
      "text/plain": [
       "    ch  ADCmin   DMMmin  ADCmax   DMMmax  Gain BiasV   Gain HV  offset BiasV  \\\n",
       "0  ch0   59044  108.752   63217  116.344    0.988275  0.981556   -732.356164   \n",
       "1  ch1   59069  108.756   63180  116.322    0.999744  0.992947    -23.772403   \n",
       "2  ch2   59057  108.740   63171  116.314    1.000071  0.993273     -7.742540   \n",
       "3  ch3   59052  108.740   63165  116.315    1.000446  0.993645      9.409901   \n",
       "4  ch4   59073  108.744   63181  116.300    0.999151  0.992359    -48.274749   \n",
       "\n",
       "    offset HV  ADCmin_conv  ADCmax_conv Gain_Usig HV Gain_Usig BiasV  \\\n",
       "0 -732.356164   108.694100   116.376175       0x7da4          0x7e80   \n",
       "1  -23.772403   108.740122   116.308062       0x7f19          0x7ff8   \n",
       "2   -7.742540   108.718031   116.291494       0x7f24          0x8003   \n",
       "3    9.409901   108.708827   116.280448       0x7f30          0x800f   \n",
       "4  -48.274749   108.747486   116.309903       0x7f06          0x7fe5   \n",
       "\n",
       "  Offset_Sig HV Offset_Sig BiasV  \n",
       "0        -0x2dc           -0x2dc  \n",
       "1         -0x17            -0x17  \n",
       "2          -0x7             -0x7  \n",
       "3           0xa              0xa  \n",
       "4         -0x30            -0x30  "
      ],
      "text/html": "<div>\n<style scoped>\n    .dataframe tbody tr th:only-of-type {\n        vertical-align: middle;\n    }\n\n    .dataframe tbody tr th {\n        vertical-align: top;\n    }\n\n    .dataframe thead th {\n        text-align: right;\n    }\n</style>\n<table border=\"1\" class=\"dataframe\">\n  <thead>\n    <tr style=\"text-align: right;\">\n      <th></th>\n      <th>ch</th>\n      <th>ADCmin</th>\n      <th>DMMmin</th>\n      <th>ADCmax</th>\n      <th>DMMmax</th>\n      <th>Gain BiasV</th>\n      <th>Gain HV</th>\n      <th>offset BiasV</th>\n      <th>offset HV</th>\n      <th>ADCmin_conv</th>\n      <th>ADCmax_conv</th>\n      <th>Gain_Usig HV</th>\n      <th>Gain_Usig BiasV</th>\n      <th>Offset_Sig HV</th>\n      <th>Offset_Sig BiasV</th>\n    </tr>\n  </thead>\n  <tbody>\n    <tr>\n      <th>0</th>\n      <td>ch0</td>\n      <td>59044</td>\n      <td>108.752</td>\n      <td>63217</td>\n      <td>116.344</td>\n      <td>0.988275</td>\n      <td>0.981556</td>\n      <td>-732.356164</td>\n      <td>-732.356164</td>\n      <td>108.694100</td>\n      <td>116.376175</td>\n      <td>0x7da4</td>\n      <td>0x7e80</td>\n      <td>-0x2dc</td>\n      <td>-0x2dc</td>\n    </tr>\n    <tr>\n      <th>1</th>\n      <td>ch1</td>\n      <td>59069</td>\n      <td>108.756</td>\n      <td>63180</td>\n      <td>116.322</td>\n      <td>0.999744</td>\n      <td>0.992947</td>\n      <td>-23.772403</td>\n      <td>-23.772403</td>\n      <td>108.740122</td>\n      <td>116.308062</td>\n      <td>0x7f19</td>\n      <td>0x7ff8</td>\n      <td>-0x17</td>\n      <td>-0x17</td>\n    </tr>\n    <tr>\n      <th>2</th>\n      <td>ch2</td>\n      <td>59057</td>\n      <td>108.740</td>\n      <td>63171</td>\n      <td>116.314</td>\n      <td>1.000071</td>\n      <td>0.993273</td>\n      <td>-7.742540</td>\n      <td>-7.742540</td>\n      <td>108.718031</td>\n      <td>116.291494</td>\n      <td>0x7f24</td>\n      <td>0x8003</td>\n      <td>-0x7</td>\n      <td>-0x7</td>\n    </tr>\n    <tr>\n      <th>3</th>\n      <td>ch3</td>\n      <td>59052</td>\n      <td>108.740</td>\n      <td>63165</td>\n      <td>116.315</td>\n      <td>1.000446</td>\n      <td>0.993645</td>\n      <td>9.409901</td>\n      <td>9.409901</td>\n      <td>108.708827</td>\n      <td>116.280448</td>\n      <td>0x7f30</td>\n      <td>0x800f</td>\n      <td>0xa</td>\n      <td>0xa</td>\n    </tr>\n    <tr>\n      <th>4</th>\n      <td>ch4</td>\n      <td>59073</td>\n      <td>108.744</td>\n      <td>63181</td>\n      <td>116.300</td>\n      <td>0.999151</td>\n      <td>0.992359</td>\n      <td>-48.274749</td>\n      <td>-48.274749</td>\n      <td>108.747486</td>\n      <td>116.309903</td>\n      <td>0x7f06</td>\n      <td>0x7fe5</td>\n      <td>-0x30</td>\n      <td>-0x30</td>\n    </tr>\n  </tbody>\n</table>\n</div>"
     },
     "metadata": {},
     "execution_count": 13
    }
   ],
   "source": [
    "df = convert_to_exadec(df)\n",
    "df.head()"
   ]
  },
  {
   "cell_type": "code",
   "execution_count": null,
   "metadata": {},
   "outputs": [],
   "source": []
  }
 ]
}
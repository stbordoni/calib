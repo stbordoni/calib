{
 "metadata": {
  "language_info": {
   "codemirror_mode": {
    "name": "ipython",
    "version": 3
   },
   "file_extension": ".py",
   "mimetype": "text/x-python",
   "name": "python",
   "nbconvert_exporter": "python",
   "pygments_lexer": "ipython3",
   "version": "3.9.2"
  },
  "orig_nbformat": 2,
  "kernelspec": {
   "name": "python392jvsc74a57bd02b6c4d4d5861da4de20ae5397ab36a2c4fea6beca7bca7fb8955c39e63f73bb7",
   "display_name": "Python 3.9.2 64-bit ('.venv': venv)"
  }
 },
 "nbformat": 4,
 "nbformat_minor": 2,
 "cells": [
  {
   "cell_type": "code",
   "execution_count": 1,
   "metadata": {},
   "outputs": [],
   "source": [
    "import pandas as pd\n",
    "import numpy as np\n",
    "import matplotlib\n",
    "\n",
    "from calibUtils import *"
   ]
  },
  {
   "cell_type": "code",
   "execution_count": 2,
   "metadata": {},
   "outputs": [
    {
     "output_type": "execute_result",
     "data": {
      "text/plain": [
       "      ch ADCmin   DMMmin ADCmax   DMMmax\n",
       "0    ch0   E6DD  108.752   F6DB  116.327\n",
       "1    ch1   E6BB  108.755   F6CC  116.332\n",
       "2    ch2   E6B5  108.740   F6C7  116.314\n",
       "3    ch3   E6AE  108.744   F6BE  116.318\n",
       "4    ch4   E6C0  108.744   F6D4  116.320\n",
       "5    ch5   E6B8  108.744   F6C8  116.312\n",
       "6    ch6   E6AF  108.735   F6C2  116.309\n",
       "7    ch7   E6B7  108.741   F6C7  116.315\n",
       "8    ch8   E60D  108.745   F712  116.320\n",
       "9    ch9   E6CF  108.715   F6E5  116.291\n",
       "10  ch10   E6D9  108.726   F6E5  116.301\n",
       "11  ch11   E6E0  108.755   F6FC  116.341"
      ],
      "text/html": "<div>\n<style scoped>\n    .dataframe tbody tr th:only-of-type {\n        vertical-align: middle;\n    }\n\n    .dataframe tbody tr th {\n        vertical-align: top;\n    }\n\n    .dataframe thead th {\n        text-align: right;\n    }\n</style>\n<table border=\"1\" class=\"dataframe\">\n  <thead>\n    <tr style=\"text-align: right;\">\n      <th></th>\n      <th>ch</th>\n      <th>ADCmin</th>\n      <th>DMMmin</th>\n      <th>ADCmax</th>\n      <th>DMMmax</th>\n    </tr>\n  </thead>\n  <tbody>\n    <tr>\n      <th>0</th>\n      <td>ch0</td>\n      <td>E6DD</td>\n      <td>108.752</td>\n      <td>F6DB</td>\n      <td>116.327</td>\n    </tr>\n    <tr>\n      <th>1</th>\n      <td>ch1</td>\n      <td>E6BB</td>\n      <td>108.755</td>\n      <td>F6CC</td>\n      <td>116.332</td>\n    </tr>\n    <tr>\n      <th>2</th>\n      <td>ch2</td>\n      <td>E6B5</td>\n      <td>108.740</td>\n      <td>F6C7</td>\n      <td>116.314</td>\n    </tr>\n    <tr>\n      <th>3</th>\n      <td>ch3</td>\n      <td>E6AE</td>\n      <td>108.744</td>\n      <td>F6BE</td>\n      <td>116.318</td>\n    </tr>\n    <tr>\n      <th>4</th>\n      <td>ch4</td>\n      <td>E6C0</td>\n      <td>108.744</td>\n      <td>F6D4</td>\n      <td>116.320</td>\n    </tr>\n    <tr>\n      <th>5</th>\n      <td>ch5</td>\n      <td>E6B8</td>\n      <td>108.744</td>\n      <td>F6C8</td>\n      <td>116.312</td>\n    </tr>\n    <tr>\n      <th>6</th>\n      <td>ch6</td>\n      <td>E6AF</td>\n      <td>108.735</td>\n      <td>F6C2</td>\n      <td>116.309</td>\n    </tr>\n    <tr>\n      <th>7</th>\n      <td>ch7</td>\n      <td>E6B7</td>\n      <td>108.741</td>\n      <td>F6C7</td>\n      <td>116.315</td>\n    </tr>\n    <tr>\n      <th>8</th>\n      <td>ch8</td>\n      <td>E60D</td>\n      <td>108.745</td>\n      <td>F712</td>\n      <td>116.320</td>\n    </tr>\n    <tr>\n      <th>9</th>\n      <td>ch9</td>\n      <td>E6CF</td>\n      <td>108.715</td>\n      <td>F6E5</td>\n      <td>116.291</td>\n    </tr>\n    <tr>\n      <th>10</th>\n      <td>ch10</td>\n      <td>E6D9</td>\n      <td>108.726</td>\n      <td>F6E5</td>\n      <td>116.301</td>\n    </tr>\n    <tr>\n      <th>11</th>\n      <td>ch11</td>\n      <td>E6E0</td>\n      <td>108.755</td>\n      <td>F6FC</td>\n      <td>116.341</td>\n    </tr>\n  </tbody>\n</table>\n</div>"
     },
     "metadata": {},
     "execution_count": 2
    }
   ],
   "source": [
    "df = pd.read_csv('./files/30-04-21_SN04calib_test5_DACmaxFFF.csv' ,delimiter=';', header=None)\n",
    "df = df.rename(columns={0: 'ch', 1:'ADCmin', 2: 'DMMmin', 3:'ADCmax', 4:'DMMmax'})\n",
    "df"
   ]
  },
  {
   "cell_type": "code",
   "execution_count": 3,
   "metadata": {},
   "outputs": [
    {
     "output_type": "execute_result",
     "data": {
      "text/plain": [
       "      ch  ADCmin   DMMmin  ADCmax   DMMmax\n",
       "0    ch0   59101  108.752   63195  116.327\n",
       "1    ch1   59067  108.755   63180  116.332\n",
       "2    ch2   59061  108.740   63175  116.314\n",
       "3    ch3   59054  108.744   63166  116.318\n",
       "4    ch4   59072  108.744   63188  116.320\n",
       "5    ch5   59064  108.744   63176  116.312\n",
       "6    ch6   59055  108.735   63170  116.309\n",
       "7    ch7   59063  108.741   63175  116.315\n",
       "8    ch8   58893  108.745   63250  116.320\n",
       "9    ch9   59087  108.715   63205  116.291\n",
       "10  ch10   59097  108.726   63205  116.301\n",
       "11  ch11   59104  108.755   63228  116.341"
      ],
      "text/html": "<div>\n<style scoped>\n    .dataframe tbody tr th:only-of-type {\n        vertical-align: middle;\n    }\n\n    .dataframe tbody tr th {\n        vertical-align: top;\n    }\n\n    .dataframe thead th {\n        text-align: right;\n    }\n</style>\n<table border=\"1\" class=\"dataframe\">\n  <thead>\n    <tr style=\"text-align: right;\">\n      <th></th>\n      <th>ch</th>\n      <th>ADCmin</th>\n      <th>DMMmin</th>\n      <th>ADCmax</th>\n      <th>DMMmax</th>\n    </tr>\n  </thead>\n  <tbody>\n    <tr>\n      <th>0</th>\n      <td>ch0</td>\n      <td>59101</td>\n      <td>108.752</td>\n      <td>63195</td>\n      <td>116.327</td>\n    </tr>\n    <tr>\n      <th>1</th>\n      <td>ch1</td>\n      <td>59067</td>\n      <td>108.755</td>\n      <td>63180</td>\n      <td>116.332</td>\n    </tr>\n    <tr>\n      <th>2</th>\n      <td>ch2</td>\n      <td>59061</td>\n      <td>108.740</td>\n      <td>63175</td>\n      <td>116.314</td>\n    </tr>\n    <tr>\n      <th>3</th>\n      <td>ch3</td>\n      <td>59054</td>\n      <td>108.744</td>\n      <td>63166</td>\n      <td>116.318</td>\n    </tr>\n    <tr>\n      <th>4</th>\n      <td>ch4</td>\n      <td>59072</td>\n      <td>108.744</td>\n      <td>63188</td>\n      <td>116.320</td>\n    </tr>\n    <tr>\n      <th>5</th>\n      <td>ch5</td>\n      <td>59064</td>\n      <td>108.744</td>\n      <td>63176</td>\n      <td>116.312</td>\n    </tr>\n    <tr>\n      <th>6</th>\n      <td>ch6</td>\n      <td>59055</td>\n      <td>108.735</td>\n      <td>63170</td>\n      <td>116.309</td>\n    </tr>\n    <tr>\n      <th>7</th>\n      <td>ch7</td>\n      <td>59063</td>\n      <td>108.741</td>\n      <td>63175</td>\n      <td>116.315</td>\n    </tr>\n    <tr>\n      <th>8</th>\n      <td>ch8</td>\n      <td>58893</td>\n      <td>108.745</td>\n      <td>63250</td>\n      <td>116.320</td>\n    </tr>\n    <tr>\n      <th>9</th>\n      <td>ch9</td>\n      <td>59087</td>\n      <td>108.715</td>\n      <td>63205</td>\n      <td>116.291</td>\n    </tr>\n    <tr>\n      <th>10</th>\n      <td>ch10</td>\n      <td>59097</td>\n      <td>108.726</td>\n      <td>63205</td>\n      <td>116.301</td>\n    </tr>\n    <tr>\n      <th>11</th>\n      <td>ch11</td>\n      <td>59104</td>\n      <td>108.755</td>\n      <td>63228</td>\n      <td>116.341</td>\n    </tr>\n  </tbody>\n</table>\n</div>"
     },
     "metadata": {},
     "execution_count": 3
    }
   ],
   "source": [
    "#convert ADCmin and ADCmax in decimal numbers\n",
    "df = hex_to_dec(df)\n",
    "df\n"
   ]
  },
  {
   "cell_type": "code",
   "execution_count": 4,
   "metadata": {},
   "outputs": [
    {
     "output_type": "execute_result",
     "data": {
      "text/plain": [
       "   ADCmin  DMMmin  ADCmax  DMMmax\n",
       "0     747   1.378   65205     120"
      ],
      "text/html": "<div>\n<style scoped>\n    .dataframe tbody tr th:only-of-type {\n        vertical-align: middle;\n    }\n\n    .dataframe tbody tr th {\n        vertical-align: top;\n    }\n\n    .dataframe thead th {\n        text-align: right;\n    }\n</style>\n<table border=\"1\" class=\"dataframe\">\n  <thead>\n    <tr style=\"text-align: right;\">\n      <th></th>\n      <th>ADCmin</th>\n      <th>DMMmin</th>\n      <th>ADCmax</th>\n      <th>DMMmax</th>\n    </tr>\n  </thead>\n  <tbody>\n    <tr>\n      <th>0</th>\n      <td>747</td>\n      <td>1.378</td>\n      <td>65205</td>\n      <td>120</td>\n    </tr>\n  </tbody>\n</table>\n</div>"
     },
     "metadata": {},
     "execution_count": 4
    }
   ],
   "source": [
    "#data for HV calibration\n",
    "\n",
    "data_HV = {'ADCmin': [0x02EB], 'DMMmin': [1.378], 'ADCmax': [0xFEB5], 'DMMmax': [120]}\n",
    "df_HV = pd.DataFrame(data=data_HV)\n",
    "df_HV"
   ]
  },
  {
   "cell_type": "code",
   "execution_count": 5,
   "metadata": {},
   "outputs": [
    {
     "output_type": "execute_result",
     "data": {
      "text/plain": [
       "      ch  ADCmin   DMMmin  ADCmax   DMMmax  Gain BiasV  offset BiasV\n",
       "0    ch0   59101  108.752   63195  116.327    0.998257   -324.671551\n",
       "1    ch1   59067  108.755   63180  116.332    0.993908    -31.852184\n",
       "2    ch2   59061  108.740   63175  116.314    0.993273      3.742540\n",
       "3    ch3   59054  108.744   63166  116.318    0.993756    -15.799842\n",
       "4    ch4   59072  108.744   63188  116.320    0.993052      8.029567\n",
       "5    ch5   59064  108.744   63176  116.312    0.992968     21.006342\n",
       "6    ch6   59055  108.735   63170  116.309    0.993031     21.383021\n",
       "7    ch7   59063  108.741   63175  116.315    0.993756    -26.428571\n",
       "8    ch8   58893  108.745   63250  116.320    0.937999   3655.114191\n",
       "9    ch9   59087  108.715   63205  116.291    0.992570      5.973865\n",
       "10  ch10   59097  108.726   63205  116.301    0.994855   -133.777822\n",
       "11  ch11   59104  108.755   63228  116.341    0.992434     18.807804"
      ],
      "text/html": "<div>\n<style scoped>\n    .dataframe tbody tr th:only-of-type {\n        vertical-align: middle;\n    }\n\n    .dataframe tbody tr th {\n        vertical-align: top;\n    }\n\n    .dataframe thead th {\n        text-align: right;\n    }\n</style>\n<table border=\"1\" class=\"dataframe\">\n  <thead>\n    <tr style=\"text-align: right;\">\n      <th></th>\n      <th>ch</th>\n      <th>ADCmin</th>\n      <th>DMMmin</th>\n      <th>ADCmax</th>\n      <th>DMMmax</th>\n      <th>Gain BiasV</th>\n      <th>offset BiasV</th>\n    </tr>\n  </thead>\n  <tbody>\n    <tr>\n      <th>0</th>\n      <td>ch0</td>\n      <td>59101</td>\n      <td>108.752</td>\n      <td>63195</td>\n      <td>116.327</td>\n      <td>0.998257</td>\n      <td>-324.671551</td>\n    </tr>\n    <tr>\n      <th>1</th>\n      <td>ch1</td>\n      <td>59067</td>\n      <td>108.755</td>\n      <td>63180</td>\n      <td>116.332</td>\n      <td>0.993908</td>\n      <td>-31.852184</td>\n    </tr>\n    <tr>\n      <th>2</th>\n      <td>ch2</td>\n      <td>59061</td>\n      <td>108.740</td>\n      <td>63175</td>\n      <td>116.314</td>\n      <td>0.993273</td>\n      <td>3.742540</td>\n    </tr>\n    <tr>\n      <th>3</th>\n      <td>ch3</td>\n      <td>59054</td>\n      <td>108.744</td>\n      <td>63166</td>\n      <td>116.318</td>\n      <td>0.993756</td>\n      <td>-15.799842</td>\n    </tr>\n    <tr>\n      <th>4</th>\n      <td>ch4</td>\n      <td>59072</td>\n      <td>108.744</td>\n      <td>63188</td>\n      <td>116.320</td>\n      <td>0.993052</td>\n      <td>8.029567</td>\n    </tr>\n    <tr>\n      <th>5</th>\n      <td>ch5</td>\n      <td>59064</td>\n      <td>108.744</td>\n      <td>63176</td>\n      <td>116.312</td>\n      <td>0.992968</td>\n      <td>21.006342</td>\n    </tr>\n    <tr>\n      <th>6</th>\n      <td>ch6</td>\n      <td>59055</td>\n      <td>108.735</td>\n      <td>63170</td>\n      <td>116.309</td>\n      <td>0.993031</td>\n      <td>21.383021</td>\n    </tr>\n    <tr>\n      <th>7</th>\n      <td>ch7</td>\n      <td>59063</td>\n      <td>108.741</td>\n      <td>63175</td>\n      <td>116.315</td>\n      <td>0.993756</td>\n      <td>-26.428571</td>\n    </tr>\n    <tr>\n      <th>8</th>\n      <td>ch8</td>\n      <td>58893</td>\n      <td>108.745</td>\n      <td>63250</td>\n      <td>116.320</td>\n      <td>0.937999</td>\n      <td>3655.114191</td>\n    </tr>\n    <tr>\n      <th>9</th>\n      <td>ch9</td>\n      <td>59087</td>\n      <td>108.715</td>\n      <td>63205</td>\n      <td>116.291</td>\n      <td>0.992570</td>\n      <td>5.973865</td>\n    </tr>\n    <tr>\n      <th>10</th>\n      <td>ch10</td>\n      <td>59097</td>\n      <td>108.726</td>\n      <td>63205</td>\n      <td>116.301</td>\n      <td>0.994855</td>\n      <td>-133.777822</td>\n    </tr>\n    <tr>\n      <th>11</th>\n      <td>ch11</td>\n      <td>59104</td>\n      <td>108.755</td>\n      <td>63228</td>\n      <td>116.341</td>\n      <td>0.992434</td>\n      <td>18.807804</td>\n    </tr>\n  </tbody>\n</table>\n</div>"
     },
     "metadata": {},
     "execution_count": 5
    }
   ],
   "source": [
    "# compute gain and offset for the Bias Voltages\n",
    "# a_coeff = 1.8535e-3\n",
    "# b_coeff = 0\n",
    "# Gain BiasV = (DMMmax - DMMmin) / (ADCmax - ADCmin ) * 1/a_coeff\n",
    "# offset BiasV = ADCmin - (DMMmin - b_coeff )/ (Gain BiasV * a_coeff )\n",
    "\n",
    "df = biasV_params(df)\n",
    "df"
   ]
  },
  {
   "cell_type": "code",
   "execution_count": 6,
   "metadata": {},
   "outputs": [
    {
     "output_type": "execute_result",
     "data": {
      "text/plain": [
       "   ADCmin  DMMmin  ADCmax  DMMmax   Gain HV  offset HV\n",
       "0     747   1.378   65205     120  0.999674    1.79132"
      ],
      "text/html": "<div>\n<style scoped>\n    .dataframe tbody tr th:only-of-type {\n        vertical-align: middle;\n    }\n\n    .dataframe tbody tr th {\n        vertical-align: top;\n    }\n\n    .dataframe thead th {\n        text-align: right;\n    }\n</style>\n<table border=\"1\" class=\"dataframe\">\n  <thead>\n    <tr style=\"text-align: right;\">\n      <th></th>\n      <th>ADCmin</th>\n      <th>DMMmin</th>\n      <th>ADCmax</th>\n      <th>DMMmax</th>\n      <th>Gain HV</th>\n      <th>offset HV</th>\n    </tr>\n  </thead>\n  <tbody>\n    <tr>\n      <th>0</th>\n      <td>747</td>\n      <td>1.378</td>\n      <td>65205</td>\n      <td>120</td>\n      <td>0.999674</td>\n      <td>1.79132</td>\n    </tr>\n  </tbody>\n</table>\n</div>"
     },
     "metadata": {},
     "execution_count": 6
    }
   ],
   "source": [
    "#Compute gain and offset for the HV\n",
    "\n",
    "# a_coeff = 1.8409e-3\n",
    "# b_coeff = 0\n",
    "# Gain BiasV = (DMMmax - DMMmin) / (ADCmax - ADCmin ) * 1/a_coeff\n",
    "# offset BiasV = ADCmin - (DMMmin - b_coeff )/ (Gain BiasV * a_coeff )\n",
    "\n",
    "\n",
    "df_HV = HV_params(df_HV)\n",
    "df_HV"
   ]
  },
  {
   "cell_type": "code",
   "execution_count": 7,
   "metadata": {},
   "outputs": [],
   "source": [
    "#convert to ADC the bias voltages \n",
    "# from page 13, ADC calib = 108.7677 + 1.8525e-3 * ADC <-- it's too high!\n",
    "#df = convertADC_BiasV(df)\n",
    "#df"
   ]
  },
  {
   "cell_type": "code",
   "execution_count": 8,
   "metadata": {},
   "outputs": [],
   "source": [
    "#df_HV = convertADC(df_HV)  \n",
    "#df_HV"
   ]
  },
  {
   "cell_type": "code",
   "execution_count": 9,
   "metadata": {},
   "outputs": [
    {
     "output_type": "execute_result",
     "data": {
      "text/plain": [
       "      ch  ADCmin   DMMmin  ADCmax   DMMmax  Gain BiasV  offset BiasV  \\\n",
       "0    ch0   59101  108.752   63195  116.327    0.998257   -324.671551   \n",
       "1    ch1   59067  108.755   63180  116.332    0.993908    -31.852184   \n",
       "2    ch2   59061  108.740   63175  116.314    0.993273      3.742540   \n",
       "3    ch3   59054  108.744   63166  116.318    0.993756    -15.799842   \n",
       "4    ch4   59072  108.744   63188  116.320    0.993052      8.029567   \n",
       "5    ch5   59064  108.744   63176  116.312    0.992968     21.006342   \n",
       "6    ch6   59055  108.735   63170  116.309    0.993031     21.383021   \n",
       "7    ch7   59063  108.741   63175  116.315    0.993756    -26.428571   \n",
       "8    ch8   58893  108.745   63250  116.320    0.937999   3655.114191   \n",
       "9    ch9   59087  108.715   63205  116.291    0.992570      5.973865   \n",
       "10  ch10   59097  108.726   63205  116.301    0.994855   -133.777822   \n",
       "11  ch11   59104  108.755   63228  116.341    0.992434     18.807804   \n",
       "\n",
       "    Gain_Usig BiasV  Offset_Sig BiasV  \n",
       "0             32711              -325  \n",
       "1             32568               -32  \n",
       "2             32548                 4  \n",
       "3             32563               -16  \n",
       "4             32540                 8  \n",
       "5             32538                21  \n",
       "6             32540                21  \n",
       "7             32563               -26  \n",
       "8             30736              3655  \n",
       "9             32525                 6  \n",
       "10            32599              -134  \n",
       "11            32520                19  "
      ],
      "text/html": "<div>\n<style scoped>\n    .dataframe tbody tr th:only-of-type {\n        vertical-align: middle;\n    }\n\n    .dataframe tbody tr th {\n        vertical-align: top;\n    }\n\n    .dataframe thead th {\n        text-align: right;\n    }\n</style>\n<table border=\"1\" class=\"dataframe\">\n  <thead>\n    <tr style=\"text-align: right;\">\n      <th></th>\n      <th>ch</th>\n      <th>ADCmin</th>\n      <th>DMMmin</th>\n      <th>ADCmax</th>\n      <th>DMMmax</th>\n      <th>Gain BiasV</th>\n      <th>offset BiasV</th>\n      <th>Gain_Usig BiasV</th>\n      <th>Offset_Sig BiasV</th>\n    </tr>\n  </thead>\n  <tbody>\n    <tr>\n      <th>0</th>\n      <td>ch0</td>\n      <td>59101</td>\n      <td>108.752</td>\n      <td>63195</td>\n      <td>116.327</td>\n      <td>0.998257</td>\n      <td>-324.671551</td>\n      <td>32711</td>\n      <td>-325</td>\n    </tr>\n    <tr>\n      <th>1</th>\n      <td>ch1</td>\n      <td>59067</td>\n      <td>108.755</td>\n      <td>63180</td>\n      <td>116.332</td>\n      <td>0.993908</td>\n      <td>-31.852184</td>\n      <td>32568</td>\n      <td>-32</td>\n    </tr>\n    <tr>\n      <th>2</th>\n      <td>ch2</td>\n      <td>59061</td>\n      <td>108.740</td>\n      <td>63175</td>\n      <td>116.314</td>\n      <td>0.993273</td>\n      <td>3.742540</td>\n      <td>32548</td>\n      <td>4</td>\n    </tr>\n    <tr>\n      <th>3</th>\n      <td>ch3</td>\n      <td>59054</td>\n      <td>108.744</td>\n      <td>63166</td>\n      <td>116.318</td>\n      <td>0.993756</td>\n      <td>-15.799842</td>\n      <td>32563</td>\n      <td>-16</td>\n    </tr>\n    <tr>\n      <th>4</th>\n      <td>ch4</td>\n      <td>59072</td>\n      <td>108.744</td>\n      <td>63188</td>\n      <td>116.320</td>\n      <td>0.993052</td>\n      <td>8.029567</td>\n      <td>32540</td>\n      <td>8</td>\n    </tr>\n    <tr>\n      <th>5</th>\n      <td>ch5</td>\n      <td>59064</td>\n      <td>108.744</td>\n      <td>63176</td>\n      <td>116.312</td>\n      <td>0.992968</td>\n      <td>21.006342</td>\n      <td>32538</td>\n      <td>21</td>\n    </tr>\n    <tr>\n      <th>6</th>\n      <td>ch6</td>\n      <td>59055</td>\n      <td>108.735</td>\n      <td>63170</td>\n      <td>116.309</td>\n      <td>0.993031</td>\n      <td>21.383021</td>\n      <td>32540</td>\n      <td>21</td>\n    </tr>\n    <tr>\n      <th>7</th>\n      <td>ch7</td>\n      <td>59063</td>\n      <td>108.741</td>\n      <td>63175</td>\n      <td>116.315</td>\n      <td>0.993756</td>\n      <td>-26.428571</td>\n      <td>32563</td>\n      <td>-26</td>\n    </tr>\n    <tr>\n      <th>8</th>\n      <td>ch8</td>\n      <td>58893</td>\n      <td>108.745</td>\n      <td>63250</td>\n      <td>116.320</td>\n      <td>0.937999</td>\n      <td>3655.114191</td>\n      <td>30736</td>\n      <td>3655</td>\n    </tr>\n    <tr>\n      <th>9</th>\n      <td>ch9</td>\n      <td>59087</td>\n      <td>108.715</td>\n      <td>63205</td>\n      <td>116.291</td>\n      <td>0.992570</td>\n      <td>5.973865</td>\n      <td>32525</td>\n      <td>6</td>\n    </tr>\n    <tr>\n      <th>10</th>\n      <td>ch10</td>\n      <td>59097</td>\n      <td>108.726</td>\n      <td>63205</td>\n      <td>116.301</td>\n      <td>0.994855</td>\n      <td>-133.777822</td>\n      <td>32599</td>\n      <td>-134</td>\n    </tr>\n    <tr>\n      <th>11</th>\n      <td>ch11</td>\n      <td>59104</td>\n      <td>108.755</td>\n      <td>63228</td>\n      <td>116.341</td>\n      <td>0.992434</td>\n      <td>18.807804</td>\n      <td>32520</td>\n      <td>19</td>\n    </tr>\n  </tbody>\n</table>\n</div>"
     },
     "metadata": {},
     "execution_count": 9
    }
   ],
   "source": [
    "# Gain biasV = math.ceil(Gain BiasV* 32768)\n",
    "# Offset biasV = round(offset BiasV)  \n",
    "\n",
    "df = code_offsetandgain(df,'biasV')\n",
    "df"
   ]
  },
  {
   "cell_type": "code",
   "execution_count": 10,
   "metadata": {},
   "outputs": [
    {
     "output_type": "execute_result",
     "data": {
      "text/plain": [
       "   ADCmin  DMMmin  ADCmax  DMMmax   Gain HV  offset HV  Gain_Usig HV  \\\n",
       "0     747   1.378   65205     120  0.999674    1.79132         32757   \n",
       "\n",
       "   Offset_Sig HV  \n",
       "0              2  "
      ],
      "text/html": "<div>\n<style scoped>\n    .dataframe tbody tr th:only-of-type {\n        vertical-align: middle;\n    }\n\n    .dataframe tbody tr th {\n        vertical-align: top;\n    }\n\n    .dataframe thead th {\n        text-align: right;\n    }\n</style>\n<table border=\"1\" class=\"dataframe\">\n  <thead>\n    <tr style=\"text-align: right;\">\n      <th></th>\n      <th>ADCmin</th>\n      <th>DMMmin</th>\n      <th>ADCmax</th>\n      <th>DMMmax</th>\n      <th>Gain HV</th>\n      <th>offset HV</th>\n      <th>Gain_Usig HV</th>\n      <th>Offset_Sig HV</th>\n    </tr>\n  </thead>\n  <tbody>\n    <tr>\n      <th>0</th>\n      <td>747</td>\n      <td>1.378</td>\n      <td>65205</td>\n      <td>120</td>\n      <td>0.999674</td>\n      <td>1.79132</td>\n      <td>32757</td>\n      <td>2</td>\n    </tr>\n  </tbody>\n</table>\n</div>"
     },
     "metadata": {},
     "execution_count": 10
    }
   ],
   "source": [
    "# Gain HV = math.ceil(Gain HV* 32768)\n",
    "# Offset HV = round(offset HV)  \n",
    "\n",
    "df_HV = code_offsetandgain(df_HV,'HV')\n",
    "df_HV"
   ]
  },
  {
   "cell_type": "code",
   "execution_count": 11,
   "metadata": {},
   "outputs": [
    {
     "output_type": "execute_result",
     "data": {
      "text/plain": [
       "      ch  ADCmin   DMMmin  ADCmax   DMMmax  Gain BiasV  offset BiasV  \\\n",
       "0    ch0   59101  108.752   63195  116.327    0.998257   -324.671551   \n",
       "1    ch1   59067  108.755   63180  116.332    0.993908    -31.852184   \n",
       "2    ch2   59061  108.740   63175  116.314    0.993273      3.742540   \n",
       "3    ch3   59054  108.744   63166  116.318    0.993756    -15.799842   \n",
       "4    ch4   59072  108.744   63188  116.320    0.993052      8.029567   \n",
       "5    ch5   59064  108.744   63176  116.312    0.992968     21.006342   \n",
       "6    ch6   59055  108.735   63170  116.309    0.993031     21.383021   \n",
       "7    ch7   59063  108.741   63175  116.315    0.993756    -26.428571   \n",
       "8    ch8   58893  108.745   63250  116.320    0.937999   3655.114191   \n",
       "9    ch9   59087  108.715   63205  116.291    0.992570      5.973865   \n",
       "10  ch10   59097  108.726   63205  116.301    0.994855   -133.777822   \n",
       "11  ch11   59104  108.755   63228  116.341    0.992434     18.807804   \n",
       "\n",
       "    Gain_Usig BiasV  Offset_Sig BiasV Gain_hex BiasV Offset_hex BiasV  \n",
       "0             32711              -325         0x7fc7           0xfebb  \n",
       "1             32568               -32         0x7f38           0xffe0  \n",
       "2             32548                 4         0x7f24              0x4  \n",
       "3             32563               -16         0x7f33           0xfff0  \n",
       "4             32540                 8         0x7f1c              0x8  \n",
       "5             32538                21         0x7f1a             0x15  \n",
       "6             32540                21         0x7f1c             0x15  \n",
       "7             32563               -26         0x7f33           0xffe6  \n",
       "8             30736              3655         0x7810            0xe47  \n",
       "9             32525                 6         0x7f0d              0x6  \n",
       "10            32599              -134         0x7f57           0xff7a  \n",
       "11            32520                19         0x7f08             0x13  "
      ],
      "text/html": "<div>\n<style scoped>\n    .dataframe tbody tr th:only-of-type {\n        vertical-align: middle;\n    }\n\n    .dataframe tbody tr th {\n        vertical-align: top;\n    }\n\n    .dataframe thead th {\n        text-align: right;\n    }\n</style>\n<table border=\"1\" class=\"dataframe\">\n  <thead>\n    <tr style=\"text-align: right;\">\n      <th></th>\n      <th>ch</th>\n      <th>ADCmin</th>\n      <th>DMMmin</th>\n      <th>ADCmax</th>\n      <th>DMMmax</th>\n      <th>Gain BiasV</th>\n      <th>offset BiasV</th>\n      <th>Gain_Usig BiasV</th>\n      <th>Offset_Sig BiasV</th>\n      <th>Gain_hex BiasV</th>\n      <th>Offset_hex BiasV</th>\n    </tr>\n  </thead>\n  <tbody>\n    <tr>\n      <th>0</th>\n      <td>ch0</td>\n      <td>59101</td>\n      <td>108.752</td>\n      <td>63195</td>\n      <td>116.327</td>\n      <td>0.998257</td>\n      <td>-324.671551</td>\n      <td>32711</td>\n      <td>-325</td>\n      <td>0x7fc7</td>\n      <td>0xfebb</td>\n    </tr>\n    <tr>\n      <th>1</th>\n      <td>ch1</td>\n      <td>59067</td>\n      <td>108.755</td>\n      <td>63180</td>\n      <td>116.332</td>\n      <td>0.993908</td>\n      <td>-31.852184</td>\n      <td>32568</td>\n      <td>-32</td>\n      <td>0x7f38</td>\n      <td>0xffe0</td>\n    </tr>\n    <tr>\n      <th>2</th>\n      <td>ch2</td>\n      <td>59061</td>\n      <td>108.740</td>\n      <td>63175</td>\n      <td>116.314</td>\n      <td>0.993273</td>\n      <td>3.742540</td>\n      <td>32548</td>\n      <td>4</td>\n      <td>0x7f24</td>\n      <td>0x4</td>\n    </tr>\n    <tr>\n      <th>3</th>\n      <td>ch3</td>\n      <td>59054</td>\n      <td>108.744</td>\n      <td>63166</td>\n      <td>116.318</td>\n      <td>0.993756</td>\n      <td>-15.799842</td>\n      <td>32563</td>\n      <td>-16</td>\n      <td>0x7f33</td>\n      <td>0xfff0</td>\n    </tr>\n    <tr>\n      <th>4</th>\n      <td>ch4</td>\n      <td>59072</td>\n      <td>108.744</td>\n      <td>63188</td>\n      <td>116.320</td>\n      <td>0.993052</td>\n      <td>8.029567</td>\n      <td>32540</td>\n      <td>8</td>\n      <td>0x7f1c</td>\n      <td>0x8</td>\n    </tr>\n    <tr>\n      <th>5</th>\n      <td>ch5</td>\n      <td>59064</td>\n      <td>108.744</td>\n      <td>63176</td>\n      <td>116.312</td>\n      <td>0.992968</td>\n      <td>21.006342</td>\n      <td>32538</td>\n      <td>21</td>\n      <td>0x7f1a</td>\n      <td>0x15</td>\n    </tr>\n    <tr>\n      <th>6</th>\n      <td>ch6</td>\n      <td>59055</td>\n      <td>108.735</td>\n      <td>63170</td>\n      <td>116.309</td>\n      <td>0.993031</td>\n      <td>21.383021</td>\n      <td>32540</td>\n      <td>21</td>\n      <td>0x7f1c</td>\n      <td>0x15</td>\n    </tr>\n    <tr>\n      <th>7</th>\n      <td>ch7</td>\n      <td>59063</td>\n      <td>108.741</td>\n      <td>63175</td>\n      <td>116.315</td>\n      <td>0.993756</td>\n      <td>-26.428571</td>\n      <td>32563</td>\n      <td>-26</td>\n      <td>0x7f33</td>\n      <td>0xffe6</td>\n    </tr>\n    <tr>\n      <th>8</th>\n      <td>ch8</td>\n      <td>58893</td>\n      <td>108.745</td>\n      <td>63250</td>\n      <td>116.320</td>\n      <td>0.937999</td>\n      <td>3655.114191</td>\n      <td>30736</td>\n      <td>3655</td>\n      <td>0x7810</td>\n      <td>0xe47</td>\n    </tr>\n    <tr>\n      <th>9</th>\n      <td>ch9</td>\n      <td>59087</td>\n      <td>108.715</td>\n      <td>63205</td>\n      <td>116.291</td>\n      <td>0.992570</td>\n      <td>5.973865</td>\n      <td>32525</td>\n      <td>6</td>\n      <td>0x7f0d</td>\n      <td>0x6</td>\n    </tr>\n    <tr>\n      <th>10</th>\n      <td>ch10</td>\n      <td>59097</td>\n      <td>108.726</td>\n      <td>63205</td>\n      <td>116.301</td>\n      <td>0.994855</td>\n      <td>-133.777822</td>\n      <td>32599</td>\n      <td>-134</td>\n      <td>0x7f57</td>\n      <td>0xff7a</td>\n    </tr>\n    <tr>\n      <th>11</th>\n      <td>ch11</td>\n      <td>59104</td>\n      <td>108.755</td>\n      <td>63228</td>\n      <td>116.341</td>\n      <td>0.992434</td>\n      <td>18.807804</td>\n      <td>32520</td>\n      <td>19</td>\n      <td>0x7f08</td>\n      <td>0x13</td>\n    </tr>\n  </tbody>\n</table>\n</div>"
     },
     "metadata": {},
     "execution_count": 11
    }
   ],
   "source": [
    "# convert following prescriptions\n",
    " # GainUsig BiasV   = hex(Gain_Usig BiasV) \n",
    " # Offset_Sig BiasV = tohextwocompl(Offset_Sig BiasV ,15) \n",
    "\n",
    "df = convert_to_exadec(df, 'biasV')\n",
    "df"
   ]
  },
  {
   "cell_type": "code",
   "execution_count": 12,
   "metadata": {},
   "outputs": [
    {
     "output_type": "execute_result",
     "data": {
      "text/plain": [
       "   ADCmin  DMMmin  ADCmax  DMMmax   Gain HV  offset HV  Gain_Usig HV  \\\n",
       "0     747   1.378   65205     120  0.999674    1.79132         32757   \n",
       "\n",
       "   Offset_Sig HV Gain_hex HV Offset_hex HV  \n",
       "0              2      0x7ff5           0x2  "
      ],
      "text/html": "<div>\n<style scoped>\n    .dataframe tbody tr th:only-of-type {\n        vertical-align: middle;\n    }\n\n    .dataframe tbody tr th {\n        vertical-align: top;\n    }\n\n    .dataframe thead th {\n        text-align: right;\n    }\n</style>\n<table border=\"1\" class=\"dataframe\">\n  <thead>\n    <tr style=\"text-align: right;\">\n      <th></th>\n      <th>ADCmin</th>\n      <th>DMMmin</th>\n      <th>ADCmax</th>\n      <th>DMMmax</th>\n      <th>Gain HV</th>\n      <th>offset HV</th>\n      <th>Gain_Usig HV</th>\n      <th>Offset_Sig HV</th>\n      <th>Gain_hex HV</th>\n      <th>Offset_hex HV</th>\n    </tr>\n  </thead>\n  <tbody>\n    <tr>\n      <th>0</th>\n      <td>747</td>\n      <td>1.378</td>\n      <td>65205</td>\n      <td>120</td>\n      <td>0.999674</td>\n      <td>1.79132</td>\n      <td>32757</td>\n      <td>2</td>\n      <td>0x7ff5</td>\n      <td>0x2</td>\n    </tr>\n  </tbody>\n</table>\n</div>"
     },
     "metadata": {},
     "execution_count": 12
    }
   ],
   "source": [
    "# convert following prescriptions\n",
    "# GainUsig BiasV   = hex(Gain_Usig HV) \n",
    "# Offset_Sig BiasV = tohextwocompl(Offset_Sig HV ,15) \n",
    "\n",
    "df_HV = convert_to_exadec(df_HV, 'HV')\n",
    "df_HV"
   ]
  },
  {
   "cell_type": "code",
   "execution_count": 13,
   "metadata": {},
   "outputs": [],
   "source": [
    "df_calib_biasV = df[['Gain_hex BiasV','Offset_hex BiasV'] ].copy()\n",
    "df_calib_biasV.to_csv('calibDB/calib_biasV_SN04_v5.csv')"
   ]
  },
  {
   "cell_type": "code",
   "execution_count": 14,
   "metadata": {},
   "outputs": [],
   "source": [
    "df_calib_HV = df_HV[['Gain_hex HV','Offset_hex HV'] ].copy()\n",
    "df_calib_HV.to_csv('calibDB/calib_HV_SN04_v5.csv')"
   ]
  },
  {
   "cell_type": "code",
   "execution_count": 15,
   "metadata": {},
   "outputs": [
    {
     "output_type": "execute_result",
     "data": {
      "text/plain": [
       "   Gain_hex BiasV Offset_hex BiasV\n",
       "0          0x7fc7           0xfebb\n",
       "1          0x7f38           0xffe0\n",
       "2          0x7f24              0x4\n",
       "3          0x7f33           0xfff0\n",
       "4          0x7f1c              0x8\n",
       "5          0x7f1a             0x15\n",
       "6          0x7f1c             0x15\n",
       "7          0x7f33           0xffe6\n",
       "8          0x7810            0xe47\n",
       "9          0x7f0d              0x6\n",
       "10         0x7f57           0xff7a\n",
       "11         0x7f08             0x13"
      ],
      "text/html": "<div>\n<style scoped>\n    .dataframe tbody tr th:only-of-type {\n        vertical-align: middle;\n    }\n\n    .dataframe tbody tr th {\n        vertical-align: top;\n    }\n\n    .dataframe thead th {\n        text-align: right;\n    }\n</style>\n<table border=\"1\" class=\"dataframe\">\n  <thead>\n    <tr style=\"text-align: right;\">\n      <th></th>\n      <th>Gain_hex BiasV</th>\n      <th>Offset_hex BiasV</th>\n    </tr>\n  </thead>\n  <tbody>\n    <tr>\n      <th>0</th>\n      <td>0x7fc7</td>\n      <td>0xfebb</td>\n    </tr>\n    <tr>\n      <th>1</th>\n      <td>0x7f38</td>\n      <td>0xffe0</td>\n    </tr>\n    <tr>\n      <th>2</th>\n      <td>0x7f24</td>\n      <td>0x4</td>\n    </tr>\n    <tr>\n      <th>3</th>\n      <td>0x7f33</td>\n      <td>0xfff0</td>\n    </tr>\n    <tr>\n      <th>4</th>\n      <td>0x7f1c</td>\n      <td>0x8</td>\n    </tr>\n    <tr>\n      <th>5</th>\n      <td>0x7f1a</td>\n      <td>0x15</td>\n    </tr>\n    <tr>\n      <th>6</th>\n      <td>0x7f1c</td>\n      <td>0x15</td>\n    </tr>\n    <tr>\n      <th>7</th>\n      <td>0x7f33</td>\n      <td>0xffe6</td>\n    </tr>\n    <tr>\n      <th>8</th>\n      <td>0x7810</td>\n      <td>0xe47</td>\n    </tr>\n    <tr>\n      <th>9</th>\n      <td>0x7f0d</td>\n      <td>0x6</td>\n    </tr>\n    <tr>\n      <th>10</th>\n      <td>0x7f57</td>\n      <td>0xff7a</td>\n    </tr>\n    <tr>\n      <th>11</th>\n      <td>0x7f08</td>\n      <td>0x13</td>\n    </tr>\n  </tbody>\n</table>\n</div>"
     },
     "metadata": {},
     "execution_count": 15
    }
   ],
   "source": [
    "df_calib_biasV"
   ]
  },
  {
   "cell_type": "code",
   "execution_count": 16,
   "metadata": {},
   "outputs": [
    {
     "output_type": "execute_result",
     "data": {
      "text/plain": [
       "      ch  ADCmin   DMMmin  ADCmax   DMMmax  Gain BiasV  offset BiasV  \\\n",
       "0    ch0   59101  108.752   63195  116.327    0.998257   -324.671551   \n",
       "1    ch1   59067  108.755   63180  116.332    0.993908    -31.852184   \n",
       "2    ch2   59061  108.740   63175  116.314    0.993273      3.742540   \n",
       "3    ch3   59054  108.744   63166  116.318    0.993756    -15.799842   \n",
       "4    ch4   59072  108.744   63188  116.320    0.993052      8.029567   \n",
       "5    ch5   59064  108.744   63176  116.312    0.992968     21.006342   \n",
       "6    ch6   59055  108.735   63170  116.309    0.993031     21.383021   \n",
       "7    ch7   59063  108.741   63175  116.315    0.993756    -26.428571   \n",
       "8    ch8   58893  108.745   63250  116.320    0.937999   3655.114191   \n",
       "9    ch9   59087  108.715   63205  116.291    0.992570      5.973865   \n",
       "10  ch10   59097  108.726   63205  116.301    0.994855   -133.777822   \n",
       "11  ch11   59104  108.755   63228  116.341    0.992434     18.807804   \n",
       "\n",
       "    Gain_Usig BiasV  Offset_Sig BiasV Gain_hex BiasV Offset_hex BiasV  \\\n",
       "0             32711              -325         0x7fc7           0xfebb   \n",
       "1             32568               -32         0x7f38           0xffe0   \n",
       "2             32548                 4         0x7f24              0x4   \n",
       "3             32563               -16         0x7f33           0xfff0   \n",
       "4             32540                 8         0x7f1c              0x8   \n",
       "5             32538                21         0x7f1a             0x15   \n",
       "6             32540                21         0x7f1c             0x15   \n",
       "7             32563               -26         0x7f33           0xffe6   \n",
       "8             30736              3655         0x7810            0xe47   \n",
       "9             32525                 6         0x7f0d              0x6   \n",
       "10            32599              -134         0x7f57           0xff7a   \n",
       "11            32520                19         0x7f08             0x13   \n",
       "\n",
       "     ADCcalmin   ADCcalmax  ADCmin err  ADCmax err  ADCmin sigma   \\\n",
       "0   108.751812  116.326842    0.000188    0.000158       0.101231   \n",
       "1   108.753517  116.330433    0.001483    0.001567       0.799869   \n",
       "2   108.741964  116.316067   -0.001964   -0.002067      -1.059408   \n",
       "3   108.742347  116.316257    0.001653    0.001743       0.891945   \n",
       "4   108.742845  116.318768    0.001155    0.001232       0.623207   \n",
       "5   108.745364  116.313459   -0.001364   -0.001459      -0.735740   \n",
       "6   108.735482  116.309565   -0.000482   -0.000565      -0.260303   \n",
       "7   108.740505  116.314415    0.000495    0.000585       0.267130   \n",
       "8   108.743531  116.318442    0.001469    0.001558       0.792610   \n",
       "9   108.716634  116.292745   -0.001634   -0.001745      -0.881785   \n",
       "10  108.724271  116.299179    0.001729    0.001821       0.932694   \n",
       "11  108.755106  116.341088   -0.000106   -0.000088      -0.057065   \n",
       "\n",
       "    ADCmax sigma   \n",
       "0        0.085444  \n",
       "1        0.845360  \n",
       "2       -1.115386  \n",
       "3        0.940215  \n",
       "4        0.664579  \n",
       "5       -0.787382  \n",
       "6       -0.304929  \n",
       "7        0.315400  \n",
       "8        0.840361  \n",
       "9       -0.941426  \n",
       "10       0.982276  \n",
       "11      -0.047740  "
      ],
      "text/html": "<div>\n<style scoped>\n    .dataframe tbody tr th:only-of-type {\n        vertical-align: middle;\n    }\n\n    .dataframe tbody tr th {\n        vertical-align: top;\n    }\n\n    .dataframe thead th {\n        text-align: right;\n    }\n</style>\n<table border=\"1\" class=\"dataframe\">\n  <thead>\n    <tr style=\"text-align: right;\">\n      <th></th>\n      <th>ch</th>\n      <th>ADCmin</th>\n      <th>DMMmin</th>\n      <th>ADCmax</th>\n      <th>DMMmax</th>\n      <th>Gain BiasV</th>\n      <th>offset BiasV</th>\n      <th>Gain_Usig BiasV</th>\n      <th>Offset_Sig BiasV</th>\n      <th>Gain_hex BiasV</th>\n      <th>Offset_hex BiasV</th>\n      <th>ADCcalmin</th>\n      <th>ADCcalmax</th>\n      <th>ADCmin err</th>\n      <th>ADCmax err</th>\n      <th>ADCmin sigma</th>\n      <th>ADCmax sigma</th>\n    </tr>\n  </thead>\n  <tbody>\n    <tr>\n      <th>0</th>\n      <td>ch0</td>\n      <td>59101</td>\n      <td>108.752</td>\n      <td>63195</td>\n      <td>116.327</td>\n      <td>0.998257</td>\n      <td>-324.671551</td>\n      <td>32711</td>\n      <td>-325</td>\n      <td>0x7fc7</td>\n      <td>0xfebb</td>\n      <td>108.751812</td>\n      <td>116.326842</td>\n      <td>0.000188</td>\n      <td>0.000158</td>\n      <td>0.101231</td>\n      <td>0.085444</td>\n    </tr>\n    <tr>\n      <th>1</th>\n      <td>ch1</td>\n      <td>59067</td>\n      <td>108.755</td>\n      <td>63180</td>\n      <td>116.332</td>\n      <td>0.993908</td>\n      <td>-31.852184</td>\n      <td>32568</td>\n      <td>-32</td>\n      <td>0x7f38</td>\n      <td>0xffe0</td>\n      <td>108.753517</td>\n      <td>116.330433</td>\n      <td>0.001483</td>\n      <td>0.001567</td>\n      <td>0.799869</td>\n      <td>0.845360</td>\n    </tr>\n    <tr>\n      <th>2</th>\n      <td>ch2</td>\n      <td>59061</td>\n      <td>108.740</td>\n      <td>63175</td>\n      <td>116.314</td>\n      <td>0.993273</td>\n      <td>3.742540</td>\n      <td>32548</td>\n      <td>4</td>\n      <td>0x7f24</td>\n      <td>0x4</td>\n      <td>108.741964</td>\n      <td>116.316067</td>\n      <td>-0.001964</td>\n      <td>-0.002067</td>\n      <td>-1.059408</td>\n      <td>-1.115386</td>\n    </tr>\n    <tr>\n      <th>3</th>\n      <td>ch3</td>\n      <td>59054</td>\n      <td>108.744</td>\n      <td>63166</td>\n      <td>116.318</td>\n      <td>0.993756</td>\n      <td>-15.799842</td>\n      <td>32563</td>\n      <td>-16</td>\n      <td>0x7f33</td>\n      <td>0xfff0</td>\n      <td>108.742347</td>\n      <td>116.316257</td>\n      <td>0.001653</td>\n      <td>0.001743</td>\n      <td>0.891945</td>\n      <td>0.940215</td>\n    </tr>\n    <tr>\n      <th>4</th>\n      <td>ch4</td>\n      <td>59072</td>\n      <td>108.744</td>\n      <td>63188</td>\n      <td>116.320</td>\n      <td>0.993052</td>\n      <td>8.029567</td>\n      <td>32540</td>\n      <td>8</td>\n      <td>0x7f1c</td>\n      <td>0x8</td>\n      <td>108.742845</td>\n      <td>116.318768</td>\n      <td>0.001155</td>\n      <td>0.001232</td>\n      <td>0.623207</td>\n      <td>0.664579</td>\n    </tr>\n    <tr>\n      <th>5</th>\n      <td>ch5</td>\n      <td>59064</td>\n      <td>108.744</td>\n      <td>63176</td>\n      <td>116.312</td>\n      <td>0.992968</td>\n      <td>21.006342</td>\n      <td>32538</td>\n      <td>21</td>\n      <td>0x7f1a</td>\n      <td>0x15</td>\n      <td>108.745364</td>\n      <td>116.313459</td>\n      <td>-0.001364</td>\n      <td>-0.001459</td>\n      <td>-0.735740</td>\n      <td>-0.787382</td>\n    </tr>\n    <tr>\n      <th>6</th>\n      <td>ch6</td>\n      <td>59055</td>\n      <td>108.735</td>\n      <td>63170</td>\n      <td>116.309</td>\n      <td>0.993031</td>\n      <td>21.383021</td>\n      <td>32540</td>\n      <td>21</td>\n      <td>0x7f1c</td>\n      <td>0x15</td>\n      <td>108.735482</td>\n      <td>116.309565</td>\n      <td>-0.000482</td>\n      <td>-0.000565</td>\n      <td>-0.260303</td>\n      <td>-0.304929</td>\n    </tr>\n    <tr>\n      <th>7</th>\n      <td>ch7</td>\n      <td>59063</td>\n      <td>108.741</td>\n      <td>63175</td>\n      <td>116.315</td>\n      <td>0.993756</td>\n      <td>-26.428571</td>\n      <td>32563</td>\n      <td>-26</td>\n      <td>0x7f33</td>\n      <td>0xffe6</td>\n      <td>108.740505</td>\n      <td>116.314415</td>\n      <td>0.000495</td>\n      <td>0.000585</td>\n      <td>0.267130</td>\n      <td>0.315400</td>\n    </tr>\n    <tr>\n      <th>8</th>\n      <td>ch8</td>\n      <td>58893</td>\n      <td>108.745</td>\n      <td>63250</td>\n      <td>116.320</td>\n      <td>0.937999</td>\n      <td>3655.114191</td>\n      <td>30736</td>\n      <td>3655</td>\n      <td>0x7810</td>\n      <td>0xe47</td>\n      <td>108.743531</td>\n      <td>116.318442</td>\n      <td>0.001469</td>\n      <td>0.001558</td>\n      <td>0.792610</td>\n      <td>0.840361</td>\n    </tr>\n    <tr>\n      <th>9</th>\n      <td>ch9</td>\n      <td>59087</td>\n      <td>108.715</td>\n      <td>63205</td>\n      <td>116.291</td>\n      <td>0.992570</td>\n      <td>5.973865</td>\n      <td>32525</td>\n      <td>6</td>\n      <td>0x7f0d</td>\n      <td>0x6</td>\n      <td>108.716634</td>\n      <td>116.292745</td>\n      <td>-0.001634</td>\n      <td>-0.001745</td>\n      <td>-0.881785</td>\n      <td>-0.941426</td>\n    </tr>\n    <tr>\n      <th>10</th>\n      <td>ch10</td>\n      <td>59097</td>\n      <td>108.726</td>\n      <td>63205</td>\n      <td>116.301</td>\n      <td>0.994855</td>\n      <td>-133.777822</td>\n      <td>32599</td>\n      <td>-134</td>\n      <td>0x7f57</td>\n      <td>0xff7a</td>\n      <td>108.724271</td>\n      <td>116.299179</td>\n      <td>0.001729</td>\n      <td>0.001821</td>\n      <td>0.932694</td>\n      <td>0.982276</td>\n    </tr>\n    <tr>\n      <th>11</th>\n      <td>ch11</td>\n      <td>59104</td>\n      <td>108.755</td>\n      <td>63228</td>\n      <td>116.341</td>\n      <td>0.992434</td>\n      <td>18.807804</td>\n      <td>32520</td>\n      <td>19</td>\n      <td>0x7f08</td>\n      <td>0x13</td>\n      <td>108.755106</td>\n      <td>116.341088</td>\n      <td>-0.000106</td>\n      <td>-0.000088</td>\n      <td>-0.057065</td>\n      <td>-0.047740</td>\n    </tr>\n  </tbody>\n</table>\n</div>"
     },
     "metadata": {},
     "execution_count": 16
    }
   ],
   "source": [
    "df_testcalib = testcalib_biasV(df)\n",
    "df_testcalib"
   ]
  },
  {
   "cell_type": "code",
   "execution_count": null,
   "metadata": {},
   "outputs": [],
   "source": []
  }
 ]
}